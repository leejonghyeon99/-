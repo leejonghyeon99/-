{
  "nbformat": 4,
  "nbformat_minor": 0,
  "metadata": {
    "colab": {
      "provenance": [],
      "authorship_tag": "ABX9TyPoPNE4BrMibqnprT1mfdzo",
      "include_colab_link": true
    },
    "kernelspec": {
      "name": "python3",
      "display_name": "Python 3"
    },
    "language_info": {
      "name": "python"
    }
  },
  "cells": [
    {
      "cell_type": "markdown",
      "metadata": {
        "id": "view-in-github",
        "colab_type": "text"
      },
      "source": [
        "<a href=\"https://colab.research.google.com/github/leejonghyeon99/python_stu/blob/main/010_Hello.ipynb\" target=\"_parent\"><img src=\"https://colab.research.google.com/assets/colab-badge.svg\" alt=\"Open In Colab\"/></a>"
      ]
    },
    {
      "cell_type": "markdown",
      "source": [
        "# Hello Python"
      ],
      "metadata": {
        "id": "SHxmNghlBOum"
      }
    },
    {
      "cell_type": "code",
      "source": [
        "print(100)\n",
        "print(200)\n",
        "print(300)"
      ],
      "metadata": {
        "colab": {
          "base_uri": "https://localhost:8080/"
        },
        "id": "wR1ShcHFBTdN",
        "outputId": "f65d1395-60f7-4513-8b20-02387d84b65c"
      },
      "execution_count": 1,
      "outputs": [
        {
          "output_type": "stream",
          "name": "stdout",
          "text": [
            "100\n",
            "200\n",
            "300\n"
          ]
        }
      ]
    },
    {
      "cell_type": "markdown",
      "source": [
        "# 주석 (Comment)\n",
        "#  프로그램의 실행과는 관계없이\n",
        "#  코드에 메모등을 남길때 사용\n",
        "\n",
        "# 1. 한줄 주석:  line comment)\n",
        "#    '#' 으로 시작\n",
        "#    '#' 우측부터의 한 줄은 '주석'으로 처리\n",
        "\n",
        "\n"
      ],
      "metadata": {
        "id": "FSJCkY-6CMCF"
      }
    },
    {
      "cell_type": "markdown",
      "source": [
        "# 2. 블럭주석\n",
        "\"\"\"\n",
        " 이 안의 내용들은\n",
        " 주석 처리\n",
        "\"\"\""
      ],
      "metadata": {
        "id": "Qy_Yow6XCWrt"
      }
    },
    {
      "cell_type": "code",
      "source": [
        "\"\"\"\n",
        " 이 안의 내용들은\n",
        " 주석 처리\n",
        "\"\"\""
      ],
      "metadata": {
        "colab": {
          "base_uri": "https://localhost:8080/",
          "height": 35
        },
        "id": "F4an7uXICtJe",
        "outputId": "c3f869e0-af59-4d90-9c90-39d3bf33a711"
      },
      "execution_count": 3,
      "outputs": [
        {
          "output_type": "execute_result",
          "data": {
            "text/plain": [
              "'\\n 이 안의 내용들은\\n 주석 처리\\n'"
            ],
            "application/vnd.google.colaboratory.intrinsic+json": {
              "type": "string"
            }
          },
          "metadata": {},
          "execution_count": 3
        }
      ]
    },
    {
      "cell_type": "code",
      "source": [
        "'''\n",
        "  이것도 블럭 주석\n",
        "'''"
      ],
      "metadata": {
        "colab": {
          "base_uri": "https://localhost:8080/",
          "height": 35
        },
        "id": "-KP76JzZClRT",
        "outputId": "5d5e708b-06b6-4ccd-b108-73e46d2d5627"
      },
      "execution_count": 2,
      "outputs": [
        {
          "output_type": "execute_result",
          "data": {
            "text/plain": [
              "'\\n  이것도 블럭 주석\\n'"
            ],
            "application/vnd.google.colaboratory.intrinsic+json": {
              "type": "string"
            }
          },
          "metadata": {},
          "execution_count": 2
        }
      ]
    },
    {
      "cell_type": "markdown",
      "source": [
        "# 숫자 (정수, 실수) 데이터\n",
        "# 소숫점이 없으면 '정수' (int : integer)\n",
        "# 소숫점이 있으면 '실수' (float)  \n",
        "# 컴퓨터 프로그래밍에서는 실수를 floating point number 라 함\n",
        "\n",
        "\n"
      ],
      "metadata": {
        "id": "RnFfonNoC2fN"
      }
    },
    {
      "cell_type": "code",
      "source": [
        "print(10) # 정수 int\n",
        "print (10.0) # 실수 float\n",
        "print (10.) # float\n",
        "print (4 * 5) # int\n",
        "print (4 * 5.0) # float\n",
        "print (4 / 2) #float, 나눗셈(/) 연산 결과는 언제나 실수 float"
      ],
      "metadata": {
        "colab": {
          "base_uri": "https://localhost:8080/"
        },
        "id": "dKvAswTiC2_x",
        "outputId": "581edaa3-6c30-4744-c869-e75c1bebefa0"
      },
      "execution_count": 13,
      "outputs": [
        {
          "output_type": "stream",
          "name": "stdout",
          "text": [
            "10\n",
            "10.0\n",
            "10.0\n",
            "20\n",
            "20.0\n",
            "2.0\n"
          ]
        }
      ]
    },
    {
      "cell_type": "code",
      "source": [
        "print(4 // 2) #정수\n",
        "print(4 // 2.0) # 실수\n",
        "print(3.4 / 1.1) # 실수\n",
        "print(3.4 // 1.1) # 실수  소수점 버림\n",
        "# print(15 / 0) #ZeroDivisionError"
      ],
      "metadata": {
        "colab": {
          "base_uri": "https://localhost:8080/"
        },
        "id": "kw38A19vD0q9",
        "outputId": "ac10f8d5-0673-4900-9b80-a8e9b5b4984d"
      },
      "execution_count": 24,
      "outputs": [
        {
          "output_type": "stream",
          "name": "stdout",
          "text": [
            "2\n",
            "2.0\n",
            "3.0909090909090904\n",
            "3.0\n"
          ]
        }
      ]
    },
    {
      "cell_type": "code",
      "source": [
        "# 제곱연산자 **\n",
        "print(2 ** 4);\n",
        "print(2**(1/2))"
      ],
      "metadata": {
        "colab": {
          "base_uri": "https://localhost:8080/"
        },
        "id": "OhsHDtHxFDeo",
        "outputId": "f0a6fdd9-f610-4303-9cb0-fdf66cb4df88"
      },
      "execution_count": 31,
      "outputs": [
        {
          "output_type": "stream",
          "name": "stdout",
          "text": [
            "16\n",
            "1.4142135623730951\n"
          ]
        }
      ]
    },
    {
      "cell_type": "markdown",
      "source": [
        "# 문자열 str (string)\n",
        "\n"
      ],
      "metadata": {
        "id": "Zh5ccxMoFdm8"
      }
    },
    {
      "cell_type": "code",
      "source": [
        "# 문자열 타입 : str (string)\n",
        "# 문자열 리터럴 만드는 방법\n",
        "# 1. 쌍따옴표 (double quotation)\n",
        "# 2. 홀따옴표 (single quotation)\n",
        "# 3. 쌍따옴표3개\n",
        "# 4. 홀따옴표3개\n",
        "# 그밖에\n",
        "#   f-string\n",
        "#   r-string\n",
        "#   ..\n",
        "\n",
        "\n"
      ],
      "metadata": {
        "id": "cL6Etsz4FqR2"
      },
      "execution_count": 32,
      "outputs": []
    },
    {
      "cell_type": "code",
      "source": [
        "# 문자열 연산 *\n",
        "print(\"-\" * 20)"
      ],
      "metadata": {
        "colab": {
          "base_uri": "https://localhost:8080/"
        },
        "id": "L-xaGqTeFq-1",
        "outputId": "317cb9a8-314a-4b65-f2cc-30084f7ad66f"
      },
      "execution_count": 34,
      "outputs": [
        {
          "output_type": "stream",
          "name": "stdout",
          "text": [
            "--------------------\n"
          ]
        }
      ]
    },
    {
      "cell_type": "code",
      "source": [
        "# len(함수)\n",
        "# len(str) => 문자열의 문자개수\n",
        "\n",
        "len(\"python\")\n",
        "len(\"파이썬\")"
      ],
      "metadata": {
        "colab": {
          "base_uri": "https://localhost:8080/"
        },
        "id": "G_AbePGhGpYB",
        "outputId": "9efdf572-d71f-4e98-dde4-593115d52495"
      },
      "execution_count": 37,
      "outputs": [
        {
          "output_type": "execute_result",
          "data": {
            "text/plain": [
              "3"
            ]
          },
          "metadata": {},
          "execution_count": 37
        }
      ]
    },
    {
      "cell_type": "code",
      "source": [
        "100\n",
        "200\n",
        "300"
      ],
      "metadata": {
        "colab": {
          "base_uri": "https://localhost:8080/"
        },
        "id": "XcgeWcIbG28Q",
        "outputId": "fe0017b9-421a-4515-afd7-61117c9a1525"
      },
      "execution_count": 38,
      "outputs": [
        {
          "output_type": "execute_result",
          "data": {
            "text/plain": [
              "300"
            ]
          },
          "metadata": {},
          "execution_count": 38
        }
      ]
    },
    {
      "cell_type": "code",
      "source": [
        "print(100)\n",
        "print(200)\n",
        "print(300)"
      ],
      "metadata": {
        "colab": {
          "base_uri": "https://localhost:8080/"
        },
        "id": "UYCrlu4pG5WC",
        "outputId": "3a4a0dcd-a2ce-4d2b-9364-f223582e6ff0"
      },
      "execution_count": 40,
      "outputs": [
        {
          "output_type": "stream",
          "name": "stdout",
          "text": [
            "100\n",
            "200\n",
            "300\n"
          ]
        }
      ]
    },
    {
      "cell_type": "code",
      "source": [
        "s = \"hello\" \"python\"\n",
        "print(s)"
      ],
      "metadata": {
        "colab": {
          "base_uri": "https://localhost:8080/"
        },
        "id": "2TdLsbreHIAy",
        "outputId": "847edcf4-0ef6-486e-f968-432dea012182"
      },
      "execution_count": 41,
      "outputs": [
        {
          "output_type": "stream",
          "name": "stdout",
          "text": [
            "hellopython\n"
          ]
        }
      ]
    },
    {
      "cell_type": "code",
      "source": [
        "print(type('10'))"
      ],
      "metadata": {
        "colab": {
          "base_uri": "https://localhost:8080/"
        },
        "id": "nebZVPJyHLo6",
        "outputId": "1522bc1d-021c-41c6-eff4-eaf50b6de6ad"
      },
      "execution_count": 44,
      "outputs": [
        {
          "output_type": "stream",
          "name": "stdout",
          "text": [
            "<class 'str'>\n"
          ]
        }
      ]
    },
    {
      "cell_type": "code",
      "source": [
        "'hello'"
      ],
      "metadata": {
        "colab": {
          "base_uri": "https://localhost:8080/",
          "height": 35
        },
        "id": "6oMf2jSlN2Yd",
        "outputId": "9b04422a-2f80-477a-d381-1952dbd9e97b"
      },
      "execution_count": 46,
      "outputs": [
        {
          "output_type": "execute_result",
          "data": {
            "text/plain": [
              "'hello'"
            ],
            "application/vnd.google.colaboratory.intrinsic+json": {
              "type": "string"
            }
          },
          "metadata": {},
          "execution_count": 46
        }
      ]
    },
    {
      "cell_type": "markdown",
      "source": [
        "#들여쓰기 (Indentation)"
      ],
      "metadata": {
        "id": "ZuECUYL7OmT7"
      }
    },
    {
      "cell_type": "code",
      "source": [
        "#indentationError 발생\n",
        "\"\"\"\n",
        "print(100)\n",
        " print(200)\n",
        "print(300)\n",
        "\"\"\""
      ],
      "metadata": {
        "colab": {
          "base_uri": "https://localhost:8080/",
          "height": 35
        },
        "id": "whHq0Pz5OVvq",
        "outputId": "60695e51-b000-41b7-e019-753f7a1b07c1"
      },
      "execution_count": 53,
      "outputs": [
        {
          "output_type": "execute_result",
          "data": {
            "text/plain": [
              "'\\nprint(100)\\n print(200)\\nprint(300)\\n'"
            ],
            "application/vnd.google.colaboratory.intrinsic+json": {
              "type": "string"
            }
          },
          "metadata": {},
          "execution_count": 53
        }
      ]
    }
  ]
}