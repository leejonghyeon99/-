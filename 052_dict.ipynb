{
  "nbformat": 4,
  "nbformat_minor": 0,
  "metadata": {
    "colab": {
      "provenance": [],
      "authorship_tag": "ABX9TyOiJ6hDBMfW87zTv6PIIoo2",
      "include_colab_link": true
    },
    "kernelspec": {
      "name": "python3",
      "display_name": "Python 3"
    },
    "language_info": {
      "name": "python"
    }
  },
  "cells": [
    {
      "cell_type": "markdown",
      "metadata": {
        "id": "view-in-github",
        "colab_type": "text"
      },
      "source": [
        "<a href=\"https://colab.research.google.com/github/leejonghyeon99/python_stu/blob/main/052_dict.ipynb\" target=\"_parent\"><img src=\"https://colab.research.google.com/assets/colab-badge.svg\" alt=\"Open In Colab\"/></a>"
      ]
    },
    {
      "cell_type": "markdown",
      "source": [
        "# dict: 딕셔너리(사전)"
      ],
      "metadata": {
        "id": "XSBvTPooEhrV"
      }
    },
    {
      "cell_type": "code",
      "execution_count": 1,
      "metadata": {
        "id": "fpeXyv5zEf8o"
      },
      "outputs": [],
      "source": [
        "# dict : 딕셔너리\n",
        "\n",
        "# dictionary 데이터 타입은  key-value 쌍으로 저장되는 데이터 집합이다.\n",
        "\n",
        "# {Key1:Value1, Key2:Value2, Key3:Value3 ...}\n",
        "# \"이름\" = \"홍길동\", \"생일\" = \"몇 월 몇 일\"   과 같은 자료형 담음\n",
        "\n",
        "# 기존의 list, tuple 등은 value 중심\n",
        "# 그러나 이 또한 알고 보면 key-value 쌍으로 구성\n",
        "\n",
        "# 순서는 고정이 안된다\n",
        "# key 는 중복 안된다.\n"
      ]
    },
    {
      "cell_type": "code",
      "source": [
        "student = {\n",
        "    \"name\" : \"hong\",\n",
        "    \"email\":\"choi@mail.com\"\n",
        "}\n",
        "print(student)\n",
        "print(type(student))\n",
        "print(len(student))"
      ],
      "metadata": {
        "colab": {
          "base_uri": "https://localhost:8080/"
        },
        "id": "haYrXcKhElBX",
        "outputId": "66634042-0541-402d-fb73-8f116eb78d3a"
      },
      "execution_count": 4,
      "outputs": [
        {
          "output_type": "stream",
          "name": "stdout",
          "text": [
            "{'name': 'hong', 'email': 'choi@mail.com'}\n",
            "<class 'dict'>\n",
            "2\n"
          ]
        }
      ]
    },
    {
      "cell_type": "code",
      "source": [
        "# value 접근\n",
        "print(student['name']) # 방법1\n",
        "print(student.get('name')) #방법2"
      ],
      "metadata": {
        "colab": {
          "base_uri": "https://localhost:8080/"
        },
        "id": "WUn2WTzVElXL",
        "outputId": "b11f952b-e207-4193-f417-04080ab3ac10"
      },
      "execution_count": 5,
      "outputs": [
        {
          "output_type": "stream",
          "name": "stdout",
          "text": [
            "hong\n",
            "hong\n"
          ]
        }
      ]
    },
    {
      "cell_type": "code",
      "source": [
        "# 차이점: 존재하지 않는 key 로 접근 하는 경우\n",
        "# print(student['age']) # KeyError: 'age'"
      ],
      "metadata": {
        "id": "rVmedmoyElf6"
      },
      "execution_count": 8,
      "outputs": []
    },
    {
      "cell_type": "code",
      "source": [
        "# 차이점: 존재하지 않는 key 로 접근 하는 경우\n",
        "print(student.get('age')) # return None"
      ],
      "metadata": {
        "colab": {
          "base_uri": "https://localhost:8080/"
        },
        "id": "VbSJQAjEElha",
        "outputId": "8cee01f8-43f2-4f1c-8581-a06fde034984"
      },
      "execution_count": 10,
      "outputs": [
        {
          "output_type": "stream",
          "name": "stdout",
          "text": [
            "None\n"
          ]
        }
      ]
    },
    {
      "cell_type": "code",
      "source": [
        "print(None == student.get('age'))"
      ],
      "metadata": {
        "colab": {
          "base_uri": "https://localhost:8080/"
        },
        "id": "-Wv7w4EfEljK",
        "outputId": "2fa3181d-3629-4e53-9e26-71d048ac0f44"
      },
      "execution_count": 13,
      "outputs": [
        {
          "output_type": "stream",
          "name": "stdout",
          "text": [
            "True\n"
          ]
        }
      ]
    },
    {
      "cell_type": "code",
      "source": [
        "# get()  을 사용하면 예외적인 상황에서도\n",
        "# 동작 가능하게 처리 가능\n",
        "# student.get(key, default) : key 값이 없으면 default 값으로 리턴\n",
        "\n",
        "print(student.get('age',20))"
      ],
      "metadata": {
        "colab": {
          "base_uri": "https://localhost:8080/"
        },
        "id": "Dy9o5ol_Elkh",
        "outputId": "7bcbc792-7408-4c47-efa9-800263eab41d"
      },
      "execution_count": 14,
      "outputs": [
        {
          "output_type": "stream",
          "name": "stdout",
          "text": [
            "20\n"
          ]
        }
      ]
    },
    {
      "cell_type": "code",
      "source": [
        "# 수정하기\n",
        "student['name'] = '서현기'\n",
        "student"
      ],
      "metadata": {
        "colab": {
          "base_uri": "https://localhost:8080/"
        },
        "id": "yCWr3aESElmD",
        "outputId": "59a97dfe-82d0-4e64-8a23-8bf1c073212d"
      },
      "execution_count": 15,
      "outputs": [
        {
          "output_type": "execute_result",
          "data": {
            "text/plain": [
              "{'name': '서현기', 'email': 'choi@mail.com'}"
            ]
          },
          "metadata": {},
          "execution_count": 15
        }
      ]
    },
    {
      "cell_type": "code",
      "source": [
        "# 추가하기\n",
        "student['address'] = '역삼동'\n",
        "student"
      ],
      "metadata": {
        "colab": {
          "base_uri": "https://localhost:8080/"
        },
        "id": "_D3pXOp-ElnT",
        "outputId": "ca70c3e6-f00b-4496-f31f-fe95ecbc2bd7"
      },
      "execution_count": 16,
      "outputs": [
        {
          "output_type": "execute_result",
          "data": {
            "text/plain": [
              "{'name': '서현기', 'email': 'choi@mail.com', 'address': '역삼동'}"
            ]
          },
          "metadata": {},
          "execution_count": 16
        }
      ]
    },
    {
      "cell_type": "code",
      "source": [
        "# 삭제하기\n",
        "del(student['email'])\n",
        "student"
      ],
      "metadata": {
        "colab": {
          "base_uri": "https://localhost:8080/"
        },
        "id": "CO_r6nRHEloz",
        "outputId": "83090aa7-a0fd-4519-b663-2c0825a34974"
      },
      "execution_count": 17,
      "outputs": [
        {
          "output_type": "execute_result",
          "data": {
            "text/plain": [
              "{'name': '서현기', 'address': '역삼동'}"
            ]
          },
          "metadata": {},
          "execution_count": 17
        }
      ]
    },
    {
      "cell_type": "markdown",
      "source": [
        "### dict.update()\n",
        "해당 key값 업데이트<br>\n",
        "해당 key 가 없으면 새로이 추가\n"
      ],
      "metadata": {
        "id": "his7_-lAKJ-X"
      }
    },
    {
      "cell_type": "code",
      "source": [
        "student"
      ],
      "metadata": {
        "colab": {
          "base_uri": "https://localhost:8080/"
        },
        "id": "vi0vPvmjElqC",
        "outputId": "d8e530a0-8e3c-484f-ecfb-516b6a7693dd"
      },
      "execution_count": 18,
      "outputs": [
        {
          "output_type": "execute_result",
          "data": {
            "text/plain": [
              "{'name': '서현기', 'address': '역삼동'}"
            ]
          },
          "metadata": {},
          "execution_count": 18
        }
      ]
    },
    {
      "cell_type": "code",
      "source": [
        "student.update({\"name\":\"Hong\"}) #return None"
      ],
      "metadata": {
        "id": "vZxYzEFfElrl"
      },
      "execution_count": 19,
      "outputs": []
    },
    {
      "cell_type": "code",
      "source": [
        "student"
      ],
      "metadata": {
        "colab": {
          "base_uri": "https://localhost:8080/"
        },
        "id": "ZryWHOIjElsx",
        "outputId": "e465a592-7826-4ef3-d56e-1f4a59ca6b03"
      },
      "execution_count": 20,
      "outputs": [
        {
          "output_type": "execute_result",
          "data": {
            "text/plain": [
              "{'name': 'Hong', 'address': '역삼동'}"
            ]
          },
          "metadata": {},
          "execution_count": 20
        }
      ]
    },
    {
      "cell_type": "code",
      "source": [
        "student.update({\"age\":13,\"address\":'논현동'})\n",
        "student"
      ],
      "metadata": {
        "colab": {
          "base_uri": "https://localhost:8080/"
        },
        "id": "gRGVFwl0EluZ",
        "outputId": "b95f693b-581a-4842-eebc-770f82e0316a"
      },
      "execution_count": 21,
      "outputs": [
        {
          "output_type": "execute_result",
          "data": {
            "text/plain": [
              "{'name': 'Hong', 'address': '논현동', 'age': 13}"
            ]
          },
          "metadata": {},
          "execution_count": 21
        }
      ]
    },
    {
      "cell_type": "code",
      "source": [
        "# 원소 추가\n",
        "# list => append()\n",
        "# set => add()\n",
        "# dict => update()\n",
        "# 공통 return None"
      ],
      "metadata": {
        "id": "X654mnInElvk"
      },
      "execution_count": 22,
      "outputs": []
    },
    {
      "cell_type": "markdown",
      "source": [
        "## key, value 의 타입\n",
        "- **value** 는 어떠한 타입이라도 가능!\n",
        "- **key** 는 hash 가능한 타입만 가능!   (ex: int, float, str, bool..)\n"
      ],
      "metadata": {
        "id": "xdDh0kIELLQp"
      }
    },
    {
      "cell_type": "code",
      "source": [
        "dict1 = {\n",
        "    1 : \"Choi\",\n",
        "    1 : \"Jin\",\n",
        "    1 : \"Mu\",\n",
        "    2 : \"DoRaEMong\",\n",
        "    3 : \"Jang\",\n",
        "    \"two\" : { #dict\n",
        "        3.14 : \"pi\",\n",
        "        \"pi\" : 3.14\n",
        "    },\n",
        "    False : [10,20,30], #list\n",
        "}\n",
        "\n",
        "dict1"
      ],
      "metadata": {
        "colab": {
          "base_uri": "https://localhost:8080/"
        },
        "id": "Bv9sXRzCElxH",
        "outputId": "0e6de150-ba0b-4540-d547-073516d21165"
      },
      "execution_count": 25,
      "outputs": [
        {
          "output_type": "execute_result",
          "data": {
            "text/plain": [
              "{1: 'Mu',\n",
              " 2: 'DoRaEMong',\n",
              " 3: 'Jang',\n",
              " 'two': {3.14: 'pi', 'pi': 3.14},\n",
              " False: [10, 20, 30]}"
            ]
          },
          "metadata": {},
          "execution_count": 25
        }
      ]
    },
    {
      "cell_type": "code",
      "source": [
        "len(dict1)"
      ],
      "metadata": {
        "colab": {
          "base_uri": "https://localhost:8080/"
        },
        "id": "iyPTCtREElyd",
        "outputId": "2a658abf-0a0b-4162-9599-12786ee4cd50"
      },
      "execution_count": 26,
      "outputs": [
        {
          "output_type": "execute_result",
          "data": {
            "text/plain": [
              "5"
            ]
          },
          "metadata": {},
          "execution_count": 26
        }
      ]
    },
    {
      "cell_type": "code",
      "source": [
        "dict1[\"two\"][3.14]"
      ],
      "metadata": {
        "colab": {
          "base_uri": "https://localhost:8080/",
          "height": 35
        },
        "id": "pvaDEYxEElz8",
        "outputId": "3fcf1945-01f9-42bc-b61e-6923437e9085"
      },
      "execution_count": 27,
      "outputs": [
        {
          "output_type": "execute_result",
          "data": {
            "text/plain": [
              "'pi'"
            ],
            "application/vnd.google.colaboratory.intrinsic+json": {
              "type": "string"
            }
          },
          "metadata": {},
          "execution_count": 27
        }
      ]
    },
    {
      "cell_type": "code",
      "source": [
        "dict1[False][2]"
      ],
      "metadata": {
        "colab": {
          "base_uri": "https://localhost:8080/"
        },
        "id": "4kXMda9lEl1N",
        "outputId": "f2a3cca2-8b85-429d-bf58-c64111e96588"
      },
      "execution_count": 29,
      "outputs": [
        {
          "output_type": "execute_result",
          "data": {
            "text/plain": [
              "30"
            ]
          },
          "metadata": {},
          "execution_count": 29
        }
      ]
    },
    {
      "cell_type": "code",
      "source": [
        "dict1[0 == 1]"
      ],
      "metadata": {
        "colab": {
          "base_uri": "https://localhost:8080/"
        },
        "id": "K_31mnyyEl2w",
        "outputId": "c768d248-0a8d-44bc-f607-bca06a8f766d"
      },
      "execution_count": 30,
      "outputs": [
        {
          "output_type": "execute_result",
          "data": {
            "text/plain": [
              "[10, 20, 30]"
            ]
          },
          "metadata": {},
          "execution_count": 30
        }
      ]
    },
    {
      "cell_type": "code",
      "source": [
        "print(dict1.get('zz'))"
      ],
      "metadata": {
        "colab": {
          "base_uri": "https://localhost:8080/"
        },
        "id": "AzUoE4mwEl4E",
        "outputId": "f085578c-0213-431e-a61f-7d160aafd39a"
      },
      "execution_count": 32,
      "outputs": [
        {
          "output_type": "stream",
          "name": "stdout",
          "text": [
            "None\n"
          ]
        }
      ]
    },
    {
      "cell_type": "code",
      "source": [
        "# dict.keys(), dict.values()\n",
        "student = {\n",
        "        \"name\":\"최현진\",\n",
        "        \"email\":\"choi@mail.com\",\n",
        "        \"age\": 23,\n",
        "        \"addr\" : \"서울\"\n",
        "        }"
      ],
      "metadata": {
        "id": "owLZfPjuEl5g"
      },
      "execution_count": 33,
      "outputs": []
    },
    {
      "cell_type": "code",
      "source": [
        "student.keys() # key들로만 구성된 iterable 객체 리턴됨"
      ],
      "metadata": {
        "colab": {
          "base_uri": "https://localhost:8080/"
        },
        "id": "nCApQpMJEl7A",
        "outputId": "0b702027-0388-4f05-8df0-f40e28e935dd"
      },
      "execution_count": 35,
      "outputs": [
        {
          "output_type": "execute_result",
          "data": {
            "text/plain": [
              "dict_keys(['name', 'email', 'age', 'addr'])"
            ]
          },
          "metadata": {},
          "execution_count": 35
        }
      ]
    },
    {
      "cell_type": "code",
      "source": [
        "student.values() # value들로만 구성된 iterable 객체 리턴됨"
      ],
      "metadata": {
        "colab": {
          "base_uri": "https://localhost:8080/"
        },
        "id": "izFV2tSPEl8g",
        "outputId": "2329b86f-3d9c-41c1-a71c-10e33639488e"
      },
      "execution_count": 38,
      "outputs": [
        {
          "output_type": "execute_result",
          "data": {
            "text/plain": [
              "dict_values(['최현진', 'choi@mail.com', 23, '서울'])"
            ]
          },
          "metadata": {},
          "execution_count": 38
        }
      ]
    },
    {
      "cell_type": "code",
      "source": [
        "set(student.keys())"
      ],
      "metadata": {
        "colab": {
          "base_uri": "https://localhost:8080/"
        },
        "id": "L5OpehkVEl90",
        "outputId": "0218c592-7ac3-4633-d416-a61d03b3747b"
      },
      "execution_count": 39,
      "outputs": [
        {
          "output_type": "execute_result",
          "data": {
            "text/plain": [
              "{'addr', 'age', 'email', 'name'}"
            ]
          },
          "metadata": {},
          "execution_count": 39
        }
      ]
    },
    {
      "cell_type": "code",
      "source": [
        "set(student) # dict 자체도 iterable 하다"
      ],
      "metadata": {
        "colab": {
          "base_uri": "https://localhost:8080/"
        },
        "id": "XFV5cnROEl_K",
        "outputId": "29a363a8-7f41-4f98-a796-137721b45724"
      },
      "execution_count": 40,
      "outputs": [
        {
          "output_type": "execute_result",
          "data": {
            "text/plain": [
              "{'addr', 'age', 'email', 'name'}"
            ]
          },
          "metadata": {},
          "execution_count": 40
        }
      ]
    },
    {
      "cell_type": "code",
      "source": [
        "#dict 의 in 연산자\n",
        "# key 의 존재 여부\n",
        "\"name\" in student"
      ],
      "metadata": {
        "colab": {
          "base_uri": "https://localhost:8080/"
        },
        "id": "EKBIYqX2EmAf",
        "outputId": "00ec003a-18e9-41fd-b368-176033d7018a"
      },
      "execution_count": 43,
      "outputs": [
        {
          "output_type": "execute_result",
          "data": {
            "text/plain": [
              "True"
            ]
          },
          "metadata": {},
          "execution_count": 43
        }
      ]
    },
    {
      "cell_type": "code",
      "source": [
        "\"Choi\" in student"
      ],
      "metadata": {
        "colab": {
          "base_uri": "https://localhost:8080/"
        },
        "id": "EtJdQjcfEmCJ",
        "outputId": "3f7f53af-4a2e-49d3-e538-804d64174e73"
      },
      "execution_count": 44,
      "outputs": [
        {
          "output_type": "execute_result",
          "data": {
            "text/plain": [
              "False"
            ]
          },
          "metadata": {},
          "execution_count": 44
        }
      ]
    },
    {
      "cell_type": "markdown",
      "source": [
        "# Empty data"
      ],
      "metadata": {
        "id": "0-7NJYF6OKWh"
      }
    },
    {
      "cell_type": "code",
      "source": [
        "# 비어있는 데이터\n",
        "a = [] # list\n",
        "a = \"\" # str\n",
        "a = () # tuple\n",
        "a = {} # dict\n",
        "a = set() # set\n",
        "type(a), len(a)"
      ],
      "metadata": {
        "colab": {
          "base_uri": "https://localhost:8080/"
        },
        "id": "arEK2ha2EmDh",
        "outputId": "5f5df7e3-e5f9-41ad-979e-696628a0c71d"
      },
      "execution_count": 48,
      "outputs": [
        {
          "output_type": "execute_result",
          "data": {
            "text/plain": [
              "(set, 0)"
            ]
          },
          "metadata": {},
          "execution_count": 48
        }
      ]
    },
    {
      "cell_type": "markdown",
      "source": [
        "# items()\n",
        "\n",
        "(key,value) 쌍으로 이루어진 iterable 객체 리턴"
      ],
      "metadata": {
        "id": "9utvLzcMO5DQ"
      }
    },
    {
      "cell_type": "code",
      "source": [
        "dict_A = {\"b\":5, \"c\":3, \"a\":2}\n",
        "dict_A"
      ],
      "metadata": {
        "colab": {
          "base_uri": "https://localhost:8080/"
        },
        "id": "KwNTg-1CEmFG",
        "outputId": "caf5af78-9825-42b3-f51d-ecef67778a8c"
      },
      "execution_count": 50,
      "outputs": [
        {
          "output_type": "execute_result",
          "data": {
            "text/plain": [
              "{'b': 5, 'c': 3, 'a': 2}"
            ]
          },
          "metadata": {},
          "execution_count": 50
        }
      ]
    },
    {
      "cell_type": "code",
      "source": [
        "dict_A.items()"
      ],
      "metadata": {
        "colab": {
          "base_uri": "https://localhost:8080/"
        },
        "id": "UFij1ROPEmGX",
        "outputId": "fe0307f1-1891-4f7f-e272-953fa346c490"
      },
      "execution_count": 53,
      "outputs": [
        {
          "output_type": "execute_result",
          "data": {
            "text/plain": [
              "dict_items([('b', 5), ('c', 3), ('a', 2)])"
            ]
          },
          "metadata": {},
          "execution_count": 53
        }
      ]
    },
    {
      "cell_type": "code",
      "source": [
        "result = list(dict_A.items())\n",
        "result"
      ],
      "metadata": {
        "colab": {
          "base_uri": "https://localhost:8080/"
        },
        "id": "RFg41DWmEmHv",
        "outputId": "ce8af147-dac6-4979-dede-19173cb3c4cf"
      },
      "execution_count": 55,
      "outputs": [
        {
          "output_type": "execute_result",
          "data": {
            "text/plain": [
              "[('b', 5), ('c', 3), ('a', 2)]"
            ]
          },
          "metadata": {},
          "execution_count": 55
        }
      ]
    },
    {
      "cell_type": "code",
      "source": [
        "result[0][0] # key"
      ],
      "metadata": {
        "colab": {
          "base_uri": "https://localhost:8080/",
          "height": 35
        },
        "id": "pchoNRLpEmJR",
        "outputId": "68345d1b-5792-4c4e-f747-2682159ab409"
      },
      "execution_count": 56,
      "outputs": [
        {
          "output_type": "execute_result",
          "data": {
            "text/plain": [
              "'b'"
            ],
            "application/vnd.google.colaboratory.intrinsic+json": {
              "type": "string"
            }
          },
          "metadata": {},
          "execution_count": 56
        }
      ]
    },
    {
      "cell_type": "code",
      "source": [
        "result[0][1] # value"
      ],
      "metadata": {
        "colab": {
          "base_uri": "https://localhost:8080/"
        },
        "id": "vAmLdz9IEmKz",
        "outputId": "af1d7efa-7e73-4dd4-b9e5-1bad50e9d1dc"
      },
      "execution_count": 57,
      "outputs": [
        {
          "output_type": "execute_result",
          "data": {
            "text/plain": [
              "5"
            ]
          },
          "metadata": {},
          "execution_count": 57
        }
      ]
    },
    {
      "cell_type": "markdown",
      "source": [
        "## dict 정렬하여 출력하기\n",
        "기본적으로 dict 는 '순서' 가 없다\n",
        "- key 로 정렬하여 출력\n",
        "- value 로 정렬하여 출력"
      ],
      "metadata": {
        "id": "WU4hI890P5MK"
      }
    },
    {
      "cell_type": "code",
      "source": [
        "sorted(dict_A.items()) #key 오름차순"
      ],
      "metadata": {
        "colab": {
          "base_uri": "https://localhost:8080/"
        },
        "id": "S_ASikfMEmMm",
        "outputId": "c0907925-0e55-46b9-fb36-545c0b1561f2"
      },
      "execution_count": 58,
      "outputs": [
        {
          "output_type": "execute_result",
          "data": {
            "text/plain": [
              "[('a', 2), ('b', 5), ('c', 3)]"
            ]
          },
          "metadata": {},
          "execution_count": 58
        }
      ]
    },
    {
      "cell_type": "code",
      "source": [
        "# value 오름 차순으로 정렬\n",
        "dict_items = dict_A.items()\n",
        "sorted(dict_items, key=lambda x: x[1])"
      ],
      "metadata": {
        "colab": {
          "base_uri": "https://localhost:8080/"
        },
        "id": "M_uwGdYQEmNu",
        "outputId": "09cdbbf1-c08f-4557-dd07-4491bbb0c873"
      },
      "execution_count": 63,
      "outputs": [
        {
          "output_type": "execute_result",
          "data": {
            "text/plain": [
              "[('a', 2), ('c', 3), ('b', 5)]"
            ]
          },
          "metadata": {},
          "execution_count": 63
        }
      ]
    },
    {
      "cell_type": "code",
      "source": [
        "# value 내림 차순으로 정렬\n",
        "dict_items = dict_A.items()\n",
        "sorted(dict_items, key=lambda x: x[1], reverse=True)"
      ],
      "metadata": {
        "colab": {
          "base_uri": "https://localhost:8080/"
        },
        "id": "Aeq-914sEmPU",
        "outputId": "8cab4235-04ca-4118-dbe6-3ecafc59f8d7"
      },
      "execution_count": 65,
      "outputs": [
        {
          "output_type": "execute_result",
          "data": {
            "text/plain": [
              "[('b', 5), ('c', 3), ('a', 2)]"
            ]
          },
          "metadata": {},
          "execution_count": 65
        }
      ]
    },
    {
      "cell_type": "code",
      "source": [
        "# \t파이썬의 데이터타입들 (Datatype, 자료형)\n",
        "\n",
        "# \t1. 정수형 : int\t\t\tex) 10, 2, 512, 256 ...\n",
        "# \t2. 실수형 : float\t\tex) 3.14   100.0  -234.3455 ...\n",
        "# \t3. 문자열 : str\t\t\tex) \"Hello\"  '한국'   ...\n",
        "# \t4. 부울 : bool\t\t\tex) True  , False\n",
        "# \t5. 리스트 : list\t\t\tex) []  [10, 20]   ['Abc', 'ddd', 'ccc']\n",
        "# \t6. 튜플 : tuple\t\t\tex) ()   (10, 20)  ('aaa', 'bbb', 'ccc')\n",
        "# \t7. 딕셔너리 : dictionary  ex) {}   {'name':'pey', 'age': 10]\n",
        "#   8. 세트 : set             ex) {}   {10, 20, 30}\n",
        "# \t9. None"
      ],
      "metadata": {
        "id": "Jp_aAvRaPkrM"
      },
      "execution_count": 57,
      "outputs": []
    },
    {
      "cell_type": "code",
      "source": [],
      "metadata": {
        "id": "mw2HfskIPkw2"
      },
      "execution_count": 65,
      "outputs": []
    },
    {
      "cell_type": "code",
      "source": [],
      "metadata": {
        "id": "qs3qVKHtQ_K0"
      },
      "execution_count": 65,
      "outputs": []
    },
    {
      "cell_type": "code",
      "source": [],
      "metadata": {
        "id": "he_f04NdQ_Q9"
      },
      "execution_count": 65,
      "outputs": []
    },
    {
      "cell_type": "code",
      "source": [],
      "metadata": {
        "id": "Wx6TVGXKQ_Uw"
      },
      "execution_count": null,
      "outputs": []
    },
    {
      "cell_type": "code",
      "source": [],
      "metadata": {
        "id": "VDJatVzfPk1a"
      },
      "execution_count": null,
      "outputs": []
    }
  ]
}