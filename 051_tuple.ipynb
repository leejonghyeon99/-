{
  "nbformat": 4,
  "nbformat_minor": 0,
  "metadata": {
    "colab": {
      "provenance": [],
      "authorship_tag": "ABX9TyN63PPZXMSVScPBrbQa7lkD",
      "include_colab_link": true
    },
    "kernelspec": {
      "name": "python3",
      "display_name": "Python 3"
    },
    "language_info": {
      "name": "python"
    }
  },
  "cells": [
    {
      "cell_type": "markdown",
      "metadata": {
        "id": "view-in-github",
        "colab_type": "text"
      },
      "source": [
        "<a href=\"https://colab.research.google.com/github/leejonghyeon99/python_stu/blob/main/051_tuple.ipynb\" target=\"_parent\"><img src=\"https://colab.research.google.com/assets/colab-badge.svg\" alt=\"Open In Colab\"/></a>"
      ]
    },
    {
      "cell_type": "markdown",
      "source": [
        "# tuple"
      ],
      "metadata": {
        "id": "2Q4GfA7Y8_BD"
      }
    },
    {
      "cell_type": "code",
      "execution_count": 1,
      "metadata": {
        "id": "H5TTT7w383r-"
      },
      "outputs": [],
      "source": [
        "# tuple\n",
        "# 콤마 , 로 구분된 집합 데이터 타입"
      ]
    },
    {
      "cell_type": "code",
      "source": [
        "animals = (\"dog\", \"dog\", \"cat\", \"bird\")"
      ],
      "metadata": {
        "id": "uf5CAW1F9G7W"
      },
      "execution_count": 3,
      "outputs": []
    },
    {
      "cell_type": "code",
      "source": [
        "animals"
      ],
      "metadata": {
        "colab": {
          "base_uri": "https://localhost:8080/"
        },
        "id": "9t8Ek-ur9HA9",
        "outputId": "416173cd-41c0-4029-8692-86c291f33a9a"
      },
      "execution_count": 4,
      "outputs": [
        {
          "output_type": "execute_result",
          "data": {
            "text/plain": [
              "('dog', 'dog', 'cat', 'bird')"
            ]
          },
          "metadata": {},
          "execution_count": 4
        }
      ]
    },
    {
      "cell_type": "code",
      "source": [
        "type(animals)"
      ],
      "metadata": {
        "colab": {
          "base_uri": "https://localhost:8080/"
        },
        "id": "m9jQNaKT9HEV",
        "outputId": "dc052c57-137e-4a77-c12a-571c0317b989"
      },
      "execution_count": 5,
      "outputs": [
        {
          "output_type": "execute_result",
          "data": {
            "text/plain": [
              "tuple"
            ]
          },
          "metadata": {},
          "execution_count": 5
        }
      ]
    },
    {
      "cell_type": "code",
      "source": [
        "student = \"Choi\"\n",
        "type(student)"
      ],
      "metadata": {
        "colab": {
          "base_uri": "https://localhost:8080/"
        },
        "id": "sS66ymzN9HHo",
        "outputId": "c3eda3dc-d634-4577-a753-aa28ecc90fcd"
      },
      "execution_count": 6,
      "outputs": [
        {
          "output_type": "execute_result",
          "data": {
            "text/plain": [
              "str"
            ]
          },
          "metadata": {},
          "execution_count": 6
        }
      ]
    },
    {
      "cell_type": "code",
      "source": [
        "student = \"Choi\",\"Jin\",\"Mu\"\n",
        "type(student)"
      ],
      "metadata": {
        "colab": {
          "base_uri": "https://localhost:8080/"
        },
        "id": "8Paimxi59HKA",
        "outputId": "4d73a0a0-96d1-404d-ed8f-1e7269d00a8d"
      },
      "execution_count": 7,
      "outputs": [
        {
          "output_type": "execute_result",
          "data": {
            "text/plain": [
              "tuple"
            ]
          },
          "metadata": {},
          "execution_count": 7
        }
      ]
    },
    {
      "cell_type": "code",
      "source": [
        "student[0]"
      ],
      "metadata": {
        "colab": {
          "base_uri": "https://localhost:8080/",
          "height": 35
        },
        "id": "KSZA_JJb9HNL",
        "outputId": "fb1926f1-5973-47c8-98b9-40808e3e216c"
      },
      "execution_count": 8,
      "outputs": [
        {
          "output_type": "execute_result",
          "data": {
            "text/plain": [
              "'Choi'"
            ],
            "application/vnd.google.colaboratory.intrinsic+json": {
              "type": "string"
            }
          },
          "metadata": {},
          "execution_count": 8
        }
      ]
    },
    {
      "cell_type": "code",
      "source": [
        "# student[1] = \"hello\"  TypeError: 'tuple' object does not support item assignment"
      ],
      "metadata": {
        "id": "Im89JgVT9HU_"
      },
      "execution_count": 10,
      "outputs": []
    },
    {
      "cell_type": "code",
      "source": [
        "# 원소 한개짜리 tuple 을 만드려면?\n",
        "animals = (\"dog\")  #str\n",
        "print(type(animals), animals, len(animals))"
      ],
      "metadata": {
        "colab": {
          "base_uri": "https://localhost:8080/"
        },
        "id": "cWHUdRW99HVg",
        "outputId": "2dd3d6ff-e39c-4ee4-a860-9a86b76bf8aa"
      },
      "execution_count": 12,
      "outputs": [
        {
          "output_type": "stream",
          "name": "stdout",
          "text": [
            "<class 'str'> dog 3\n"
          ]
        }
      ]
    },
    {
      "cell_type": "code",
      "source": [
        "# 원소 한개짜리 tuple 을 만드려면?\n",
        "# 반드시 뒤에 콤마 하나 붙여주어야 한다\n",
        "animals = (\"dog\",)  #tuple\n",
        "print(type(animals), animals, len(animals))"
      ],
      "metadata": {
        "colab": {
          "base_uri": "https://localhost:8080/"
        },
        "id": "NHqngOtA94LP",
        "outputId": "3b1bdd95-fd07-4657-a7d2-93d461499237"
      },
      "execution_count": 13,
      "outputs": [
        {
          "output_type": "stream",
          "name": "stdout",
          "text": [
            "<class 'tuple'> ('dog',) 1\n"
          ]
        }
      ]
    },
    {
      "cell_type": "code",
      "source": [
        "# 원소 한개짜리 tuple 을 만드려면?\n",
        "# 반드시 뒤에 콤마 하나 붙여주어야 한다\n",
        "animals = \"dog\",  #tuple\n",
        "print(type(animals), animals, len(animals))"
      ],
      "metadata": {
        "colab": {
          "base_uri": "https://localhost:8080/"
        },
        "id": "iJpjF8DB94Ou",
        "outputId": "f19fbc89-6581-4f22-e74c-640b54045fcc"
      },
      "execution_count": 14,
      "outputs": [
        {
          "output_type": "stream",
          "name": "stdout",
          "text": [
            "<class 'tuple'> ('dog',) 1\n"
          ]
        }
      ]
    },
    {
      "cell_type": "code",
      "source": [
        "#index, slice 가능"
      ],
      "metadata": {
        "id": "0xuiyhlC94SS"
      },
      "execution_count": 15,
      "outputs": []
    },
    {
      "cell_type": "code",
      "source": [
        "student"
      ],
      "metadata": {
        "colab": {
          "base_uri": "https://localhost:8080/"
        },
        "id": "K3kYfDyH94Vd",
        "outputId": "ef5ea93a-842d-4177-ecf5-ecc5fb5ff5f0"
      },
      "execution_count": 16,
      "outputs": [
        {
          "output_type": "execute_result",
          "data": {
            "text/plain": [
              "('Choi', 'Jin', 'Mu')"
            ]
          },
          "metadata": {},
          "execution_count": 16
        }
      ]
    },
    {
      "cell_type": "code",
      "source": [
        "student[0]"
      ],
      "metadata": {
        "colab": {
          "base_uri": "https://localhost:8080/",
          "height": 35
        },
        "id": "2XOfJ20D94YO",
        "outputId": "96e207f1-aa3e-4230-8e18-1813eaf14a33"
      },
      "execution_count": 17,
      "outputs": [
        {
          "output_type": "execute_result",
          "data": {
            "text/plain": [
              "'Choi'"
            ],
            "application/vnd.google.colaboratory.intrinsic+json": {
              "type": "string"
            }
          },
          "metadata": {},
          "execution_count": 17
        }
      ]
    },
    {
      "cell_type": "code",
      "source": [
        "student[1:3]"
      ],
      "metadata": {
        "colab": {
          "base_uri": "https://localhost:8080/"
        },
        "id": "yjHVmCkk94a5",
        "outputId": "2a301cf2-6ae3-4367-cde6-84f77745f7ad"
      },
      "execution_count": 18,
      "outputs": [
        {
          "output_type": "execute_result",
          "data": {
            "text/plain": [
              "('Jin', 'Mu')"
            ]
          },
          "metadata": {},
          "execution_count": 18
        }
      ]
    },
    {
      "cell_type": "code",
      "source": [
        "# student[1] = \"Chiken\" #TypeError: 'tuple' object does not support item assignment"
      ],
      "metadata": {
        "id": "YTArnd4394dQ"
      },
      "execution_count": 20,
      "outputs": []
    },
    {
      "cell_type": "code",
      "source": [
        "#tuple은 immutable 하다 <- 원소 값 변경 불가"
      ],
      "metadata": {
        "id": "oU5Ugst294f0"
      },
      "execution_count": 21,
      "outputs": []
    },
    {
      "cell_type": "code",
      "source": [
        "str = 'a',\n",
        "str"
      ],
      "metadata": {
        "colab": {
          "base_uri": "https://localhost:8080/"
        },
        "id": "AofTQPmq94iz",
        "outputId": "51fda770-30e1-4233-bf4d-4b47621864dd"
      },
      "execution_count": 22,
      "outputs": [
        {
          "output_type": "execute_result",
          "data": {
            "text/plain": [
              "('a',)"
            ]
          },
          "metadata": {},
          "execution_count": 22
        }
      ]
    },
    {
      "cell_type": "code",
      "source": [
        "str2 = 'b','c'\n",
        "str2"
      ],
      "metadata": {
        "colab": {
          "base_uri": "https://localhost:8080/"
        },
        "id": "16hEWcbP94lP",
        "outputId": "ba01178b-87e0-4874-cfb2-4f66e9e12d84"
      },
      "execution_count": 23,
      "outputs": [
        {
          "output_type": "execute_result",
          "data": {
            "text/plain": [
              "('b', 'c')"
            ]
          },
          "metadata": {},
          "execution_count": 23
        }
      ]
    },
    {
      "cell_type": "code",
      "source": [
        "#값변경은 x , 주소 변경은 가능\n",
        "str = str2\n",
        "str"
      ],
      "metadata": {
        "colab": {
          "base_uri": "https://localhost:8080/"
        },
        "id": "DHNiUf_29HWT",
        "outputId": "9163213c-7888-40d4-ac36-962af915c0f3"
      },
      "execution_count": 26,
      "outputs": [
        {
          "output_type": "execute_result",
          "data": {
            "text/plain": [
              "('b', 'c')"
            ]
          },
          "metadata": {},
          "execution_count": 26
        }
      ]
    },
    {
      "cell_type": "code",
      "source": [
        "student + animals"
      ],
      "metadata": {
        "colab": {
          "base_uri": "https://localhost:8080/"
        },
        "id": "PNJJl3Cr_R1d",
        "outputId": "6a87c848-28b9-4a63-fefc-e4eadac60b0a"
      },
      "execution_count": 28,
      "outputs": [
        {
          "output_type": "execute_result",
          "data": {
            "text/plain": [
              "('Choi', 'Jin', 'Mu', 'dog')"
            ]
          },
          "metadata": {},
          "execution_count": 28
        }
      ]
    },
    {
      "cell_type": "code",
      "source": [
        "student * 3"
      ],
      "metadata": {
        "colab": {
          "base_uri": "https://localhost:8080/"
        },
        "id": "xBTktR-5_R4g",
        "outputId": "06321ec2-bf48-47dc-f328-cd3eb439e9e8"
      },
      "execution_count": 29,
      "outputs": [
        {
          "output_type": "execute_result",
          "data": {
            "text/plain": [
              "('Choi', 'Jin', 'Mu', 'Choi', 'Jin', 'Mu', 'Choi', 'Jin', 'Mu')"
            ]
          },
          "metadata": {},
          "execution_count": 29
        }
      ]
    },
    {
      "cell_type": "code",
      "source": [
        "# tuple 은 언제 사용하나?\n",
        "# 1. 주로 변경되지 말아야 할 데이터들\n",
        "# 2. 복수의 값 '전달' 목적으로."
      ],
      "metadata": {
        "id": "VNNnhEpT_R7K"
      },
      "execution_count": 23,
      "outputs": []
    },
    {
      "cell_type": "code",
      "source": [
        "# 사각형의 weight, height 값\n",
        "rec = [100, 200]\n",
        "print(rec[0], rec[1])\n",
        "\n",
        "weight = rec[0]\n",
        "height = rec[1]\n",
        "\n",
        "print(weight, height)"
      ],
      "metadata": {
        "colab": {
          "base_uri": "https://localhost:8080/"
        },
        "id": "2eIokOsJ_R9t",
        "outputId": "f5e1ba90-30d5-4bd1-ea92-9b71a0df626f"
      },
      "execution_count": 31,
      "outputs": [
        {
          "output_type": "stream",
          "name": "stdout",
          "text": [
            "100 200\n",
            "100 200\n"
          ]
        }
      ]
    },
    {
      "cell_type": "code",
      "source": [
        "width, height = 100, 200\n",
        "print(weight, height)"
      ],
      "metadata": {
        "colab": {
          "base_uri": "https://localhost:8080/"
        },
        "id": "bQ3wvpMr_SAj",
        "outputId": "83089695-da37-4d62-990d-26fa0173e583"
      },
      "execution_count": 34,
      "outputs": [
        {
          "output_type": "stream",
          "name": "stdout",
          "text": [
            "100 200\n"
          ]
        }
      ]
    },
    {
      "cell_type": "code",
      "source": [
        "# 나눗셈 결과의 몫 과 나머지\n",
        "quotient, remainder = divmod(5, 2)\n",
        "\n",
        "print(quotient, remainder)"
      ],
      "metadata": {
        "colab": {
          "base_uri": "https://localhost:8080/"
        },
        "id": "QTwHQTFU_SDK",
        "outputId": "51a30dac-df16-4bf8-fab0-06cc390cc5b4"
      },
      "execution_count": 37,
      "outputs": [
        {
          "output_type": "stream",
          "name": "stdout",
          "text": [
            "2 1\n"
          ]
        }
      ]
    },
    {
      "cell_type": "markdown",
      "source": [
        "# set"
      ],
      "metadata": {
        "id": "DWfgBQEuBdUu"
      }
    },
    {
      "cell_type": "code",
      "source": [
        "# set\n",
        "# 만드는 방법\n",
        "# 1.set()  함수로 만들수도 있고\n",
        "# 2. {  } 으로 만들수도 있다.\n",
        "\n",
        "#1. list   :  순서있다.  중복허용,  mutable\n",
        "#2. tuple  :  순서있다,  중복허용,  immutable\n",
        "#3. set : 순서없다,  중복허용안함\n",
        "#4. dict : key, value 쌍으로 구성, 순서없다.\n"
      ],
      "metadata": {
        "id": "ei0QnHTB_SFh"
      },
      "execution_count": 45,
      "outputs": []
    },
    {
      "cell_type": "code",
      "source": [
        "animals = \"dog\"\n",
        "\n",
        "print(animals, type(animals), len(animals))"
      ],
      "metadata": {
        "colab": {
          "base_uri": "https://localhost:8080/"
        },
        "id": "ng52Cw5G_SIK",
        "outputId": "1902404b-5b32-4c0e-f84d-08dd1966f984"
      },
      "execution_count": 46,
      "outputs": [
        {
          "output_type": "stream",
          "name": "stdout",
          "text": [
            "dog <class 'str'> 3\n"
          ]
        }
      ]
    },
    {
      "cell_type": "code",
      "source": [
        "animals = [\"dog\"] # list\n",
        "\n",
        "print(animals, type(animals), len(animals))"
      ],
      "metadata": {
        "colab": {
          "base_uri": "https://localhost:8080/"
        },
        "id": "_rKpb1JkBe4v",
        "outputId": "56518d36-552a-4ede-a888-433c6a366f51"
      },
      "execution_count": 49,
      "outputs": [
        {
          "output_type": "stream",
          "name": "stdout",
          "text": [
            "['dog'] <class 'list'> 1\n"
          ]
        }
      ]
    },
    {
      "cell_type": "code",
      "source": [
        "animals = \"dog\", # tuple\n",
        "\n",
        "print(animals, type(animals), len(animals))"
      ],
      "metadata": {
        "colab": {
          "base_uri": "https://localhost:8080/"
        },
        "id": "_Xm1hOS1Be77",
        "outputId": "13da9c0e-0974-4a29-bab9-9c5c9acd4235"
      },
      "execution_count": 48,
      "outputs": [
        {
          "output_type": "stream",
          "name": "stdout",
          "text": [
            "('dog',) <class 'tuple'> 1\n"
          ]
        }
      ]
    },
    {
      "cell_type": "code",
      "source": [
        "animals = {\"dog\"} # set\n",
        "\n",
        "print(animals, type(animals), len(animals))"
      ],
      "metadata": {
        "colab": {
          "base_uri": "https://localhost:8080/"
        },
        "id": "XUjRDcc4Be-t",
        "outputId": "2af36272-2ee7-4d53-ab49-92d3b2295b74"
      },
      "execution_count": 47,
      "outputs": [
        {
          "output_type": "stream",
          "name": "stdout",
          "text": [
            "{'dog'} <class 'set'> 1\n"
          ]
        }
      ]
    },
    {
      "cell_type": "code",
      "source": [
        "animals = {\"dog\",\"cat\",\"bird\",\"Kang\"}\n",
        "\n",
        "print(animals, type(animals), len(animals))"
      ],
      "metadata": {
        "colab": {
          "base_uri": "https://localhost:8080/"
        },
        "id": "mAi40WdZBfBS",
        "outputId": "a11b79ab-13cd-4828-fafc-39f60cb415ba"
      },
      "execution_count": 50,
      "outputs": [
        {
          "output_type": "stream",
          "name": "stdout",
          "text": [
            "{'dog', 'cat', 'Kang', 'bird'} <class 'set'> 4\n"
          ]
        }
      ]
    },
    {
      "cell_type": "code",
      "source": [
        "# animals[0] # TypeError: 'set' object is not subscriptable"
      ],
      "metadata": {
        "id": "SR55ATYUBfDN"
      },
      "execution_count": 52,
      "outputs": []
    },
    {
      "cell_type": "code",
      "source": [
        "str1 = \"aaabbbbcccddaaa\"\n",
        "print(list(str1))"
      ],
      "metadata": {
        "colab": {
          "base_uri": "https://localhost:8080/"
        },
        "id": "F7ykvM_lBfGh",
        "outputId": "a6744b0c-aa99-4c82-cac2-ceefc4884961"
      },
      "execution_count": 55,
      "outputs": [
        {
          "output_type": "stream",
          "name": "stdout",
          "text": [
            "['a', 'a', 'a', 'b', 'b', 'b', 'b', 'c', 'c', 'c', 'd', 'd', 'a', 'a', 'a']\n"
          ]
        }
      ]
    },
    {
      "cell_type": "code",
      "source": [
        "animals = [\"A\",\"B\",\"C\",\"D\"]"
      ],
      "metadata": {
        "id": "94xoqp3WBfJV"
      },
      "execution_count": 56,
      "outputs": []
    },
    {
      "cell_type": "code",
      "source": [
        "# empty set\n",
        "a = set()\n",
        "\n",
        "a, type(a), len(a)"
      ],
      "metadata": {
        "colab": {
          "base_uri": "https://localhost:8080/"
        },
        "id": "OBC4a1Rq9HXH",
        "outputId": "c0ce6fd9-c6d6-4b31-f5e7-550f19f5d1f4"
      },
      "execution_count": 58,
      "outputs": [
        {
          "output_type": "execute_result",
          "data": {
            "text/plain": [
              "(set(), set, 0)"
            ]
          },
          "metadata": {},
          "execution_count": 58
        }
      ]
    },
    {
      "cell_type": "code",
      "source": [
        "#add(), remove()\n",
        "a.add('cat')\n",
        "a.add('dog')\n",
        "print(a)\n",
        "a.remove('cat')\n",
        "print(a)"
      ],
      "metadata": {
        "colab": {
          "base_uri": "https://localhost:8080/"
        },
        "id": "xuop27CQ9HXl",
        "outputId": "13378962-d006-49c3-9868-c39bc79a8673"
      },
      "execution_count": 63,
      "outputs": [
        {
          "output_type": "stream",
          "name": "stdout",
          "text": [
            "{'dog', 'cat'}\n",
            "{'dog'}\n"
          ]
        }
      ]
    },
    {
      "cell_type": "code",
      "source": [
        "# a.remove('cat') #KeyError: 'cat"
      ],
      "metadata": {
        "id": "MU5SCb3V9HYH"
      },
      "execution_count": 65,
      "outputs": []
    },
    {
      "cell_type": "markdown",
      "source": [],
      "metadata": {
        "id": "9XaZOpR0EXJe"
      }
    }
  ]
}
