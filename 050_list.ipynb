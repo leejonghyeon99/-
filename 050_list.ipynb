{
  "nbformat": 4,
  "nbformat_minor": 0,
  "metadata": {
    "colab": {
      "provenance": [],
      "authorship_tag": "ABX9TyO8Ehyuh2BEXHkx89+HFub4",
      "include_colab_link": true
    },
    "kernelspec": {
      "name": "python3",
      "display_name": "Python 3"
    },
    "language_info": {
      "name": "python"
    }
  },
  "cells": [
    {
      "cell_type": "markdown",
      "metadata": {
        "id": "view-in-github",
        "colab_type": "text"
      },
      "source": [
        "<a href=\"https://colab.research.google.com/github/leejonghyeon99/python_stu/blob/main/050_list.ipynb\" target=\"_parent\"><img src=\"https://colab.research.google.com/assets/colab-badge.svg\" alt=\"Open In Colab\"/></a>"
      ]
    },
    {
      "cell_type": "code",
      "execution_count": 2,
      "metadata": {
        "id": "PGzhX8zT6vHv"
      },
      "outputs": [],
      "source": [
        "# 여러개의 데이터를 담는 집합 데이터 타입들..\n",
        "#1. list   :  순서있다.  중복허용,  mutable\n",
        "#2. tuple  :  순서있다,  중복허용,  immutable\n",
        "#3. set : 순서없다,  중복허용안함\n",
        "#4. dict : key, value 쌍으로 구성, 순서없다."
      ]
    },
    {
      "cell_type": "markdown",
      "source": [
        "# List"
      ],
      "metadata": {
        "id": "2CQ_gNba7mSN"
      }
    },
    {
      "cell_type": "code",
      "source": [
        "# list 는   [   ]  으로 만든다\n",
        "# 데이터(원소) 들은 , 콤마로 구분한다\n",
        "# 각 데이터(원소) 들은 어떠한 타입도 가능하다"
      ],
      "metadata": {
        "id": "CFZL1zj466Up"
      },
      "execution_count": 7,
      "outputs": []
    },
    {
      "cell_type": "code",
      "source": [
        "animals = ['dog','cat','bird','fish']\n",
        "print(animals, type(animals))"
      ],
      "metadata": {
        "colab": {
          "base_uri": "https://localhost:8080/"
        },
        "id": "HoNS76Ba7qkD",
        "outputId": "a12ca083-da44-41d0-c3f7-e19123b1ead1"
      },
      "execution_count": 10,
      "outputs": [
        {
          "output_type": "stream",
          "name": "stdout",
          "text": [
            "['dog', 'cat', 'bird', 'fish'] <class 'list'>\n"
          ]
        }
      ]
    },
    {
      "cell_type": "markdown",
      "source": [
        "## index(인덱싱)\n",
        "list는 저장 '순서' 가 있다"
      ],
      "metadata": {
        "id": "sx0yHduu8DS1"
      }
    },
    {
      "cell_type": "code",
      "source": [
        "animals[0]"
      ],
      "metadata": {
        "colab": {
          "base_uri": "https://localhost:8080/",
          "height": 35
        },
        "id": "GlBclKFi8Hst",
        "outputId": "cc7a62fb-033e-4f4c-ef3b-cd38ff15e0ce"
      },
      "execution_count": 12,
      "outputs": [
        {
          "output_type": "execute_result",
          "data": {
            "text/plain": [
              "'dog'"
            ],
            "application/vnd.google.colaboratory.intrinsic+json": {
              "type": "string"
            }
          },
          "metadata": {},
          "execution_count": 12
        }
      ]
    },
    {
      "cell_type": "code",
      "source": [
        "# animals[4] indexError"
      ],
      "metadata": {
        "id": "EQdZYObh8OF7"
      },
      "execution_count": 18,
      "outputs": []
    },
    {
      "cell_type": "code",
      "source": [
        "# 음수 인덱싱 가능!\n",
        "animals[-1]"
      ],
      "metadata": {
        "colab": {
          "base_uri": "https://localhost:8080/",
          "height": 35
        },
        "id": "QnHePRiK8g3r",
        "outputId": "ae8f8dd6-b243-4baa-bf56-00e3af399d4a"
      },
      "execution_count": 19,
      "outputs": [
        {
          "output_type": "execute_result",
          "data": {
            "text/plain": [
              "'fish'"
            ],
            "application/vnd.google.colaboratory.intrinsic+json": {
              "type": "string"
            }
          },
          "metadata": {},
          "execution_count": 19
        }
      ]
    },
    {
      "cell_type": "markdown",
      "source": [
        "## list 는 mutable 하다\n",
        "원소 변경 가능"
      ],
      "metadata": {
        "id": "jdLhIPj58zKk"
      }
    },
    {
      "cell_type": "code",
      "source": [
        "animals[2] = 'mouse'\n",
        "print(animals)"
      ],
      "metadata": {
        "colab": {
          "base_uri": "https://localhost:8080/"
        },
        "id": "zQZGak8482-h",
        "outputId": "5d84edae-00df-4bcc-d3a6-c4aab3908b16"
      },
      "execution_count": 23,
      "outputs": [
        {
          "output_type": "stream",
          "name": "stdout",
          "text": [
            "['dog', 'cat', 'mouse', 'fish']\n"
          ]
        }
      ]
    },
    {
      "cell_type": "markdown",
      "source": [
        "## 슬라이싱 (slicing)\n",
        "- 일부분 추출\n",
        "- 범위연산자[:] 사용\n",
        "- step 값 사용가능\n"
      ],
      "metadata": {
        "id": "wFkn24wM9QBs"
      }
    },
    {
      "cell_type": "code",
      "source": [
        "animals = ['dog', 'dog', 'cat', 'bird', 'fish']"
      ],
      "metadata": {
        "id": "skna4gWa9OHV"
      },
      "execution_count": 25,
      "outputs": []
    },
    {
      "cell_type": "code",
      "source": [
        "animals"
      ],
      "metadata": {
        "colab": {
          "base_uri": "https://localhost:8080/"
        },
        "id": "W2rpHntT9kke",
        "outputId": "bbcc6c97-2bfa-4ff0-8518-1b8b5f7d0e7c"
      },
      "execution_count": 26,
      "outputs": [
        {
          "output_type": "execute_result",
          "data": {
            "text/plain": [
              "['dog', 'dog', 'cat', 'bird', 'fish']"
            ]
          },
          "metadata": {},
          "execution_count": 26
        }
      ]
    },
    {
      "cell_type": "code",
      "source": [
        "animals[0:3] # from 0 to before 3"
      ],
      "metadata": {
        "colab": {
          "base_uri": "https://localhost:8080/"
        },
        "id": "8inEMlxI9mCu",
        "outputId": "0daad7de-e56a-48a3-fdb0-bc2e9e0ef347"
      },
      "execution_count": 32,
      "outputs": [
        {
          "output_type": "execute_result",
          "data": {
            "text/plain": [
              "['dog', 'dog', 'cat']"
            ]
          },
          "metadata": {},
          "execution_count": 32
        }
      ]
    },
    {
      "cell_type": "code",
      "source": [
        "animals[1:4] # from 1 to before 4"
      ],
      "metadata": {
        "colab": {
          "base_uri": "https://localhost:8080/"
        },
        "id": "I5iLhIP09vBh",
        "outputId": "b2f33a31-855d-49ca-e433-29d5187689d6"
      },
      "execution_count": 31,
      "outputs": [
        {
          "output_type": "execute_result",
          "data": {
            "text/plain": [
              "['dog', 'cat', 'bird']"
            ]
          },
          "metadata": {},
          "execution_count": 31
        }
      ]
    },
    {
      "cell_type": "code",
      "source": [
        "animals[2:] # from 2 to end"
      ],
      "metadata": {
        "colab": {
          "base_uri": "https://localhost:8080/"
        },
        "id": "CSnZMnPl9w56",
        "outputId": "40d23646-60ca-4c31-bb5d-fb86da330e7f"
      },
      "execution_count": 33,
      "outputs": [
        {
          "output_type": "execute_result",
          "data": {
            "text/plain": [
              "['cat', 'bird', 'fish']"
            ]
          },
          "metadata": {},
          "execution_count": 33
        }
      ]
    },
    {
      "cell_type": "code",
      "source": [
        "animals[:] # all elements"
      ],
      "metadata": {
        "colab": {
          "base_uri": "https://localhost:8080/"
        },
        "id": "PKs90DLu9xCx",
        "outputId": "375e4f69-36ed-4416-cdae-48ae6ad6a2ba"
      },
      "execution_count": 34,
      "outputs": [
        {
          "output_type": "execute_result",
          "data": {
            "text/plain": [
              "['dog', 'dog', 'cat', 'bird', 'fish']"
            ]
          },
          "metadata": {},
          "execution_count": 34
        }
      ]
    },
    {
      "cell_type": "code",
      "source": [
        "i = 2\n",
        "animals[:i]"
      ],
      "metadata": {
        "colab": {
          "base_uri": "https://localhost:8080/"
        },
        "id": "uB77xR1B9xKr",
        "outputId": "ae5aa5fa-00a9-4aa7-c63a-10f4abfe002b"
      },
      "execution_count": 36,
      "outputs": [
        {
          "output_type": "execute_result",
          "data": {
            "text/plain": [
              "['dog', 'dog']"
            ]
          },
          "metadata": {},
          "execution_count": 36
        }
      ]
    },
    {
      "cell_type": "code",
      "source": [
        "# step 값\n",
        "myList = [0, 1, 2, 3, 4, 5, 6, 7, 8, 9, 10]\n",
        "print(myList[1:7])\n",
        "print(myList[1:7:2])\n",
        "print(myList[3::3])  #[시작:끝:간격]\n",
        "print(myList[::])\n",
        "print(myList[::2])\n",
        "print(myList[5:0]) #[]\n",
        "print(myList[5:0:-1])\n",
        "print(type(myList), type(myList[::]))"
      ],
      "metadata": {
        "colab": {
          "base_uri": "https://localhost:8080/"
        },
        "id": "EFqnwxCT9xU8",
        "outputId": "30499c20-d298-4311-c8f1-19ccf9c746e7"
      },
      "execution_count": 67,
      "outputs": [
        {
          "output_type": "stream",
          "name": "stdout",
          "text": [
            "[1, 2, 3, 4, 5, 6]\n",
            "[1, 3, 5]\n",
            "[3, 6, 9]\n",
            "[0, 1, 2, 3, 4, 5, 6, 7, 8, 9, 10]\n",
            "[0, 2, 4, 6, 8, 10]\n",
            "[]\n",
            "[5, 4, 3, 2, 1]\n",
            "<class 'list'> <class 'list'>\n"
          ]
        }
      ]
    },
    {
      "cell_type": "markdown",
      "source": [
        "## list의 메소드"
      ],
      "metadata": {
        "id": "1YOuzwiEANs8"
      }
    },
    {
      "cell_type": "code",
      "source": [
        "# append()"
      ],
      "metadata": {
        "id": "BOHISi0c-0iC"
      },
      "execution_count": 69,
      "outputs": []
    },
    {
      "cell_type": "code",
      "source": [
        "print(animals)\n",
        "animals.append('tiger') #리턴값 none, 원본변화 (list 가 mutable)"
      ],
      "metadata": {
        "colab": {
          "base_uri": "https://localhost:8080/"
        },
        "id": "32ui0bV_AR-6",
        "outputId": "6be904c1-d72e-4925-97af-ac18a89d8ce7"
      },
      "execution_count": 72,
      "outputs": [
        {
          "output_type": "stream",
          "name": "stdout",
          "text": [
            "['dog', 'dog', 'cat', 'bird', 'fish', 'tiger']\n",
            "['dog', 'dog', 'cat', 'bird', 'fish', 'tiger', 'tiger']\n"
          ]
        }
      ]
    },
    {
      "cell_type": "code",
      "source": [
        "print(animals)"
      ],
      "metadata": {
        "colab": {
          "base_uri": "https://localhost:8080/"
        },
        "id": "MFl-s5aXASb9",
        "outputId": "cf5dd67e-c402-4c5f-8bd1-494f57a6b7bd"
      },
      "execution_count": 73,
      "outputs": [
        {
          "output_type": "stream",
          "name": "stdout",
          "text": [
            "['dog', 'dog', 'cat', 'bird', 'fish', 'tiger', 'tiger']\n"
          ]
        }
      ]
    },
    {
      "cell_type": "code",
      "source": [
        "del(animals[1])"
      ],
      "metadata": {
        "id": "FkeL-wSxASgs"
      },
      "execution_count": 76,
      "outputs": []
    },
    {
      "cell_type": "code",
      "source": [
        "animals"
      ],
      "metadata": {
        "colab": {
          "base_uri": "https://localhost:8080/"
        },
        "id": "g7F8muwBASkq",
        "outputId": "b68b059f-b66a-4158-948e-9c14008e97c0"
      },
      "execution_count": 77,
      "outputs": [
        {
          "output_type": "execute_result",
          "data": {
            "text/plain": [
              "['dog', 'cat', 'bird', 'fish', 'tiger']"
            ]
          },
          "metadata": {},
          "execution_count": 77
        }
      ]
    },
    {
      "cell_type": "markdown",
      "source": [
        "# list 연산 + , *"
      ],
      "metadata": {
        "id": "uoDXvwEjSwqE"
      }
    },
    {
      "cell_type": "code",
      "source": [
        "animals = [\"dog\", \"dog\", \"cat\", \"bird\"]\n",
        "colors = [\"white\", \"blue\", \"red\"]\n",
        "\n",
        "# list + list => list\n",
        "animals + colors"
      ],
      "metadata": {
        "colab": {
          "base_uri": "https://localhost:8080/"
        },
        "id": "HQGjzUohASol",
        "outputId": "a401ca66-9504-49ed-cf4a-1c0ab3fe628a"
      },
      "execution_count": 80,
      "outputs": [
        {
          "output_type": "execute_result",
          "data": {
            "text/plain": [
              "['dog', 'dog', 'cat', 'bird', 'white', 'blue', 'red']"
            ]
          },
          "metadata": {},
          "execution_count": 80
        }
      ]
    },
    {
      "cell_type": "markdown",
      "source": [
        "# 다차원 리스트"
      ],
      "metadata": {
        "id": "WxOBKbTATWO9"
      }
    },
    {
      "cell_type": "code",
      "source": [
        "# 1차원 리스트\n",
        "colors[0], colors[1]"
      ],
      "metadata": {
        "colab": {
          "base_uri": "https://localhost:8080/"
        },
        "id": "z-YX-1f6TAAH",
        "outputId": "65becd0e-9138-42a2-fc75-e783fc42e4fb"
      },
      "execution_count": 83,
      "outputs": [
        {
          "output_type": "execute_result",
          "data": {
            "text/plain": [
              "('white', 'blue')"
            ]
          },
          "metadata": {},
          "execution_count": 83
        }
      ]
    },
    {
      "cell_type": "code",
      "source": [
        "data = [\n",
        "    [1,2,3],\n",
        "    [10,20,30],\n",
        "    [40,50,60],\n",
        "]"
      ],
      "metadata": {
        "id": "YSXapq_ITa2l"
      },
      "execution_count": 84,
      "outputs": []
    },
    {
      "cell_type": "code",
      "source": [
        "len(data)"
      ],
      "metadata": {
        "colab": {
          "base_uri": "https://localhost:8080/"
        },
        "id": "mkWldGnJTpzt",
        "outputId": "ac0f02ef-36c6-4ca5-b990-958084d12ec3"
      },
      "execution_count": 85,
      "outputs": [
        {
          "output_type": "execute_result",
          "data": {
            "text/plain": [
              "3"
            ]
          },
          "metadata": {},
          "execution_count": 85
        }
      ]
    },
    {
      "cell_type": "code",
      "source": [
        "data"
      ],
      "metadata": {
        "colab": {
          "base_uri": "https://localhost:8080/"
        },
        "id": "xG--vURwTsGQ",
        "outputId": "50a73bb3-f221-4f4c-f36d-2813be06ac59"
      },
      "execution_count": 86,
      "outputs": [
        {
          "output_type": "execute_result",
          "data": {
            "text/plain": [
              "[[1, 2, 3], [10, 20, 30], [40, 50, 60]]"
            ]
          },
          "metadata": {},
          "execution_count": 86
        }
      ]
    },
    {
      "cell_type": "code",
      "source": [
        "data[0]"
      ],
      "metadata": {
        "colab": {
          "base_uri": "https://localhost:8080/"
        },
        "id": "aXrDPtZ9TvUq",
        "outputId": "b7a520da-5765-428b-9e02-6d555bfb3839"
      },
      "execution_count": 87,
      "outputs": [
        {
          "output_type": "execute_result",
          "data": {
            "text/plain": [
              "[1, 2, 3]"
            ]
          },
          "metadata": {},
          "execution_count": 87
        }
      ]
    },
    {
      "cell_type": "code",
      "source": [
        "# data --> 2차원 list\n",
        "# data[0] --> 1차원 list\n",
        "# data[0][0] --> 0차원, scalar 값\n",
        "\n",
        "\n",
        "# index 할때마나 차원감소 발생"
      ],
      "metadata": {
        "colab": {
          "base_uri": "https://localhost:8080/"
        },
        "id": "x5edqA9cTyAe",
        "outputId": "4036323c-d41d-4fd0-eac2-0903eb82d89f"
      },
      "execution_count": 89,
      "outputs": [
        {
          "output_type": "execute_result",
          "data": {
            "text/plain": [
              "[[1, 2, 3], [10, 20, 30]]"
            ]
          },
          "metadata": {},
          "execution_count": 89
        }
      ]
    },
    {
      "cell_type": "code",
      "source": [
        "data = [\n",
        "    [1, 2, 3, 4, 5],\n",
        "    [10, 20, 30, 40, 50],\n",
        "    [11, 22, 33, 44, 55]\n",
        "]\n"
      ],
      "metadata": {
        "id": "JUPoy1zaTzTR"
      },
      "execution_count": 90,
      "outputs": []
    },
    {
      "cell_type": "code",
      "source": [
        "[10, 20, 30]\n",
        "data[1][:3] #인덱싱은 차원감소 발생, 슬라이싱은 차원감소 x"
      ],
      "metadata": {
        "colab": {
          "base_uri": "https://localhost:8080/"
        },
        "id": "w1SNxpiCU0OV",
        "outputId": "fb67a79f-341f-42fe-ffbc-b5d1386cb25b"
      },
      "execution_count": 95,
      "outputs": [
        {
          "output_type": "execute_result",
          "data": {
            "text/plain": [
              "[10, 20, 30]"
            ]
          },
          "metadata": {},
          "execution_count": 95
        }
      ]
    },
    {
      "cell_type": "code",
      "source": [
        "data[0:2]"
      ],
      "metadata": {
        "colab": {
          "base_uri": "https://localhost:8080/"
        },
        "id": "2oLdLvY4U86F",
        "outputId": "60f6243c-e12c-4ede-974e-8c6e7b590cb8"
      },
      "execution_count": 96,
      "outputs": [
        {
          "output_type": "execute_result",
          "data": {
            "text/plain": [
              "[[1, 2, 3, 4, 5], [10, 20, 30, 40, 50]]"
            ]
          },
          "metadata": {},
          "execution_count": 96
        }
      ]
    },
    {
      "cell_type": "markdown",
      "source": [
        "- iterable\n",
        "- str, list, tuple, set, dict 는 모두 iteralbe 하다"
      ],
      "metadata": {
        "id": "oD_Kczh8VlOV"
      }
    },
    {
      "cell_type": "markdown",
      "source": [
        "---\n",
        "# Assignment Unpacking\n",
        "list 는 iterable 객체다\n",
        "\n",
        "대입연산자와 iterable 을 사용하여 여러 개의 변수에 대입 가능  (이를 Assignment unpacking 이라 함)\n",
        "\n",
        "\n"
      ],
      "metadata": {
        "id": "YjmcMLYHWW6-"
      }
    },
    {
      "cell_type": "code",
      "source": [
        "a,b,c,d = 1, 2, 3, 4\n",
        "a,b,c,d"
      ],
      "metadata": {
        "colab": {
          "base_uri": "https://localhost:8080/"
        },
        "id": "PA62maazVKq5",
        "outputId": "618d72cf-54b0-46f9-abf9-15b7e52b1daa"
      },
      "execution_count": 101,
      "outputs": [
        {
          "output_type": "execute_result",
          "data": {
            "text/plain": [
              "(1, 2, 3, 4)"
            ]
          },
          "metadata": {},
          "execution_count": 101
        }
      ]
    },
    {
      "cell_type": "code",
      "source": [
        "a,b,c,d, = [1,2,3,4]\n",
        "a,b,c,d,"
      ],
      "metadata": {
        "colab": {
          "base_uri": "https://localhost:8080/"
        },
        "id": "khmZaOo4WF0q",
        "outputId": "f7ff84fa-e6c0-454c-e86c-cd56b3da7fc0"
      },
      "execution_count": 100,
      "outputs": [
        {
          "output_type": "execute_result",
          "data": {
            "text/plain": [
              "(1, 2, 3, 4)"
            ]
          },
          "metadata": {},
          "execution_count": 100
        }
      ]
    },
    {
      "cell_type": "code",
      "source": [
        "a,b,c, = '최진무'\n",
        "a,b,c"
      ],
      "metadata": {
        "colab": {
          "base_uri": "https://localhost:8080/"
        },
        "id": "Q9l1x4wuWKgt",
        "outputId": "ff9ae419-6f6a-406b-9f81-441c053e2bdb"
      },
      "execution_count": 102,
      "outputs": [
        {
          "output_type": "execute_result",
          "data": {
            "text/plain": [
              "('최', '진', '무')"
            ]
          },
          "metadata": {},
          "execution_count": 102
        }
      ]
    },
    {
      "cell_type": "code",
      "source": [
        "a, b, c = [1, 2, [3, 4]]\n",
        "a,b,c"
      ],
      "metadata": {
        "colab": {
          "base_uri": "https://localhost:8080/"
        },
        "id": "-_I9ZgjzWgJp",
        "outputId": "7f014dd1-3972-4215-cf6d-e643966ea25b"
      },
      "execution_count": 103,
      "outputs": [
        {
          "output_type": "execute_result",
          "data": {
            "text/plain": [
              "(1, 2, [3, 4])"
            ]
          },
          "metadata": {},
          "execution_count": 103
        }
      ]
    },
    {
      "cell_type": "code",
      "source": [
        "# starred expression 사용 하면 unpack 되는 값들보다 적은수의 변수들로도 받아낼수 있다.\n",
        "*a, b, c, d = [1, 2, 3, 4, 5]\n",
        "a, b, c, d"
      ],
      "metadata": {
        "colab": {
          "base_uri": "https://localhost:8080/"
        },
        "id": "nl9pr_53XCA7",
        "outputId": "acf4472c-b088-42df-9e0e-187b61f6cf51"
      },
      "execution_count": 109,
      "outputs": [
        {
          "output_type": "execute_result",
          "data": {
            "text/plain": [
              "([1, 2], 3, 4, 5)"
            ]
          },
          "metadata": {},
          "execution_count": 109
        }
      ]
    },
    {
      "cell_type": "code",
      "source": [
        "#*a, *b, c, d = [1, 2, 3, 4, 5] 복수개의 starred expression은 에러"
      ],
      "metadata": {
        "id": "l5RwglGAXHVf"
      },
      "execution_count": 110,
      "outputs": []
    },
    {
      "cell_type": "code",
      "source": [
        "_, a, _, b = [1, 2, 3, 4]\n",
        "a, b"
      ],
      "metadata": {
        "colab": {
          "base_uri": "https://localhost:8080/"
        },
        "id": "LQutPB6vXqps",
        "outputId": "5e4a3f7e-442b-45d7-9ed3-cf2c98909cc2"
      },
      "execution_count": 111,
      "outputs": [
        {
          "output_type": "execute_result",
          "data": {
            "text/plain": [
              "(2, 4)"
            ]
          },
          "metadata": {},
          "execution_count": 111
        }
      ]
    },
    {
      "cell_type": "code",
      "source": [
        "my_list = [a:=3, b:=5, c:=7, d:=9] # walrus 연산자 사용  (Python 3.8 이상)\n",
        "print(my_list)\n",
        "print(a)\n",
        "print(b)\n",
        "print(c)\n",
        "print(d)"
      ],
      "metadata": {
        "colab": {
          "base_uri": "https://localhost:8080/"
        },
        "id": "lItpAbERXshg",
        "outputId": "9f91151a-f5ca-4cbc-93aa-7b455270aed7"
      },
      "execution_count": 112,
      "outputs": [
        {
          "output_type": "stream",
          "name": "stdout",
          "text": [
            "[3, 5, 7, 9]\n",
            "3\n",
            "5\n",
            "7\n",
            "9\n"
          ]
        }
      ]
    },
    {
      "cell_type": "markdown",
      "source": [
        "# list 에 데이터 삽입하기"
      ],
      "metadata": {
        "id": "9C2mSniqYxSk"
      }
    },
    {
      "cell_type": "code",
      "source": [
        "# 방법1 slice 사용"
      ],
      "metadata": {
        "id": "12qu2MaxXsmv"
      },
      "execution_count": 113,
      "outputs": []
    },
    {
      "cell_type": "code",
      "source": [
        "animals = [\"dog\", \"dog\", \"cat\", \"bird\"]\n",
        "# cat 의 위치에 [\"shark\", \"fish\"] 추가 하여 ['dog', 'dog', 'shark', 'fish', 'bird']  ← 이렇게 만들고 싶다면?"
      ],
      "metadata": {
        "id": "XTqLqmVtY0Xd"
      },
      "execution_count": 114,
      "outputs": []
    },
    {
      "cell_type": "code",
      "source": [
        "animals[2] = ['shark', 'fish']\n",
        "animals"
      ],
      "metadata": {
        "colab": {
          "base_uri": "https://localhost:8080/"
        },
        "id": "2hXQGkjFY0mC",
        "outputId": "d9b9e265-c566-4d42-e10e-16c0865c1a72"
      },
      "execution_count": 115,
      "outputs": [
        {
          "output_type": "execute_result",
          "data": {
            "text/plain": [
              "['dog', 'dog', ['shark', 'fish'], 'bird']"
            ]
          },
          "metadata": {},
          "execution_count": 115
        }
      ]
    },
    {
      "cell_type": "code",
      "source": [
        "animals = [\"dog\", \"dog\", \"cat\", \"bird\"]\n",
        "# cat 의 위치에 [\"shark\", \"fish\"] 추가 하여 ['dog', 'dog', 'shark', 'fish', 'bird']  ← 이렇게 만들고 싶다면?"
      ],
      "metadata": {
        "id": "cuY8UDrMY0sR"
      },
      "execution_count": 116,
      "outputs": []
    },
    {
      "cell_type": "code",
      "source": [
        "#slicing의 결과에 '대입' 가능\n",
        "animals[2:3] = ['shark', 'fish']"
      ],
      "metadata": {
        "id": "KtBFHFw0Y0yZ"
      },
      "execution_count": 117,
      "outputs": []
    },
    {
      "cell_type": "code",
      "source": [
        "animals"
      ],
      "metadata": {
        "colab": {
          "base_uri": "https://localhost:8080/"
        },
        "id": "1fe1Rc8HY02n",
        "outputId": "0f737332-970c-47ab-9b0e-e6f66f0e7a2f"
      },
      "execution_count": 118,
      "outputs": [
        {
          "output_type": "execute_result",
          "data": {
            "text/plain": [
              "['dog', 'dog', 'shark', 'fish', 'bird']"
            ]
          },
          "metadata": {},
          "execution_count": 118
        }
      ]
    },
    {
      "cell_type": "code",
      "source": [
        "animals = [\"dog\", \"dog\", \"cat\", \"bird\"]\n",
        "# cat, bird 의 위치에 shark, fish 삽입 해보기\n",
        "\n",
        "animals[2:] = ['shark','fish']\n",
        "animals"
      ],
      "metadata": {
        "colab": {
          "base_uri": "https://localhost:8080/"
        },
        "id": "7BbUxJRLY058",
        "outputId": "355e1a1b-b9a7-409e-b739-1f7c11222a57"
      },
      "execution_count": 119,
      "outputs": [
        {
          "output_type": "execute_result",
          "data": {
            "text/plain": [
              "['dog', 'dog', 'shark', 'fish']"
            ]
          },
          "metadata": {},
          "execution_count": 119
        }
      ]
    },
    {
      "cell_type": "markdown",
      "source": [
        "# 방법2 .insert() 사용"
      ],
      "metadata": {
        "id": "bIQe7QJCaVjj"
      }
    },
    {
      "cell_type": "code",
      "source": [
        "fruits = [\"Apple\", \"Banana\", \"Orange\"]\n",
        "\n",
        "fruits.insert(0, \"Lemon\")\n",
        "fruits"
      ],
      "metadata": {
        "colab": {
          "base_uri": "https://localhost:8080/"
        },
        "id": "1iNDJNw_Xsqj",
        "outputId": "1682f17b-d26d-4ecb-e0a8-1c755a58c3f9"
      },
      "execution_count": 120,
      "outputs": [
        {
          "output_type": "execute_result",
          "data": {
            "text/plain": [
              "['Lemon', 'Apple', 'Banana', 'Orange']"
            ]
          },
          "metadata": {},
          "execution_count": 120
        }
      ]
    },
    {
      "cell_type": "markdown",
      "source": [
        "# .index(value): 값으로 인덱스 찾기"
      ],
      "metadata": {
        "id": "EVwjjhFRauPc"
      }
    },
    {
      "cell_type": "code",
      "source": [
        "fruits.index(\"Apple\")"
      ],
      "metadata": {
        "colab": {
          "base_uri": "https://localhost:8080/"
        },
        "id": "aA9I6p16XsuP",
        "outputId": "484530d7-7649-4f34-9081-bc512e69ad19"
      },
      "execution_count": 121,
      "outputs": [
        {
          "output_type": "execute_result",
          "data": {
            "text/plain": [
              "1"
            ]
          },
          "metadata": {},
          "execution_count": 121
        }
      ]
    },
    {
      "cell_type": "code",
      "source": [
        "# fruits.index(\"찾아봐\") #못찾으면 에러"
      ],
      "metadata": {
        "id": "5U7XQMxGXsyo"
      },
      "execution_count": 123,
      "outputs": []
    },
    {
      "cell_type": "markdown",
      "source": [
        "# .remove(value) 특정 데이터 삭제"
      ],
      "metadata": {
        "id": "L1uJHgNPbQv-"
      }
    },
    {
      "cell_type": "code",
      "source": [
        "fruits"
      ],
      "metadata": {
        "colab": {
          "base_uri": "https://localhost:8080/"
        },
        "id": "5zRpvAsPbEHN",
        "outputId": "66a1b3c7-6903-449f-e408-b73c6502fba6"
      },
      "execution_count": 124,
      "outputs": [
        {
          "output_type": "execute_result",
          "data": {
            "text/plain": [
              "['Lemon', 'Apple', 'Banana', 'Orange']"
            ]
          },
          "metadata": {},
          "execution_count": 124
        }
      ]
    },
    {
      "cell_type": "code",
      "source": [
        "fruits.remove('Banana')"
      ],
      "metadata": {
        "id": "ZQvAVVPNbMs-"
      },
      "execution_count": 125,
      "outputs": []
    },
    {
      "cell_type": "code",
      "source": [
        "fruits"
      ],
      "metadata": {
        "colab": {
          "base_uri": "https://localhost:8080/"
        },
        "id": "_WPcGEigbMzZ",
        "outputId": "9f2a1def-d522-439d-975d-eea6e771b688"
      },
      "execution_count": 126,
      "outputs": [
        {
          "output_type": "execute_result",
          "data": {
            "text/plain": [
              "['Lemon', 'Apple', 'Orange']"
            ]
          },
          "metadata": {},
          "execution_count": 126
        }
      ]
    },
    {
      "cell_type": "markdown",
      "source": [
        "# pop()\n",
        "  리스트 맨 뒤의 원소 제거하여 리턴(원본변화)"
      ],
      "metadata": {
        "id": "BBWCUILFbrXR"
      }
    },
    {
      "cell_type": "code",
      "source": [
        "animals"
      ],
      "metadata": {
        "colab": {
          "base_uri": "https://localhost:8080/"
        },
        "id": "q3XMyXrbbM5m",
        "outputId": "412f2a1b-9f5a-4b86-bc90-a47f474353c1"
      },
      "execution_count": 127,
      "outputs": [
        {
          "output_type": "execute_result",
          "data": {
            "text/plain": [
              "['dog', 'dog', 'shark', 'fish']"
            ]
          },
          "metadata": {},
          "execution_count": 127
        }
      ]
    },
    {
      "cell_type": "code",
      "source": [
        "animals.pop()"
      ],
      "metadata": {
        "colab": {
          "base_uri": "https://localhost:8080/",
          "height": 35
        },
        "id": "RlCc_e8zbNA3",
        "outputId": "e4476b47-aecd-4d4d-d2c8-6e39f5363860"
      },
      "execution_count": 128,
      "outputs": [
        {
          "output_type": "execute_result",
          "data": {
            "text/plain": [
              "'fish'"
            ],
            "application/vnd.google.colaboratory.intrinsic+json": {
              "type": "string"
            }
          },
          "metadata": {},
          "execution_count": 128
        }
      ]
    },
    {
      "cell_type": "code",
      "source": [
        "#  리스트의 중간 원소를 pop 할수 있다\n",
        "animals = ['dog', 'shark', 'cat', 'bird']\n",
        "animals.pop(1)"
      ],
      "metadata": {
        "colab": {
          "base_uri": "https://localhost:8080/",
          "height": 35
        },
        "id": "OiJKZ20lbxtA",
        "outputId": "07419048-e4b6-41ea-bc66-dadd864bacd1"
      },
      "execution_count": 129,
      "outputs": [
        {
          "output_type": "execute_result",
          "data": {
            "text/plain": [
              "'shark'"
            ],
            "application/vnd.google.colaboratory.intrinsic+json": {
              "type": "string"
            }
          },
          "metadata": {},
          "execution_count": 129
        }
      ]
    },
    {
      "cell_type": "code",
      "source": [
        "animals"
      ],
      "metadata": {
        "colab": {
          "base_uri": "https://localhost:8080/"
        },
        "id": "vqnveulAbx0E",
        "outputId": "a8828ae2-f8f2-4db0-a89f-1734c9b49a1a"
      },
      "execution_count": 130,
      "outputs": [
        {
          "output_type": "execute_result",
          "data": {
            "text/plain": [
              "['dog', 'cat', 'bird']"
            ]
          },
          "metadata": {},
          "execution_count": 130
        }
      ]
    },
    {
      "cell_type": "markdown",
      "source": [
        "# .sort() 와 .reverse()"
      ],
      "metadata": {
        "id": "fe-KxtzzgFg7"
      }
    },
    {
      "cell_type": "code",
      "source": [
        "animals"
      ],
      "metadata": {
        "colab": {
          "base_uri": "https://localhost:8080/"
        },
        "id": "chlp51Ykf8tA",
        "outputId": "e9623010-76c3-4645-ef6b-80c0a8457ed2"
      },
      "execution_count": 131,
      "outputs": [
        {
          "output_type": "execute_result",
          "data": {
            "text/plain": [
              "['dog', 'cat', 'bird']"
            ]
          },
          "metadata": {},
          "execution_count": 131
        }
      ]
    },
    {
      "cell_type": "code",
      "source": [
        "animals.sort()"
      ],
      "metadata": {
        "id": "AAEezBK2gILs"
      },
      "execution_count": 132,
      "outputs": []
    },
    {
      "cell_type": "code",
      "source": [
        "animals"
      ],
      "metadata": {
        "colab": {
          "base_uri": "https://localhost:8080/"
        },
        "id": "Tg54OpecgIPv",
        "outputId": "0d0cfbd8-a613-4f73-acab-3d79707648e5"
      },
      "execution_count": 133,
      "outputs": [
        {
          "output_type": "execute_result",
          "data": {
            "text/plain": [
              "['bird', 'cat', 'dog']"
            ]
          },
          "metadata": {},
          "execution_count": 133
        }
      ]
    },
    {
      "cell_type": "code",
      "source": [
        "animals.sort(reverse=True)\n",
        "animals"
      ],
      "metadata": {
        "colab": {
          "base_uri": "https://localhost:8080/"
        },
        "id": "nUTAEqnggITh",
        "outputId": "258ac689-09b7-42c7-b781-b5c7ca60b6e9"
      },
      "execution_count": 135,
      "outputs": [
        {
          "output_type": "execute_result",
          "data": {
            "text/plain": [
              "['dog', 'cat', 'bird']"
            ]
          },
          "metadata": {},
          "execution_count": 135
        }
      ]
    },
    {
      "cell_type": "code",
      "source": [
        "animals[::-1] #원본 불변"
      ],
      "metadata": {
        "colab": {
          "base_uri": "https://localhost:8080/"
        },
        "id": "4RsGPNl5gTCf",
        "outputId": "7c7065bf-e109-46b4-c2d1-944aa076aec0"
      },
      "execution_count": 139,
      "outputs": [
        {
          "output_type": "execute_result",
          "data": {
            "text/plain": [
              "['bird', 'cat', 'dog']"
            ]
          },
          "metadata": {},
          "execution_count": 139
        }
      ]
    },
    {
      "cell_type": "code",
      "source": [
        "animals"
      ],
      "metadata": {
        "colab": {
          "base_uri": "https://localhost:8080/"
        },
        "id": "2BP6sZGFgTJs",
        "outputId": "0e75b7e0-d2b4-44db-84ae-b4e172ce5f7d"
      },
      "execution_count": 140,
      "outputs": [
        {
          "output_type": "execute_result",
          "data": {
            "text/plain": [
              "['dog', 'cat', 'bird']"
            ]
          },
          "metadata": {},
          "execution_count": 140
        }
      ]
    },
    {
      "cell_type": "code",
      "source": [
        "animals.reverse() # 원본 변경"
      ],
      "metadata": {
        "id": "CxmpBlxigTQe"
      },
      "execution_count": 141,
      "outputs": []
    },
    {
      "cell_type": "code",
      "source": [
        "animals"
      ],
      "metadata": {
        "colab": {
          "base_uri": "https://localhost:8080/"
        },
        "id": "-eFbuAc1gz3p",
        "outputId": "13ce887e-e2c8-47ff-bfb0-4fab662f2d1d"
      },
      "execution_count": 142,
      "outputs": [
        {
          "output_type": "execute_result",
          "data": {
            "text/plain": [
              "['bird', 'cat', 'dog']"
            ]
          },
          "metadata": {},
          "execution_count": 142
        }
      ]
    },
    {
      "cell_type": "code",
      "source": [
        "animals.reverse()"
      ],
      "metadata": {
        "id": "9SAT5a_Pgz9V"
      },
      "execution_count": 143,
      "outputs": []
    },
    {
      "cell_type": "code",
      "source": [
        "animals"
      ],
      "metadata": {
        "colab": {
          "base_uri": "https://localhost:8080/"
        },
        "id": "gNy_n7Zwg0A1",
        "outputId": "e1b927f2-6a5b-4bd7-96e4-8fb434284525"
      },
      "execution_count": 144,
      "outputs": [
        {
          "output_type": "execute_result",
          "data": {
            "text/plain": [
              "['dog', 'cat', 'bird']"
            ]
          },
          "metadata": {},
          "execution_count": 144
        }
      ]
    },
    {
      "cell_type": "markdown",
      "source": [
        "# sorted() 함수"
      ],
      "metadata": {
        "id": "wBoIHGG_hVLZ"
      }
    },
    {
      "cell_type": "code",
      "source": [
        "# sorted(iterable, key=key, reverse=reverse)\n",
        "#    iterable : sort 대상 (list, dict, tuple 등..)\n",
        "#   key : 대소비교를 하는 함수 (디폴트 None)\n",
        "#   reverse : False 오름차순 (디폴트), True 내림차순\n",
        "\n",
        "# 리턴값 : 정렬된 list"
      ],
      "metadata": {
        "id": "W04bLPfQg0EJ"
      },
      "execution_count": 145,
      "outputs": []
    },
    {
      "cell_type": "code",
      "source": [
        "a = [\"b\", \"g\", \"a\", \"d\", \"f\", \"c\", \"h\", \"e\"]\n",
        "sorted(a) #결과는 list, 원본 변경 안함\n"
      ],
      "metadata": {
        "colab": {
          "base_uri": "https://localhost:8080/"
        },
        "id": "wPM5PPsig0G_",
        "outputId": "65bbcf8e-e209-4f61-f666-3e353a206ac4"
      },
      "execution_count": 151,
      "outputs": [
        {
          "output_type": "execute_result",
          "data": {
            "text/plain": [
              "['a', 'b', 'c', 'd', 'e', 'f', 'g', 'h']"
            ]
          },
          "metadata": {},
          "execution_count": 151
        }
      ]
    },
    {
      "cell_type": "markdown",
      "source": [
        "# list 와 **in 연산자**"
      ],
      "metadata": {
        "id": "O1XgHlqkiM_a"
      }
    },
    {
      "cell_type": "code",
      "source": [
        "a"
      ],
      "metadata": {
        "colab": {
          "base_uri": "https://localhost:8080/"
        },
        "id": "5nIW3vkWgIXG",
        "outputId": "0430df47-02d5-41e6-83a9-b1b687d097e3"
      },
      "execution_count": 154,
      "outputs": [
        {
          "output_type": "execute_result",
          "data": {
            "text/plain": [
              "['b', 'g', 'a', 'd', 'f', 'c', 'h', 'e']"
            ]
          },
          "metadata": {},
          "execution_count": 154
        }
      ]
    },
    {
      "cell_type": "code",
      "source": [
        "'f' in a"
      ],
      "metadata": {
        "colab": {
          "base_uri": "https://localhost:8080/"
        },
        "id": "vQblijw5iQDC",
        "outputId": "7aff0b5b-c7ba-4fbb-b532-aaab72d26b07"
      },
      "execution_count": 155,
      "outputs": [
        {
          "output_type": "execute_result",
          "data": {
            "text/plain": [
              "True"
            ]
          },
          "metadata": {},
          "execution_count": 155
        }
      ]
    },
    {
      "cell_type": "code",
      "source": [
        "'f' not in a"
      ],
      "metadata": {
        "colab": {
          "base_uri": "https://localhost:8080/"
        },
        "id": "k37UtLnpiQOm",
        "outputId": "38e3b837-5fc8-40ae-f46d-8e62ab9fe185"
      },
      "execution_count": 156,
      "outputs": [
        {
          "output_type": "execute_result",
          "data": {
            "text/plain": [
              "False"
            ]
          },
          "metadata": {},
          "execution_count": 156
        }
      ]
    },
    {
      "cell_type": "markdown",
      "source": [
        "# str 의 index, slice, in\n",
        "- str 도 iterable 객체다\n",
        "- str 은 immutable 객체다"
      ],
      "metadata": {
        "id": "NjB6F0wOindo"
      }
    },
    {
      "cell_type": "code",
      "source": [
        "str2 = \"hello python\"\n",
        "print(str2[0])\n",
        "print(str2[1])\n",
        "print(str2[11])\n",
        "print(str2[-2]) # 이터러블 이떠러블 있허더흘\n",
        "print(str2[::2])\n",
        "print(str2[-1::-2])"
      ],
      "metadata": {
        "colab": {
          "base_uri": "https://localhost:8080/"
        },
        "id": "urATGETsiQT-",
        "outputId": "ae99088c-7460-4761-8411-35f42c52fff8"
      },
      "execution_count": 169,
      "outputs": [
        {
          "output_type": "stream",
          "name": "stdout",
          "text": [
            "h\n",
            "e\n",
            "n\n",
            "o\n",
            "hlopto\n",
            "nhy le\n"
          ]
        }
      ]
    },
    {
      "cell_type": "code",
      "source": [
        "'t' in str2"
      ],
      "metadata": {
        "colab": {
          "base_uri": "https://localhost:8080/"
        },
        "id": "GqNoJICUibUX",
        "outputId": "588bad1e-e93e-4524-bcf1-d75e10f69b68"
      },
      "execution_count": 170,
      "outputs": [
        {
          "output_type": "execute_result",
          "data": {
            "text/plain": [
              "True"
            ]
          },
          "metadata": {},
          "execution_count": 170
        }
      ]
    },
    {
      "cell_type": "code",
      "source": [
        "'T' in str2"
      ],
      "metadata": {
        "colab": {
          "base_uri": "https://localhost:8080/"
        },
        "id": "WHfeXEkKibZI",
        "outputId": "f4e57490-11ba-4f40-f04b-4dba5c26d9d9"
      },
      "execution_count": 171,
      "outputs": [
        {
          "output_type": "execute_result",
          "data": {
            "text/plain": [
              "False"
            ]
          },
          "metadata": {},
          "execution_count": 171
        }
      ]
    },
    {
      "cell_type": "code",
      "source": [
        "'Py' in str2"
      ],
      "metadata": {
        "colab": {
          "base_uri": "https://localhost:8080/"
        },
        "id": "pRkR1Uz7ibdh",
        "outputId": "6946df74-6a29-442e-a79d-226f0d514aa6"
      },
      "execution_count": 172,
      "outputs": [
        {
          "output_type": "execute_result",
          "data": {
            "text/plain": [
              "False"
            ]
          },
          "metadata": {},
          "execution_count": 172
        }
      ]
    },
    {
      "cell_type": "code",
      "source": [
        "sorted(str2) #원본 변경 안함"
      ],
      "metadata": {
        "colab": {
          "base_uri": "https://localhost:8080/"
        },
        "id": "uQsRqQKlibh8",
        "outputId": "34be19cf-c617-459b-d90b-7e9ceb475075"
      },
      "execution_count": 173,
      "outputs": [
        {
          "output_type": "execute_result",
          "data": {
            "text/plain": [
              "[' ', 'e', 'h', 'h', 'l', 'l', 'n', 'o', 'o', 'p', 't', 'y']"
            ]
          },
          "metadata": {},
          "execution_count": 173
        }
      ]
    },
    {
      "cell_type": "code",
      "source": [
        "str2[0]"
      ],
      "metadata": {
        "colab": {
          "base_uri": "https://localhost:8080/",
          "height": 35
        },
        "id": "twVnLzodkOXF",
        "outputId": "2dd552f6-670d-4c7b-9d47-14a80dd24d25"
      },
      "execution_count": 174,
      "outputs": [
        {
          "output_type": "execute_result",
          "data": {
            "text/plain": [
              "'h'"
            ],
            "application/vnd.google.colaboratory.intrinsic+json": {
              "type": "string"
            }
          },
          "metadata": {},
          "execution_count": 174
        }
      ]
    },
    {
      "cell_type": "code",
      "source": [
        "# str2[0] = 'K'  #immutable 객체는 변경 불가능"
      ],
      "metadata": {
        "colab": {
          "base_uri": "https://localhost:8080/",
          "height": 147
        },
        "id": "wKTZSxx4kOc-",
        "outputId": "62de188f-87c0-44fc-eee1-11ba368d72bb"
      },
      "execution_count": 175,
      "outputs": [
        {
          "output_type": "error",
          "ename": "TypeError",
          "evalue": "'str' object does not support item assignment",
          "traceback": [
            "\u001b[0;31m---------------------------------------------------------------------------\u001b[0m",
            "\u001b[0;31mTypeError\u001b[0m                                 Traceback (most recent call last)",
            "\u001b[0;32m<ipython-input-175-38b847a05e0e>\u001b[0m in \u001b[0;36m<cell line: 1>\u001b[0;34m()\u001b[0m\n\u001b[0;32m----> 1\u001b[0;31m \u001b[0mstr2\u001b[0m\u001b[0;34m[\u001b[0m\u001b[0;36m0\u001b[0m\u001b[0;34m]\u001b[0m \u001b[0;34m=\u001b[0m \u001b[0;34m'K'\u001b[0m\u001b[0;34m\u001b[0m\u001b[0;34m\u001b[0m\u001b[0m\n\u001b[0m",
            "\u001b[0;31mTypeError\u001b[0m: 'str' object does not support item assignment"
          ]
        }
      ]
    },
    {
      "cell_type": "code",
      "source": [
        "a = ('a','b') #tuple immutable"
      ],
      "metadata": {
        "id": "W6auY-KUkOgX"
      },
      "execution_count": 176,
      "outputs": []
    },
    {
      "cell_type": "code",
      "source": [
        "a"
      ],
      "metadata": {
        "colab": {
          "base_uri": "https://localhost:8080/"
        },
        "id": "_5Xj2jz0kOj2",
        "outputId": "75ed4f52-cbcf-469d-8382-825d51640b2d"
      },
      "execution_count": 177,
      "outputs": [
        {
          "output_type": "execute_result",
          "data": {
            "text/plain": [
              "('a', 'b')"
            ]
          },
          "metadata": {},
          "execution_count": 177
        }
      ]
    },
    {
      "cell_type": "code",
      "source": [
        "a[0]"
      ],
      "metadata": {
        "colab": {
          "base_uri": "https://localhost:8080/",
          "height": 35
        },
        "id": "CdfI88imkOm4",
        "outputId": "54224aea-ad43-4440-99c2-d40e400af9ff"
      },
      "execution_count": 178,
      "outputs": [
        {
          "output_type": "execute_result",
          "data": {
            "text/plain": [
              "'a'"
            ],
            "application/vnd.google.colaboratory.intrinsic+json": {
              "type": "string"
            }
          },
          "metadata": {},
          "execution_count": 178
        }
      ]
    },
    {
      "cell_type": "code",
      "source": [
        "# str.join() : 하나의 str"
      ],
      "metadata": {
        "id": "7KD792txkOuK"
      },
      "execution_count": 180,
      "outputs": []
    },
    {
      "cell_type": "code",
      "source": [
        "animals = [\"dog\", \"shark\", \"cat\", \"bird\"]\n",
        "result = \"-\".join(animals)\n",
        "result"
      ],
      "metadata": {
        "colab": {
          "base_uri": "https://localhost:8080/",
          "height": 35
        },
        "id": "pY1stGp6iblb",
        "outputId": "89490d1d-1bd4-4761-a33d-d605e729a5ad"
      },
      "execution_count": 183,
      "outputs": [
        {
          "output_type": "execute_result",
          "data": {
            "text/plain": [
              "'dog-shark-cat-bird'"
            ],
            "application/vnd.google.colaboratory.intrinsic+json": {
              "type": "string"
            }
          },
          "metadata": {},
          "execution_count": 183
        }
      ]
    },
    {
      "cell_type": "code",
      "source": [
        "animals"
      ],
      "metadata": {
        "colab": {
          "base_uri": "https://localhost:8080/"
        },
        "id": "lbS1A0lBldy4",
        "outputId": "6692d124-9582-48c1-cfc4-132405d41598"
      },
      "execution_count": 184,
      "outputs": [
        {
          "output_type": "execute_result",
          "data": {
            "text/plain": [
              "['dog', 'shark', 'cat', 'bird']"
            ]
          },
          "metadata": {},
          "execution_count": 184
        }
      ]
    },
    {
      "cell_type": "code",
      "source": [
        "# str.split() : str -> list로 쪼갬"
      ],
      "metadata": {
        "id": "saLZtg6jiboO"
      },
      "execution_count": null,
      "outputs": []
    },
    {
      "cell_type": "code",
      "source": [
        "result.split()"
      ],
      "metadata": {
        "colab": {
          "base_uri": "https://localhost:8080/"
        },
        "id": "ylzBZ6dblf_e",
        "outputId": "6e166d4b-bbe6-469b-a50e-28377394bbb9"
      },
      "execution_count": 185,
      "outputs": [
        {
          "output_type": "execute_result",
          "data": {
            "text/plain": [
              "['dog-shark-cat-bird']"
            ]
          },
          "metadata": {},
          "execution_count": 185
        }
      ]
    },
    {
      "cell_type": "code",
      "source": [
        "result.split(\"-\")"
      ],
      "metadata": {
        "colab": {
          "base_uri": "https://localhost:8080/"
        },
        "id": "3eJMgXWRlmod",
        "outputId": "c888345e-9e15-4eb6-a3b2-b26ecfd444c4"
      },
      "execution_count": 186,
      "outputs": [
        {
          "output_type": "execute_result",
          "data": {
            "text/plain": [
              "['dog', 'shark', 'cat', 'bird']"
            ]
          },
          "metadata": {},
          "execution_count": 186
        }
      ]
    },
    {
      "cell_type": "code",
      "source": [
        "animals"
      ],
      "metadata": {
        "colab": {
          "base_uri": "https://localhost:8080/"
        },
        "id": "M0yQHgqtlpXz",
        "outputId": "d889e4e8-1d12-4637-9cdc-def365c57bcc"
      },
      "execution_count": 187,
      "outputs": [
        {
          "output_type": "execute_result",
          "data": {
            "text/plain": [
              "['dog', 'shark', 'cat', 'bird']"
            ]
          },
          "metadata": {},
          "execution_count": 187
        }
      ]
    },
    {
      "cell_type": "code",
      "source": [
        "result"
      ],
      "metadata": {
        "colab": {
          "base_uri": "https://localhost:8080/",
          "height": 35
        },
        "id": "fcs4qODDlvIM",
        "outputId": "d8f7a215-4a9e-45ce-fcae-166dccdc52b8"
      },
      "execution_count": 188,
      "outputs": [
        {
          "output_type": "execute_result",
          "data": {
            "text/plain": [
              "'dog-shark-cat-bird'"
            ],
            "application/vnd.google.colaboratory.intrinsic+json": {
              "type": "string"
            }
          },
          "metadata": {},
          "execution_count": 188
        }
      ]
    },
    {
      "cell_type": "code",
      "source": [
        "myStr = \"Hello Python 2024\""
      ],
      "metadata": {
        "id": "rWvAHfmWlvo1"
      },
      "execution_count": 189,
      "outputs": []
    },
    {
      "cell_type": "markdown",
      "source": [
        "# split() 에 매개변수 없이 사용하면 공백 기준으로 문자열 쪼개짐\n",
        "# 공백 : 띄어쓰기, 탭, 줄바꿈...\n",
        "\n",
        "\n"
      ],
      "metadata": {
        "id": "V3TR4Lsrl93D"
      }
    },
    {
      "cell_type": "code",
      "source": [
        "myStr.split()"
      ],
      "metadata": {
        "colab": {
          "base_uri": "https://localhost:8080/"
        },
        "id": "R0zNIWTOl2K_",
        "outputId": "35134c1c-e9e3-43de-b1d9-5794ffad0ef9"
      },
      "execution_count": 190,
      "outputs": [
        {
          "output_type": "execute_result",
          "data": {
            "text/plain": [
              "['Hello', 'Python', '2024']"
            ]
          },
          "metadata": {},
          "execution_count": 190
        }
      ]
    },
    {
      "cell_type": "code",
      "source": [
        "myStr2 = '    Hello   PyThon  \\t\\n 2024   \\t  '\n",
        "print(myStr2)"
      ],
      "metadata": {
        "colab": {
          "base_uri": "https://localhost:8080/"
        },
        "id": "b3_cFvO_l2tZ",
        "outputId": "e078943b-1729-4707-ef52-c9e258786f30"
      },
      "execution_count": 192,
      "outputs": [
        {
          "output_type": "stream",
          "name": "stdout",
          "text": [
            "    Hello   PyThon  \t\n",
            " 2024   \t  \n"
          ]
        }
      ]
    },
    {
      "cell_type": "code",
      "source": [
        "myStr2.split()"
      ],
      "metadata": {
        "colab": {
          "base_uri": "https://localhost:8080/"
        },
        "id": "fKbJKPMvl20R",
        "outputId": "409c5fa6-7bb2-4c73-aab4-9de563b541bf"
      },
      "execution_count": 193,
      "outputs": [
        {
          "output_type": "execute_result",
          "data": {
            "text/plain": [
              "['Hello', 'PyThon', '2024']"
            ]
          },
          "metadata": {},
          "execution_count": 193
        }
      ]
    },
    {
      "cell_type": "code",
      "source": [
        "# list(iterable) -> list"
      ],
      "metadata": {
        "id": "39wklQc3l25L"
      },
      "execution_count": 194,
      "outputs": []
    },
    {
      "cell_type": "code",
      "source": [
        "myStr3 = \"HongKillDong\"\n",
        "list(myStr3)"
      ],
      "metadata": {
        "colab": {
          "base_uri": "https://localhost:8080/"
        },
        "id": "mxenafTZm8k9",
        "outputId": "1e93824e-4c6c-4cce-8354-673b6a3a7dd3"
      },
      "execution_count": 195,
      "outputs": [
        {
          "output_type": "execute_result",
          "data": {
            "text/plain": [
              "['H', 'o', 'n', 'g', 'K', 'i', 'l', 'l', 'D', 'o', 'n', 'g']"
            ]
          },
          "metadata": {},
          "execution_count": 195
        }
      ]
    },
    {
      "cell_type": "markdown",
      "source": [
        "## 도전\n",
        "\n"
      ],
      "metadata": {
        "id": "U8NT0Nj3nIqx"
      }
    },
    {
      "cell_type": "code",
      "source": [
        "# 문자열1 - 자가진단4\n",
        "\n",
        "# 문자열을 입력받고 정수를 입력 받아서 문자열의 맨 뒤부터 정수만큼 출력하는 프로그램을 작성하시오.\n",
        "#  만약 입력받은 정수가 문자열의 길이보다 크다면 맨 뒤부터 맨 처음까지 모두 출력한다.\n",
        "# (문자열 길이는 최대 100자 이하이다. )\n",
        "\n",
        "\n",
        "\n",
        "# 입력 예\n",
        "# korea 3\n",
        "\n",
        "# 출력 예\n",
        "# aer\n",
        "\n"
      ],
      "metadata": {
        "id": "AH07Sq18m80w"
      },
      "execution_count": 196,
      "outputs": []
    },
    {
      "cell_type": "code",
      "source": [
        "[a,b]# 문자열1 - 자가진단4\n",
        "\n",
        "# 문자열을 입력받고 정수를 입력 받아서 문자열의 맨 뒤부터 정수만큼 출력하는 프로그램을 작성하시오.\n",
        "#  만약 입력받은 정수가 문자열의 길이보다 크다면 맨 뒤부터 맨 처음까지 모두 출력한다.\n",
        "# (문자열 길이는 최대 100자 이하이다. )\n",
        "\n",
        "\n",
        "\n",
        "# 입력 예\n",
        "# korea 3\n",
        "\n",
        "# 출력 예\n",
        "# aer\n",
        "\n",
        "str,n = input().split()\n",
        "str[-1:-(int(n)+1):-1]"
      ],
      "metadata": {
        "colab": {
          "base_uri": "https://localhost:8080/",
          "height": 54
        },
        "id": "x84HOO7cnRA9",
        "outputId": "0d69b3ec-eded-4af5-c3cb-5606212123ea"
      },
      "execution_count": 235,
      "outputs": [
        {
          "name": "stdout",
          "output_type": "stream",
          "text": [
            "abcdefg 8\n"
          ]
        },
        {
          "output_type": "execute_result",
          "data": {
            "text/plain": [
              "'gfedcba'"
            ],
            "application/vnd.google.colaboratory.intrinsic+json": {
              "type": "string"
            }
          },
          "metadata": {},
          "execution_count": 235
        }
      ]
    },
    {
      "cell_type": "code",
      "source": [
        "korea"
      ],
      "metadata": {
        "id": "EWdo4Z0Cm847"
      },
      "execution_count": 194,
      "outputs": []
    },
    {
      "cell_type": "code",
      "source": [],
      "metadata": {
        "id": "Kb9XMortm89p"
      },
      "execution_count": null,
      "outputs": []
    }
  ]
}