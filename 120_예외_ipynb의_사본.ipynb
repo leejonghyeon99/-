{
  "nbformat": 4,
  "nbformat_minor": 0,
  "metadata": {
    "colab": {
      "provenance": [],
      "include_colab_link": true
    },
    "kernelspec": {
      "name": "python3",
      "display_name": "Python 3"
    },
    "language_info": {
      "name": "python"
    }
  },
  "cells": [
    {
      "cell_type": "markdown",
      "metadata": {
        "id": "view-in-github",
        "colab_type": "text"
      },
      "source": [
        "<a href=\"https://colab.research.google.com/github/leejonghyeon99/python_stu/blob/main/120_%EC%98%88%EC%99%B8_ipynb%EC%9D%98_%EC%82%AC%EB%B3%B8.ipynb\" target=\"_parent\"><img src=\"https://colab.research.google.com/assets/colab-badge.svg\" alt=\"Open In Colab\"/></a>"
      ]
    },
    {
      "cell_type": "markdown",
      "source": [
        "# 예외 처리\n",
        "try ~ except ~ else ~ finally"
      ],
      "metadata": {
        "id": "ntopAwDzOMxs"
      }
    },
    {
      "cell_type": "code",
      "source": [
        "# f = open('없는파일')"
      ],
      "metadata": {
        "id": "rAcgc3xaOWb_"
      },
      "execution_count": null,
      "outputs": []
    },
    {
      "cell_type": "markdown",
      "source": [
        "# try ~ except"
      ],
      "metadata": {
        "id": "8P_Eq93-PrpI"
      }
    },
    {
      "cell_type": "code",
      "source": [
        "# 구문]\n",
        "# try:\n",
        "#     코드수행블럭\n",
        "#     ...\n",
        "# except [발생 오류[as 오류 메시지 변수]]:\n",
        "#     예외처리블럭\n",
        "#     ...\n",
        "\n",
        "#  try 블록 수행 중 오류가 발생하면 except 블록이 수행된다.\n",
        "# 하지만 try블록에서 오류가 발생하지 않는다면 except 블록은 수행되지 않는다."
      ],
      "metadata": {
        "id": "W69J1qFoOWXr"
      },
      "execution_count": 2,
      "outputs": []
    },
    {
      "cell_type": "code",
      "source": [
        "try:\n",
        "  f = open('없는파일', 'r')\n",
        "  print('1. 파일 open 성공')\n",
        "except:\n",
        "  print('2. 오류 발생')\n",
        "\n",
        "print('3. 프로그램 종료')"
      ],
      "metadata": {
        "colab": {
          "base_uri": "https://localhost:8080/"
        },
        "id": "mta9c_hqPp2n",
        "outputId": "2396cbed-16af-40cf-cc1c-dc86d8c7fb9d"
      },
      "execution_count": 3,
      "outputs": [
        {
          "output_type": "stream",
          "name": "stdout",
          "text": [
            "2. 오류 발생\n",
            "3. 프로그램 종료\n"
          ]
        }
      ]
    },
    {
      "cell_type": "code",
      "source": [
        "num = 0\n",
        "try:\n",
        "  result = 4 / num\n",
        "  f = open('없는파일', 'r')\n",
        "  print('성공')\n",
        "except:\n",
        "  print('2. 오류 발생')\n",
        "\n",
        "print('3. 프로그램 종료')"
      ],
      "metadata": {
        "id": "XotuU0fSOWS_",
        "colab": {
          "base_uri": "https://localhost:8080/"
        },
        "outputId": "cc262d96-a607-4b2e-dbca-e180ff399a66"
      },
      "execution_count": 5,
      "outputs": [
        {
          "output_type": "stream",
          "name": "stdout",
          "text": [
            "2. 오류 발생\n",
            "3. 프로그램 종료\n"
          ]
        }
      ]
    },
    {
      "cell_type": "markdown",
      "source": [
        "# try ~ except 오류:"
      ],
      "metadata": {
        "id": "rfE_uqZSQ4Lh"
      }
    },
    {
      "cell_type": "code",
      "source": [
        "num = 0\n",
        "try:\n",
        "  result = 4 / num\n",
        "  f = open('없는파일', 'r')\n",
        "  print('성공')\n",
        "except ZeroDivisionError:\n",
        "  print('2-1. ZeroDivisionError 오류 발생')\n",
        "except TypeError:\n",
        "  print('2-2 TypeError 오류 발생')\n",
        "print('3. 프로그램 종료')"
      ],
      "metadata": {
        "colab": {
          "base_uri": "https://localhost:8080/"
        },
        "id": "QGi0-iGMQnX2",
        "outputId": "c0b8071b-0401-466b-b631-4243707e2da3"
      },
      "execution_count": 10,
      "outputs": [
        {
          "output_type": "stream",
          "name": "stdout",
          "text": [
            "2-1. ZeroDivisionError 오류 발생\n",
            "3. 프로그램 종료\n"
          ]
        }
      ]
    },
    {
      "cell_type": "code",
      "source": [
        "num = 0\n",
        "try:\n",
        "  # f = open('이기언', 'r') # 에러 처리하는 except 절이 없으면 프로그램 종료\n",
        "  print('성공')\n",
        "except ZeroDivisionError:\n",
        "  print('2-1. ZeroDivisionError 오류 발생')\n",
        "except TypeError:\n",
        "  print('2-2 TypeError 오류 발생')\n",
        "print('3. 프로그램 종료')"
      ],
      "metadata": {
        "id": "K7cilj3iOWOT",
        "colab": {
          "base_uri": "https://localhost:8080/"
        },
        "outputId": "40eda361-8f23-4399-866b-0c1047057257"
      },
      "execution_count": 13,
      "outputs": [
        {
          "output_type": "stream",
          "name": "stdout",
          "text": [
            "성공\n",
            "3. 프로그램 종료\n"
          ]
        }
      ]
    },
    {
      "cell_type": "markdown",
      "source": [
        "# try ~ except 오류 as 변수"
      ],
      "metadata": {
        "id": "vCM4T2wkSDVZ"
      }
    },
    {
      "cell_type": "code",
      "source": [
        "num = 0\n",
        "try:\n",
        "  result = 4 / num\n",
        "  f = open('없는파일', 'r')\n",
        "  print('성공')\n",
        "except ZeroDivisionError as e:\n",
        "  print('2-1. ZeroDivisionError 오류 발생')\n",
        "  print(e.args)\n",
        "  print(e)\n",
        "except TypeError:\n",
        "  print('2-2 TypeError 오류 발생')\n",
        "print('3. 프로그램 종료')"
      ],
      "metadata": {
        "id": "79aShWEWOWI1",
        "colab": {
          "base_uri": "https://localhost:8080/"
        },
        "outputId": "66443013-b41c-4f4f-b812-9f0bcec6aa98"
      },
      "execution_count": 14,
      "outputs": [
        {
          "output_type": "stream",
          "name": "stdout",
          "text": [
            "2-1. ZeroDivisionError 오류 발생\n",
            "('division by zero',)\n",
            "division by zero\n",
            "3. 프로그램 종료\n"
          ]
        }
      ]
    },
    {
      "cell_type": "markdown",
      "source": [
        "# try ~ else"
      ],
      "metadata": {
        "id": "hGY65UcOSqjC"
      }
    },
    {
      "cell_type": "code",
      "source": [
        "# try문은 else절을 지원한다.\n",
        "# else절은 예외가 발생하지 않은 경우에 실행되며\n",
        "# 반드시 except절 바로 다음에 위치해야 한다.\n",
        "\n",
        "# 그닥 비추, 차라리 걍 try 블럭안에 넣자"
      ],
      "metadata": {
        "id": "WmN-yhNkOWEJ"
      },
      "execution_count": 15,
      "outputs": []
    },
    {
      "cell_type": "code",
      "source": [
        "try:\n",
        "  f = ('이기원.txt', 'r')\n",
        "except FileNotFoundError as e:\n",
        "  print(\"2\", e)\n",
        "else:\n",
        "  # ㅇ[외 발생하지 않으면 수행하는 블럭]\n",
        "data = f.read()\n",
        "  f.close()"
      ],
      "metadata": {
        "id": "rWE85RbzOV_F",
        "colab": {
          "base_uri": "https://localhost:8080/",
          "height": 110
        },
        "outputId": "42b2a6af-86ae-4328-8246-111df6507775"
      },
      "execution_count": 19,
      "outputs": [
        {
          "output_type": "error",
          "ename": "IndentationError",
          "evalue": "expected an indented block after 'else' statement on line 5 (<ipython-input-19-861dd2ad82a3>, line 7)",
          "traceback": [
            "\u001b[0;36m  File \u001b[0;32m\"<ipython-input-19-861dd2ad82a3>\"\u001b[0;36m, line \u001b[0;32m7\u001b[0m\n\u001b[0;31m    data = f.read()\u001b[0m\n\u001b[0m    ^\u001b[0m\n\u001b[0;31mIndentationError\u001b[0m\u001b[0;31m:\u001b[0m expected an indented block after 'else' statement on line 5\n"
          ]
        }
      ]
    },
    {
      "cell_type": "code",
      "source": [],
      "metadata": {
        "id": "UNir9L-WOV5_"
      },
      "execution_count": null,
      "outputs": []
    },
    {
      "cell_type": "code",
      "source": [],
      "metadata": {
        "id": "7s_6A09VOV1T"
      },
      "execution_count": null,
      "outputs": []
    },
    {
      "cell_type": "code",
      "source": [],
      "metadata": {
        "id": "g98Dq4UkOVwn"
      },
      "execution_count": null,
      "outputs": []
    },
    {
      "cell_type": "code",
      "source": [],
      "metadata": {
        "id": "kfEpwwjXOVrj"
      },
      "execution_count": null,
      "outputs": []
    },
    {
      "cell_type": "code",
      "source": [],
      "metadata": {
        "id": "KRIUoUZjOVlS"
      },
      "execution_count": null,
      "outputs": []
    },
    {
      "cell_type": "code",
      "source": [],
      "metadata": {
        "id": "QyPb14d3OVgN"
      },
      "execution_count": null,
      "outputs": []
    },
    {
      "cell_type": "code",
      "source": [],
      "metadata": {
        "id": "m8XNLN1XOVb6"
      },
      "execution_count": null,
      "outputs": []
    },
    {
      "cell_type": "code",
      "source": [],
      "metadata": {
        "id": "6G0rptiOOLub"
      },
      "execution_count": null,
      "outputs": []
    },
    {
      "cell_type": "code",
      "source": [],
      "metadata": {
        "id": "-ub3ezJ0OLqK"
      },
      "execution_count": null,
      "outputs": []
    },
    {
      "cell_type": "code",
      "source": [],
      "metadata": {
        "id": "Ni2AoPvLOLmn"
      },
      "execution_count": null,
      "outputs": []
    },
    {
      "cell_type": "code",
      "execution_count": null,
      "metadata": {
        "id": "QnKUp9T7OJP4"
      },
      "outputs": [],
      "source": []
    },
    {
      "cell_type": "markdown",
      "source": [
        "# 예외 처리\n",
        "try ~ except ~ else ~ finally"
      ],
      "metadata": {
        "id": "A2JIM-Ccb0PU"
      }
    },
    {
      "cell_type": "code",
      "source": [
        "# f = open('없는파일', 'r')"
      ],
      "metadata": {
        "colab": {
          "base_uri": "https://localhost:8080/",
          "height": 163
        },
        "outputId": "82298970-bffe-4ae4-a645-22d091bf472d",
        "id": "TENsKXLFb0PU"
      },
      "execution_count": null,
      "outputs": [
        {
          "output_type": "error",
          "ename": "FileNotFoundError",
          "evalue": "[Errno 2] No such file or directory: '없는파일'",
          "traceback": [
            "\u001b[0;31m---------------------------------------------------------------------------\u001b[0m",
            "\u001b[0;31mFileNotFoundError\u001b[0m                         Traceback (most recent call last)",
            "\u001b[0;32m<ipython-input-1-aed5f520aa3c>\u001b[0m in \u001b[0;36m<cell line: 1>\u001b[0;34m()\u001b[0m\n\u001b[0;32m----> 1\u001b[0;31m \u001b[0mf\u001b[0m \u001b[0;34m=\u001b[0m \u001b[0mopen\u001b[0m\u001b[0;34m(\u001b[0m\u001b[0;34m'없는파일'\u001b[0m\u001b[0;34m,\u001b[0m \u001b[0;34m'r'\u001b[0m\u001b[0;34m)\u001b[0m\u001b[0;34m\u001b[0m\u001b[0;34m\u001b[0m\u001b[0m\n\u001b[0m",
            "\u001b[0;31mFileNotFoundError\u001b[0m: [Errno 2] No such file or directory: '없는파일'"
          ]
        }
      ]
    },
    {
      "cell_type": "markdown",
      "source": [
        "# try ~ except"
      ],
      "metadata": {
        "id": "XBKOMNG3Oyeo"
      }
    },
    {
      "cell_type": "code",
      "source": [
        "# 구문]\n",
        "# try:\n",
        "#     코드수행블럭\n",
        "#     ...\n",
        "# except [발생 오류[as 오류 메시지 변수]]:\n",
        "#     예외처리블럭\n",
        "#     ...\n",
        "\n",
        "#  try 블록 수행 중 오류가 발생하면 except 블록이 수행된다.\n",
        "# 하지만 try블록에서 오류가 발생하지 않는다면 except 블록은 수행되지 않는다."
      ],
      "metadata": {
        "id": "v0-Zpx4iOoOd"
      },
      "execution_count": null,
      "outputs": []
    },
    {
      "cell_type": "code",
      "source": [
        "try:\n",
        "  f = open('없는파일', 'r')\n",
        "  print('1. 파일 open 성공')\n",
        "except:\n",
        "  print('2 오류 발생')\n",
        "\n",
        "print('3 프로그램 종료')\n"
      ],
      "metadata": {
        "colab": {
          "base_uri": "https://localhost:8080/"
        },
        "outputId": "548ce9ce-c562-44e6-fb6d-2a071da5f6fb",
        "id": "LbrzzzkJb0PV"
      },
      "execution_count": null,
      "outputs": [
        {
          "output_type": "stream",
          "name": "stdout",
          "text": [
            "2 오류 발생\n",
            "3 프로그램 종료\n"
          ]
        }
      ]
    },
    {
      "cell_type": "markdown",
      "source": [
        "# try ~ except 오류:"
      ],
      "metadata": {
        "id": "zS5Fiuy3QAq8"
      }
    },
    {
      "cell_type": "code",
      "source": [
        "num = 0\n",
        "\n",
        "try:\n",
        "  result = 4 / num\n",
        "  print('1. 성공')\n",
        "except ZeroDivisionError:\n",
        "  print('2-1 ZeroDivisionError 오류 발생')\n",
        "except TypeError:\n",
        "  print('2-2 TypeError 오류 발생')\n",
        "\n",
        "\n",
        "print('3 프로그램 종료')"
      ],
      "metadata": {
        "colab": {
          "base_uri": "https://localhost:8080/"
        },
        "id": "lRrJ2ic8PdRL",
        "outputId": "19fcdea9-9f30-4f0f-d8c6-de6c5695c9e6"
      },
      "execution_count": null,
      "outputs": [
        {
          "output_type": "stream",
          "name": "stdout",
          "text": [
            "2-1 ZeroDivisionError 오류 발생\n",
            "3 프로그램 종료\n"
          ]
        }
      ]
    },
    {
      "cell_type": "code",
      "source": [
        "num = 0\n",
        "\n",
        "try:\n",
        "  # f = open('이기원', 'r')    # 에러 처리하는 except 절이 없으면 프로그램 종료\n",
        "  print('1. 성공')\n",
        "except ZeroDivisionError:\n",
        "  print('2-1 ZeroDivisionError 오류 발생')\n",
        "except TypeError:\n",
        "  print('2-2 TypeError 오류 발생')\n",
        "\n",
        "\n",
        "print('3 프로그램 종료')"
      ],
      "metadata": {
        "colab": {
          "base_uri": "https://localhost:8080/",
          "height": 248
        },
        "id": "MZWT-opRQTqS",
        "outputId": "de124ae0-e0fc-4cf2-dbe9-66d294155685"
      },
      "execution_count": null,
      "outputs": [
        {
          "output_type": "error",
          "ename": "FileNotFoundError",
          "evalue": "[Errno 2] No such file or directory: '이기원'",
          "traceback": [
            "\u001b[0;31m---------------------------------------------------------------------------\u001b[0m",
            "\u001b[0;31mFileNotFoundError\u001b[0m                         Traceback (most recent call last)",
            "\u001b[0;32m<ipython-input-7-cb1c68ff6f10>\u001b[0m in \u001b[0;36m<cell line: 3>\u001b[0;34m()\u001b[0m\n\u001b[1;32m      2\u001b[0m \u001b[0;34m\u001b[0m\u001b[0m\n\u001b[1;32m      3\u001b[0m \u001b[0;32mtry\u001b[0m\u001b[0;34m:\u001b[0m\u001b[0;34m\u001b[0m\u001b[0;34m\u001b[0m\u001b[0m\n\u001b[0;32m----> 4\u001b[0;31m   \u001b[0mf\u001b[0m \u001b[0;34m=\u001b[0m \u001b[0mopen\u001b[0m\u001b[0;34m(\u001b[0m\u001b[0;34m'이기원'\u001b[0m\u001b[0;34m,\u001b[0m \u001b[0;34m'r'\u001b[0m\u001b[0;34m)\u001b[0m\u001b[0;34m\u001b[0m\u001b[0;34m\u001b[0m\u001b[0m\n\u001b[0m\u001b[1;32m      5\u001b[0m   \u001b[0mprint\u001b[0m\u001b[0;34m(\u001b[0m\u001b[0;34m'1. 성공'\u001b[0m\u001b[0;34m)\u001b[0m\u001b[0;34m\u001b[0m\u001b[0;34m\u001b[0m\u001b[0m\n\u001b[1;32m      6\u001b[0m \u001b[0;32mexcept\u001b[0m \u001b[0mZeroDivisionError\u001b[0m\u001b[0;34m:\u001b[0m\u001b[0;34m\u001b[0m\u001b[0;34m\u001b[0m\u001b[0m\n",
            "\u001b[0;31mFileNotFoundError\u001b[0m: [Errno 2] No such file or directory: '이기원'"
          ]
        }
      ]
    },
    {
      "cell_type": "markdown",
      "source": [
        "# try ~ except 오류 as 변수:"
      ],
      "metadata": {
        "id": "uTa6DciRRNV8"
      }
    },
    {
      "cell_type": "code",
      "source": [
        "num = 0\n",
        "\n",
        "try:\n",
        "  result = 4 / num\n",
        "  print('1. 성공')\n",
        "except ZeroDivisionError as e:\n",
        "  print('2-1 ZeroDivisionError 오류 발생')\n",
        "  print(e.args)\n",
        "  print(e)\n",
        "except TypeError:\n",
        "  print('2-2 TypeError 오류 발생')\n",
        "\n",
        "\n",
        "print('3 프로그램 종료')"
      ],
      "metadata": {
        "colab": {
          "base_uri": "https://localhost:8080/"
        },
        "id": "paVmxOSyQyQr",
        "outputId": "4a8174fe-e9db-46eb-8bb1-83aef9109915"
      },
      "execution_count": null,
      "outputs": [
        {
          "output_type": "stream",
          "name": "stdout",
          "text": [
            "2-1 ZeroDivisionError 오류 발생\n",
            "('division by zero',)\n",
            "division by zero\n",
            "3 프로그램 종료\n"
          ]
        }
      ]
    },
    {
      "cell_type": "markdown",
      "source": [
        "# try ~ else:"
      ],
      "metadata": {
        "id": "bdZdbcWNRy3b"
      }
    },
    {
      "cell_type": "code",
      "source": [
        "# try문은 else절을 지원한다.\n",
        "# else절은 예외가 발생하지 않은 경우에 실행되며\n",
        "# 반드시 except절 바로 다음에 위치해야 한다.\n",
        "\n",
        "# 그닥 비추, 차라리 걍 try 블럭안에 넣자"
      ],
      "metadata": {
        "id": "0KMWXzP3RkB0"
      },
      "execution_count": null,
      "outputs": []
    },
    {
      "cell_type": "code",
      "source": [
        "try:\n",
        "  f = open(\"이기원.txt\", 'r')\n",
        "except FileNotFoundError as e:\n",
        "  print(\"2.\", e)\n",
        "else:\n",
        "  # 예외 발생하지 않으면 수행하는 블럭\n",
        "  data = f.read()\n",
        "  f.close()"
      ],
      "metadata": {
        "colab": {
          "base_uri": "https://localhost:8080/"
        },
        "id": "9feNyUSjP6dK",
        "outputId": "06ad3836-1411-4e94-86aa-d6ad2ffb23c9"
      },
      "execution_count": null,
      "outputs": [
        {
          "output_type": "stream",
          "name": "stdout",
          "text": [
            "2. [Errno 2] No such file or directory: '이기원.txt'\n"
          ]
        }
      ]
    },
    {
      "cell_type": "markdown",
      "source": [
        "# try ~ finally:"
      ],
      "metadata": {
        "id": "Z-4QVKzaSmB7"
      }
    },
    {
      "cell_type": "code",
      "source": [
        "try:\n",
        "  f = open('기원기원.txt', 'w')\n",
        "  a = 10\n",
        "  a = a + b  # NameError 발생\n",
        "  print('1. 파일저장')\n",
        "except NameError as e:\n",
        "  print('2.', e)\n",
        "finally:\n",
        "  print('3. finally')\n",
        "  f.close()\n",
        "\n",
        "print('4.프로그램 종료')"
      ],
      "metadata": {
        "colab": {
          "base_uri": "https://localhost:8080/"
        },
        "id": "WrV--CwSSpRf",
        "outputId": "76fd601e-2620-44c4-8bc7-be602461d328"
      },
      "execution_count": null,
      "outputs": [
        {
          "output_type": "stream",
          "name": "stdout",
          "text": [
            "2. name 'b' is not defined\n",
            "3. finally\n",
            "4.프로그램 종료\n"
          ]
        }
      ]
    },
    {
      "cell_type": "markdown",
      "source": [
        "# 오류 만들기 & 강제로 오류 발생시키기 (raise )"
      ],
      "metadata": {
        "id": "_kD9TsDxTlpW"
      }
    },
    {
      "cell_type": "code",
      "source": [
        "#  Bird라는 클래스를 상속받는 자식 클래스는\n",
        "# 반드시 fly라는 함수를 구현하도록 만들고 싶은 경우(강제로 그렇게 하고 싶은 경우)가 있을 수 있다. 다음 예를 보자\n",
        "# '구현(implement)' : 부모클래스의 메소드를 오버라이딩해서 재정의하는것.\n",
        "# NotImplementedError는 파이썬 내장 오류로, 꼭 작성해야 하는 부분이 구현되지 않았을 경우 일부러 오류를 발생\n",
        "\n",
        "\n",
        "class Bird:\n",
        "  def fly(self):\n",
        "    raise NotImplementedError"
      ],
      "metadata": {
        "id": "jZZDYLsDTyQd"
      },
      "execution_count": null,
      "outputs": []
    },
    {
      "cell_type": "code",
      "source": [
        "class Eagle(Bird):\n",
        "  pass\n",
        "\n",
        "eagle = Eagle()\n",
        "# eagle.fly()"
      ],
      "metadata": {
        "colab": {
          "base_uri": "https://localhost:8080/",
          "height": 311
        },
        "id": "scpDD-LyUZVD",
        "outputId": "169f6b59-e0c7-4007-895d-d7408c7033ac"
      },
      "execution_count": null,
      "outputs": [
        {
          "output_type": "error",
          "ename": "NotImplementedError",
          "evalue": "",
          "traceback": [
            "\u001b[0;31m---------------------------------------------------------------------------\u001b[0m",
            "\u001b[0;31mNotImplementedError\u001b[0m                       Traceback (most recent call last)",
            "\u001b[0;32m<ipython-input-13-64a2e961af46>\u001b[0m in \u001b[0;36m<cell line: 5>\u001b[0;34m()\u001b[0m\n\u001b[1;32m      3\u001b[0m \u001b[0;34m\u001b[0m\u001b[0m\n\u001b[1;32m      4\u001b[0m \u001b[0meagle\u001b[0m \u001b[0;34m=\u001b[0m \u001b[0mEagle\u001b[0m\u001b[0;34m(\u001b[0m\u001b[0;34m)\u001b[0m\u001b[0;34m\u001b[0m\u001b[0;34m\u001b[0m\u001b[0m\n\u001b[0;32m----> 5\u001b[0;31m \u001b[0meagle\u001b[0m\u001b[0;34m.\u001b[0m\u001b[0mfly\u001b[0m\u001b[0;34m(\u001b[0m\u001b[0;34m)\u001b[0m\u001b[0;34m\u001b[0m\u001b[0;34m\u001b[0m\u001b[0m\n\u001b[0m",
            "\u001b[0;32m<ipython-input-12-035747e2b159>\u001b[0m in \u001b[0;36mfly\u001b[0;34m(self)\u001b[0m\n\u001b[1;32m      7\u001b[0m \u001b[0;32mclass\u001b[0m \u001b[0mBird\u001b[0m\u001b[0;34m:\u001b[0m\u001b[0;34m\u001b[0m\u001b[0;34m\u001b[0m\u001b[0m\n\u001b[1;32m      8\u001b[0m   \u001b[0;32mdef\u001b[0m \u001b[0mfly\u001b[0m\u001b[0;34m(\u001b[0m\u001b[0mself\u001b[0m\u001b[0;34m)\u001b[0m\u001b[0;34m:\u001b[0m\u001b[0;34m\u001b[0m\u001b[0;34m\u001b[0m\u001b[0m\n\u001b[0;32m----> 9\u001b[0;31m     \u001b[0;32mraise\u001b[0m \u001b[0mNotImplementedError\u001b[0m\u001b[0;34m\u001b[0m\u001b[0;34m\u001b[0m\u001b[0m\n\u001b[0m",
            "\u001b[0;31mNotImplementedError\u001b[0m: "
          ]
        }
      ]
    },
    {
      "cell_type": "code",
      "source": [
        "class Eagle(Bird):\n",
        "  def fly(self):\n",
        "    print('하늘 날다')\n",
        "\n",
        "eagle = Eagle()\n",
        "eagle.fly()"
      ],
      "metadata": {
        "colab": {
          "base_uri": "https://localhost:8080/"
        },
        "id": "SZEzpWuwUmL-",
        "outputId": "a0336727-ac4e-4562-95c0-16f7599ccad0"
      },
      "execution_count": null,
      "outputs": [
        {
          "output_type": "stream",
          "name": "stdout",
          "text": [
            "하늘 날다\n"
          ]
        }
      ]
    },
    {
      "cell_type": "code",
      "source": [
        "# 커스텀 오류 만들기:   Exception 클래스를 상속받아 정의\n",
        "class MyError(Exception):\n",
        "  def __init__(self, msg):\n",
        "    self.msg = msg\n",
        "\n",
        "  def __str__(self):\n",
        "    return self.msg"
      ],
      "metadata": {
        "id": "FQGybcRTVBmO"
      },
      "execution_count": null,
      "outputs": []
    },
    {
      "cell_type": "code",
      "source": [
        "def say_nick(nick):\n",
        "  if nick == \"진무\":\n",
        "    raise MyError(f'{nick} 은 허용하지 않는 별명')\n",
        "\n",
        "  print(nick)\n"
      ],
      "metadata": {
        "id": "VPuhAbkjTu2g"
      },
      "execution_count": null,
      "outputs": []
    },
    {
      "cell_type": "code",
      "source": [
        "say_nick('찜무')\n",
        "say_nick('징무')\n",
        "say_nick('진무')"
      ],
      "metadata": {
        "colab": {
          "base_uri": "https://localhost:8080/",
          "height": 395
        },
        "id": "zhCB64CRV93R",
        "outputId": "4f77a3da-6849-4f9e-e8e0-def7926a6f4c"
      },
      "execution_count": null,
      "outputs": [
        {
          "output_type": "stream",
          "name": "stdout",
          "text": [
            "찜무\n",
            "징무\n"
          ]
        },
        {
          "output_type": "error",
          "ename": "MyError",
          "evalue": "진무 은 허용하지 않는 별명",
          "traceback": [
            "\u001b[0;31m---------------------------------------------------------------------------\u001b[0m",
            "\u001b[0;31mMyError\u001b[0m                                   Traceback (most recent call last)",
            "\u001b[0;32m<ipython-input-20-b03701123419>\u001b[0m in \u001b[0;36m<cell line: 3>\u001b[0;34m()\u001b[0m\n\u001b[1;32m      1\u001b[0m \u001b[0msay_nick\u001b[0m\u001b[0;34m(\u001b[0m\u001b[0;34m'찜무'\u001b[0m\u001b[0;34m)\u001b[0m\u001b[0;34m\u001b[0m\u001b[0;34m\u001b[0m\u001b[0m\n\u001b[1;32m      2\u001b[0m \u001b[0msay_nick\u001b[0m\u001b[0;34m(\u001b[0m\u001b[0;34m'징무'\u001b[0m\u001b[0;34m)\u001b[0m\u001b[0;34m\u001b[0m\u001b[0;34m\u001b[0m\u001b[0m\n\u001b[0;32m----> 3\u001b[0;31m \u001b[0msay_nick\u001b[0m\u001b[0;34m(\u001b[0m\u001b[0;34m'진무'\u001b[0m\u001b[0;34m)\u001b[0m\u001b[0;34m\u001b[0m\u001b[0;34m\u001b[0m\u001b[0m\n\u001b[0m",
            "\u001b[0;32m<ipython-input-17-27561b6a845c>\u001b[0m in \u001b[0;36msay_nick\u001b[0;34m(nick)\u001b[0m\n\u001b[1;32m      1\u001b[0m \u001b[0;32mdef\u001b[0m \u001b[0msay_nick\u001b[0m\u001b[0;34m(\u001b[0m\u001b[0mnick\u001b[0m\u001b[0;34m)\u001b[0m\u001b[0;34m:\u001b[0m\u001b[0;34m\u001b[0m\u001b[0;34m\u001b[0m\u001b[0m\n\u001b[1;32m      2\u001b[0m   \u001b[0;32mif\u001b[0m \u001b[0mnick\u001b[0m \u001b[0;34m==\u001b[0m \u001b[0;34m\"진무\"\u001b[0m\u001b[0;34m:\u001b[0m\u001b[0;34m\u001b[0m\u001b[0;34m\u001b[0m\u001b[0m\n\u001b[0;32m----> 3\u001b[0;31m     \u001b[0;32mraise\u001b[0m \u001b[0mMyError\u001b[0m\u001b[0;34m(\u001b[0m\u001b[0;34mf'{nick} 은 허용하지 않는 별명'\u001b[0m\u001b[0;34m)\u001b[0m\u001b[0;34m\u001b[0m\u001b[0;34m\u001b[0m\u001b[0m\n\u001b[0m\u001b[1;32m      4\u001b[0m \u001b[0;34m\u001b[0m\u001b[0m\n\u001b[1;32m      5\u001b[0m   \u001b[0mprint\u001b[0m\u001b[0;34m(\u001b[0m\u001b[0mnick\u001b[0m\u001b[0;34m)\u001b[0m\u001b[0;34m\u001b[0m\u001b[0;34m\u001b[0m\u001b[0m\n",
            "\u001b[0;31mMyError\u001b[0m: 진무 은 허용하지 않는 별명"
          ]
        }
      ]
    },
    {
      "cell_type": "code",
      "source": [],
      "metadata": {
        "id": "TM0NCz8JWIrA"
      },
      "execution_count": null,
      "outputs": []
    },
    {
      "cell_type": "code",
      "source": [],
      "metadata": {
        "id": "aFVAzgo5TU96"
      },
      "execution_count": null,
      "outputs": []
    },
    {
      "cell_type": "code",
      "source": [],
      "metadata": {
        "id": "_jE5Ci1LSZaj"
      },
      "execution_count": null,
      "outputs": []
    },
    {
      "cell_type": "code",
      "source": [],
      "metadata": {
        "id": "3e3nviUpSMDM"
      },
      "execution_count": null,
      "outputs": []
    },
    {
      "cell_type": "code",
      "source": [],
      "metadata": {
        "id": "8gLsFr6BPxlL"
      },
      "execution_count": null,
      "outputs": []
    },
    {
      "cell_type": "code",
      "source": [],
      "metadata": {
        "id": "G4nhcphAb0PX"
      },
      "execution_count": null,
      "outputs": []
    },
    {
      "cell_type": "code",
      "source": [],
      "metadata": {
        "id": "34vtjlqAb0PY"
      },
      "execution_count": null,
      "outputs": []
    },
    {
      "cell_type": "code",
      "source": [],
      "metadata": {
        "id": "qxY0LsDsb0PY"
      },
      "execution_count": null,
      "outputs": []
    },
    {
      "cell_type": "code",
      "source": [],
      "metadata": {
        "id": "Czmy0jD3b0PY"
      },
      "execution_count": null,
      "outputs": []
    },
    {
      "cell_type": "code",
      "source": [],
      "metadata": {
        "id": "q3_DN6Neb0PY"
      },
      "execution_count": null,
      "outputs": []
    },
    {
      "cell_type": "code",
      "source": [],
      "metadata": {
        "id": "k9EPEbB6b0PY"
      },
      "execution_count": null,
      "outputs": []
    },
    {
      "cell_type": "code",
      "source": [],
      "metadata": {
        "id": "-M6V1H1Ab0PY"
      },
      "execution_count": null,
      "outputs": []
    },
    {
      "cell_type": "code",
      "source": [],
      "metadata": {
        "id": "EFeIQrFYb0PY"
      },
      "execution_count": null,
      "outputs": []
    },
    {
      "cell_type": "code",
      "source": [],
      "metadata": {
        "id": "zWEwXEMEb0PY"
      },
      "execution_count": null,
      "outputs": []
    },
    {
      "cell_type": "code",
      "source": [],
      "metadata": {
        "id": "tzLzloPhb0PY"
      },
      "execution_count": null,
      "outputs": []
    },
    {
      "cell_type": "code",
      "source": [],
      "metadata": {
        "id": "ZEU2Zflqb0PY"
      },
      "execution_count": null,
      "outputs": []
    },
    {
      "cell_type": "code",
      "source": [],
      "metadata": {
        "id": "yhTXXLF2b0PY"
      },
      "execution_count": null,
      "outputs": []
    },
    {
      "cell_type": "code",
      "source": [],
      "metadata": {
        "id": "p7vCyUMhb0PY"
      },
      "execution_count": null,
      "outputs": []
    },
    {
      "cell_type": "code",
      "source": [],
      "metadata": {
        "id": "T0IgTIc4b0PY"
      },
      "execution_count": null,
      "outputs": []
    },
    {
      "cell_type": "code",
      "source": [],
      "metadata": {
        "id": "k2J_kNRwb0PY"
      },
      "execution_count": null,
      "outputs": []
    },
    {
      "cell_type": "code",
      "execution_count": null,
      "metadata": {
        "id": "WHtt8HmMb0PY"
      },
      "outputs": [],
      "source": []
    }
  ]
}