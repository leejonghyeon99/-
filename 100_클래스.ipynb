{
  "nbformat": 4,
  "nbformat_minor": 0,
  "metadata": {
    "colab": {
      "provenance": [],
      "include_colab_link": true
    },
    "kernelspec": {
      "name": "python3",
      "display_name": "Python 3"
    },
    "language_info": {
      "name": "python"
    }
  },
  "cells": [
    {
      "cell_type": "markdown",
      "metadata": {
        "id": "view-in-github",
        "colab_type": "text"
      },
      "source": [
        "<a href=\"https://colab.research.google.com/github/leejonghyeon99/python_stu/blob/main/100_%ED%81%B4%EB%9E%98%EC%8A%A4.ipynb\" target=\"_parent\"><img src=\"https://colab.research.google.com/assets/colab-badge.svg\" alt=\"Open In Colab\"/></a>"
      ]
    },
    {
      "cell_type": "markdown",
      "source": [
        "# Class"
      ],
      "metadata": {
        "id": "NFdWVUeKhZAz"
      }
    },
    {
      "cell_type": "code",
      "source": [
        "# 클래스 정의\n",
        "class Cookie:\n",
        "  pass"
      ],
      "metadata": {
        "id": "TXXtkY-ThdMn"
      },
      "execution_count": null,
      "outputs": []
    },
    {
      "cell_type": "code",
      "source": [
        "# 클래스 인스턴스 생성\n",
        "a = Cookie()\n",
        "b = Cookie()\n",
        "c = Cookie()"
      ],
      "metadata": {
        "id": "hCIAVFWRhsQB"
      },
      "execution_count": null,
      "outputs": []
    },
    {
      "cell_type": "code",
      "source": [
        "a"
      ],
      "metadata": {
        "colab": {
          "base_uri": "https://localhost:8080/"
        },
        "id": "zgt1sZWxh67T",
        "outputId": "86514bc1-92ce-4d38-e834-ad1c830b6361"
      },
      "execution_count": null,
      "outputs": [
        {
          "output_type": "execute_result",
          "data": {
            "text/plain": [
              "<__main__.Cookie at 0x7a49d2f47250>"
            ]
          },
          "metadata": {},
          "execution_count": 4
        }
      ]
    },
    {
      "cell_type": "code",
      "source": [
        "type(a)"
      ],
      "metadata": {
        "colab": {
          "base_uri": "https://localhost:8080/"
        },
        "id": "69YaEqhlh99D",
        "outputId": "bfc526e6-dde6-4efd-cac4-cca7dc6942bc"
      },
      "execution_count": null,
      "outputs": [
        {
          "output_type": "execute_result",
          "data": {
            "text/plain": [
              "__main__.Cookie"
            ]
          },
          "metadata": {},
          "execution_count": 5
        }
      ]
    },
    {
      "cell_type": "code",
      "source": [
        "type(a) is Cookie"
      ],
      "metadata": {
        "colab": {
          "base_uri": "https://localhost:8080/"
        },
        "id": "0KJVSQnoiEcq",
        "outputId": "6acfcae2-0b55-4317-f851-f5247438e121"
      },
      "execution_count": null,
      "outputs": [
        {
          "output_type": "execute_result",
          "data": {
            "text/plain": [
              "True"
            ]
          },
          "metadata": {},
          "execution_count": 6
        }
      ]
    },
    {
      "cell_type": "code",
      "source": [
        "a == b"
      ],
      "metadata": {
        "colab": {
          "base_uri": "https://localhost:8080/"
        },
        "id": "_I3YBme_iJH6",
        "outputId": "0066ec98-87ac-4405-dbdf-a63411fb780a"
      },
      "execution_count": null,
      "outputs": [
        {
          "output_type": "execute_result",
          "data": {
            "text/plain": [
              "False"
            ]
          },
          "metadata": {},
          "execution_count": 7
        }
      ]
    },
    {
      "cell_type": "markdown",
      "source": [
        "# 생성자 & 객체변수"
      ],
      "metadata": {
        "id": "AbJS2J_LiemX"
      }
    },
    {
      "cell_type": "code",
      "source": [
        "class Rectangle:\n",
        "  def __init__(self):\n",
        "    print('Rectangle() 생성자 호출')\n",
        "    # 객체변수들 (속성)\n",
        "    self.width = 0\n",
        "    self.height = 0\n",
        "\n",
        "r1 = Rectangle()\n",
        "r2 = Rectangle()"
      ],
      "metadata": {
        "colab": {
          "base_uri": "https://localhost:8080/"
        },
        "id": "7ec00udJijkD",
        "outputId": "04f353d6-86de-49ba-84df-575602f43ff4"
      },
      "execution_count": null,
      "outputs": [
        {
          "output_type": "stream",
          "name": "stdout",
          "text": [
            "Rectangle() 생성자 호출\n",
            "Rectangle() 생성자 호출\n"
          ]
        }
      ]
    },
    {
      "cell_type": "code",
      "source": [
        "r1.width, r1.height"
      ],
      "metadata": {
        "colab": {
          "base_uri": "https://localhost:8080/"
        },
        "id": "xHge903XjiXP",
        "outputId": "7daaee3c-8ed2-41ed-e13c-2b7544b40ba0"
      },
      "execution_count": null,
      "outputs": [
        {
          "output_type": "execute_result",
          "data": {
            "text/plain": [
              "(0, 0)"
            ]
          },
          "metadata": {},
          "execution_count": 13
        }
      ]
    },
    {
      "cell_type": "code",
      "source": [
        "r2.width, r2.height"
      ],
      "metadata": {
        "colab": {
          "base_uri": "https://localhost:8080/"
        },
        "id": "UZWfQHBTjqxe",
        "outputId": "566b3568-baad-4ab8-ca00-4b40f4a761a3"
      },
      "execution_count": null,
      "outputs": [
        {
          "output_type": "execute_result",
          "data": {
            "text/plain": [
              "(0, 0)"
            ]
          },
          "metadata": {},
          "execution_count": 14
        }
      ]
    },
    {
      "cell_type": "code",
      "source": [
        "r1.area = 19   # r1 인스턴스에 area 라는 객체변수(속성) 추가"
      ],
      "metadata": {
        "id": "RqC_151ZjuCg"
      },
      "execution_count": null,
      "outputs": []
    },
    {
      "cell_type": "code",
      "source": [
        "r1.area"
      ],
      "metadata": {
        "colab": {
          "base_uri": "https://localhost:8080/"
        },
        "id": "qiRvlH_7j9ca",
        "outputId": "3bcf1141-6aae-4e47-b5ba-122a30d5c3a6"
      },
      "execution_count": null,
      "outputs": [
        {
          "output_type": "execute_result",
          "data": {
            "text/plain": [
              "19"
            ]
          },
          "metadata": {},
          "execution_count": 17
        }
      ]
    },
    {
      "cell_type": "code",
      "source": [
        "r1.width = 100"
      ],
      "metadata": {
        "id": "pXdxH1fUj_F4"
      },
      "execution_count": null,
      "outputs": []
    },
    {
      "cell_type": "code",
      "source": [
        "r1.width, r2.width"
      ],
      "metadata": {
        "colab": {
          "base_uri": "https://localhost:8080/"
        },
        "id": "OFgP9zSLkJfh",
        "outputId": "1cecdcff-5168-4ce5-a79e-35a86242b5f3"
      },
      "execution_count": null,
      "outputs": [
        {
          "output_type": "execute_result",
          "data": {
            "text/plain": [
              "(100, 0)"
            ]
          },
          "metadata": {},
          "execution_count": 20
        }
      ]
    },
    {
      "cell_type": "markdown",
      "source": [
        "# 메소드"
      ],
      "metadata": {
        "id": "vcKoIZmQkRb2"
      }
    },
    {
      "cell_type": "code",
      "source": [
        "class Rectangle:\n",
        "  def __init__(self):\n",
        "    print('Rectangle() 생성자 호출')\n",
        "    # 객체변수들 (속성)\n",
        "    self.width = 0\n",
        "    self.height = 0\n",
        "\n",
        "  # 사각형의 넓이 구하기\n",
        "  def get_area(self):\n",
        "    return self.width * self.height\n",
        "\n",
        "  # 사각형의 둘레 구하기\n",
        "  def get_perimeter(self):\n",
        "    return (self.width + self.height) * 2"
      ],
      "metadata": {
        "id": "e4uoeJ2qkVBY"
      },
      "execution_count": null,
      "outputs": []
    },
    {
      "cell_type": "code",
      "source": [
        "r1 = Rectangle()\n",
        "r2 = Rectangle()\n",
        "\n",
        "r1.height, r1.width = 10, 20"
      ],
      "metadata": {
        "colab": {
          "base_uri": "https://localhost:8080/"
        },
        "id": "Clf2rEvNk4eQ",
        "outputId": "2f526ed0-1133-4591-b092-c1191b9ceebd"
      },
      "execution_count": null,
      "outputs": [
        {
          "output_type": "stream",
          "name": "stdout",
          "text": [
            "Rectangle() 생성자 호출\n",
            "Rectangle() 생성자 호출\n"
          ]
        }
      ]
    },
    {
      "cell_type": "code",
      "source": [
        "r1.get_area()"
      ],
      "metadata": {
        "colab": {
          "base_uri": "https://localhost:8080/"
        },
        "id": "J3-hhGm5lGyh",
        "outputId": "a6eda5a6-cc20-4e96-bc67-8a8bdd7d32a9"
      },
      "execution_count": null,
      "outputs": [
        {
          "output_type": "execute_result",
          "data": {
            "text/plain": [
              "200"
            ]
          },
          "metadata": {},
          "execution_count": 25
        }
      ]
    },
    {
      "cell_type": "code",
      "source": [
        "r1.get_perimeter()"
      ],
      "metadata": {
        "colab": {
          "base_uri": "https://localhost:8080/"
        },
        "id": "gCn3nXdXlLeJ",
        "outputId": "cfa3735f-35c1-4d16-af18-6624e1ef06f9"
      },
      "execution_count": null,
      "outputs": [
        {
          "output_type": "execute_result",
          "data": {
            "text/plain": [
              "60"
            ]
          },
          "metadata": {},
          "execution_count": 26
        }
      ]
    },
    {
      "cell_type": "code",
      "source": [
        "r2.get_area()"
      ],
      "metadata": {
        "colab": {
          "base_uri": "https://localhost:8080/"
        },
        "id": "2RCucwIMlQiw",
        "outputId": "c6002acc-80c7-4c76-a2b7-d4a89b109abf"
      },
      "execution_count": null,
      "outputs": [
        {
          "output_type": "execute_result",
          "data": {
            "text/plain": [
              "0"
            ]
          },
          "metadata": {},
          "execution_count": 27
        }
      ]
    },
    {
      "cell_type": "markdown",
      "source": [
        "## 첫번째 매개변수 self"
      ],
      "metadata": {
        "id": "_JRXTuamlbMP"
      }
    },
    {
      "cell_type": "code",
      "source": [
        "r3 = Rectangle()\n",
        "r3.width, r3.height = 10, 20"
      ],
      "metadata": {
        "colab": {
          "base_uri": "https://localhost:8080/"
        },
        "id": "ujQzDMrLldxn",
        "outputId": "eda6b337-0e07-497a-8d4e-7175f8d3894a"
      },
      "execution_count": null,
      "outputs": [
        {
          "output_type": "stream",
          "name": "stdout",
          "text": [
            "Rectangle() 생성자 호출\n"
          ]
        }
      ]
    },
    {
      "cell_type": "code",
      "source": [
        "r3.get_area()"
      ],
      "metadata": {
        "colab": {
          "base_uri": "https://localhost:8080/"
        },
        "id": "5-rZaRLqlmt4",
        "outputId": "177d3df7-3f5b-4a4d-a157-0d1e5a255a57"
      },
      "execution_count": null,
      "outputs": [
        {
          "output_type": "execute_result",
          "data": {
            "text/plain": [
              "200"
            ]
          },
          "metadata": {},
          "execution_count": 30
        }
      ]
    },
    {
      "cell_type": "code",
      "source": [
        "Rectangle.get_area(r3) # self 값에 r3 가 전달"
      ],
      "metadata": {
        "colab": {
          "base_uri": "https://localhost:8080/"
        },
        "id": "vrsn5gzMlrdB",
        "outputId": "78f4baeb-3377-4ca4-b128-59f09298cd3e"
      },
      "execution_count": null,
      "outputs": [
        {
          "output_type": "execute_result",
          "data": {
            "text/plain": [
              "200"
            ]
          },
          "metadata": {},
          "execution_count": 31
        }
      ]
    },
    {
      "cell_type": "code",
      "source": [
        "Rectangle.get_area(r2) # self 값에 r2 가 전달"
      ],
      "metadata": {
        "colab": {
          "base_uri": "https://localhost:8080/"
        },
        "id": "Qtm4oSD8lv-c",
        "outputId": "f0eac568-7a41-43df-8bb5-7d479dc193e2"
      },
      "execution_count": null,
      "outputs": [
        {
          "output_type": "execute_result",
          "data": {
            "text/plain": [
              "0"
            ]
          },
          "metadata": {},
          "execution_count": 32
        }
      ]
    },
    {
      "cell_type": "markdown",
      "source": [
        "# 생성자 매개변수"
      ],
      "metadata": {
        "id": "qaDLQUp3mXyb"
      }
    },
    {
      "cell_type": "code",
      "source": [
        "class Rectangle:\n",
        "  # def __init__(self, width, height):\n",
        "  def __init__(self, width = 0, height = 0):\n",
        "    print('Rectangle(width, height) 생성자 호출')\n",
        "    # 객체변수들 (속성)\n",
        "    self.width = width\n",
        "    self.height = height\n",
        "\n",
        "  # 사각형의 넓이 구하기\n",
        "  def get_area(self):\n",
        "    return self.width * self.height\n",
        "\n",
        "  # 사각형의 둘레 구하기\n",
        "  def get_perimeter(self):\n",
        "    return (self.width + self.height) * 2"
      ],
      "metadata": {
        "id": "wZGGt01wma-a"
      },
      "execution_count": null,
      "outputs": []
    },
    {
      "cell_type": "code",
      "source": [],
      "metadata": {
        "id": "jhXYQUbWnYf_"
      },
      "execution_count": null,
      "outputs": []
    },
    {
      "cell_type": "code",
      "source": [
        "# r1 = Rectangle()  # 에러\n",
        "r1 = Rectangle(30, 20)\n",
        "\n",
        "r1.get_area()"
      ],
      "metadata": {
        "colab": {
          "base_uri": "https://localhost:8080/"
        },
        "id": "Yv43pNW3morK",
        "outputId": "4cd67eee-c477-4dc3-975b-e0ebf2bcd6eb"
      },
      "execution_count": null,
      "outputs": [
        {
          "output_type": "stream",
          "name": "stdout",
          "text": [
            "Rectangle(width, height) 생성자 호출\n"
          ]
        },
        {
          "output_type": "execute_result",
          "data": {
            "text/plain": [
              "600"
            ]
          },
          "metadata": {},
          "execution_count": 40
        }
      ]
    },
    {
      "cell_type": "code",
      "source": [
        "r1 = Rectangle()\n",
        "r1.get_area()"
      ],
      "metadata": {
        "colab": {
          "base_uri": "https://localhost:8080/"
        },
        "id": "RnrIDytgm4VT",
        "outputId": "d74037ea-42d7-4027-acb3-c8422d1f0507"
      },
      "execution_count": null,
      "outputs": [
        {
          "output_type": "stream",
          "name": "stdout",
          "text": [
            "Rectangle(width, height) 생성자 호출\n"
          ]
        },
        {
          "output_type": "execute_result",
          "data": {
            "text/plain": [
              "0"
            ]
          },
          "metadata": {},
          "execution_count": 43
        }
      ]
    },
    {
      "cell_type": "markdown",
      "source": [
        "# 인스턴스 고유 id"
      ],
      "metadata": {
        "id": "6PPI9_t6nsEC"
      }
    },
    {
      "cell_type": "code",
      "source": [
        "id(r1)"
      ],
      "metadata": {
        "colab": {
          "base_uri": "https://localhost:8080/"
        },
        "id": "bhGYjdP9nwU7",
        "outputId": "e82978bd-f737-4c98-cef2-c72a70644c5e"
      },
      "execution_count": null,
      "outputs": [
        {
          "output_type": "execute_result",
          "data": {
            "text/plain": [
              "134457490436112"
            ]
          },
          "metadata": {},
          "execution_count": 44
        }
      ]
    },
    {
      "cell_type": "code",
      "source": [
        "id(r2)"
      ],
      "metadata": {
        "colab": {
          "base_uri": "https://localhost:8080/"
        },
        "id": "0FfJf2oOnzVO",
        "outputId": "548a870a-7c99-4301-cd5e-f09560b73a7a"
      },
      "execution_count": null,
      "outputs": [
        {
          "output_type": "execute_result",
          "data": {
            "text/plain": [
              "134457488200352"
            ]
          },
          "metadata": {},
          "execution_count": 45
        }
      ]
    },
    {
      "cell_type": "code",
      "source": [
        "id(r3)"
      ],
      "metadata": {
        "colab": {
          "base_uri": "https://localhost:8080/"
        },
        "id": "PYGdojjdn0fV",
        "outputId": "d642c639-0392-46aa-e7ab-40c6c0277fde"
      },
      "execution_count": null,
      "outputs": [
        {
          "output_type": "execute_result",
          "data": {
            "text/plain": [
              "134457488202032"
            ]
          },
          "metadata": {},
          "execution_count": 46
        }
      ]
    },
    {
      "cell_type": "markdown",
      "source": [
        "# dict 속성"
      ],
      "metadata": {
        "id": "kMZT5pLToAVQ"
      }
    },
    {
      "cell_type": "code",
      "source": [
        "r1.__dict__"
      ],
      "metadata": {
        "colab": {
          "base_uri": "https://localhost:8080/"
        },
        "id": "WKulhBJsoCtC",
        "outputId": "cb4fd072-6129-4900-d609-d09502c40a3c"
      },
      "execution_count": null,
      "outputs": [
        {
          "output_type": "execute_result",
          "data": {
            "text/plain": [
              "{'width': 0, 'height': 0}"
            ]
          },
          "metadata": {},
          "execution_count": 47
        }
      ]
    },
    {
      "cell_type": "code",
      "source": [
        "r2.__dict__"
      ],
      "metadata": {
        "colab": {
          "base_uri": "https://localhost:8080/"
        },
        "id": "Gd0ZsBvMoIYu",
        "outputId": "c1ea4cf7-d6f9-4524-c94d-cf763f505fc2"
      },
      "execution_count": null,
      "outputs": [
        {
          "output_type": "execute_result",
          "data": {
            "text/plain": [
              "{'width': 0, 'height': 0}"
            ]
          },
          "metadata": {},
          "execution_count": 48
        }
      ]
    },
    {
      "cell_type": "code",
      "source": [
        "r3.__dict__"
      ],
      "metadata": {
        "colab": {
          "base_uri": "https://localhost:8080/"
        },
        "id": "tm792L1zoMms",
        "outputId": "b6a10537-739b-49da-e728-9aafb74e8bad"
      },
      "execution_count": null,
      "outputs": [
        {
          "output_type": "execute_result",
          "data": {
            "text/plain": [
              "{'width': 10, 'height': 20}"
            ]
          },
          "metadata": {},
          "execution_count": 49
        }
      ]
    },
    {
      "cell_type": "code",
      "source": [
        "r1.area = '찜무'"
      ],
      "metadata": {
        "id": "UMUThWAzoOC0"
      },
      "execution_count": null,
      "outputs": []
    },
    {
      "cell_type": "code",
      "source": [
        "r1.__dict__"
      ],
      "metadata": {
        "colab": {
          "base_uri": "https://localhost:8080/"
        },
        "id": "hMERsNiGn1g7",
        "outputId": "456c6b6d-07ac-44fe-8eef-0e481d859b54"
      },
      "execution_count": null,
      "outputs": [
        {
          "output_type": "execute_result",
          "data": {
            "text/plain": [
              "{'width': 0, 'height': 0, 'area': '찜무'}"
            ]
          },
          "metadata": {},
          "execution_count": 51
        }
      ]
    },
    {
      "cell_type": "code",
      "source": [
        "Rectangle.__dict__"
      ],
      "metadata": {
        "colab": {
          "base_uri": "https://localhost:8080/"
        },
        "id": "TDGVqYUxnuor",
        "outputId": "55d04b0f-dc98-45c2-960f-8039405fcafc"
      },
      "execution_count": null,
      "outputs": [
        {
          "output_type": "execute_result",
          "data": {
            "text/plain": [
              "mappingproxy({'__module__': '__main__',\n",
              "              '__init__': <function __main__.Rectangle.__init__(self, width=0, height=0)>,\n",
              "              'get_area': <function __main__.Rectangle.get_area(self)>,\n",
              "              'get_perimeter': <function __main__.Rectangle.get_perimeter(self)>,\n",
              "              '__dict__': <attribute '__dict__' of 'Rectangle' objects>,\n",
              "              '__weakref__': <attribute '__weakref__' of 'Rectangle' objects>,\n",
              "              '__doc__': None,\n",
              "              '__annotations__': {}})"
            ]
          },
          "metadata": {},
          "execution_count": 52
        }
      ]
    },
    {
      "cell_type": "code",
      "source": [
        "# 속성, 메소드 는 추가, 삭제 가능"
      ],
      "metadata": {
        "id": "0zbdBQ-aoiDw"
      },
      "execution_count": null,
      "outputs": []
    },
    {
      "cell_type": "code",
      "source": [
        "r2.__dict__"
      ],
      "metadata": {
        "colab": {
          "base_uri": "https://localhost:8080/"
        },
        "id": "-4wT9WJWnXU7",
        "outputId": "6e8e2242-4dca-4853-f329-f58033c382ce"
      },
      "execution_count": null,
      "outputs": [
        {
          "output_type": "execute_result",
          "data": {
            "text/plain": [
              "{'width': 0, 'height': 0}"
            ]
          },
          "metadata": {},
          "execution_count": 54
        }
      ]
    },
    {
      "cell_type": "code",
      "source": [
        "del(r2.height)"
      ],
      "metadata": {
        "id": "MAj-PXHGmsHy"
      },
      "execution_count": null,
      "outputs": []
    },
    {
      "cell_type": "code",
      "source": [
        "r2.__dict__"
      ],
      "metadata": {
        "colab": {
          "base_uri": "https://localhost:8080/"
        },
        "id": "BVGy1usXmZx3",
        "outputId": "7f69ab51-01c2-4cb5-8785-dc1c34e35a08"
      },
      "execution_count": null,
      "outputs": [
        {
          "output_type": "execute_result",
          "data": {
            "text/plain": [
              "{'width': 0}"
            ]
          },
          "metadata": {},
          "execution_count": 56
        }
      ]
    },
    {
      "cell_type": "code",
      "source": [
        "# r2.get_area()  #  에러 ! 더 이상 r2 에는 height 속성이 없따!"
      ],
      "metadata": {
        "id": "ls_nvE6imHGJ"
      },
      "execution_count": null,
      "outputs": []
    },
    {
      "cell_type": "markdown",
      "source": [
        "# 클래스 메소드, 인스턴스 메소드\n",
        "# 클래스 변수, 인스턴스 변수"
      ],
      "metadata": {
        "id": "fsIoUYtH61u2"
      }
    },
    {
      "cell_type": "code",
      "source": [
        "class Foo:\n",
        "  # 클래스 메소드 (class method)\n",
        "  # self 가 안붙은 메소드, '클래스 이름' 으로 사용\n",
        "  def func1():\n",
        "    print('function1')\n",
        "\n",
        "  # 인스턴스 메소드 (instance method)\n",
        "  # self 가 붙은 메소드 ,  '인스턴스 생성' 하여 사용\n",
        "  def func2(self):\n",
        "    print('function2')"
      ],
      "metadata": {
        "id": "o78Jp_HM68r9"
      },
      "execution_count": null,
      "outputs": []
    },
    {
      "cell_type": "code",
      "source": [
        "f1 = Foo()\n",
        "\n",
        "# f1.func1()  # 에러   Foo.func1(f1)\n",
        "f1.func2()  # 인스턴스를 사용하여 호출\n",
        "\n",
        "Foo.func1()  # 클래스 이름으로 호출."
      ],
      "metadata": {
        "colab": {
          "base_uri": "https://localhost:8080/"
        },
        "id": "0meUX8ZX7bvm",
        "outputId": "8c712b06-7503-4636-da78-3cd65101ec67"
      },
      "execution_count": null,
      "outputs": [
        {
          "output_type": "stream",
          "name": "stdout",
          "text": [
            "function2\n",
            "function1\n"
          ]
        }
      ]
    },
    {
      "cell_type": "code",
      "source": [
        "# self.변수이름  : <-- 인스턴스 변수\n",
        "#       인스턴스 변수는 '인스턴스 마다' 생성        --> 인스턴스 네임스페이스에 생성\n",
        "# 클래스 내부에서 선언된변수 <-- 클래스 변수  (self 가 안 붙음)\n",
        "#        사용하려면 클래스이름.변수이름  으로 사용해야 함\n",
        "#        클래스 변수는 '클래스에 딱 하나' 생성  --> 클래스 네임스페이스에 생성"
      ],
      "metadata": {
        "id": "KPuNTwQ08EeG"
      },
      "execution_count": null,
      "outputs": []
    },
    {
      "cell_type": "code",
      "source": [
        "class Account:\n",
        "  num_accounts = 0  # 클래스 변수\n",
        "\n",
        "  def __init__(self, name):\n",
        "    print(f'Account({name}) 생성')\n",
        "    self.name = name   # 인스턴스 변수\n",
        "    Account.num_accounts += 1\n",
        "\n"
      ],
      "metadata": {
        "id": "C4IgKT_x77R3"
      },
      "execution_count": null,
      "outputs": []
    },
    {
      "cell_type": "code",
      "source": [
        "Account.num_accounts"
      ],
      "metadata": {
        "colab": {
          "base_uri": "https://localhost:8080/"
        },
        "id": "9IakbR149rfo",
        "outputId": "756becc8-fef1-43d8-ed33-e392d99d751b"
      },
      "execution_count": null,
      "outputs": [
        {
          "output_type": "execute_result",
          "data": {
            "text/plain": [
              "0"
            ]
          },
          "metadata": {},
          "execution_count": 64
        }
      ]
    },
    {
      "cell_type": "code",
      "source": [
        "acc1 = Account('회사')"
      ],
      "metadata": {
        "colab": {
          "base_uri": "https://localhost:8080/"
        },
        "id": "EYmW5Z759wFl",
        "outputId": "50707026-67e7-4c64-b10a-56bda0a0550a"
      },
      "execution_count": null,
      "outputs": [
        {
          "output_type": "stream",
          "name": "stdout",
          "text": [
            "Account(회사) 생성\n"
          ]
        }
      ]
    },
    {
      "cell_type": "code",
      "source": [
        "# 인스턴스 변수 이름으로도 클래스 변수 사용은 가능하나.. (가급적 이렇겐 살지 말자.)\n",
        "Account.num_accounts, acc1.num_accounts"
      ],
      "metadata": {
        "colab": {
          "base_uri": "https://localhost:8080/"
        },
        "id": "2goDOQh592ke",
        "outputId": "3e74e4eb-7e72-4bf3-a3a1-375cc66e4c49"
      },
      "execution_count": null,
      "outputs": [
        {
          "output_type": "execute_result",
          "data": {
            "text/plain": [
              "(1, 1)"
            ]
          },
          "metadata": {},
          "execution_count": 67
        }
      ]
    },
    {
      "cell_type": "code",
      "source": [
        "acc2 = Account('최짐무')"
      ],
      "metadata": {
        "colab": {
          "base_uri": "https://localhost:8080/"
        },
        "id": "Yu0cj5n3-EG4",
        "outputId": "42c34f46-bda7-42fb-bcf2-c5480a6d5b7e"
      },
      "execution_count": null,
      "outputs": [
        {
          "output_type": "stream",
          "name": "stdout",
          "text": [
            "Account(최짐무) 생성\n"
          ]
        }
      ]
    },
    {
      "cell_type": "code",
      "source": [
        "Account.num_accounts"
      ],
      "metadata": {
        "colab": {
          "base_uri": "https://localhost:8080/"
        },
        "id": "gE5PbhEk-dUH",
        "outputId": "2ec21910-b8dd-4e0f-fd17-a60e434b6b75"
      },
      "execution_count": null,
      "outputs": [
        {
          "output_type": "execute_result",
          "data": {
            "text/plain": [
              "2"
            ]
          },
          "metadata": {},
          "execution_count": 69
        }
      ]
    },
    {
      "cell_type": "code",
      "source": [
        "acc1.name, acc2.name"
      ],
      "metadata": {
        "colab": {
          "base_uri": "https://localhost:8080/"
        },
        "id": "2VhN3Aiy99TR",
        "outputId": "b1e21b66-1db4-4e84-bafa-7b79f19d1214"
      },
      "execution_count": null,
      "outputs": [
        {
          "output_type": "execute_result",
          "data": {
            "text/plain": [
              "('회사', '최짐무')"
            ]
          },
          "metadata": {},
          "execution_count": 70
        }
      ]
    },
    {
      "cell_type": "code",
      "source": [
        "acc1.__dict__"
      ],
      "metadata": {
        "colab": {
          "base_uri": "https://localhost:8080/"
        },
        "id": "bFuxUoXW7nmD",
        "outputId": "dbf65422-2eaf-4b28-a71a-306e824e1657"
      },
      "execution_count": null,
      "outputs": [
        {
          "output_type": "execute_result",
          "data": {
            "text/plain": [
              "{'name': '회사'}"
            ]
          },
          "metadata": {},
          "execution_count": 71
        }
      ]
    },
    {
      "cell_type": "code",
      "source": [
        "acc2.__dict__"
      ],
      "metadata": {
        "colab": {
          "base_uri": "https://localhost:8080/"
        },
        "id": "m_81Mj7h67Bt",
        "outputId": "0fa1757f-a0db-4fcf-b580-ec8219835dfb"
      },
      "execution_count": null,
      "outputs": [
        {
          "output_type": "execute_result",
          "data": {
            "text/plain": [
              "{'name': '최짐무'}"
            ]
          },
          "metadata": {},
          "execution_count": 72
        }
      ]
    },
    {
      "cell_type": "code",
      "source": [
        "Account.__dict__"
      ],
      "metadata": {
        "colab": {
          "base_uri": "https://localhost:8080/"
        },
        "id": "EehNrc_slqB_",
        "outputId": "22ed5040-cbc0-4390-d9cb-8d542cd78d47"
      },
      "execution_count": null,
      "outputs": [
        {
          "output_type": "execute_result",
          "data": {
            "text/plain": [
              "mappingproxy({'__module__': '__main__',\n",
              "              'num_accounts': 2,\n",
              "              '__init__': <function __main__.Account.__init__(self, name)>,\n",
              "              '__dict__': <attribute '__dict__' of 'Account' objects>,\n",
              "              '__weakref__': <attribute '__weakref__' of 'Account' objects>,\n",
              "              '__doc__': None,\n",
              "              '__annotations__': {}})"
            ]
          },
          "metadata": {},
          "execution_count": 73
        }
      ]
    },
    {
      "cell_type": "code",
      "source": [
        "# 주의!\n",
        "\n",
        "class Foo:\n",
        "  num_instance = 0\n",
        "\n",
        "  def __init__(self):\n",
        "    self.num_instance += 1  # self.num_instance = self.num_instance + 1\n"
      ],
      "metadata": {
        "id": "OcUou-YOlUrM"
      },
      "execution_count": null,
      "outputs": []
    },
    {
      "cell_type": "code",
      "source": [
        "Foo.num_instance"
      ],
      "metadata": {
        "colab": {
          "base_uri": "https://localhost:8080/"
        },
        "id": "Cs_3AS1plJ49",
        "outputId": "61870d86-037d-442d-8694-f3511b4fc931"
      },
      "execution_count": null,
      "outputs": [
        {
          "output_type": "execute_result",
          "data": {
            "text/plain": [
              "0"
            ]
          },
          "metadata": {},
          "execution_count": 75
        }
      ]
    },
    {
      "cell_type": "code",
      "source": [
        "obj1 = Foo()"
      ],
      "metadata": {
        "id": "E9mc--xek-aM"
      },
      "execution_count": null,
      "outputs": []
    },
    {
      "cell_type": "code",
      "source": [
        "obj1.num_instance"
      ],
      "metadata": {
        "colab": {
          "base_uri": "https://localhost:8080/"
        },
        "id": "-2MS2VoOkTy5",
        "outputId": "e602ac3e-8ab3-4696-dbff-310a115ec9a1"
      },
      "execution_count": null,
      "outputs": [
        {
          "output_type": "execute_result",
          "data": {
            "text/plain": [
              "1"
            ]
          },
          "metadata": {},
          "execution_count": 77
        }
      ]
    },
    {
      "cell_type": "code",
      "source": [
        "Foo.num_instance"
      ],
      "metadata": {
        "colab": {
          "base_uri": "https://localhost:8080/"
        },
        "id": "lyWQzJ2HkS4U",
        "outputId": "a01585c5-cf49-433c-b4d1-298180b4f8bf"
      },
      "execution_count": null,
      "outputs": [
        {
          "output_type": "execute_result",
          "data": {
            "text/plain": [
              "0"
            ]
          },
          "metadata": {},
          "execution_count": 78
        }
      ]
    },
    {
      "cell_type": "code",
      "source": [
        "obj1.__dict__"
      ],
      "metadata": {
        "colab": {
          "base_uri": "https://localhost:8080/"
        },
        "id": "_yRaht70kLY-",
        "outputId": "3eb3aea0-b3e4-4118-e731-469d61ba87d4"
      },
      "execution_count": null,
      "outputs": [
        {
          "output_type": "execute_result",
          "data": {
            "text/plain": [
              "{'num_instance': 1}"
            ]
          },
          "metadata": {},
          "execution_count": 79
        }
      ]
    },
    {
      "cell_type": "code",
      "source": [
        "Foo.__dict__"
      ],
      "metadata": {
        "colab": {
          "base_uri": "https://localhost:8080/"
        },
        "id": "fizz3cctkAjO",
        "outputId": "1eb352c3-581d-4f0a-916f-62ffe028181b"
      },
      "execution_count": null,
      "outputs": [
        {
          "output_type": "execute_result",
          "data": {
            "text/plain": [
              "mappingproxy({'__module__': '__main__',\n",
              "              'num_instance': 0,\n",
              "              '__init__': <function __main__.Foo.__init__(self)>,\n",
              "              '__dict__': <attribute '__dict__' of 'Foo' objects>,\n",
              "              '__weakref__': <attribute '__weakref__' of 'Foo' objects>,\n",
              "              '__doc__': None})"
            ]
          },
          "metadata": {},
          "execution_count": 80
        }
      ]
    },
    {
      "cell_type": "code",
      "source": [
        "\"\"\"\n",
        "    def __init__(self):\n",
        "        self.num_instance += 1    # <-- 이 과정이 어떻게 일어나나?\n",
        "        #  self.num_instance = self.num_instance + 1\n",
        "                                ↑ ①최초에는 클래스 네임스페이스 num_instance\n",
        "\n",
        "            ↑ ② 인스턴스 변수 num_instance  생성\n",
        "\"\"\"\n",
        "None"
      ],
      "metadata": {
        "id": "zOvruEO-j5jm"
      },
      "execution_count": null,
      "outputs": []
    },
    {
      "cell_type": "code",
      "source": [
        "class MyClass:\n",
        "  count = 0\n",
        "\n",
        "  def __init__(self, num):\n",
        "    self.num = num\n",
        "\n",
        "  def disp(self):\n",
        "    print(MyClass.count, self.num)"
      ],
      "metadata": {
        "id": "zPZbb5Z5jnWu"
      },
      "execution_count": null,
      "outputs": []
    },
    {
      "cell_type": "code",
      "source": [
        "MyClass.__dict__"
      ],
      "metadata": {
        "colab": {
          "base_uri": "https://localhost:8080/"
        },
        "id": "MHWaqAvOBNWQ",
        "outputId": "7f292c5f-e0fd-43a8-e975-5bd7985ee9ec"
      },
      "execution_count": null,
      "outputs": [
        {
          "output_type": "execute_result",
          "data": {
            "text/plain": [
              "mappingproxy({'__module__': '__main__',\n",
              "              'count': 0,\n",
              "              '__init__': <function __main__.MyClass.__init__(self, num)>,\n",
              "              'disp': <function __main__.MyClass.disp(self)>,\n",
              "              '__dict__': <attribute '__dict__' of 'MyClass' objects>,\n",
              "              '__weakref__': <attribute '__weakref__' of 'MyClass' objects>,\n",
              "              '__doc__': None})"
            ]
          },
          "metadata": {},
          "execution_count": 82
        }
      ]
    },
    {
      "cell_type": "code",
      "source": [
        "m1 = MyClass(10)"
      ],
      "metadata": {
        "id": "Lr6zMKLbBNSO"
      },
      "execution_count": null,
      "outputs": []
    },
    {
      "cell_type": "code",
      "source": [
        "m1.__dict__"
      ],
      "metadata": {
        "colab": {
          "base_uri": "https://localhost:8080/"
        },
        "id": "CfophVXMBNOh",
        "outputId": "4ab58ba4-9b63-4002-9214-8335363aaf94"
      },
      "execution_count": null,
      "outputs": [
        {
          "output_type": "execute_result",
          "data": {
            "text/plain": [
              "{'num': 10}"
            ]
          },
          "metadata": {},
          "execution_count": 84
        }
      ]
    },
    {
      "cell_type": "code",
      "source": [
        "m1.disp()"
      ],
      "metadata": {
        "colab": {
          "base_uri": "https://localhost:8080/"
        },
        "id": "h0VARAVnBNLL",
        "outputId": "7e16273a-fa6f-4a3f-b550-e83722ecd4a8"
      },
      "execution_count": null,
      "outputs": [
        {
          "output_type": "stream",
          "name": "stdout",
          "text": [
            "0 10\n"
          ]
        }
      ]
    },
    {
      "cell_type": "code",
      "source": [
        "# 클래스 변수도 정의 이후에 추가/삭제 가능"
      ],
      "metadata": {
        "id": "xmYjqO21BNHP"
      },
      "execution_count": null,
      "outputs": []
    },
    {
      "cell_type": "code",
      "source": [
        "MyClass.addr = \"진무네 집\""
      ],
      "metadata": {
        "id": "ol06Npr8jQ6a"
      },
      "execution_count": null,
      "outputs": []
    },
    {
      "cell_type": "code",
      "source": [
        "MyClass.__dict__"
      ],
      "metadata": {
        "colab": {
          "base_uri": "https://localhost:8080/"
        },
        "id": "2Wg7GeFXjM8g",
        "outputId": "1f557148-2b12-483c-fd91-61de64861e5c"
      },
      "execution_count": null,
      "outputs": [
        {
          "output_type": "execute_result",
          "data": {
            "text/plain": [
              "mappingproxy({'__module__': '__main__',\n",
              "              'count': 0,\n",
              "              '__init__': <function __main__.MyClass.__init__(self, num)>,\n",
              "              'disp': <function __main__.MyClass.disp(self)>,\n",
              "              '__dict__': <attribute '__dict__' of 'MyClass' objects>,\n",
              "              '__weakref__': <attribute '__weakref__' of 'MyClass' objects>,\n",
              "              '__doc__': None,\n",
              "              'addr': '진무네 집'})"
            ]
          },
          "metadata": {},
          "execution_count": 88
        }
      ]
    },
    {
      "cell_type": "code",
      "source": [
        "del MyClass.count"
      ],
      "metadata": {
        "id": "mCS9JR0ei7Qu"
      },
      "execution_count": null,
      "outputs": []
    },
    {
      "cell_type": "code",
      "source": [
        "MyClass.__dict__"
      ],
      "metadata": {
        "colab": {
          "base_uri": "https://localhost:8080/"
        },
        "id": "Fi0arJiJiafu",
        "outputId": "8fac077b-32bd-4a3b-866e-ebf1638c0127"
      },
      "execution_count": null,
      "outputs": [
        {
          "output_type": "execute_result",
          "data": {
            "text/plain": [
              "mappingproxy({'__module__': '__main__',\n",
              "              '__init__': <function __main__.MyClass.__init__(self, num)>,\n",
              "              'disp': <function __main__.MyClass.disp(self)>,\n",
              "              '__dict__': <attribute '__dict__' of 'MyClass' objects>,\n",
              "              '__weakref__': <attribute '__weakref__' of 'MyClass' objects>,\n",
              "              '__doc__': None,\n",
              "              'addr': '진무네 집',\n",
              "              '__annotations__': {}})"
            ]
          },
          "metadata": {},
          "execution_count": 90
        }
      ]
    },
    {
      "cell_type": "code",
      "source": [
        "# m1.disp()  # 에러    더이상 MyClass.count 는 없기에!"
      ],
      "metadata": {
        "colab": {
          "base_uri": "https://localhost:8080/",
          "height": 269
        },
        "id": "dEU41Ko2h3KR",
        "outputId": "41d17773-303a-4514-815e-79fabc61c6c9"
      },
      "execution_count": null,
      "outputs": [
        {
          "output_type": "error",
          "ename": "AttributeError",
          "evalue": "type object 'MyClass' has no attribute 'count'",
          "traceback": [
            "\u001b[0;31m---------------------------------------------------------------------------\u001b[0m",
            "\u001b[0;31mAttributeError\u001b[0m                            Traceback (most recent call last)",
            "\u001b[0;32m<ipython-input-91-af58db2ce338>\u001b[0m in \u001b[0;36m<cell line: 1>\u001b[0;34m()\u001b[0m\n\u001b[0;32m----> 1\u001b[0;31m \u001b[0mm1\u001b[0m\u001b[0;34m.\u001b[0m\u001b[0mdisp\u001b[0m\u001b[0;34m(\u001b[0m\u001b[0;34m)\u001b[0m\u001b[0;34m\u001b[0m\u001b[0;34m\u001b[0m\u001b[0m\n\u001b[0m",
            "\u001b[0;32m<ipython-input-81-1f460a288cc8>\u001b[0m in \u001b[0;36mdisp\u001b[0;34m(self)\u001b[0m\n\u001b[1;32m      6\u001b[0m \u001b[0;34m\u001b[0m\u001b[0m\n\u001b[1;32m      7\u001b[0m   \u001b[0;32mdef\u001b[0m \u001b[0mdisp\u001b[0m\u001b[0;34m(\u001b[0m\u001b[0mself\u001b[0m\u001b[0;34m)\u001b[0m\u001b[0;34m:\u001b[0m\u001b[0;34m\u001b[0m\u001b[0;34m\u001b[0m\u001b[0m\n\u001b[0;32m----> 8\u001b[0;31m     \u001b[0mprint\u001b[0m\u001b[0;34m(\u001b[0m\u001b[0mMyClass\u001b[0m\u001b[0;34m.\u001b[0m\u001b[0mcount\u001b[0m\u001b[0;34m,\u001b[0m \u001b[0mself\u001b[0m\u001b[0;34m.\u001b[0m\u001b[0mnum\u001b[0m\u001b[0;34m)\u001b[0m\u001b[0;34m\u001b[0m\u001b[0;34m\u001b[0m\u001b[0m\n\u001b[0m",
            "\u001b[0;31mAttributeError\u001b[0m: type object 'MyClass' has no attribute 'count'"
          ]
        }
      ]
    },
    {
      "cell_type": "markdown",
      "source": [],
      "metadata": {
        "id": "qfctFS8CCi1V"
      }
    },
    {
      "cell_type": "markdown",
      "source": [
        "# 클래스의 상속"
      ],
      "metadata": {
        "id": "IrJ9TXTJCsb3"
      }
    },
    {
      "cell_type": "code",
      "source": [
        "# 기존의 클래스 상속하여 새로운 클래스 정의하는 구문\n",
        "#    class 새클래스명(기존의 클래스명)\n",
        "#    class 새클래스명(기존클래스1, 기존클래스2, ...)  <-- 다중상속 허용"
      ],
      "metadata": {
        "id": "e5WgPjtHhdJ3"
      },
      "execution_count": null,
      "outputs": []
    },
    {
      "cell_type": "code",
      "source": [
        "# 2차원 원 Circle\n",
        "#  └─ 3차원 구 (球,Sphere)\n",
        "\n",
        "#  1. '원' 객체 정의\n",
        "#  클래스 이름 : Circle\n",
        "#  생성자 : '반지름(radius)'를 받아서 초기화\n",
        "#  getArea() : 면적을 계산하여 리턴하는 메소드\n",
        "#  getPerimeter() : 둘레을 계산하여 리턴하는 메소드\n",
        "\n",
        "# 2. '구' 객체 정의 <-- Circle 상속받아 정의\n",
        "#  클래스 이름 : Cube\n",
        "#  getArea() : 정육면체의 총 면적\n",
        "#  getVolume() : 정육면체의 부피 계산"
      ],
      "metadata": {
        "id": "F9FAQIyQhdGV"
      },
      "execution_count": null,
      "outputs": []
    },
    {
      "cell_type": "code",
      "source": [
        "import math"
      ],
      "metadata": {
        "id": "3_4ciOmChauX"
      },
      "execution_count": null,
      "outputs": []
    },
    {
      "cell_type": "code",
      "source": [
        "# 2차원 원 Circle 정의\n",
        "class Circle:\n",
        "  def __init__(self, radius = 0):\n",
        "    self.radius = radius\n",
        "\n",
        "  def getArea(self): # 면적\n",
        "    return math.pi * self.radius ** 2\n",
        "\n",
        "  def getPerimeter(self): # 둘레\n",
        "    return 2 * math.pi * self.radius"
      ],
      "metadata": {
        "id": "o4UjqiQwhYW3"
      },
      "execution_count": null,
      "outputs": []
    },
    {
      "cell_type": "code",
      "source": [
        "c1 = Circle(10)\n",
        "\n",
        "c1.getArea(), c1.getPerimeter()"
      ],
      "metadata": {
        "colab": {
          "base_uri": "https://localhost:8080/"
        },
        "id": "mPuKMJuEERJG",
        "outputId": "30c2ea47-2ea9-402d-dc9b-3d2e4f90f7d9"
      },
      "execution_count": null,
      "outputs": [
        {
          "output_type": "execute_result",
          "data": {
            "text/plain": [
              "(314.1592653589793, 62.83185307179586)"
            ]
          },
          "metadata": {},
          "execution_count": 95
        }
      ]
    },
    {
      "cell_type": "code",
      "source": [
        "# Circle 을 상속받아 Sphere 객체 만들기\n",
        "\n",
        "class Sphere(Circle):\n",
        "  pass\n",
        "\n",
        "s1 = Sphere()\n",
        "s1.radius = 10\n",
        "\n",
        "s1.getArea(), s1.getPerimeter()"
      ],
      "metadata": {
        "colab": {
          "base_uri": "https://localhost:8080/"
        },
        "id": "R7cAJR7LERCS",
        "outputId": "1fc9d31d-5de4-4a7e-ab13-ab419b215516"
      },
      "execution_count": null,
      "outputs": [
        {
          "output_type": "execute_result",
          "data": {
            "text/plain": [
              "(314.1592653589793, 62.83185307179586)"
            ]
          },
          "metadata": {},
          "execution_count": 96
        }
      ]
    },
    {
      "cell_type": "code",
      "source": [
        "Circle.__dict__"
      ],
      "metadata": {
        "colab": {
          "base_uri": "https://localhost:8080/"
        },
        "id": "gXLZAn9EEQ7n",
        "outputId": "600103a0-2f02-45e1-8c82-29c7ec0c06b4"
      },
      "execution_count": null,
      "outputs": [
        {
          "output_type": "execute_result",
          "data": {
            "text/plain": [
              "mappingproxy({'__module__': '__main__',\n",
              "              '__init__': <function __main__.Circle.__init__(self, radius=0)>,\n",
              "              'getArea': <function __main__.Circle.getArea(self)>,\n",
              "              'getPerimeter': <function __main__.Circle.getPerimeter(self)>,\n",
              "              '__dict__': <attribute '__dict__' of 'Circle' objects>,\n",
              "              '__weakref__': <attribute '__weakref__' of 'Circle' objects>,\n",
              "              '__doc__': None,\n",
              "              '__annotations__': {}})"
            ]
          },
          "metadata": {},
          "execution_count": 97
        }
      ]
    },
    {
      "cell_type": "code",
      "source": [
        "Sphere.__dict__"
      ],
      "metadata": {
        "colab": {
          "base_uri": "https://localhost:8080/"
        },
        "id": "OYcbREYshYUf",
        "outputId": "53006f68-8c1d-4322-b704-270106b860ad"
      },
      "execution_count": null,
      "outputs": [
        {
          "output_type": "execute_result",
          "data": {
            "text/plain": [
              "mappingproxy({'__module__': '__main__',\n",
              "              '__doc__': None,\n",
              "              '__annotations__': {}})"
            ]
          },
          "metadata": {},
          "execution_count": 98
        }
      ]
    },
    {
      "cell_type": "code",
      "source": [
        "class Sphere(Circle):\n",
        "  def getArea(self):  # 메소드 오버라이딩\n",
        "    return 4 * math.pi * self.radius ** 2\n",
        "\n",
        "  def getVolume(self):  # 자식 클래스에서 추가되는 메소드\n",
        "    return (4 / 3) * math.pi * self.radius ** 3\n"
      ],
      "metadata": {
        "id": "Cu2jsTAchYO_"
      },
      "execution_count": null,
      "outputs": []
    },
    {
      "cell_type": "code",
      "source": [
        "s3 = Sphere(4)"
      ],
      "metadata": {
        "id": "Y6jFSlU3hYMP"
      },
      "execution_count": null,
      "outputs": []
    },
    {
      "cell_type": "code",
      "source": [
        "s3.getArea(), s3.getVolume()"
      ],
      "metadata": {
        "colab": {
          "base_uri": "https://localhost:8080/"
        },
        "id": "K3kLBghGKXPR",
        "outputId": "dcf1efcc-076a-4a79-f2d1-233bcafb246f"
      },
      "execution_count": null,
      "outputs": [
        {
          "output_type": "execute_result",
          "data": {
            "text/plain": [
              "(201.06192982974676, 268.082573106329)"
            ]
          },
          "metadata": {},
          "execution_count": 101
        }
      ]
    },
    {
      "cell_type": "code",
      "source": [
        "Circle.__dict__"
      ],
      "metadata": {
        "colab": {
          "base_uri": "https://localhost:8080/"
        },
        "id": "bCifgL2_KXLX",
        "outputId": "f9540746-c784-47f2-af3b-1bb7d7ef61b6"
      },
      "execution_count": null,
      "outputs": [
        {
          "output_type": "execute_result",
          "data": {
            "text/plain": [
              "mappingproxy({'__module__': '__main__',\n",
              "              '__init__': <function __main__.Circle.__init__(self, radius=0)>,\n",
              "              'getArea': <function __main__.Circle.getArea(self)>,\n",
              "              'getPerimeter': <function __main__.Circle.getPerimeter(self)>,\n",
              "              '__dict__': <attribute '__dict__' of 'Circle' objects>,\n",
              "              '__weakref__': <attribute '__weakref__' of 'Circle' objects>,\n",
              "              '__doc__': None,\n",
              "              '__annotations__': {}})"
            ]
          },
          "metadata": {},
          "execution_count": 102
        }
      ]
    },
    {
      "cell_type": "code",
      "source": [
        "Sphere.__dict__"
      ],
      "metadata": {
        "colab": {
          "base_uri": "https://localhost:8080/"
        },
        "id": "9a7yJl01KXHS",
        "outputId": "b8087d21-75e8-4190-8ac2-199596644276"
      },
      "execution_count": null,
      "outputs": [
        {
          "output_type": "execute_result",
          "data": {
            "text/plain": [
              "mappingproxy({'__module__': '__main__',\n",
              "              'getArea': <function __main__.Sphere.getArea(self)>,\n",
              "              'getVolume': <function __main__.Sphere.getVolume(self)>,\n",
              "              '__doc__': None,\n",
              "              '__annotations__': {}})"
            ]
          },
          "metadata": {},
          "execution_count": 103
        }
      ]
    },
    {
      "cell_type": "code",
      "source": [
        "# 부모쪽의 메소드를 호출하려 한다면?\n",
        "\n",
        "print(s3.getArea())  # Sphere 의 getArea()\n",
        "print(Sphere.getArea(s3))\n",
        "print(Circle.getArea(s3))  # 부모쪽 메소드 호출.\n",
        "\n",
        "# super(하위클래스이름, 하위클래스 객체)\n",
        "print(super(Sphere, s3).getArea())  # 부모쪽 메소드 호출"
      ],
      "metadata": {
        "colab": {
          "base_uri": "https://localhost:8080/"
        },
        "id": "xnED-h9TKXCF",
        "outputId": "95cf9073-ee4e-42a0-d825-f7256973baa0"
      },
      "execution_count": null,
      "outputs": [
        {
          "output_type": "stream",
          "name": "stdout",
          "text": [
            "201.06192982974676\n",
            "201.06192982974676\n",
            "50.26548245743669\n",
            "50.26548245743669\n"
          ]
        }
      ]
    },
    {
      "cell_type": "markdown",
      "source": [
        "# 상속과 생성자"
      ],
      "metadata": {
        "id": "7ypMhO_1LyBr"
      }
    },
    {
      "cell_type": "code",
      "source": [
        "class Vehicle:\n",
        "  def __init__(self, speed = 0):\n",
        "    print(f'Vehicle 생성 speed = {speed}')\n",
        "    self.speed = speed\n",
        "\n",
        "class Car(Vehicle):\n",
        "  def __init__(self, oil = 0):\n",
        "    # 파이썬은 부모생성자를 자동으로 호출되지 않나?\n",
        "    super().__init__(20)   # 명시적으로 부모 생성자를 호출해야 한다.!\n",
        "    print(f'Car 생성 oil = {oil}')\n",
        "    self.oil = oil\n",
        "\n",
        "car1 = Car(10)"
      ],
      "metadata": {
        "colab": {
          "base_uri": "https://localhost:8080/"
        },
        "id": "hk0PYlrvL02t",
        "outputId": "36acec07-8c6b-4246-9847-7748d90774c7"
      },
      "execution_count": null,
      "outputs": [
        {
          "output_type": "stream",
          "name": "stdout",
          "text": [
            "Vehicle 생성 speed = 20\n",
            "Car 생성 oil = 10\n"
          ]
        }
      ]
    },
    {
      "cell_type": "markdown",
      "source": [
        "# Magic Method\n",
        "special method 라고도 함"
      ],
      "metadata": {
        "id": "drKtwIlqNeIY"
      }
    },
    {
      "cell_type": "code",
      "source": [
        "# Magic Method 매직 메소드란?\n",
        "# 클래스안에 정의할 수 있는 스페셜 메소드이며 클래스를 int, str, list등의 파이썬의 빌트인 타입(built-in type)과 같은 작동을 하게 해준다.\n",
        "# +, -, >, < 등의 오퍼레이터에 대해서 각각의 데이터 타입에 맞는 메소드로 오버로딩하여 백그라운드에서 연산을 한다.\n",
        "# __init__이나 __str__과 같이 메소드 이름 앞뒤에 더블 언더스코어(\"__\")를 붙인다.\n",
        "\n",
        "# special method 라고도 한다 https://docs.python.org/3/reference/datamodel.html#specialnames\n",
        "\n",
        "\"\"\"\n",
        "\n",
        "연산자     메소드                     설명\n",
        "─────────────────────────\n",
        "         <binary operator>\n",
        "\n",
        " +      __add__(self, other)         덧셈\n",
        " *      __mul__(self, other)         곱셈\n",
        " -      __sub__(self, other)         뺄셈\n",
        " /      __truediv__(self, other)     나눗셈\n",
        " //     __floordiv__(self, other)\n",
        " %       __mod__(self, other)             나머지\n",
        " **      __pow__(self, other[, modulo])\n",
        " >>      __lshift__(self, other)\n",
        " <<      __rshift__(self, other)\n",
        " &       __and__(self, other)\n",
        " ^      __xor__(self, other)\n",
        " |      __or__(self, other)\n",
        "\n",
        "\n",
        "             <Extended operator>\n",
        "+=         __iadd__(self, other)\n",
        "-=         __isub__(self, other)\n",
        "*=         __imul__(self, other)\n",
        "/=         __idiv__(self, other)\n",
        "//=        __ifloordiv__(self, other)\n",
        "%=         __imod__(self, other)\n",
        "**=        __ipow__(self, other)\n",
        "<<=        __ilshift__(self, other)\n",
        ">>=        __irshift__(self, other)\n",
        "&=         __iand__(self, other)\n",
        "^=         __ixor__(self, other)\n",
        "|=         __ior__(self, other)\n",
        "\n",
        "        <unary operators>\n",
        "-\n",
        "+\n",
        "abs()\n",
        "~\n",
        "complex()\n",
        "int()\n",
        "long()\n",
        "float()\n",
        "oct()\n",
        "hex()\n",
        "\n",
        "\n",
        "\n",
        " <       __lt__(self, other)         작다(미만)\n",
        " <=      __le__(self, other)         작거나 같다(이하)\n",
        " ==      __eq__(self, other)         같다\n",
        " !=      __ne__(self, other)         같지 않다\n",
        " >      __gt__(self, other)          크다(초과)\n",
        " >=     __ge__(self, other)          크거나 같다(이상)\n",
        " [index]   __getitem__(self, index)   인덱스 연산자\n",
        " in       __contains__(self, value)   멤버 확인\n",
        " len     __len__(self)                요소 길이\n",
        " str      __str__(self)                문자열 표현\n",
        "\n",
        "\n",
        "         __init__\n",
        "         __del__\n",
        "         __new__\n",
        "\n",
        "         __repr__(self)              representative form\n",
        " \"\"\"\n",
        "None"
      ],
      "metadata": {
        "id": "QMPUnV8-L0yu"
      },
      "execution_count": null,
      "outputs": []
    },
    {
      "cell_type": "code",
      "source": [
        "s1 = \"Hello\"\n",
        "s2 = \"최짐무\""
      ],
      "metadata": {
        "id": "UReaTts0L0ug"
      },
      "execution_count": null,
      "outputs": []
    },
    {
      "cell_type": "code",
      "source": [
        "# 실제로 아래 연산은 내부적으로 magic method 가 동작하는 거다!\n",
        "s1 + s2, s1.__add__(s2)"
      ],
      "metadata": {
        "colab": {
          "base_uri": "https://localhost:8080/"
        },
        "id": "nrve7ZUOL0qG",
        "outputId": "ce99a8d4-e7d4-48b9-d527-d2f2f3472727"
      },
      "execution_count": null,
      "outputs": [
        {
          "output_type": "execute_result",
          "data": {
            "text/plain": [
              "('Hello최짐무', 'Hello최짐무')"
            ]
          },
          "metadata": {},
          "execution_count": 113
        }
      ]
    },
    {
      "cell_type": "code",
      "source": [
        "\"PYTHON\" > \"Python\",  \"PYTHON\".__gt__(\"Python\")"
      ],
      "metadata": {
        "colab": {
          "base_uri": "https://localhost:8080/"
        },
        "id": "u0QDQDJOL0ky",
        "outputId": "2bc5d33c-5da4-49c8-b9b2-40460a4ca6ed"
      },
      "execution_count": null,
      "outputs": [
        {
          "output_type": "execute_result",
          "data": {
            "text/plain": [
              "(False, False)"
            ]
          },
          "metadata": {},
          "execution_count": 115
        }
      ]
    },
    {
      "cell_type": "code",
      "source": [
        "s2[0], s2.__getitem__(0)"
      ],
      "metadata": {
        "colab": {
          "base_uri": "https://localhost:8080/"
        },
        "id": "B96jNeXFL0hA",
        "outputId": "7a80b473-3790-470e-db9b-f6863178dd4c"
      },
      "execution_count": null,
      "outputs": [
        {
          "output_type": "execute_result",
          "data": {
            "text/plain": [
              "('최', '최')"
            ]
          },
          "metadata": {},
          "execution_count": 118
        }
      ]
    },
    {
      "cell_type": "code",
      "source": [
        "'무' in s2, s2.__contains__('무')"
      ],
      "metadata": {
        "colab": {
          "base_uri": "https://localhost:8080/"
        },
        "id": "xETYhftKL0c4",
        "outputId": "c02495e9-b90f-4626-872e-96fd8e5c44dd"
      },
      "execution_count": null,
      "outputs": [
        {
          "output_type": "execute_result",
          "data": {
            "text/plain": [
              "(True, True)"
            ]
          },
          "metadata": {},
          "execution_count": 120
        }
      ]
    },
    {
      "cell_type": "code",
      "source": [
        "# __repr__(),  __str__()\n",
        "# 공통점 : 객체를 문자열로 리턴\n",
        "# 차이점\n",
        "#    `__repr__` : out 값\n",
        "#    `__str__` : str(), print() 등에서 문자열(str) 변환시 호출됨,\n",
        "#                 오버라이딩 안되어 있으면 __repr__ 의 값을 리턴한다"
      ],
      "metadata": {
        "id": "BFIsIaTeP6YQ"
      },
      "execution_count": null,
      "outputs": []
    },
    {
      "cell_type": "code",
      "source": [
        "car1"
      ],
      "metadata": {
        "colab": {
          "base_uri": "https://localhost:8080/"
        },
        "id": "g_UWvX2KL0X3",
        "outputId": "d2927bb7-d857-4ded-df8c-9ad2ab452e12"
      },
      "execution_count": null,
      "outputs": [
        {
          "output_type": "execute_result",
          "data": {
            "text/plain": [
              "<__main__.Car at 0x7a49d2ddc9a0>"
            ]
          },
          "metadata": {},
          "execution_count": 121
        }
      ]
    },
    {
      "cell_type": "code",
      "source": [
        "print(car1)"
      ],
      "metadata": {
        "colab": {
          "base_uri": "https://localhost:8080/"
        },
        "id": "X06CC17OL0UT",
        "outputId": "28536f25-7255-46a8-eee4-c597b4c0d3b5"
      },
      "execution_count": null,
      "outputs": [
        {
          "output_type": "stream",
          "name": "stdout",
          "text": [
            "<__main__.Car object at 0x7a49d2ddc9a0>\n"
          ]
        }
      ]
    },
    {
      "cell_type": "code",
      "source": [
        "class Student:\n",
        "  def __init__(self, name, grade):\n",
        "    self.name = name\n",
        "    self.grade = grade"
      ],
      "metadata": {
        "id": "ifEkSSVAQJcn"
      },
      "execution_count": null,
      "outputs": []
    },
    {
      "cell_type": "code",
      "source": [
        "s1 = Student('최징무', 4)\n",
        "s1"
      ],
      "metadata": {
        "colab": {
          "base_uri": "https://localhost:8080/"
        },
        "id": "Oc2-hVjhQJYc",
        "outputId": "0652ec66-ea90-4a36-d728-2eefaa04d840"
      },
      "execution_count": null,
      "outputs": [
        {
          "output_type": "execute_result",
          "data": {
            "text/plain": [
              "<__main__.Student at 0x7a49d2d24c70>"
            ]
          },
          "metadata": {},
          "execution_count": 124
        }
      ]
    },
    {
      "cell_type": "code",
      "source": [
        "class Student:\n",
        "  def __init__(self, name, grade):\n",
        "    self.name = name\n",
        "    self.grade = grade\n",
        "\n",
        "  def __repr__(self):\n",
        "    return f'이름 {self.name}, 학년 {self.grade}'"
      ],
      "metadata": {
        "id": "eMacAj8gQJT-"
      },
      "execution_count": null,
      "outputs": []
    },
    {
      "cell_type": "code",
      "source": [
        "s2 = Student('찐무', 2)\n",
        "s2"
      ],
      "metadata": {
        "colab": {
          "base_uri": "https://localhost:8080/"
        },
        "id": "GatvTnhoKW90",
        "outputId": "c343b760-8f83-4f0b-ebcb-79533250379e"
      },
      "execution_count": null,
      "outputs": [
        {
          "output_type": "execute_result",
          "data": {
            "text/plain": [
              "이름 찐무, 학년 2"
            ]
          },
          "metadata": {},
          "execution_count": 126
        }
      ]
    },
    {
      "cell_type": "code",
      "source": [
        "print(s2)\n",
        "# __str__ 의 값이어야 하나.. 정의안되어 있으면 __repr__ 의 값으로 동작"
      ],
      "metadata": {
        "colab": {
          "base_uri": "https://localhost:8080/"
        },
        "id": "q9wgZkR3KW5x",
        "outputId": "4a97e7d4-6ab9-4f33-925e-bb39296b07e3"
      },
      "execution_count": null,
      "outputs": [
        {
          "output_type": "stream",
          "name": "stdout",
          "text": [
            "이름 찐무, 학년 2\n"
          ]
        }
      ]
    },
    {
      "cell_type": "code",
      "source": [
        "class Student:\n",
        "  def __init__(self, name, grade):\n",
        "    self.name = name\n",
        "    self.grade = grade\n",
        "\n",
        "  def __repr__(self):\n",
        "    return f'이름 {self.name}, 학년 {self.grade}'\n",
        "\n",
        "  def __str__(self):\n",
        "    return f'{self.name} : {self.grade}'"
      ],
      "metadata": {
        "id": "7olWAdfehYJJ"
      },
      "execution_count": null,
      "outputs": []
    },
    {
      "cell_type": "code",
      "source": [
        "s3 = Student('치킨무', 1)\n",
        "s3  # __repr__ 값"
      ],
      "metadata": {
        "colab": {
          "base_uri": "https://localhost:8080/"
        },
        "id": "fG9YtkrMRVhU",
        "outputId": "d33cc65a-43fb-4245-97e6-97573146bbad"
      },
      "execution_count": null,
      "outputs": [
        {
          "output_type": "execute_result",
          "data": {
            "text/plain": [
              "이름 치킨무, 학년 1"
            ]
          },
          "metadata": {},
          "execution_count": 129
        }
      ]
    },
    {
      "cell_type": "code",
      "source": [
        "print(s3)  # __str__ 값"
      ],
      "metadata": {
        "colab": {
          "base_uri": "https://localhost:8080/"
        },
        "id": "vxFZjAlphYGA",
        "outputId": "0828b900-57cb-4dfb-e73f-a5f60b45f17b"
      },
      "execution_count": null,
      "outputs": [
        {
          "output_type": "stream",
          "name": "stdout",
          "text": [
            "치킨무 : 1\n"
          ]
        }
      ]
    },
    {
      "cell_type": "code",
      "source": [
        "f'{s3} 한개 부탁해요'   # __str__ 동작"
      ],
      "metadata": {
        "colab": {
          "base_uri": "https://localhost:8080/",
          "height": 39
        },
        "id": "uWhtqVI2RoVQ",
        "outputId": "c82a4a6c-7438-4ff2-d1f0-4bcda381de98"
      },
      "execution_count": null,
      "outputs": [
        {
          "output_type": "execute_result",
          "data": {
            "text/plain": [
              "'치킨무 : 1 한개 부탁해요'"
            ],
            "application/vnd.google.colaboratory.intrinsic+json": {
              "type": "string"
            }
          },
          "metadata": {},
          "execution_count": 131
        }
      ]
    },
    {
      "cell_type": "code",
      "source": [
        "str(s3) + '부탁해요'   # __str__ 동작"
      ],
      "metadata": {
        "colab": {
          "base_uri": "https://localhost:8080/",
          "height": 39
        },
        "id": "Y69V50_YRoRb",
        "outputId": "b427dc16-c81a-40ba-bb63-465bd52c09be"
      },
      "execution_count": null,
      "outputs": [
        {
          "output_type": "execute_result",
          "data": {
            "text/plain": [
              "'치킨무 : 1부탁해요'"
            ],
            "application/vnd.google.colaboratory.intrinsic+json": {
              "type": "string"
            }
          },
          "metadata": {},
          "execution_count": 133
        }
      ]
    },
    {
      "cell_type": "code",
      "source": [
        "class Number:\n",
        "    def __init__(self, number):\n",
        "        self.number = number\n",
        "\n",
        "    def __repr__(self):\n",
        "        return str(self.number)"
      ],
      "metadata": {
        "id": "1RuhGCZbSQBF"
      },
      "execution_count": null,
      "outputs": []
    },
    {
      "cell_type": "code",
      "source": [
        "f1 = Number(10)\n",
        "f2 = Number(20)\n",
        "print(f1, f2)"
      ],
      "metadata": {
        "colab": {
          "base_uri": "https://localhost:8080/"
        },
        "id": "Uyoh2TOeSZug",
        "outputId": "ea5c16fc-8e90-449c-a0a9-d81b0176f5ab"
      },
      "execution_count": null,
      "outputs": [
        {
          "output_type": "stream",
          "name": "stdout",
          "text": [
            "10 20\n"
          ]
        }
      ]
    },
    {
      "cell_type": "code",
      "source": [
        "# 원래 객체간의 + 연산은 불가\n",
        "# 그러나!  MagicMethod 를 오버라이딩 하면 객체간의 연산도 가능해진다!\n",
        "# f1 + f2"
      ],
      "metadata": {
        "colab": {
          "base_uri": "https://localhost:8080/",
          "height": 163
        },
        "id": "p7rFK38WSP5I",
        "outputId": "4f0a2d12-7f08-4a16-8362-42353507aedc"
      },
      "execution_count": null,
      "outputs": [
        {
          "output_type": "error",
          "ename": "TypeError",
          "evalue": "unsupported operand type(s) for +: 'Number' and 'Number'",
          "traceback": [
            "\u001b[0;31m---------------------------------------------------------------------------\u001b[0m",
            "\u001b[0;31mTypeError\u001b[0m                                 Traceback (most recent call last)",
            "\u001b[0;32m<ipython-input-136-ad0256b81ae0>\u001b[0m in \u001b[0;36m<cell line: 1>\u001b[0;34m()\u001b[0m\n\u001b[0;32m----> 1\u001b[0;31m \u001b[0mf1\u001b[0m \u001b[0;34m+\u001b[0m \u001b[0mf2\u001b[0m\u001b[0;34m\u001b[0m\u001b[0;34m\u001b[0m\u001b[0m\n\u001b[0m",
            "\u001b[0;31mTypeError\u001b[0m: unsupported operand type(s) for +: 'Number' and 'Number'"
          ]
        }
      ]
    },
    {
      "cell_type": "code",
      "source": [
        "class Number:\n",
        "    def __init__(self, number):\n",
        "        self.number = number\n",
        "\n",
        "    def __repr__(self):\n",
        "        return str(self.number)\n",
        "\n",
        "    def __add__(self, other):\n",
        "      return self.number + other.number"
      ],
      "metadata": {
        "id": "4dULds9tSP0t"
      },
      "execution_count": null,
      "outputs": []
    },
    {
      "cell_type": "code",
      "source": [
        "f1 = Number(10)\n",
        "f2 = Number(20)\n",
        "\n",
        "f1 + f2  # Number 의 + 연산  => Number 의 __add__(호출)"
      ],
      "metadata": {
        "colab": {
          "base_uri": "https://localhost:8080/"
        },
        "id": "TCD_wB0gSPv5",
        "outputId": "1815d08e-03fd-4c6a-db53-9b59d6290a95"
      },
      "execution_count": null,
      "outputs": [
        {
          "output_type": "execute_result",
          "data": {
            "text/plain": [
              "30"
            ]
          },
          "metadata": {},
          "execution_count": 138
        }
      ]
    },
    {
      "cell_type": "code",
      "source": [
        "f3 = Number(30)\n",
        "# f1 + f2 + f3   # 에러다    f1 + f2 의 결과는 int 이니까!   int + f3 는 불가!"
      ],
      "metadata": {
        "colab": {
          "base_uri": "https://localhost:8080/",
          "height": 185
        },
        "id": "zP_S6i8vSPq5",
        "outputId": "1a5a210e-e634-4738-bbc3-757c4df44425"
      },
      "execution_count": null,
      "outputs": [
        {
          "output_type": "error",
          "ename": "TypeError",
          "evalue": "unsupported operand type(s) for +: 'int' and 'Number'",
          "traceback": [
            "\u001b[0;31m---------------------------------------------------------------------------\u001b[0m",
            "\u001b[0;31mTypeError\u001b[0m                                 Traceback (most recent call last)",
            "\u001b[0;32m<ipython-input-139-8eff2cfb66c6>\u001b[0m in \u001b[0;36m<cell line: 2>\u001b[0;34m()\u001b[0m\n\u001b[1;32m      1\u001b[0m \u001b[0mf3\u001b[0m \u001b[0;34m=\u001b[0m \u001b[0mNumber\u001b[0m\u001b[0;34m(\u001b[0m\u001b[0;36m30\u001b[0m\u001b[0;34m)\u001b[0m\u001b[0;34m\u001b[0m\u001b[0;34m\u001b[0m\u001b[0m\n\u001b[0;32m----> 2\u001b[0;31m \u001b[0mf1\u001b[0m \u001b[0;34m+\u001b[0m \u001b[0mf2\u001b[0m \u001b[0;34m+\u001b[0m \u001b[0mf3\u001b[0m\u001b[0;34m\u001b[0m\u001b[0;34m\u001b[0m\u001b[0m\n\u001b[0m",
            "\u001b[0;31mTypeError\u001b[0m: unsupported operand type(s) for +: 'int' and 'Number'"
          ]
        }
      ]
    },
    {
      "cell_type": "code",
      "source": [
        "class Number:\n",
        "    def __init__(self, number):\n",
        "        self.number = number\n",
        "\n",
        "    def __repr__(self):\n",
        "        return str(self.number)\n",
        "\n",
        "    def __add__(self, other):\n",
        "      return Number(self.number + other.number)"
      ],
      "metadata": {
        "id": "KSSSxfu3SPlw"
      },
      "execution_count": null,
      "outputs": []
    },
    {
      "cell_type": "code",
      "source": [
        "f1 = Number(10)\n",
        "f2 = Number(20)\n",
        "f3 = Number(30)\n",
        "\n",
        "f1 + f2 + f3"
      ],
      "metadata": {
        "colab": {
          "base_uri": "https://localhost:8080/"
        },
        "id": "gfyr0SCjSPfm",
        "outputId": "bcb48978-a5d1-4040-e47b-f359c8113e34"
      },
      "execution_count": null,
      "outputs": [
        {
          "output_type": "execute_result",
          "data": {
            "text/plain": [
              "60"
            ]
          },
          "metadata": {},
          "execution_count": 141
        }
      ]
    },
    {
      "cell_type": "code",
      "source": [],
      "metadata": {
        "id": "-1UoAbPaSPa4"
      },
      "execution_count": null,
      "outputs": []
    },
    {
      "cell_type": "code",
      "source": [],
      "metadata": {
        "id": "u6rj8qnySPWJ"
      },
      "execution_count": null,
      "outputs": []
    },
    {
      "cell_type": "code",
      "source": [],
      "metadata": {
        "id": "9NePEz7iSPR5"
      },
      "execution_count": null,
      "outputs": []
    },
    {
      "cell_type": "code",
      "source": [],
      "metadata": {
        "id": "3thglbQ3SPMZ"
      },
      "execution_count": null,
      "outputs": []
    },
    {
      "cell_type": "code",
      "source": [],
      "metadata": {
        "id": "a1ArL6wFSPHT"
      },
      "execution_count": null,
      "outputs": []
    },
    {
      "cell_type": "code",
      "source": [],
      "metadata": {
        "id": "-rPZNPnzSPDE"
      },
      "execution_count": null,
      "outputs": []
    },
    {
      "cell_type": "code",
      "source": [],
      "metadata": {
        "id": "KSogDyI5SO9c"
      },
      "execution_count": null,
      "outputs": []
    },
    {
      "cell_type": "code",
      "source": [],
      "metadata": {
        "id": "EiWXOgV8RoMl"
      },
      "execution_count": null,
      "outputs": []
    },
    {
      "cell_type": "code",
      "source": [],
      "metadata": {
        "id": "2cJsSPGrRoIA"
      },
      "execution_count": null,
      "outputs": []
    },
    {
      "cell_type": "code",
      "source": [],
      "metadata": {
        "id": "TEn7OzayRoD_"
      },
      "execution_count": null,
      "outputs": []
    },
    {
      "cell_type": "code",
      "source": [],
      "metadata": {
        "id": "4igQziN8RoAF"
      },
      "execution_count": null,
      "outputs": []
    },
    {
      "cell_type": "code",
      "execution_count": null,
      "metadata": {
        "id": "MKuM9GpshVsh"
      },
      "outputs": [],
      "source": []
    }
  ]
}