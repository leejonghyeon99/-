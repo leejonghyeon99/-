{
  "nbformat": 4,
  "nbformat_minor": 0,
  "metadata": {
    "colab": {
      "provenance": [],
      "authorship_tag": "ABX9TyNd2EKZVJES11sOBRIXSlmp",
      "include_colab_link": true
    },
    "kernelspec": {
      "name": "python3",
      "display_name": "Python 3"
    },
    "language_info": {
      "name": "python"
    }
  },
  "cells": [
    {
      "cell_type": "markdown",
      "metadata": {
        "id": "view-in-github",
        "colab_type": "text"
      },
      "source": [
        "<a href=\"https://colab.research.google.com/github/leejonghyeon99/python_stu/blob/main/040_%EC%9E%85%EB%A0%A5.ipynb\" target=\"_parent\"><img src=\"https://colab.research.google.com/assets/colab-badge.svg\" alt=\"Open In Colab\"/></a>"
      ]
    },
    {
      "cell_type": "markdown",
      "source": [
        "## 기본입력함수 input()"
      ],
      "metadata": {
        "id": "LRiRipQCvvrc"
      }
    },
    {
      "cell_type": "code",
      "execution_count": 2,
      "metadata": {
        "id": "txSSOogbvkbn"
      },
      "outputs": [],
      "source": [
        "# 파이썬 기본입력 함수 input()\n",
        "# 기본적으로 input() 함수는 키보드로 부터 입력받아\n",
        "# 문자열(str) 으로 리턴합니다"
      ]
    },
    {
      "cell_type": "code",
      "source": [
        "a = input()"
      ],
      "metadata": {
        "colab": {
          "base_uri": "https://localhost:8080/"
        },
        "id": "rPycNLFvv6CO",
        "outputId": "3bb05eb0-7f56-4c80-e323-fec738530c81"
      },
      "execution_count": 4,
      "outputs": [
        {
          "name": "stdout",
          "output_type": "stream",
          "text": [
            "10\n"
          ]
        }
      ]
    },
    {
      "cell_type": "code",
      "source": [
        "a"
      ],
      "metadata": {
        "colab": {
          "base_uri": "https://localhost:8080/",
          "height": 35
        },
        "id": "3X569CiLwFzH",
        "outputId": "4bf7de59-b33e-4bcc-addf-889daa101146"
      },
      "execution_count": 5,
      "outputs": [
        {
          "output_type": "execute_result",
          "data": {
            "text/plain": [
              "'10'"
            ],
            "application/vnd.google.colaboratory.intrinsic+json": {
              "type": "string"
            }
          },
          "metadata": {},
          "execution_count": 5
        }
      ]
    },
    {
      "cell_type": "code",
      "source": [
        "# a + 2  input 결과값은 str, 산술연산 불가"
      ],
      "metadata": {
        "id": "fgrkg4ihwHoy"
      },
      "execution_count": 8,
      "outputs": []
    },
    {
      "cell_type": "code",
      "source": [
        "a = int(input())"
      ],
      "metadata": {
        "colab": {
          "base_uri": "https://localhost:8080/"
        },
        "id": "lHZqM_qlwXPI",
        "outputId": "f25496d5-2f3b-49a6-aa38-5d69d8cad478"
      },
      "execution_count": 9,
      "outputs": [
        {
          "name": "stdout",
          "output_type": "stream",
          "text": [
            "10\n"
          ]
        }
      ]
    },
    {
      "cell_type": "code",
      "source": [
        "a + 20, type(a)"
      ],
      "metadata": {
        "colab": {
          "base_uri": "https://localhost:8080/"
        },
        "id": "OV9uVTyHwdtu",
        "outputId": "b5e6770f-8ec6-4053-c782-9f4bd1b3e72f"
      },
      "execution_count": 11,
      "outputs": [
        {
          "output_type": "execute_result",
          "data": {
            "text/plain": [
              "(30, int)"
            ]
          },
          "metadata": {},
          "execution_count": 11
        }
      ]
    },
    {
      "cell_type": "code",
      "source": [
        "print(\"키를 입력하세요\", end=\"\")\n",
        "height = float(input())\n",
        "print(height, type(height))"
      ],
      "metadata": {
        "colab": {
          "base_uri": "https://localhost:8080/"
        },
        "id": "-Q_lVbGzwx38",
        "outputId": "3f26c634-0ba2-4ebb-9e53-6d9a95495274"
      },
      "execution_count": 14,
      "outputs": [
        {
          "output_type": "stream",
          "name": "stdout",
          "text": [
            "키를 입력하세요55.5\n",
            "55.5 <class 'float'>\n"
          ]
        }
      ]
    },
    {
      "cell_type": "code",
      "source": [
        "# prompt 를 사용한 input\n",
        "age = int(input(\"나이를 입력하세요: \"))\n",
        "print('age=',age)"
      ],
      "metadata": {
        "colab": {
          "base_uri": "https://localhost:8080/"
        },
        "id": "b4zsrbmlxQme",
        "outputId": "22a651dd-ebfa-4d72-a608-bbc5f5994a59"
      },
      "execution_count": 15,
      "outputs": [
        {
          "output_type": "stream",
          "name": "stdout",
          "text": [
            "나이를 입력하세요: 33\n",
            "age= 33\n"
          ]
        }
      ]
    },
    {
      "cell_type": "markdown",
      "source": [
        "## input으로 한번에 여러개입력받기"
      ],
      "metadata": {
        "id": "iA8TKARbx1Yx"
      }
    },
    {
      "cell_type": "code",
      "source": [
        "input(\"3개를 입력하세요\")"
      ],
      "metadata": {
        "colab": {
          "base_uri": "https://localhost:8080/",
          "height": 54
        },
        "id": "fk0Re8bpxce3",
        "outputId": "96264b2a-6105-44ca-a9bf-36a99643281d"
      },
      "execution_count": 16,
      "outputs": [
        {
          "name": "stdout",
          "output_type": "stream",
          "text": [
            "3개를 입력하세요10 20 30\n"
          ]
        },
        {
          "output_type": "execute_result",
          "data": {
            "text/plain": [
              "'10 20 30'"
            ],
            "application/vnd.google.colaboratory.intrinsic+json": {
              "type": "string"
            }
          },
          "metadata": {},
          "execution_count": 16
        }
      ]
    },
    {
      "cell_type": "code",
      "source": [
        "# a, b, c = input(\"3개를 입력하세요\")"
      ],
      "metadata": {
        "id": "_DUAR8_hx63S"
      },
      "execution_count": 19,
      "outputs": []
    },
    {
      "cell_type": "code",
      "source": [
        "# 방법1: input().split() 공백기준으로 구분"
      ],
      "metadata": {
        "id": "yZQ6K_8MypoT"
      },
      "execution_count": null,
      "outputs": []
    },
    {
      "cell_type": "code",
      "source": [
        "a, b, c = input(\"3개를 입력하세요\").split()\n",
        "print(f'a={a}, b={b}, c={c}')"
      ],
      "metadata": {
        "colab": {
          "base_uri": "https://localhost:8080/"
        },
        "id": "m9tmvSu9yGg-",
        "outputId": "6842d18a-38b5-4cb7-c509-9c95122d7df5"
      },
      "execution_count": 22,
      "outputs": [
        {
          "output_type": "stream",
          "name": "stdout",
          "text": [
            "3개를 입력하세요10 20 30\n",
            "a=10, b=20, c=30\n"
          ]
        }
      ]
    },
    {
      "cell_type": "code",
      "source": [
        "a + b + c"
      ],
      "metadata": {
        "colab": {
          "base_uri": "https://localhost:8080/",
          "height": 35
        },
        "id": "WM6SlXhl3Zxx",
        "outputId": "32b55814-7582-4dea-fe08-04e973921389"
      },
      "execution_count": 23,
      "outputs": [
        {
          "output_type": "execute_result",
          "data": {
            "text/plain": [
              "'102030'"
            ],
            "application/vnd.google.colaboratory.intrinsic+json": {
              "type": "string"
            }
          },
          "metadata": {},
          "execution_count": 23
        }
      ]
    },
    {
      "cell_type": "code",
      "source": [
        "int(a) + int(b) + int(c)"
      ],
      "metadata": {
        "colab": {
          "base_uri": "https://localhost:8080/"
        },
        "id": "MP33TLhJ3enj",
        "outputId": "1d556f7c-0546-4bd2-fc52-ba6c5c852ec8"
      },
      "execution_count": 24,
      "outputs": [
        {
          "output_type": "execute_result",
          "data": {
            "text/plain": [
              "60"
            ]
          },
          "metadata": {},
          "execution_count": 24
        }
      ]
    },
    {
      "cell_type": "code",
      "source": [
        "# 입력한 str(들)을 한번에 변환하기. map() 함수 사용\n",
        "# 변수1, 변수2 ... = map(int, input().split())"
      ],
      "metadata": {
        "id": "n89R8xE-3jAy"
      },
      "execution_count": 25,
      "outputs": []
    },
    {
      "cell_type": "code",
      "source": [
        "a, b, c = map(int, input().split())\n",
        "print(f'a={a}, b={b}, c={c}')"
      ],
      "metadata": {
        "colab": {
          "base_uri": "https://localhost:8080/"
        },
        "id": "O4bbcjJe3nXc",
        "outputId": "99a05a5a-23af-4077-d88d-6a92cdb43e90"
      },
      "execution_count": 28,
      "outputs": [
        {
          "output_type": "stream",
          "name": "stdout",
          "text": [
            "10 20 30\n",
            "a=10, b=20, c=30\n"
          ]
        }
      ]
    },
    {
      "cell_type": "code",
      "source": [
        "a + b + c"
      ],
      "metadata": {
        "colab": {
          "base_uri": "https://localhost:8080/"
        },
        "id": "O0MC9kI54dMO",
        "outputId": "a6431556-5846-4716-dfc9-175b7ae0e6a9"
      },
      "execution_count": 29,
      "outputs": [
        {
          "output_type": "execute_result",
          "data": {
            "text/plain": [
              "60"
            ]
          },
          "metadata": {},
          "execution_count": 29
        }
      ]
    },
    {
      "cell_type": "code",
      "source": [
        "#  input() =>  \"10 20 30\"\n",
        "#  split() => \"10\"   \"20\"   \"30\"\n",
        "#  map()  =>   ↓     ↓    ↓\n",
        "#            int()  int()  int()\n",
        "#              ↓     ↓     ↓\n",
        "#              10    20     30"
      ],
      "metadata": {
        "id": "h847o6CQ4fTC"
      },
      "execution_count": 30,
      "outputs": []
    },
    {
      "cell_type": "markdown",
      "source": [
        "### 도전"
      ],
      "metadata": {
        "id": "ZSkZVN1g45Il"
      }
    },
    {
      "cell_type": "code",
      "source": [
        "# 세 개의 정수를 입력받아 합과 평균을 출력하는 프로그램을 작성하시오.\n",
        "# (단 평균은 소수 이하를 버림하여 정수 부분만 출력한다.)\n",
        "\n",
        "# [입력예]\n",
        "# 3개의 정수 입력:10 20 44\n",
        "# 합= 74\n",
        "# 평균= 24"
      ],
      "metadata": {
        "id": "9nNjKdI34tFb"
      },
      "execution_count": 31,
      "outputs": []
    },
    {
      "cell_type": "code",
      "source": [
        "a, b, c = map(int, input().split())\n",
        "print(f'합 {a+b+c}')\n",
        "print(f'평균 {(a+b+c)//3}')"
      ],
      "metadata": {
        "colab": {
          "base_uri": "https://localhost:8080/"
        },
        "id": "WtM1mjBh47uQ",
        "outputId": "8c1b564b-cce9-455d-cd46-07c5adc22f55"
      },
      "execution_count": 47,
      "outputs": [
        {
          "output_type": "stream",
          "name": "stdout",
          "text": [
            "10 20 44\n",
            "합 74\n",
            "평균 24\n"
          ]
        }
      ]
    }
  ]
}