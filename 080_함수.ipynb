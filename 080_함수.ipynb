{
  "nbformat": 4,
  "nbformat_minor": 0,
  "metadata": {
    "colab": {
      "provenance": [],
      "authorship_tag": "ABX9TyMlzs8ZvyILM/FDr8Ib/qFG",
      "include_colab_link": true
    },
    "kernelspec": {
      "name": "python3",
      "display_name": "Python 3"
    },
    "language_info": {
      "name": "python"
    }
  },
  "cells": [
    {
      "cell_type": "markdown",
      "metadata": {
        "id": "view-in-github",
        "colab_type": "text"
      },
      "source": [
        "<a href=\"https://colab.research.google.com/github/leejonghyeon99/python_stu/blob/main/080_%ED%95%A8%EC%88%98.ipynb\" target=\"_parent\"><img src=\"https://colab.research.google.com/assets/colab-badge.svg\" alt=\"Open In Colab\"/></a>"
      ]
    },
    {
      "cell_type": "markdown",
      "source": [
        "# 함수(Function)"
      ],
      "metadata": {
        "id": "Mj9PDb4qIRGZ"
      }
    },
    {
      "cell_type": "code",
      "execution_count": null,
      "metadata": {
        "id": "nCUCRT8MIJRE"
      },
      "outputs": [],
      "source": [
        "# 함수 만들기 (함수 정의 : Function Definition)\n",
        "\n",
        "# def 키워드로 작성\n",
        "\n",
        "# def 함수이름( 매개변수 들):\n",
        "#     함수 본체 <수행할 문장1>\n",
        "#     함수 본체 <수행할 문장2>\n",
        "#     ...\n",
        "\n",
        "# 함수의 동작 정의\n",
        "#   입력(매개변수) -> 본체 수행 -> 결과(리턴)\n",
        "\n",
        "# 함수이름은 변수 이름 작성과 거의 동일한 규칙\n",
        "\n",
        "#----------------------------------------------------------\n",
        "# 함수 호출 (함수 사용 )  Function call, invoke\n",
        "# 함수호출시 넘겨지는 인자(parameter) 값들은\n",
        "# 함수의 매개변수(argument)들이 받습니다.\n",
        "# 매개변수는 0개, 한개, 여러개 있을수 있을수 있습니다\n",
        "\n",
        "# 함수에는 리턴값이 있다.\n",
        "# 리턴값은 함수를 호출(call) 한쪽에 돌려준다\n",
        "# return 키워드로 리턴값을\n",
        "# 함수 본체 수행중 return 을 만나면 함수를 종료 하게 됩니다\n",
        "# 어떠한 타입도 리턴할수 있다.\n",
        "# 리턴값은 없을수도 있다. None 리턴\n"
      ]
    },
    {
      "cell_type": "code",
      "source": [
        "def sayAnthem():\n",
        "    print(\"동해물과 백두산이\")\n",
        "    print(\"마르고 닳도록\")\n",
        "    print(\"하느님이 보우하사\")\n",
        "    print(\"우리나라 만세\")\n",
        "\n",
        "sayAnthem()"
      ],
      "metadata": {
        "colab": {
          "base_uri": "https://localhost:8080/"
        },
        "id": "PUO8hCc6ITk8",
        "outputId": "cf16405d-e63f-4205-e269-76e6d0cfb851"
      },
      "execution_count": 3,
      "outputs": [
        {
          "output_type": "stream",
          "name": "stdout",
          "text": [
            "동해물과 백두산이\n",
            "마르고 닳도록\n",
            "하느님이 보우하사\n",
            "우리나라 만세\n"
          ]
        }
      ]
    },
    {
      "cell_type": "code",
      "source": [
        "def callBack(call):\n",
        "  call()\n",
        "\n",
        "callBack(sayAnthem)"
      ],
      "metadata": {
        "colab": {
          "base_uri": "https://localhost:8080/"
        },
        "id": "-bos9HoRITpQ",
        "outputId": "071b90e7-9ee6-4786-c538-20ee328133fe"
      },
      "execution_count": 4,
      "outputs": [
        {
          "output_type": "stream",
          "name": "stdout",
          "text": [
            "동해물과 백두산이\n",
            "마르고 닳도록\n",
            "하느님이 보우하사\n",
            "우리나라 만세\n"
          ]
        }
      ]
    },
    {
      "cell_type": "code",
      "source": [
        "# 매개변수\n",
        "def sayName(name):\n",
        "  print('Hello')\n",
        "  print(f'My name is {name}')"
      ],
      "metadata": {
        "id": "UCZKoDnfITre"
      },
      "execution_count": 5,
      "outputs": []
    },
    {
      "cell_type": "code",
      "source": [
        "# sayName() # TypeError: sayName() missing 1 required positional argument: 'name'"
      ],
      "metadata": {
        "id": "FnymzLdxITtM"
      },
      "execution_count": 8,
      "outputs": []
    },
    {
      "cell_type": "code",
      "source": [
        "def sayAge(age):\n",
        "  print(age)"
      ],
      "metadata": {
        "id": "7GLPQbFxN0tj"
      },
      "execution_count": 11,
      "outputs": []
    },
    {
      "cell_type": "code",
      "source": [
        "def sayHello(name, age):\n",
        "  print(\"--\" * 10)\n",
        "  sayName(name)\n",
        "  sayAge(age)\n",
        "  print(\"--\" * 10)\n",
        "\n",
        "sayHello('Ms.Jang',34)"
      ],
      "metadata": {
        "colab": {
          "base_uri": "https://localhost:8080/"
        },
        "id": "Gi4nYiF7ITup",
        "outputId": "782cde1b-575d-4ae5-c504-d8363f0af2c2"
      },
      "execution_count": 12,
      "outputs": [
        {
          "output_type": "stream",
          "name": "stdout",
          "text": [
            "--------------------\n",
            "Hello\n",
            "My name is Ms.Jang\n",
            "34\n",
            "--------------------\n"
          ]
        }
      ]
    },
    {
      "cell_type": "code",
      "source": [
        "sayHello(name = 'DoraEmong', age = 34)\n",
        "sayHello(age = 111, name = 'NANANANAN')"
      ],
      "metadata": {
        "colab": {
          "base_uri": "https://localhost:8080/"
        },
        "id": "lk2iLJ9pITwC",
        "outputId": "5d08ffa4-6ac0-4171-885e-d747153039e7"
      },
      "execution_count": 14,
      "outputs": [
        {
          "output_type": "stream",
          "name": "stdout",
          "text": [
            "--------------------\n",
            "Hello\n",
            "My name is DoraEmong\n",
            "34\n",
            "--------------------\n",
            "--------------------\n",
            "Hello\n",
            "My name is NANANANAN\n",
            "111\n",
            "--------------------\n"
          ]
        }
      ]
    },
    {
      "cell_type": "code",
      "source": [
        "# sayHello(age = 28, 'Choi') #SyntaxError: positional argument follows keyword argument"
      ],
      "metadata": {
        "id": "C1LFZMqhITxg"
      },
      "execution_count": 18,
      "outputs": []
    },
    {
      "cell_type": "code",
      "source": [
        "# return\n",
        "\n",
        "def add(a, b):\n",
        "  result = a + b\n",
        "  return result"
      ],
      "metadata": {
        "id": "ewXtdWKvITyi"
      },
      "execution_count": 22,
      "outputs": []
    },
    {
      "cell_type": "code",
      "source": [
        "add(10, 20)"
      ],
      "metadata": {
        "colab": {
          "base_uri": "https://localhost:8080/"
        },
        "id": "3N3gdSTtIT0L",
        "outputId": "d3bfa127-0e40-403c-8fa4-60a862f29029"
      },
      "execution_count": 23,
      "outputs": [
        {
          "output_type": "execute_result",
          "data": {
            "text/plain": [
              "30"
            ]
          },
          "metadata": {},
          "execution_count": 23
        }
      ]
    },
    {
      "cell_type": "code",
      "source": [
        "add('10', '20')"
      ],
      "metadata": {
        "colab": {
          "base_uri": "https://localhost:8080/",
          "height": 35
        },
        "id": "mbQkX3pzIT1T",
        "outputId": "79a7e681-526c-498f-b2ef-2526701b1cfe"
      },
      "execution_count": 24,
      "outputs": [
        {
          "output_type": "execute_result",
          "data": {
            "text/plain": [
              "'1020'"
            ],
            "application/vnd.google.colaboratory.intrinsic+json": {
              "type": "string"
            }
          },
          "metadata": {},
          "execution_count": 24
        }
      ]
    },
    {
      "cell_type": "markdown",
      "source": [
        "# tuple 을 리턴하기\n",
        "여러개의 값을 리턴할 수 있다"
      ],
      "metadata": {
        "id": "de89IMj0PoXE"
      }
    },
    {
      "cell_type": "code",
      "source": [
        "def sum_and_mul(a,b):\n",
        "  return a + b, a * b #tuple"
      ],
      "metadata": {
        "id": "JxkSIpCtIT2x"
      },
      "execution_count": 26,
      "outputs": []
    },
    {
      "cell_type": "code",
      "source": [
        "sum_and_mul(10, 20)"
      ],
      "metadata": {
        "colab": {
          "base_uri": "https://localhost:8080/"
        },
        "id": "Z54ApViAIT4G",
        "outputId": "ba2f182c-ba8c-4eb4-d215-e263ca733536"
      },
      "execution_count": 27,
      "outputs": [
        {
          "output_type": "execute_result",
          "data": {
            "text/plain": [
              "(30, 200)"
            ]
          },
          "metadata": {},
          "execution_count": 27
        }
      ]
    },
    {
      "cell_type": "code",
      "source": [
        "s, m = sum_and_mul(10, 20)\n",
        "print(s, m)"
      ],
      "metadata": {
        "colab": {
          "base_uri": "https://localhost:8080/"
        },
        "id": "QYi117gcIT5f",
        "outputId": "5abc9a13-7e39-438d-c674-b2c86eda32ca"
      },
      "execution_count": 28,
      "outputs": [
        {
          "output_type": "stream",
          "name": "stdout",
          "text": [
            "30 200\n"
          ]
        }
      ]
    },
    {
      "cell_type": "markdown",
      "source": [
        "# 디폴트 매개변수 (Default Parameter)"
      ],
      "metadata": {
        "id": "CpEewE8nQMBD"
      }
    },
    {
      "cell_type": "code",
      "source": [
        "# 함수정의시 매개변수에 디폴트 값을 지정해 주면,  호출시 생략가능하다\n",
        "# 생략된 상태에서 호출되면 디폴트 값으로 작동된다\n",
        "\n",
        "# 디폴트 매개변수 작성 구문\n",
        "#    def 함수명(매개변수명=디폴트값)"
      ],
      "metadata": {
        "id": "wcl-5cltQFhx"
      },
      "execution_count": 29,
      "outputs": []
    },
    {
      "cell_type": "code",
      "source": [
        "def say_myself(name, old, gender='M'):\n",
        "  print(f'제 이름은 {name} 입니다.')\n",
        "  print(f'나이는 {old} 입니다.')\n",
        "  (gender == 'M') and print('남자입니다.')\n",
        "  (gender == 'F') and print('여자입니다.')\n",
        "  print()"
      ],
      "metadata": {
        "id": "rMIShbqmQHIb"
      },
      "execution_count": 36,
      "outputs": []
    },
    {
      "cell_type": "code",
      "source": [
        "say_myself('이재용',52, 'M')"
      ],
      "metadata": {
        "colab": {
          "base_uri": "https://localhost:8080/"
        },
        "id": "3FXiQ9ICQHxF",
        "outputId": "13f4d62d-0af7-4afa-fab2-1d0bd90b9cf4"
      },
      "execution_count": 34,
      "outputs": [
        {
          "output_type": "stream",
          "name": "stdout",
          "text": [
            "제 이름은 이재용 입니다.\n",
            "나이는 52 입니다.\n",
            "남자입니다.\n",
            "\n"
          ]
        }
      ]
    },
    {
      "cell_type": "code",
      "source": [
        "say_myself('토니 스타크', 61)"
      ],
      "metadata": {
        "colab": {
          "base_uri": "https://localhost:8080/"
        },
        "id": "STLPceRDQKeO",
        "outputId": "1ae24a40-bcf3-4caf-d388-10f7c1bee99a"
      },
      "execution_count": 37,
      "outputs": [
        {
          "output_type": "stream",
          "name": "stdout",
          "text": [
            "제 이름은 토니 스타크 입니다.\n",
            "나이는 61 입니다.\n",
            "남자입니다.\n",
            "\n"
          ]
        }
      ]
    },
    {
      "cell_type": "code",
      "source": [
        "print('hello')\n",
        "print('hello', end='\\n')\n",
        "print(10, 20, 30, sep=' ')"
      ],
      "metadata": {
        "colab": {
          "base_uri": "https://localhost:8080/"
        },
        "id": "BWnEdaTkQKim",
        "outputId": "40c119af-648c-4f82-f439-ced4a180fa69"
      },
      "execution_count": 40,
      "outputs": [
        {
          "output_type": "stream",
          "name": "stdout",
          "text": [
            "hello\n",
            "hello\n",
            "10 20 30\n"
          ]
        }
      ]
    },
    {
      "cell_type": "code",
      "source": [
        "# SyntaxError: non-default argument follows default argument\n",
        "# def say_myself2(name, adult = True, age):\n",
        "#   pass\n",
        "\n",
        "# 디폴트 매개변수, 주의 사항\n",
        "# 디폴트 매개변수 사용하여 함수 정의시\n",
        "# default argument  다음에 non-default  argument 정의 불가!!"
      ],
      "metadata": {
        "id": "cB7k64A9QKmu"
      },
      "execution_count": 42,
      "outputs": []
    },
    {
      "cell_type": "markdown",
      "source": [
        "# 가변매개변수 *args\n",
        "### argument packing\n",
        "입력값이 몇개가 올른지 모른다, 임의의 개수 인자 받기\n",
        "\n",
        "\n"
      ],
      "metadata": {
        "id": "4vp3c9y7Sx9k"
      }
    },
    {
      "cell_type": "code",
      "source": [
        "# 가변매개변수(various arguments) 함수 구문\n",
        "\n",
        "# def 함수이름(*매개변수):\n",
        "#     <수행할 문장>\n",
        "#     ...\n",
        "\n",
        "# 함수 호출시 전달된 복수개의 매개변수는 하나의 tuple 의 형태로 묶여서(packing) 다루어진다\n",
        "# 가변 매개변수도 어떠한 이름으로도 가능하긴 하나  관례적으로 args 를 많이 사용한다"
      ],
      "metadata": {
        "id": "FNVDdMOEQKr1"
      },
      "execution_count": 43,
      "outputs": []
    },
    {
      "cell_type": "code",
      "source": [
        "def pack(*args):\n",
        "  for n in args: print(n, end=\" \")"
      ],
      "metadata": {
        "id": "7mscR0sRSy7F"
      },
      "execution_count": 46,
      "outputs": []
    },
    {
      "cell_type": "code",
      "source": [
        "pack(1,2,3,4,5,6,7,8,9, \"zzzz\")"
      ],
      "metadata": {
        "colab": {
          "base_uri": "https://localhost:8080/"
        },
        "id": "0qfBoZuQSy_D",
        "outputId": "54c5bfbd-a780-41c3-c967-d2426d2f649a"
      },
      "execution_count": 48,
      "outputs": [
        {
          "output_type": "stream",
          "name": "stdout",
          "text": [
            "1 2 3 4 5 6 7 8 9 zzzz "
          ]
        }
      ]
    },
    {
      "cell_type": "code",
      "source": [
        "# *a = 10, 20, 30 #SyntaxError: starred assignment target must be in a list or tuple"
      ],
      "metadata": {
        "id": "DezQ7Va0SzCx"
      },
      "execution_count": 51,
      "outputs": []
    },
    {
      "cell_type": "code",
      "source": [
        "# 다른 비가변 매개변수와 가변매개변수 혼합 사용 가능\n",
        "# 그러나, 가변매개변수는 뒤에 오는 것을 추천한다"
      ],
      "metadata": {
        "id": "cx3hM0zhSzG2"
      },
      "execution_count": 52,
      "outputs": []
    },
    {
      "cell_type": "code",
      "source": [
        "def sum_mul(oper, *args):\n",
        "  result = None\n",
        "\n",
        "  if(oper == 'sum'):\n",
        "    result = 0\n",
        "    for i in args: result += i\n",
        "  elif oper == 'mul':\n",
        "    result = 1\n",
        "    for i in args: result *= i\n",
        "\n",
        "  return result"
      ],
      "metadata": {
        "id": "_LhJM4IiSzK4"
      },
      "execution_count": 62,
      "outputs": []
    },
    {
      "cell_type": "code",
      "source": [
        "a = sum_mul('sum',10, 20, 30)\n",
        "print(a)\n",
        "\n",
        "a = sum_mul('mul',10, 20, 30)\n",
        "print(a)"
      ],
      "metadata": {
        "colab": {
          "base_uri": "https://localhost:8080/"
        },
        "id": "9c7TEt_ST3gM",
        "outputId": "601e1ce2-ccac-475c-d1ba-b24bcaf21e4f"
      },
      "execution_count": 59,
      "outputs": [
        {
          "output_type": "stream",
          "name": "stdout",
          "text": [
            "60\n",
            "6000\n"
          ]
        }
      ]
    },
    {
      "cell_type": "code",
      "source": [
        "# 정상이긴한데 비추천\n",
        "def sum_mul2(*args, oper):\n",
        "  result = None\n",
        "\n",
        "  if(oper == 'sum'):\n",
        "    result = 0\n",
        "    for i in args: result += i\n",
        "  elif oper == 'mul':\n",
        "    result = 1\n",
        "    for i in args: result *= i\n",
        "\n",
        "  return result"
      ],
      "metadata": {
        "id": "-23A--uaT3mn"
      },
      "execution_count": 61,
      "outputs": []
    },
    {
      "cell_type": "markdown",
      "source": [
        "# 가변매개변수 **kwargs\n",
        "키워드 매개변수"
      ],
      "metadata": {
        "id": "o_6qNyaaVi-G"
      }
    },
    {
      "cell_type": "code",
      "source": [
        "# kwargs : keyword argument 약자\n",
        "\n",
        "# 함수호출시 함수의 인수로 key = value 형태로 주어지면\n",
        "# 함수에선 kwargs 가 dict 형태로 packing 하여 받아옴\n",
        "\n",
        "# **args = dict,  *args = tuple"
      ],
      "metadata": {
        "id": "RppP6PiAT3p8"
      },
      "execution_count": 63,
      "outputs": []
    },
    {
      "cell_type": "code",
      "source": [
        "def func(**kwargs):\n",
        "  print(type(kwargs), len(kwargs), kwargs)"
      ],
      "metadata": {
        "id": "mAc74jpuT3sj"
      },
      "execution_count": 64,
      "outputs": []
    },
    {
      "cell_type": "code",
      "source": [
        "# func('choi') # TypeError: func() takes 0 positional arguments but 1 was given"
      ],
      "metadata": {
        "id": "1xLEAGLIT3u8"
      },
      "execution_count": 66,
      "outputs": []
    },
    {
      "cell_type": "code",
      "source": [
        "func(name = 'choi')\n",
        "func(name = 'choi', age = 30)"
      ],
      "metadata": {
        "colab": {
          "base_uri": "https://localhost:8080/"
        },
        "id": "-GcnaE8TT3xl",
        "outputId": "e240be2d-5e1a-4dce-8eed-9086a908f11f"
      },
      "execution_count": 70,
      "outputs": [
        {
          "output_type": "stream",
          "name": "stdout",
          "text": [
            "<class 'dict'> 1 {'name': 'choi'}\n",
            "<class 'dict'> 2 {'name': 'choi', 'age': 30}\n"
          ]
        }
      ]
    },
    {
      "cell_type": "code",
      "source": [
        "#*args, **args 혼용 가능"
      ],
      "metadata": {
        "id": "aP7L02KQT30L"
      },
      "execution_count": 71,
      "outputs": []
    },
    {
      "cell_type": "code",
      "source": [
        "def func2(*args, **kwargs):\n",
        "  print(args, kwargs)\n",
        "\n",
        "func2(1,2,3, name = 'choi', age = 28)\n",
        "# func2(1,2,3, name = 'choi', age = 28, 5, 6) # SyntaxError: positional argument follows keyword argument"
      ],
      "metadata": {
        "colab": {
          "base_uri": "https://localhost:8080/"
        },
        "id": "utEXGUspT32g",
        "outputId": "fc060c06-92bb-4341-cee7-7268a4448bb3"
      },
      "execution_count": 74,
      "outputs": [
        {
          "output_type": "stream",
          "name": "stdout",
          "text": [
            "(1, 2, 3) {'name': 'choi', 'age': 28}\n"
          ]
        }
      ]
    },
    {
      "cell_type": "markdown",
      "source": [
        "# packing & unpacking"
      ],
      "metadata": {
        "id": "Lia-v2DuXcc9"
      }
    },
    {
      "cell_type": "code",
      "source": [
        "# * 의 의미"
      ],
      "metadata": {
        "id": "2vEG2KYGWqOP"
      },
      "execution_count": 75,
      "outputs": []
    },
    {
      "cell_type": "code",
      "source": [
        "# 1. '함수 정의 시점' 에서의 * => packing 되어 받는다"
      ],
      "metadata": {
        "id": "U_t3dWENXgVO"
      },
      "execution_count": 76,
      "outputs": []
    },
    {
      "cell_type": "code",
      "source": [
        "def hello(*args):\n",
        "  print(args)\n",
        "\n",
        "hello(10) # tuple로 packing 되어 전달\n",
        "hello(10, 20)\n",
        "hello(10, 20, 30)"
      ],
      "metadata": {
        "colab": {
          "base_uri": "https://localhost:8080/"
        },
        "id": "F6LnPSM8X3xn",
        "outputId": "54651f94-2644-482e-c73a-42fea2c8c76b"
      },
      "execution_count": 80,
      "outputs": [
        {
          "output_type": "stream",
          "name": "stdout",
          "text": [
            "(10,)\n",
            "(10, 20)\n",
            "(10, 20, 30)\n"
          ]
        }
      ]
    },
    {
      "cell_type": "code",
      "source": [
        "# 2. '함수 호출 시점' 에서의 *"
      ],
      "metadata": {
        "id": "7PYZccFGXjtw"
      },
      "execution_count": null,
      "outputs": []
    },
    {
      "cell_type": "code",
      "source": [
        "def add_numbers(a, b, c):\n",
        "  return a + b + c"
      ],
      "metadata": {
        "id": "RWPkDEDEXkoL"
      },
      "execution_count": 81,
      "outputs": []
    },
    {
      "cell_type": "code",
      "source": [
        "add_numbers(100, 200, 300)"
      ],
      "metadata": {
        "colab": {
          "base_uri": "https://localhost:8080/"
        },
        "id": "ABHAbfscXk87",
        "outputId": "5b76425a-30eb-4c88-fd14-6e02f3009553"
      },
      "execution_count": 82,
      "outputs": [
        {
          "output_type": "execute_result",
          "data": {
            "text/plain": [
              "600"
            ]
          },
          "metadata": {},
          "execution_count": 82
        }
      ]
    },
    {
      "cell_type": "code",
      "source": [
        "data = (100, 200, 300)\n",
        "# add_numbers(data) position error\n",
        "add_numbers(data[0], data[1], data[2])"
      ],
      "metadata": {
        "colab": {
          "base_uri": "https://localhost:8080/"
        },
        "id": "g_0FlxLcXlQg",
        "outputId": "d93a85e5-dc08-4ddd-ebc9-c58628366fed"
      },
      "execution_count": 85,
      "outputs": [
        {
          "output_type": "execute_result",
          "data": {
            "text/plain": [
              "600"
            ]
          },
          "metadata": {},
          "execution_count": 85
        }
      ]
    },
    {
      "cell_type": "code",
      "source": [
        "add_numbers(*data) # 호출 시점의 * => unpacking"
      ],
      "metadata": {
        "colab": {
          "base_uri": "https://localhost:8080/"
        },
        "id": "-UYIoGZPXlcR",
        "outputId": "b3aa96b4-c1d0-4bbe-c0c1-dff0d0cc9a2c"
      },
      "execution_count": 86,
      "outputs": [
        {
          "output_type": "execute_result",
          "data": {
            "text/plain": [
              "600"
            ]
          },
          "metadata": {},
          "execution_count": 86
        }
      ]
    },
    {
      "cell_type": "code",
      "source": [
        "add_numbers(*\"ABC\") # A, B, C  unpacking"
      ],
      "metadata": {
        "colab": {
          "base_uri": "https://localhost:8080/",
          "height": 35
        },
        "id": "iL5ZC6q2Xl3U",
        "outputId": "6ea25fa4-960d-44eb-9bff-e09fa81dde6d"
      },
      "execution_count": 91,
      "outputs": [
        {
          "output_type": "execute_result",
          "data": {
            "text/plain": [
              "'ABC'"
            ],
            "application/vnd.google.colaboratory.intrinsic+json": {
              "type": "string"
            }
          },
          "metadata": {},
          "execution_count": 91
        }
      ]
    },
    {
      "cell_type": "code",
      "source": [
        "student = {\"name\": \"Sam\", \"email\": \"sam@mail.com\"}\n",
        "\n",
        "def print_dict(name, email):\n",
        "    print(name, email)"
      ],
      "metadata": {
        "id": "QUiKYE8fXl_x"
      },
      "execution_count": 92,
      "outputs": []
    },
    {
      "cell_type": "code",
      "source": [
        "print_dict(*student)"
      ],
      "metadata": {
        "colab": {
          "base_uri": "https://localhost:8080/"
        },
        "id": "aDT4HzM6XmIr",
        "outputId": "fc7d815c-0671-44e5-a1f5-9d1c83621b0d"
      },
      "execution_count": 94,
      "outputs": [
        {
          "output_type": "stream",
          "name": "stdout",
          "text": [
            "name email\n"
          ]
        }
      ]
    },
    {
      "cell_type": "code",
      "source": [
        "# print() 와 동일한 동작을 하는 log() 함수 정의"
      ],
      "metadata": {
        "id": "IrAbSJgYXmSX"
      },
      "execution_count": 103,
      "outputs": []
    },
    {
      "cell_type": "code",
      "source": [
        "def log(*args):\n",
        "  print(*args)"
      ],
      "metadata": {
        "id": "_Pd-rbPRXma5"
      },
      "execution_count": 104,
      "outputs": []
    },
    {
      "cell_type": "code",
      "source": [
        "log(10, 20, 30)"
      ],
      "metadata": {
        "colab": {
          "base_uri": "https://localhost:8080/"
        },
        "id": "wqQ8WEocXmou",
        "outputId": "567d1402-fa1c-4b7a-bffd-ce33883358be"
      },
      "execution_count": 105,
      "outputs": [
        {
          "output_type": "stream",
          "name": "stdout",
          "text": [
            "10 20 30\n"
          ]
        }
      ]
    },
    {
      "cell_type": "code",
      "source": [
        "log('Choi',\"JIN\",\"MU\")"
      ],
      "metadata": {
        "colab": {
          "base_uri": "https://localhost:8080/"
        },
        "id": "d4GrqaUBXmxn",
        "outputId": "bdbc209d-56ea-4ad4-cb0d-f01aa2108feb"
      },
      "execution_count": 106,
      "outputs": [
        {
          "output_type": "stream",
          "name": "stdout",
          "text": [
            "Choi JIN MU\n"
          ]
        }
      ]
    },
    {
      "cell_type": "code",
      "source": [
        "# log('Choi',\"JIN\",\"MU\", sep='--')"
      ],
      "metadata": {
        "id": "H3t4aaF5XgY6"
      },
      "execution_count": 108,
      "outputs": []
    },
    {
      "cell_type": "code",
      "source": [
        "def log(*args, **kwargs):\n",
        "  print(*args, **kwargs)"
      ],
      "metadata": {
        "id": "lpxB4HbRXgaJ"
      },
      "execution_count": 109,
      "outputs": []
    },
    {
      "cell_type": "code",
      "source": [
        "log('Choi',\"JIN\",\"MU\", sep=\"--\")"
      ],
      "metadata": {
        "colab": {
          "base_uri": "https://localhost:8080/"
        },
        "id": "nGk7JkYeXgb5",
        "outputId": "cf2b5377-d94e-4667-8a18-63bab129a1df"
      },
      "execution_count": 110,
      "outputs": [
        {
          "output_type": "stream",
          "name": "stdout",
          "text": [
            "Choi--JIN--MU\n"
          ]
        }
      ]
    },
    {
      "cell_type": "code",
      "source": [
        "print('Choi',\"JIN\",\"MU\", sep=\"--\")"
      ],
      "metadata": {
        "colab": {
          "base_uri": "https://localhost:8080/"
        },
        "id": "uuOH0BtZXgdE",
        "outputId": "ce3c8f44-5e3d-44f1-e2c5-d3b89566f360"
      },
      "execution_count": 111,
      "outputs": [
        {
          "output_type": "stream",
          "name": "stdout",
          "text": [
            "Choi--JIN--MU\n"
          ]
        }
      ]
    },
    {
      "cell_type": "markdown",
      "source": [
        "# 파이썬의 내장함수 (Built-in Functions)\n",
        "별도의 import 없이 바로 사용가능한 함수들    "
      ],
      "metadata": {
        "id": "fuBFMGxae2tw"
      }
    },
    {
      "cell_type": "code",
      "source": [
        "# 파이썬의 내장함수( built-in functions)\n",
        "# 별도의 import 없이 바로 사용 가능한 함수들.\n",
        "\n",
        "# 레퍼런스 :  https://docs.python.org/3/library/functions.html\n",
        "\n",
        "# abs()\tdict()\thelp()\tmin()\tsetattr()\n",
        "# all()\tdir()\thex()\tnext()\tslice()\n",
        "# any()\tdivmod()\tid()\tobject()\tsorted()\n",
        "# ascii()\tenumerate()\tinput()\toct()\tstaticmethod()\n",
        "# bin()\teval()\tint()\topen()\tstr()\n",
        "# bool()\texec()\tisinstance()\tord()\tsum()\n",
        "# bytearray()\tfilter()\tissubclass()\tpow()\tsuper()\n",
        "# bytes()\tfloat()\titer()\tprint()\ttuple()\n",
        "# callable()\tformat()\tlen()\tproperty()\ttype()\n",
        "# chr()\tfrozenset()\tlist()\trange()\tvars()\n",
        "# classmethod()\tgetattr()\tlocals()\trepr()\tzip()\n",
        "# compile()\tglobals()\tmap()\treversed()\t__import__()\n",
        "# complex()\thasattr()\tmax()\tround()\n",
        "# delattr()\thash()\tmemoryview()\tset()"
      ],
      "metadata": {
        "id": "Ty8skT8xXgfu"
      },
      "execution_count": 112,
      "outputs": []
    },
    {
      "cell_type": "code",
      "source": [
        "data = [10, 20, 30, 40]"
      ],
      "metadata": {
        "id": "BjxQWXX7XghQ"
      },
      "execution_count": 118,
      "outputs": []
    },
    {
      "cell_type": "code",
      "source": [
        "min(data), max(data), sum(data)"
      ],
      "metadata": {
        "colab": {
          "base_uri": "https://localhost:8080/"
        },
        "id": "ve9jYMvkXgig",
        "outputId": "c1bd69d9-582a-4ed1-fd9c-0e69dac3596c"
      },
      "execution_count": 122,
      "outputs": [
        {
          "output_type": "execute_result",
          "data": {
            "text/plain": [
              "tuple"
            ]
          },
          "metadata": {},
          "execution_count": 122
        }
      ]
    },
    {
      "cell_type": "code",
      "source": [
        "type(sum)"
      ],
      "metadata": {
        "colab": {
          "base_uri": "https://localhost:8080/"
        },
        "id": "u2Io0meRWqWf",
        "outputId": "959b2663-b163-49e5-866f-df644b426f52"
      },
      "execution_count": 123,
      "outputs": [
        {
          "output_type": "execute_result",
          "data": {
            "text/plain": [
              "builtin_function_or_method"
            ]
          },
          "metadata": {},
          "execution_count": 123
        }
      ]
    },
    {
      "cell_type": "markdown",
      "source": [
        "### 실수로 내장함수를 덮어쓰기 한경우"
      ],
      "metadata": {
        "id": "pgkPbdyqfv3a"
      }
    },
    {
      "cell_type": "code",
      "source": [
        "# sum = 10 + 20"
      ],
      "metadata": {
        "id": "vQo3rRgoWqYc"
      },
      "execution_count": 124,
      "outputs": []
    },
    {
      "cell_type": "code",
      "source": [
        "#sum(data)"
      ],
      "metadata": {
        "id": "X-KYeURAWqaU"
      },
      "execution_count": 126,
      "outputs": []
    },
    {
      "cell_type": "code",
      "source": [
        "#내장함수 복원\n",
        "sum = __builtins__.sum"
      ],
      "metadata": {
        "id": "_d2mDIH2Wqbb"
      },
      "execution_count": 128,
      "outputs": []
    },
    {
      "cell_type": "markdown",
      "source": [
        "# 외장함수"
      ],
      "metadata": {
        "id": "CcNEM420gJJQ"
      }
    },
    {
      "cell_type": "code",
      "source": [
        "# 파이썬 설치시 '기본적'으로 설치된 라이브러리로부터 사용 가능한 함수들\n",
        "\n",
        "# 라이브러리(library) 란 파이썬 프로그래밍에 사용가능한 프로그램을을 모아놓은 것.\n",
        "\n",
        "# https://docs.python.org/3/library/index.html    <-- Python Standard Library"
      ],
      "metadata": {
        "id": "--9hN8VLWqc_"
      },
      "execution_count": 130,
      "outputs": []
    },
    {
      "cell_type": "markdown",
      "source": [
        "## time 모듈(module)"
      ],
      "metadata": {
        "id": "DTRJ8ImIgTLg"
      }
    },
    {
      "cell_type": "code",
      "source": [
        "import time"
      ],
      "metadata": {
        "id": "x1dawVFhWqeT"
      },
      "execution_count": 131,
      "outputs": []
    },
    {
      "cell_type": "code",
      "source": [
        "time.time() # 1970.1.1 00:00:00 초 기준으로 경과한 시간 (초)   타임스탬프(time stamp) 라고도 한다"
      ],
      "metadata": {
        "colab": {
          "base_uri": "https://localhost:8080/"
        },
        "id": "QnCUstJdWqfx",
        "outputId": "e16d365e-c606-4603-eb1a-c01220269e48"
      },
      "execution_count": 133,
      "outputs": [
        {
          "output_type": "execute_result",
          "data": {
            "text/plain": [
              "1709623555.1230972"
            ]
          },
          "metadata": {},
          "execution_count": 133
        }
      ]
    },
    {
      "cell_type": "code",
      "source": [
        "time.localtime()"
      ],
      "metadata": {
        "colab": {
          "base_uri": "https://localhost:8080/"
        },
        "id": "5D2WKV8TWqhO",
        "outputId": "097e00b2-b5b1-4dd8-cb9b-c6a7cbf7a70e"
      },
      "execution_count": 135,
      "outputs": [
        {
          "output_type": "execute_result",
          "data": {
            "text/plain": [
              "time.struct_time(tm_year=2024, tm_mon=3, tm_mday=5, tm_hour=7, tm_min=27, tm_sec=53, tm_wday=1, tm_yday=65, tm_isdst=0)"
            ]
          },
          "metadata": {},
          "execution_count": 135
        }
      ]
    },
    {
      "cell_type": "code",
      "source": [
        "import random"
      ],
      "metadata": {
        "id": "ilYwoOD1Wqio"
      },
      "execution_count": 137,
      "outputs": []
    },
    {
      "cell_type": "code",
      "source": [
        "random.random()  # 0.0 <= 1.0 사이의 난수 값"
      ],
      "metadata": {
        "colab": {
          "base_uri": "https://localhost:8080/"
        },
        "id": "ObtyGYXPVsKQ",
        "outputId": "dd5804b2-3c27-4520-fb4a-fbb7c4c22b5c"
      },
      "execution_count": 143,
      "outputs": [
        {
          "output_type": "execute_result",
          "data": {
            "text/plain": [
              "0.39059116890585"
            ]
          },
          "metadata": {},
          "execution_count": 143
        }
      ]
    },
    {
      "cell_type": "code",
      "source": [
        "random.randint(1,5)  # 1<=    <= 5 사이의 정수값"
      ],
      "metadata": {
        "colab": {
          "base_uri": "https://localhost:8080/"
        },
        "id": "Q5kvI4aCVsNy",
        "outputId": "86e4a91a-6eb0-441d-c4be-fcc1a5277462"
      },
      "execution_count": 142,
      "outputs": [
        {
          "output_type": "execute_result",
          "data": {
            "text/plain": [
              "5"
            ]
          },
          "metadata": {},
          "execution_count": 142
        }
      ]
    },
    {
      "cell_type": "code",
      "source": [
        "data = \"\"\"\n",
        "강준우\n",
        "권희수\n",
        "김동호\n",
        "김미란\n",
        "김종선\n",
        "김주희\n",
        "김창희\n",
        "김효은\n",
        "서현기\n",
        "송민호\n",
        "신철희\n",
        "유상곤\n",
        "이기원\n",
        "이상진\n",
        "이승원\n",
        "이승준\n",
        "이종현\n",
        "임승빈\n",
        "장고운\n",
        "전광현\n",
        "조재환\n",
        "최강현\n",
        "최정인\n",
        "최진무\n",
        "허지우\n",
        "\"\"\""
      ],
      "metadata": {
        "id": "ahsKKbntVsRX"
      },
      "execution_count": 148,
      "outputs": []
    },
    {
      "cell_type": "code",
      "source": [
        "data.split()"
      ],
      "metadata": {
        "colab": {
          "base_uri": "https://localhost:8080/"
        },
        "id": "O5ryBfIoVsVH",
        "outputId": "94acb4c7-2c8d-4684-e672-fc802d48ea61"
      },
      "execution_count": 151,
      "outputs": [
        {
          "output_type": "execute_result",
          "data": {
            "text/plain": [
              "['강준우',\n",
              " '권희수',\n",
              " '김동호',\n",
              " '김미란',\n",
              " '김종선',\n",
              " '김주희',\n",
              " '김창희',\n",
              " '김효은',\n",
              " '서현기',\n",
              " '송민호',\n",
              " '신철희',\n",
              " '유상곤',\n",
              " '이기원',\n",
              " '이상진',\n",
              " '이승원',\n",
              " '이승준',\n",
              " '이종현',\n",
              " '임승빈',\n",
              " '장고운',\n",
              " '전광현',\n",
              " '조재환',\n",
              " '최강현',\n",
              " '최정인',\n",
              " '최진무',\n",
              " '허지우']"
            ]
          },
          "metadata": {},
          "execution_count": 151
        }
      ]
    },
    {
      "cell_type": "code",
      "source": [
        "random.choice(data.split())"
      ],
      "metadata": {
        "colab": {
          "base_uri": "https://localhost:8080/",
          "height": 35
        },
        "id": "bkReVhlih2tO",
        "outputId": "9d57812b-4829-486e-a3a2-c5aef0b96202"
      },
      "execution_count": 157,
      "outputs": [
        {
          "output_type": "execute_result",
          "data": {
            "text/plain": [
              "'권희수'"
            ],
            "application/vnd.google.colaboratory.intrinsic+json": {
              "type": "string"
            }
          },
          "metadata": {},
          "execution_count": 157
        }
      ]
    },
    {
      "cell_type": "code",
      "source": [
        "result = data.split()\n",
        "random.shuffle(result)\n",
        "result[:5]"
      ],
      "metadata": {
        "colab": {
          "base_uri": "https://localhost:8080/"
        },
        "id": "VqzOGAZVh-Vh",
        "outputId": "f6bac527-b597-4d8d-dcd3-3c07a3b0df82"
      },
      "execution_count": 161,
      "outputs": [
        {
          "output_type": "execute_result",
          "data": {
            "text/plain": [
              "['김동호', '장고운', '조재환', '최강현', '최진무']"
            ]
          },
          "metadata": {},
          "execution_count": 161
        }
      ]
    },
    {
      "cell_type": "code",
      "source": [],
      "metadata": {
        "id": "tBjGSoRPh-Zq"
      },
      "execution_count": 151,
      "outputs": []
    },
    {
      "cell_type": "code",
      "source": [],
      "metadata": {
        "id": "VS1iaRqhh-eB"
      },
      "execution_count": 151,
      "outputs": []
    },
    {
      "cell_type": "code",
      "source": [],
      "metadata": {
        "id": "Xxj-CEwFh-ib"
      },
      "execution_count": 151,
      "outputs": []
    },
    {
      "cell_type": "code",
      "source": [],
      "metadata": {
        "id": "-X_I7mxwh-mw"
      },
      "execution_count": 161,
      "outputs": []
    },
    {
      "cell_type": "code",
      "source": [],
      "metadata": {
        "id": "RSU5O7kYiptl"
      },
      "execution_count": 161,
      "outputs": []
    },
    {
      "cell_type": "code",
      "source": [],
      "metadata": {
        "id": "E1akmJewipy6"
      },
      "execution_count": null,
      "outputs": []
    }
  ]
}