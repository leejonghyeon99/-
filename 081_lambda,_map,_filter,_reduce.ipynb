{
  "nbformat": 4,
  "nbformat_minor": 0,
  "metadata": {
    "colab": {
      "provenance": [],
      "include_colab_link": true
    },
    "kernelspec": {
      "name": "python3",
      "display_name": "Python 3"
    },
    "language_info": {
      "name": "python"
    }
  },
  "cells": [
    {
      "cell_type": "markdown",
      "metadata": {
        "id": "view-in-github",
        "colab_type": "text"
      },
      "source": [
        "<a href=\"https://colab.research.google.com/github/leejonghyeon99/python_stu/blob/main/081_lambda%2C_map%2C_filter%2C_reduce.ipynb\" target=\"_parent\"><img src=\"https://colab.research.google.com/assets/colab-badge.svg\" alt=\"Open In Colab\"/></a>"
      ]
    },
    {
      "cell_type": "markdown",
      "source": [],
      "metadata": {
        "id": "fDx0eqSLEnAA"
      }
    },
    {
      "cell_type": "code",
      "source": [
        "def square(x):\n",
        "  return x ** 2"
      ],
      "metadata": {
        "id": "XFl9SK7lEm9j"
      },
      "execution_count": null,
      "outputs": []
    },
    {
      "cell_type": "code",
      "source": [
        "type(square)"
      ],
      "metadata": {
        "colab": {
          "base_uri": "https://localhost:8080/"
        },
        "id": "IAgiK33PEm61",
        "outputId": "8bca6eff-4976-4903-c3a3-cb69ad730ec3"
      },
      "execution_count": null,
      "outputs": [
        {
          "output_type": "execute_result",
          "data": {
            "text/plain": [
              "function"
            ]
          },
          "metadata": {},
          "execution_count": 2
        }
      ]
    },
    {
      "cell_type": "code",
      "source": [
        "square(3)"
      ],
      "metadata": {
        "colab": {
          "base_uri": "https://localhost:8080/"
        },
        "id": "-FJWWkNGEm3u",
        "outputId": "9c9dcb0a-68e5-46cd-df2c-eb30cf45531c"
      },
      "execution_count": null,
      "outputs": [
        {
          "output_type": "execute_result",
          "data": {
            "text/plain": [
              "9"
            ]
          },
          "metadata": {},
          "execution_count": 3
        }
      ]
    },
    {
      "cell_type": "code",
      "source": [
        "q1 = square"
      ],
      "metadata": {
        "id": "-Yn_CbGMFFZk"
      },
      "execution_count": null,
      "outputs": []
    },
    {
      "cell_type": "code",
      "source": [
        "q1(10)"
      ],
      "metadata": {
        "colab": {
          "base_uri": "https://localhost:8080/"
        },
        "id": "Jd_58SpmEm08",
        "outputId": "1470fa0e-42c2-44a2-9bb1-cf01f10ca1b3"
      },
      "execution_count": null,
      "outputs": [
        {
          "output_type": "execute_result",
          "data": {
            "text/plain": [
              "100"
            ]
          },
          "metadata": {},
          "execution_count": 5
        }
      ]
    },
    {
      "cell_type": "markdown",
      "source": [
        "## 람다 (lambda)\n",
        "'이름이 없는(익명)' inline 함수 정의\n",
        "\n",
        "구문: `lambda [parameters]: expression`"
      ],
      "metadata": {
        "id": "Nal1mwk-FTQQ"
      }
    },
    {
      "cell_type": "code",
      "source": [
        "lambda x: x ** 2"
      ],
      "metadata": {
        "colab": {
          "base_uri": "https://localhost:8080/"
        },
        "id": "8eZV_mqwFOWn",
        "outputId": "bdc8382f-9ee7-4aa2-db8e-cf362773a3f6"
      },
      "execution_count": null,
      "outputs": [
        {
          "output_type": "execute_result",
          "data": {
            "text/plain": [
              "<function __main__.<lambda>(x)>"
            ]
          },
          "metadata": {},
          "execution_count": 6
        }
      ]
    },
    {
      "cell_type": "code",
      "source": [
        "lambda : print('hello')"
      ],
      "metadata": {
        "colab": {
          "base_uri": "https://localhost:8080/"
        },
        "id": "2zml-NgkEmxb",
        "outputId": "f4eb5006-a4b2-48f0-803c-8a0254bc23b1"
      },
      "execution_count": null,
      "outputs": [
        {
          "output_type": "execute_result",
          "data": {
            "text/plain": [
              "<function __main__.<lambda>()>"
            ]
          },
          "metadata": {},
          "execution_count": 7
        }
      ]
    },
    {
      "cell_type": "code",
      "source": [
        "lambda x, y: x + y"
      ],
      "metadata": {
        "colab": {
          "base_uri": "https://localhost:8080/"
        },
        "id": "37xqXSZWF1mg",
        "outputId": "98c7b0fd-b110-4859-f476-5950bbb3d496"
      },
      "execution_count": null,
      "outputs": [
        {
          "output_type": "execute_result",
          "data": {
            "text/plain": [
              "<function __main__.<lambda>(x, y)>"
            ]
          },
          "metadata": {},
          "execution_count": 8
        }
      ]
    },
    {
      "cell_type": "code",
      "source": [
        "add = lambda x, y: x + y"
      ],
      "metadata": {
        "id": "40firMk3F76O"
      },
      "execution_count": null,
      "outputs": []
    },
    {
      "cell_type": "code",
      "source": [
        "add(11, 22)"
      ],
      "metadata": {
        "colab": {
          "base_uri": "https://localhost:8080/"
        },
        "id": "F5SDhBgaGHts",
        "outputId": "44791c35-38a8-4793-f4a5-603ed9a439bb"
      },
      "execution_count": null,
      "outputs": [
        {
          "output_type": "execute_result",
          "data": {
            "text/plain": [
              "33"
            ]
          },
          "metadata": {},
          "execution_count": 11
        }
      ]
    },
    {
      "cell_type": "code",
      "source": [
        "(lambda x, y: x * y)(4, 2)"
      ],
      "metadata": {
        "colab": {
          "base_uri": "https://localhost:8080/"
        },
        "id": "Nlji18pXGL-W",
        "outputId": "3490926d-9f52-4a36-8e63-445de5c8e684"
      },
      "execution_count": null,
      "outputs": [
        {
          "output_type": "execute_result",
          "data": {
            "text/plain": [
              "8"
            ]
          },
          "metadata": {},
          "execution_count": 12
        }
      ]
    },
    {
      "cell_type": "code",
      "source": [
        "# 파이썬의 람다식은 여러문장 작성 불가!\n",
        "# func1 = lambda name, age:\n",
        "#         print(name)\n",
        "#         print(age)"
      ],
      "metadata": {
        "colab": {
          "base_uri": "https://localhost:8080/",
          "height": 121
        },
        "id": "f7qvAmF1Gcrf",
        "outputId": "9d7a2bb4-9690-4450-f161-601255597afd"
      },
      "execution_count": null,
      "outputs": [
        {
          "output_type": "error",
          "ename": "SyntaxError",
          "evalue": "invalid syntax (<ipython-input-13-a8f01f363bd6>, line 2)",
          "traceback": [
            "\u001b[0;36m  File \u001b[0;32m\"<ipython-input-13-a8f01f363bd6>\"\u001b[0;36m, line \u001b[0;32m2\u001b[0m\n\u001b[0;31m    func1 = lambda name, age:\u001b[0m\n\u001b[0m                             ^\u001b[0m\n\u001b[0;31mSyntaxError\u001b[0m\u001b[0;31m:\u001b[0m invalid syntax\n"
          ]
        }
      ]
    },
    {
      "cell_type": "code",
      "source": [
        "# map(), filter(), reduce() 등에서 lambda 활용 많이 함.\n",
        "\n",
        "# map: N -> N  (N개의 입력을 받아 '어떠한 동작을' 적용하여 N개의 결괏값을 생성)\n",
        "# filter: N -> N' (N' <= N)\n",
        "# reduce: N -> 1"
      ],
      "metadata": {
        "id": "ngUgdKq2G3Fv"
      },
      "execution_count": null,
      "outputs": []
    },
    {
      "cell_type": "markdown",
      "source": [
        "# map()  N개 => N"
      ],
      "metadata": {
        "id": "2iyln530HdlS"
      }
    },
    {
      "cell_type": "code",
      "source": [
        "# '집합데이터' 에 ~~한 동작/연산을 수행/적용하는 함수' 를 세트로 주어\n",
        "# 일괄 처리 할수 있다\n",
        "# 파이썬에는 이와 같은 일을 처리하는 함수가 있다.\n",
        "# 바로 map() 이다\n",
        "\n",
        "# 구문\n",
        "#  map(함수, iterable 데이터)     #<-- 이때 data 는 iterable 해야 한다\n",
        "\n",
        "#  map() 결과 리턴값은 'map객체' 이고 이 또한 iterable 하다!\n"
      ],
      "metadata": {
        "id": "jv49ouVwHhbG"
      },
      "execution_count": null,
      "outputs": []
    },
    {
      "cell_type": "code",
      "source": [
        "square(2)"
      ],
      "metadata": {
        "colab": {
          "base_uri": "https://localhost:8080/"
        },
        "id": "z4bCH0j3HEDD",
        "outputId": "45ddd49b-d6fb-456f-c464-f08a67694149"
      },
      "execution_count": null,
      "outputs": [
        {
          "output_type": "execute_result",
          "data": {
            "text/plain": [
              "4"
            ]
          },
          "metadata": {},
          "execution_count": 15
        }
      ]
    },
    {
      "cell_type": "code",
      "source": [
        "list(map(square, [1, 2, 3]))"
      ],
      "metadata": {
        "colab": {
          "base_uri": "https://localhost:8080/"
        },
        "id": "AVkM98b1GEuS",
        "outputId": "1eb29b0f-7510-4097-f9ec-2dd70c6a7e99"
      },
      "execution_count": null,
      "outputs": [
        {
          "output_type": "execute_result",
          "data": {
            "text/plain": [
              "[1, 4, 9]"
            ]
          },
          "metadata": {},
          "execution_count": 17
        }
      ]
    },
    {
      "cell_type": "code",
      "source": [
        "\"Hello Python\".upper()"
      ],
      "metadata": {
        "colab": {
          "base_uri": "https://localhost:8080/",
          "height": 39
        },
        "id": "7iHfT36OIB3Q",
        "outputId": "bd4cc540-70c1-4f7e-ce3f-e39c11a95d51"
      },
      "execution_count": null,
      "outputs": [
        {
          "output_type": "execute_result",
          "data": {
            "text/plain": [
              "'HELLO PYTHON'"
            ],
            "application/vnd.google.colaboratory.intrinsic+json": {
              "type": "string"
            }
          },
          "metadata": {},
          "execution_count": 18
        }
      ]
    },
    {
      "cell_type": "code",
      "source": [
        "str.upper(\"Hello Python\")"
      ],
      "metadata": {
        "colab": {
          "base_uri": "https://localhost:8080/",
          "height": 39
        },
        "id": "GyNAxyNlIUjv",
        "outputId": "c9765aa1-af14-4675-ea79-8d50cb7b7603"
      },
      "execution_count": null,
      "outputs": [
        {
          "output_type": "execute_result",
          "data": {
            "text/plain": [
              "'HELLO PYTHON'"
            ],
            "application/vnd.google.colaboratory.intrinsic+json": {
              "type": "string"
            }
          },
          "metadata": {},
          "execution_count": 19
        }
      ]
    },
    {
      "cell_type": "code",
      "source": [
        "str.upper"
      ],
      "metadata": {
        "colab": {
          "base_uri": "https://localhost:8080/"
        },
        "id": "ur_G6eL2IiMD",
        "outputId": "4497ce07-f40e-4fb5-d9b5-39e10b1d18a1"
      },
      "execution_count": null,
      "outputs": [
        {
          "output_type": "execute_result",
          "data": {
            "text/plain": [
              "<method 'upper' of 'str' objects>"
            ]
          },
          "metadata": {},
          "execution_count": 20
        }
      ]
    },
    {
      "cell_type": "code",
      "source": [
        "list(map(str.upper, \"apple\"))"
      ],
      "metadata": {
        "colab": {
          "base_uri": "https://localhost:8080/"
        },
        "id": "vDirqKufIy04",
        "outputId": "b63c3c22-8aaa-4b0f-f54b-4e0e913867f0"
      },
      "execution_count": null,
      "outputs": [
        {
          "output_type": "execute_result",
          "data": {
            "text/plain": [
              "['A', 'P', 'P', 'L', 'E']"
            ]
          },
          "metadata": {},
          "execution_count": 21
        }
      ]
    },
    {
      "cell_type": "code",
      "source": [
        "list(map(lambda x: x ** 2, [10, 20, 30]))"
      ],
      "metadata": {
        "colab": {
          "base_uri": "https://localhost:8080/"
        },
        "id": "wT5lkhfgJDiv",
        "outputId": "211dcf00-ea92-4618-ee1e-271450ee0bbd"
      },
      "execution_count": null,
      "outputs": [
        {
          "output_type": "execute_result",
          "data": {
            "text/plain": [
              "[100, 400, 900]"
            ]
          },
          "metadata": {},
          "execution_count": 22
        }
      ]
    },
    {
      "cell_type": "code",
      "source": [
        "# 도전\n",
        "# CSV 파일 데이터의 형태에서\n",
        "data = \"\"\"height,weight,label\n",
        "140,45,normal\n",
        "145,72,fat\n",
        "150,61,fat\n",
        "137,56,fat\n",
        "192,48,thin\n",
        "175,77,fat\"\"\"  # <-- excel 에서 확인 가능하다!\n",
        "print(data)\n",
        "\n",
        "\n",
        "# 아래와 같은 리스트로 만들기\n",
        "# [[140.0, 45.0, 'normal'],\n",
        "#  [145.0, 72.0, 'fat'],\n",
        "#  [150.0, 61.0, 'fat'],\n",
        "#  [137.0, 56.0, 'fat'],\n",
        "#  [192.0, 48.0, 'thin'],\n",
        "#  [175.0, 77.0, 'fat']]\n",
        "\n",
        "\n"
      ],
      "metadata": {
        "colab": {
          "base_uri": "https://localhost:8080/"
        },
        "id": "sw0879QoJWRk",
        "outputId": "47cadfc5-3d34-4067-f54d-0829a870f8ae"
      },
      "execution_count": null,
      "outputs": [
        {
          "output_type": "stream",
          "name": "stdout",
          "text": [
            "height,weight,label\n",
            "140,45,normal\n",
            "145,72,fat\n",
            "150,61,fat\n",
            "137,56,fat\n",
            "192,48,thin\n",
            "175,77,fat\n"
          ]
        }
      ]
    },
    {
      "cell_type": "code",
      "source": [
        "# 과정 hint\n",
        "# 1. line 별로 쪼개기 (split 사용)\n",
        "# 2. 각 line 을 ',' 로 쪼개기  (split 사용)\n",
        "# 3. 각 데이터는, '숫자'면 float로 변환, 아니면 그대로\n",
        "#                 isdigit() 사용.\n",
        "\n",
        "# map() 을 사용해서 가능할까?"
      ],
      "metadata": {
        "id": "OQqL141WH8Ie"
      },
      "execution_count": null,
      "outputs": []
    },
    {
      "cell_type": "code",
      "source": [
        "\"10\".isdigit()"
      ],
      "metadata": {
        "colab": {
          "base_uri": "https://localhost:8080/"
        },
        "id": "PcHfw752Emt8",
        "outputId": "75119825-4da9-4c91-9f9f-e653afb3e5fd"
      },
      "execution_count": null,
      "outputs": [
        {
          "output_type": "execute_result",
          "data": {
            "text/plain": [
              "True"
            ]
          },
          "metadata": {},
          "execution_count": 24
        }
      ]
    },
    {
      "cell_type": "code",
      "source": [
        "\"최진무\".isdigit()"
      ],
      "metadata": {
        "colab": {
          "base_uri": "https://localhost:8080/"
        },
        "id": "9yUoQEHiKS1Y",
        "outputId": "36fdae11-9125-4481-fc6d-721dab09fd70"
      },
      "execution_count": null,
      "outputs": [
        {
          "output_type": "execute_result",
          "data": {
            "text/plain": [
              "False"
            ]
          },
          "metadata": {},
          "execution_count": 25
        }
      ]
    },
    {
      "cell_type": "code",
      "source": [
        "lines = data.split('\\n')\n",
        "lines"
      ],
      "metadata": {
        "colab": {
          "base_uri": "https://localhost:8080/"
        },
        "id": "suEr-kMURXWp",
        "outputId": "c7e7c4f0-5ae8-4b70-f06a-c40cfdeba610"
      },
      "execution_count": null,
      "outputs": [
        {
          "output_type": "execute_result",
          "data": {
            "text/plain": [
              "['height,weight,label',\n",
              " '140,45,normal',\n",
              " '145,72,fat',\n",
              " '150,61,fat',\n",
              " '137,56,fat',\n",
              " '192,48,thin',\n",
              " '175,77,fat']"
            ]
          },
          "metadata": {},
          "execution_count": 28
        }
      ]
    },
    {
      "cell_type": "code",
      "source": [
        "lines[1].strip().split(',')"
      ],
      "metadata": {
        "colab": {
          "base_uri": "https://localhost:8080/"
        },
        "id": "1e_XifEIRkAH",
        "outputId": "b5c16647-f92b-437c-cc05-58cb802e77f3"
      },
      "execution_count": null,
      "outputs": [
        {
          "output_type": "execute_result",
          "data": {
            "text/plain": [
              "['140', '45', 'normal']"
            ]
          },
          "metadata": {},
          "execution_count": 30
        }
      ]
    },
    {
      "cell_type": "code",
      "source": [
        "lines[1].strip().split(',')[0]"
      ],
      "metadata": {
        "colab": {
          "base_uri": "https://localhost:8080/",
          "height": 39
        },
        "id": "2MG1AnEMRs7_",
        "outputId": "c8182e46-6525-4571-f80f-ecae32c52dac"
      },
      "execution_count": null,
      "outputs": [
        {
          "output_type": "execute_result",
          "data": {
            "text/plain": [
              "'140'"
            ],
            "application/vnd.google.colaboratory.intrinsic+json": {
              "type": "string"
            }
          },
          "metadata": {},
          "execution_count": 31
        }
      ]
    },
    {
      "cell_type": "code",
      "source": [
        "# ['140', '45', 'normal'] -> [140.0, 45.0, 'normal']"
      ],
      "metadata": {
        "id": "mcFKKraaRzL5"
      },
      "execution_count": null,
      "outputs": []
    },
    {
      "cell_type": "code",
      "source": [
        "tonum = lambda n : float(n) if n.isdigit() else n"
      ],
      "metadata": {
        "id": "bTZQSDH1Rocx"
      },
      "execution_count": null,
      "outputs": []
    },
    {
      "cell_type": "code",
      "source": [
        "list(map(tonum, ['140', '45', 'normal']))"
      ],
      "metadata": {
        "colab": {
          "base_uri": "https://localhost:8080/"
        },
        "id": "JtFHjdKKSOUj",
        "outputId": "4ea263d2-edac-4caa-a8e8-714bdc565b0c"
      },
      "execution_count": null,
      "outputs": [
        {
          "output_type": "execute_result",
          "data": {
            "text/plain": [
              "[140.0, 45.0, 'normal']"
            ]
          },
          "metadata": {},
          "execution_count": 34
        }
      ]
    },
    {
      "cell_type": "code",
      "source": [
        "# '145,72,fat' => [145.0, 72.0, 'fat']\n",
        "\n",
        "cols = lambda line: list(map(tonum, line.strip().split(',')))"
      ],
      "metadata": {
        "id": "ZgppGEj7SUpQ"
      },
      "execution_count": null,
      "outputs": []
    },
    {
      "cell_type": "code",
      "source": [
        "cols('145,72,fat')"
      ],
      "metadata": {
        "colab": {
          "base_uri": "https://localhost:8080/"
        },
        "id": "03n8o-exS2fx",
        "outputId": "0c865461-d462-42df-e80c-bcbe6246357c"
      },
      "execution_count": null,
      "outputs": [
        {
          "output_type": "execute_result",
          "data": {
            "text/plain": [
              "[145.0, 72.0, 'fat']"
            ]
          },
          "metadata": {},
          "execution_count": 36
        }
      ]
    },
    {
      "cell_type": "code",
      "source": [
        "list(map(cols, lines))[1:]"
      ],
      "metadata": {
        "colab": {
          "base_uri": "https://localhost:8080/"
        },
        "id": "ZmBXOKH9S4_z",
        "outputId": "ecbfc29a-0047-4b70-a2df-93fc2e7afab5"
      },
      "execution_count": null,
      "outputs": [
        {
          "output_type": "execute_result",
          "data": {
            "text/plain": [
              "[[140.0, 45.0, 'normal'],\n",
              " [145.0, 72.0, 'fat'],\n",
              " [150.0, 61.0, 'fat'],\n",
              " [137.0, 56.0, 'fat'],\n",
              " [192.0, 48.0, 'thin'],\n",
              " [175.0, 77.0, 'fat']]"
            ]
          },
          "metadata": {},
          "execution_count": 39
        }
      ]
    },
    {
      "cell_type": "code",
      "source": [
        "lines = data.split(\"\\n\")\n",
        "tonum = lambda n : float(n) if n.isdigit() else n\n",
        "cols = lambda line : list(map(tonum, line.strip().split(',')))\n",
        "list(map(cols, lines))[1:]"
      ],
      "metadata": {
        "colab": {
          "base_uri": "https://localhost:8080/"
        },
        "id": "YiBaLyRqTPJw",
        "outputId": "179a9d6f-38b6-4587-ecc1-ddc0a6daa975"
      },
      "execution_count": null,
      "outputs": [
        {
          "output_type": "execute_result",
          "data": {
            "text/plain": [
              "[[140.0, 45.0, 'normal'],\n",
              " [145.0, 72.0, 'fat'],\n",
              " [150.0, 61.0, 'fat'],\n",
              " [137.0, 56.0, 'fat'],\n",
              " [192.0, 48.0, 'thin'],\n",
              " [175.0, 77.0, 'fat']]"
            ]
          },
          "metadata": {},
          "execution_count": 42
        }
      ]
    },
    {
      "cell_type": "markdown",
      "source": [
        "# filter() : N => N'  (N' <= N)"
      ],
      "metadata": {
        "id": "c3nb2aBJT_bF"
      }
    },
    {
      "cell_type": "code",
      "source": [
        "# 구문 : filter(function, iterable)\n",
        "\n",
        "# filter에 인자로 사용되는 function은 처리되는 각각의 요소에 대해 참/거짓 값을 반환합니다.\n",
        "# '참'을 반환하면 그 요소는 남게 되고, '거짓'을 반환하면 그 요소는 제거 됩니다\n",
        "\n",
        "# filter() 결과는 filter 객체  (이또한 iterable 하다)"
      ],
      "metadata": {
        "id": "aPM-sNuPTo-h"
      },
      "execution_count": null,
      "outputs": []
    },
    {
      "cell_type": "code",
      "source": [
        "filter(lambda x: x % 3 == 0, [3, 7, 9])"
      ],
      "metadata": {
        "colab": {
          "base_uri": "https://localhost:8080/"
        },
        "id": "dyEoI_YNTn3b",
        "outputId": "4c097efa-505d-4290-ef79-c7b1cb21b0ab"
      },
      "execution_count": null,
      "outputs": [
        {
          "output_type": "execute_result",
          "data": {
            "text/plain": [
              "<filter at 0x78295bf9ef80>"
            ]
          },
          "metadata": {},
          "execution_count": 43
        }
      ]
    },
    {
      "cell_type": "code",
      "source": [
        "list(filter(lambda x: x % 3 == 0, [3, 7, 9]))"
      ],
      "metadata": {
        "colab": {
          "base_uri": "https://localhost:8080/"
        },
        "id": "LPcAYA32UiGe",
        "outputId": "4565868c-a616-4e63-c4b8-7197e6d7c0bc"
      },
      "execution_count": null,
      "outputs": [
        {
          "output_type": "execute_result",
          "data": {
            "text/plain": [
              "[3, 9]"
            ]
          },
          "metadata": {},
          "execution_count": 44
        }
      ]
    },
    {
      "cell_type": "code",
      "source": [
        "dataset = [1, -2, 3, -4, 5]\n",
        "\n",
        "# 양수인 숫자들을 제곱한 결과 => [1, 9, 25]"
      ],
      "metadata": {
        "id": "1wVM8bCTUmch"
      },
      "execution_count": null,
      "outputs": []
    },
    {
      "cell_type": "code",
      "source": [
        "filter(lambda x: x > 0, dataset)  # [1, 3, 5]"
      ],
      "metadata": {
        "colab": {
          "base_uri": "https://localhost:8080/"
        },
        "id": "7s6EXps8TfG2",
        "outputId": "9e2d8ddb-e1cb-4069-dd99-14dd7be8f299"
      },
      "execution_count": null,
      "outputs": [
        {
          "output_type": "execute_result",
          "data": {
            "text/plain": [
              "<filter at 0x78295bf9fa90>"
            ]
          },
          "metadata": {},
          "execution_count": 47
        }
      ]
    },
    {
      "cell_type": "code",
      "source": [
        "list(map(lambda x: x ** 2, filter(lambda x: x > 0, dataset)))"
      ],
      "metadata": {
        "colab": {
          "base_uri": "https://localhost:8080/"
        },
        "id": "6KJ6P3yDVK9M",
        "outputId": "ad24f5e2-553b-4477-83af-272ff868c854"
      },
      "execution_count": null,
      "outputs": [
        {
          "output_type": "execute_result",
          "data": {
            "text/plain": [
              "[1, 9, 25]"
            ]
          },
          "metadata": {},
          "execution_count": 48
        }
      ]
    },
    {
      "cell_type": "code",
      "source": [
        "[x ** 2 for x in dataset if x > 0]  # comprehension 으로 만들기"
      ],
      "metadata": {
        "colab": {
          "base_uri": "https://localhost:8080/"
        },
        "id": "SG4Zg9DDVfAI",
        "outputId": "7f14e50a-7687-4cf4-a37e-dcef6a76a3fd"
      },
      "execution_count": null,
      "outputs": [
        {
          "output_type": "execute_result",
          "data": {
            "text/plain": [
              "[1, 9, 25]"
            ]
          },
          "metadata": {},
          "execution_count": 51
        }
      ]
    },
    {
      "cell_type": "markdown",
      "source": [
        "# reduce() 함수  N개 => 1개"
      ],
      "metadata": {
        "id": "MBOGnvIWV-eW"
      }
    },
    {
      "cell_type": "code",
      "source": [
        "from functools import reduce"
      ],
      "metadata": {
        "id": "vbVcX065WA0F"
      },
      "execution_count": null,
      "outputs": []
    },
    {
      "cell_type": "code",
      "source": [
        "# 구문\n",
        "# functools.reduce(function, iterable[, initializer])\n",
        "\n",
        "\n",
        "# function 을 사용해서 iterable을  집계연산을 통해 '하나의 값'을 리턴한다.\n",
        "# 위 function 은 두개의 매개변수를 받아서 하나의 값을 리턴해야 한다.\n",
        "# initializer 는 주어지면 첫 번째 인자로서 추가됩니다"
      ],
      "metadata": {
        "id": "JeTBM21LWJq6"
      },
      "execution_count": null,
      "outputs": []
    },
    {
      "cell_type": "code",
      "source": [
        "reduce(lambda x, y: x + y, [1, 2, 3, 4, 5])"
      ],
      "metadata": {
        "colab": {
          "base_uri": "https://localhost:8080/"
        },
        "id": "BrCSlp32WO3Q",
        "outputId": "b13fd41a-a188-43ff-e2e5-bad9f01ca55a"
      },
      "execution_count": null,
      "outputs": [
        {
          "output_type": "execute_result",
          "data": {
            "text/plain": [
              "15"
            ]
          },
          "metadata": {},
          "execution_count": 54
        }
      ]
    },
    {
      "cell_type": "code",
      "source": [
        "# initializer 활용"
      ],
      "metadata": {
        "id": "TryMIXTfWqtW"
      },
      "execution_count": null,
      "outputs": []
    },
    {
      "cell_type": "code",
      "source": [
        "# [1, 2, 3] ==> [1, 4, 9]  <- 관점에 따라서 이는 1개짜리 데이터 (list 한개)"
      ],
      "metadata": {
        "id": "BQDmKmdBXDMe"
      },
      "execution_count": null,
      "outputs": []
    },
    {
      "cell_type": "code",
      "source": [
        "def func(a, b):\n",
        "  print((a, b))   # 중간단계\n",
        "  a.append(b ** 2)\n",
        "  return a\n",
        "\n",
        "reduce(func, [1, 2, 3], [])   # 초깃값 []"
      ],
      "metadata": {
        "colab": {
          "base_uri": "https://localhost:8080/"
        },
        "id": "owgksoOgXYEy",
        "outputId": "c4021c79-65a2-4ad6-e014-6ffe6d4a6716"
      },
      "execution_count": null,
      "outputs": [
        {
          "output_type": "stream",
          "name": "stdout",
          "text": [
            "([], 1)\n",
            "([1], 2)\n",
            "([1, 4], 3)\n"
          ]
        },
        {
          "output_type": "execute_result",
          "data": {
            "text/plain": [
              "[1, 4, 9]"
            ]
          },
          "metadata": {},
          "execution_count": 58
        }
      ]
    },
    {
      "cell_type": "code",
      "source": [
        "#   []   | [1,   2,   3]\n",
        "#     ↓    ↓\n",
        "# func([], 1)\n",
        "#       ↓\n",
        "#      [1]    2     3\n",
        "#         ↓   ↓\n",
        "#    func([1], 2)\n",
        "#           ↓\n",
        "#        [1, 4]    3\n",
        "#            ↓     ↓\n",
        "#      func([1, 4], 3)\n",
        "#                ↓\n",
        "#            [1, 4, 9]\n"
      ],
      "metadata": {
        "id": "LQzWiLUWX0LT"
      },
      "execution_count": null,
      "outputs": []
    },
    {
      "cell_type": "code",
      "source": [
        "# lambda 로 가능할까?\n",
        "# reduce(lambda a, b: a.append(b ** 2), [1, 2, 3], [])  # 에러 .  append() 의 리턴값은 None\n",
        "\n",
        "# reduce(lambda a, b: a + [b ** 2], [1, 2, 3], [])  # 가능은 하나, 성능 나쁨. + 연산마다 새로운 list 생성\n",
        "\n",
        "# 파이썬 에서 많이 사용하는 기법, SCE 사용\n",
        "reduce(lambda a, b: a.append(b ** 2) or a, [1, 2, 3], [])"
      ],
      "metadata": {
        "colab": {
          "base_uri": "https://localhost:8080/"
        },
        "id": "f9GHSvzwXHUJ",
        "outputId": "4404ba77-9631-46cc-a1fe-acaf1b62b898"
      },
      "execution_count": null,
      "outputs": [
        {
          "output_type": "execute_result",
          "data": {
            "text/plain": [
              "[1, 4, 9]"
            ]
          },
          "metadata": {},
          "execution_count": 63
        }
      ]
    },
    {
      "cell_type": "code",
      "source": [
        "# 아이템 개수 구하기\n",
        "\n",
        "dataset = [\"dog\", \"dog\", \"dog\", \"cat\", \"cat\", \"bird\"]\n",
        "\n",
        "# 개수구하기 결과 =>  {'dog': 3, 'cat': 2, 'bird': 1}"
      ],
      "metadata": {
        "id": "7hjXrCCRZcZD"
      },
      "execution_count": null,
      "outputs": []
    },
    {
      "cell_type": "code",
      "source": [
        "# 방법1: for 사용\n",
        "\n",
        "def count_element(elements):\n",
        "  result = {}\n",
        "  for element in elements:\n",
        "    v = result.get(element)\n",
        "    if v:\n",
        "      result[element] += 1\n",
        "    else:\n",
        "      result[element] = 1\n",
        "\n",
        "  return result\n",
        "\n",
        "count_element(dataset)"
      ],
      "metadata": {
        "colab": {
          "base_uri": "https://localhost:8080/"
        },
        "id": "E91qN2EoZiPX",
        "outputId": "165d1161-582d-4ecf-8653-8d6d1cc8af51"
      },
      "execution_count": null,
      "outputs": [
        {
          "output_type": "execute_result",
          "data": {
            "text/plain": [
              "{'dog': 3, 'cat': 2, 'bird': 1}"
            ]
          },
          "metadata": {},
          "execution_count": 65
        }
      ]
    },
    {
      "cell_type": "code",
      "source": [
        "def count_element(elements):\n",
        "  result = {}\n",
        "  for element in elements:\n",
        "    result[element] = result.get(element, 0) + 1\n",
        "\n",
        "  return result\n",
        "\n",
        "count_element(dataset)"
      ],
      "metadata": {
        "colab": {
          "base_uri": "https://localhost:8080/"
        },
        "id": "DDcAzyAYalX1",
        "outputId": "8d41f6fa-9658-4490-8049-0be747384cfd"
      },
      "execution_count": null,
      "outputs": [
        {
          "output_type": "execute_result",
          "data": {
            "text/plain": [
              "{'dog': 3, 'cat': 2, 'bird': 1}"
            ]
          },
          "metadata": {},
          "execution_count": 66
        }
      ]
    },
    {
      "cell_type": "code",
      "source": [
        "# 방법2 : reduce 사용"
      ],
      "metadata": {
        "id": "vKxJlNTua5jO"
      },
      "execution_count": null,
      "outputs": []
    },
    {
      "cell_type": "code",
      "source": [
        "def inner_func(result, element):\n",
        "  result[element] = result.get(element, 0) + 1\n",
        "  return result\n",
        "\n",
        "reduce(inner_func, dataset, {})"
      ],
      "metadata": {
        "colab": {
          "base_uri": "https://localhost:8080/"
        },
        "id": "a9RVMlxzbA3V",
        "outputId": "98631b57-1813-421d-81bd-928bd1ee0537"
      },
      "execution_count": null,
      "outputs": [
        {
          "output_type": "execute_result",
          "data": {
            "text/plain": [
              "{'dog': 3, 'cat': 2, 'bird': 1}"
            ]
          },
          "metadata": {},
          "execution_count": 68
        }
      ]
    },
    {
      "cell_type": "code",
      "source": [
        "reduce(\n",
        "    lambda r, e: r.update({e: r.get(e, 0) + 1}) or r,\n",
        "    dataset,  # [\"dog\", \"dog\", \"dog\", \"cat\", \"cat\", \"bird\"]\n",
        "    {}  # initializer\n",
        ")"
      ],
      "metadata": {
        "colab": {
          "base_uri": "https://localhost:8080/"
        },
        "id": "6NaIvY2abZEz",
        "outputId": "b0d6929c-17a3-4b1e-dd9f-5df4f3d8261a"
      },
      "execution_count": null,
      "outputs": [
        {
          "output_type": "execute_result",
          "data": {
            "text/plain": [
              "{'dog': 3, 'cat': 2, 'bird': 1}"
            ]
          },
          "metadata": {},
          "execution_count": 69
        }
      ]
    },
    {
      "cell_type": "code",
      "source": [
        "\"\"\"\n",
        "  {} | [\"dog\", \"dog\", \"dog\", \"cat\", \"cat\", \"bird\"]\n",
        "     ↘   ↓\n",
        "    {'dog':1} | [\"dog\", \"dog\", \"cat\", \"cat\", \"bird\"]\n",
        "           ↘   ↓\n",
        "           {'dog':2} | [\"dog\", \"cat\", \"cat\", \"bird\"]\n",
        "                   ↘   ↓\n",
        "                 {'dog':3} | [\"cat\", \"cat\", \"bird\"]\n",
        "                        ↘   ↓\n",
        "                  {'dog':3, 'cat':1} | [\"cat\", \"bird\"]\n",
        "                                    ↘   ↓\n",
        "                          {'dog':3, 'cat':2} | [\"bird\"]\n",
        "                                            ↘   ↓\n",
        "                               {'dog':3, 'cat':2, 'bird':1}\n",
        "\"\"\"\n",
        "None"
      ],
      "metadata": {
        "id": "ENjRjGS2c2H3"
      },
      "execution_count": null,
      "outputs": []
    },
    {
      "cell_type": "code",
      "source": [],
      "metadata": {
        "id": "Hvd9mBTfczDI"
      },
      "execution_count": null,
      "outputs": []
    },
    {
      "cell_type": "code",
      "source": [],
      "metadata": {
        "id": "_H1kvBMFYvn6"
      },
      "execution_count": null,
      "outputs": []
    },
    {
      "cell_type": "code",
      "source": [],
      "metadata": {
        "id": "y8GZ6JRoYR4x"
      },
      "execution_count": null,
      "outputs": []
    },
    {
      "cell_type": "code",
      "source": [],
      "metadata": {
        "id": "1xCwex8EV0Bt"
      },
      "execution_count": null,
      "outputs": []
    },
    {
      "cell_type": "code",
      "source": [],
      "metadata": {
        "id": "Ezn7EsSDVwLp"
      },
      "execution_count": null,
      "outputs": []
    },
    {
      "cell_type": "code",
      "source": [],
      "metadata": {
        "id": "rmh1uQxzVsJB"
      },
      "execution_count": null,
      "outputs": []
    },
    {
      "cell_type": "code",
      "source": [],
      "metadata": {
        "id": "FtIUdp4rVICF"
      },
      "execution_count": null,
      "outputs": []
    },
    {
      "cell_type": "code",
      "source": [],
      "metadata": {
        "id": "2qgOBvVhTGns"
      },
      "execution_count": null,
      "outputs": []
    },
    {
      "cell_type": "code",
      "source": [],
      "metadata": {
        "id": "CmmmDZq1TBq8"
      },
      "execution_count": null,
      "outputs": []
    },
    {
      "cell_type": "code",
      "source": [],
      "metadata": {
        "id": "yHLSXEJUSH3R"
      },
      "execution_count": null,
      "outputs": []
    },
    {
      "cell_type": "code",
      "source": [],
      "metadata": {
        "id": "Q-27up5wRfgH"
      },
      "execution_count": null,
      "outputs": []
    },
    {
      "cell_type": "code",
      "source": [],
      "metadata": {
        "id": "XWIHMzErRdII"
      },
      "execution_count": null,
      "outputs": []
    },
    {
      "cell_type": "code",
      "source": [],
      "metadata": {
        "id": "fFKEEK9FRXRs"
      },
      "execution_count": null,
      "outputs": []
    },
    {
      "cell_type": "code",
      "source": [],
      "metadata": {
        "id": "0pGkK6XCRXMb"
      },
      "execution_count": null,
      "outputs": []
    },
    {
      "cell_type": "code",
      "source": [],
      "metadata": {
        "id": "Hz3JWv-mRXHX"
      },
      "execution_count": null,
      "outputs": []
    },
    {
      "cell_type": "code",
      "source": [],
      "metadata": {
        "id": "JT_hJ9kZRXB-"
      },
      "execution_count": null,
      "outputs": []
    },
    {
      "cell_type": "code",
      "source": [],
      "metadata": {
        "id": "yRt11wQ9RW7t"
      },
      "execution_count": null,
      "outputs": []
    },
    {
      "cell_type": "code",
      "source": [],
      "metadata": {
        "id": "gDECQtt7RW3G"
      },
      "execution_count": null,
      "outputs": []
    },
    {
      "cell_type": "code",
      "source": [],
      "metadata": {
        "id": "h3r8MfhbKWej"
      },
      "execution_count": null,
      "outputs": []
    },
    {
      "cell_type": "code",
      "source": [],
      "metadata": {
        "id": "Igs0b61iEmqC"
      },
      "execution_count": null,
      "outputs": []
    },
    {
      "cell_type": "code",
      "source": [],
      "metadata": {
        "id": "t3QS1vbhEmna"
      },
      "execution_count": null,
      "outputs": []
    },
    {
      "cell_type": "code",
      "source": [],
      "metadata": {
        "id": "SnmjEWU3EmkJ"
      },
      "execution_count": null,
      "outputs": []
    },
    {
      "cell_type": "code",
      "execution_count": null,
      "metadata": {
        "id": "iZMsDUS6Eeot"
      },
      "outputs": [],
      "source": []
    }
  ]
}