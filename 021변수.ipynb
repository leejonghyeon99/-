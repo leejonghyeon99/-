{
  "nbformat": 4,
  "nbformat_minor": 0,
  "metadata": {
    "colab": {
      "provenance": [],
      "authorship_tag": "ABX9TyOwoJZXpdZmB1xmMCIStDke",
      "include_colab_link": true
    },
    "kernelspec": {
      "name": "python3",
      "display_name": "Python 3"
    },
    "language_info": {
      "name": "python"
    }
  },
  "cells": [
    {
      "cell_type": "markdown",
      "metadata": {
        "id": "view-in-github",
        "colab_type": "text"
      },
      "source": [
        "<a href=\"https://colab.research.google.com/github/leejonghyeon99/python_stu/blob/main/021%EB%B3%80%EC%88%98.ipynb\" target=\"_parent\"><img src=\"https://colab.research.google.com/assets/colab-badge.svg\" alt=\"Open In Colab\"/></a>"
      ]
    },
    {
      "cell_type": "markdown",
      "source": [
        "# 변수 ( Variable)\n"
      ],
      "metadata": {
        "id": "HifHeZrnPROK"
      }
    },
    {
      "cell_type": "code",
      "execution_count": 2,
      "metadata": {
        "id": "N2xQ_OvxPLou"
      },
      "outputs": [],
      "source": [
        "#파이썬은 변수 선언시 특별한 키워드 x"
      ]
    },
    {
      "cell_type": "code",
      "source": [
        "a = 10\n",
        "a"
      ],
      "metadata": {
        "colab": {
          "base_uri": "https://localhost:8080/"
        },
        "id": "gysPwtO4Pfjs",
        "outputId": "12c46b30-ca20-4ff5-fd6d-a19eae0f5fe2"
      },
      "execution_count": 5,
      "outputs": [
        {
          "output_type": "execute_result",
          "data": {
            "text/plain": [
              "10"
            ]
          },
          "metadata": {},
          "execution_count": 5
        }
      ]
    },
    {
      "cell_type": "code",
      "source": [
        "type(a)"
      ],
      "metadata": {
        "colab": {
          "base_uri": "https://localhost:8080/"
        },
        "id": "pmLDzSRPPmS4",
        "outputId": "f85531cf-8a67-4c31-9e5f-278c8e2164e3"
      },
      "execution_count": 6,
      "outputs": [
        {
          "output_type": "execute_result",
          "data": {
            "text/plain": [
              "int"
            ]
          },
          "metadata": {},
          "execution_count": 6
        }
      ]
    },
    {
      "cell_type": "code",
      "source": [
        "print(\"a 값은\", a, \"입니다\")"
      ],
      "metadata": {
        "colab": {
          "base_uri": "https://localhost:8080/"
        },
        "id": "bbMWueJYPn1U",
        "outputId": "70606389-21c8-42b0-acd4-102f9c5bb972"
      },
      "execution_count": 7,
      "outputs": [
        {
          "output_type": "stream",
          "name": "stdout",
          "text": [
            "a 값은 10 입니다\n"
          ]
        }
      ]
    },
    {
      "cell_type": "code",
      "source": [
        "b = 5\n",
        "print(a + b)"
      ],
      "metadata": {
        "colab": {
          "base_uri": "https://localhost:8080/"
        },
        "id": "55hyIAIbPt33",
        "outputId": "063e3e9d-13e8-4cb9-fccb-4b47ec45cee2"
      },
      "execution_count": 10,
      "outputs": [
        {
          "output_type": "stream",
          "name": "stdout",
          "text": [
            "15\n"
          ]
        }
      ]
    },
    {
      "cell_type": "code",
      "source": [
        "#print(c) #NameError"
      ],
      "metadata": {
        "id": "av4D2hknQAC9"
      },
      "execution_count": 11,
      "outputs": []
    },
    {
      "cell_type": "code",
      "source": [
        "print(a)"
      ],
      "metadata": {
        "colab": {
          "base_uri": "https://localhost:8080/"
        },
        "id": "Lsull2lxQHye",
        "outputId": "4c2f1061-4daf-4792-f0d6-eead7ce11b26"
      },
      "execution_count": 12,
      "outputs": [
        {
          "output_type": "stream",
          "name": "stdout",
          "text": [
            "10\n"
          ]
        }
      ]
    },
    {
      "cell_type": "markdown",
      "source": [
        "# 형변환 함수\n",
        "int(), float(), bool()"
      ],
      "metadata": {
        "id": "1t2liNHMQhBy"
      }
    },
    {
      "cell_type": "code",
      "source": [
        "myName = \"홍길동\""
      ],
      "metadata": {
        "id": "_NQleGO8Qky6"
      },
      "execution_count": 13,
      "outputs": []
    },
    {
      "cell_type": "code",
      "source": [
        "print(\"제 이름은\", myName, \"입니다\");"
      ],
      "metadata": {
        "colab": {
          "base_uri": "https://localhost:8080/"
        },
        "id": "ibSotB71Q6PR",
        "outputId": "75cd6e63-7c6b-45a2-a2e7-b65ce29b73be"
      },
      "execution_count": 14,
      "outputs": [
        {
          "output_type": "stream",
          "name": "stdout",
          "text": [
            "제 이름은 홍길동 입니다\n"
          ]
        }
      ]
    },
    {
      "cell_type": "code",
      "source": [
        "print(\"제 이름은\" + myName + \"입니다\");"
      ],
      "metadata": {
        "colab": {
          "base_uri": "https://localhost:8080/"
        },
        "id": "fHBRGmD0Q9-o",
        "outputId": "8ba4d74c-6486-4465-ffc0-f5f1b25e28a7"
      },
      "execution_count": 15,
      "outputs": [
        {
          "output_type": "stream",
          "name": "stdout",
          "text": [
            "제 이름은홍길동입니다\n"
          ]
        }
      ]
    },
    {
      "cell_type": "code",
      "source": [
        "age = 10"
      ],
      "metadata": {
        "id": "P6lZUAayRETA"
      },
      "execution_count": 16,
      "outputs": []
    },
    {
      "cell_type": "code",
      "source": [
        "\"\"\"\n",
        "print(\"제 나이는 \" + age + \"살 입니다.\") string + int 불가\n",
        "\"\"\""
      ],
      "metadata": {
        "colab": {
          "base_uri": "https://localhost:8080/",
          "height": 147
        },
        "id": "qFUzlzwZRISD",
        "outputId": "b2a15230-05ca-48c0-ef56-7e96e42ffd05"
      },
      "execution_count": 17,
      "outputs": [
        {
          "output_type": "error",
          "ename": "TypeError",
          "evalue": "can only concatenate str (not \"int\") to str",
          "traceback": [
            "\u001b[0;31m---------------------------------------------------------------------------\u001b[0m",
            "\u001b[0;31mTypeError\u001b[0m                                 Traceback (most recent call last)",
            "\u001b[0;32m<ipython-input-17-98794b2e4883>\u001b[0m in \u001b[0;36m<cell line: 1>\u001b[0;34m()\u001b[0m\n\u001b[0;32m----> 1\u001b[0;31m \u001b[0mprint\u001b[0m\u001b[0;34m(\u001b[0m\u001b[0;34m\"제 나이는 \"\u001b[0m \u001b[0;34m+\u001b[0m \u001b[0mage\u001b[0m \u001b[0;34m+\u001b[0m \u001b[0;34m\"살 입니다.\"\u001b[0m\u001b[0;34m)\u001b[0m\u001b[0;34m\u001b[0m\u001b[0;34m\u001b[0m\u001b[0m\n\u001b[0m",
            "\u001b[0;31mTypeError\u001b[0m: can only concatenate str (not \"int\") to str"
          ]
        }
      ]
    },
    {
      "cell_type": "code",
      "source": [
        "#형변환 함수 사용\n",
        "print(\"제 나이는 \" + str(age) + \" 살 입니다.\");"
      ],
      "metadata": {
        "colab": {
          "base_uri": "https://localhost:8080/"
        },
        "id": "1TkRY4FLRl0L",
        "outputId": "ddff619a-b001-404b-c97d-d3e55d03ccd3"
      },
      "execution_count": 18,
      "outputs": [
        {
          "output_type": "stream",
          "name": "stdout",
          "text": [
            "제 나이는 10 살 입니다.\n"
          ]
        }
      ]
    },
    {
      "cell_type": "code",
      "source": [
        "print(10, 20, 30, sep='--')\n",
        ""
      ],
      "metadata": {
        "colab": {
          "base_uri": "https://localhost:8080/"
        },
        "id": "ZuwIjQlwR7_x",
        "outputId": "296d4223-6eea-41a4-92fc-e8af59c2a32c"
      },
      "execution_count": 20,
      "outputs": [
        {
          "output_type": "stream",
          "name": "stdout",
          "text": [
            "10--20--30\n"
          ]
        }
      ]
    },
    {
      "cell_type": "code",
      "source": [
        "print(10,20,30)"
      ],
      "metadata": {
        "colab": {
          "base_uri": "https://localhost:8080/"
        },
        "id": "8_q-PU13oiIH",
        "outputId": "8c318738-24cf-4c17-cf42-252b20672764"
      },
      "execution_count": 21,
      "outputs": [
        {
          "output_type": "stream",
          "name": "stdout",
          "text": [
            "10 20 30\n"
          ]
        }
      ]
    },
    {
      "cell_type": "code",
      "source": [
        "print(10,20,30, sep='t')"
      ],
      "metadata": {
        "colab": {
          "base_uri": "https://localhost:8080/"
        },
        "id": "QJe6Rsr5okFb",
        "outputId": "fb4f3f2f-0bb6-4059-dc81-1f37eb57c3fa"
      },
      "execution_count": 22,
      "outputs": [
        {
          "output_type": "stream",
          "name": "stdout",
          "text": [
            "10t20t30\n"
          ]
        }
      ]
    },
    {
      "cell_type": "code",
      "source": [
        "print('hello \\n hello')"
      ],
      "metadata": {
        "colab": {
          "base_uri": "https://localhost:8080/"
        },
        "id": "Ya3x4uWUonP8",
        "outputId": "d07345ea-43f4-4f03-a7e9-ceecf3790d9e"
      },
      "execution_count": 24,
      "outputs": [
        {
          "output_type": "stream",
          "name": "stdout",
          "text": [
            "hello \n",
            " hello\n"
          ]
        }
      ]
    },
    {
      "cell_type": "code",
      "source": [
        "path = \"D:\\KDT907\\01_Python\"\n",
        "print(path)"
      ],
      "metadata": {
        "colab": {
          "base_uri": "https://localhost:8080/"
        },
        "id": "zoWFLxUuowU4",
        "outputId": "cd7aacd2-8b6a-4f3f-9256-67a9c8cb1c38"
      },
      "execution_count": 26,
      "outputs": [
        {
          "output_type": "stream",
          "name": "stdout",
          "text": [
            "D:\\KDT907\u0001_Python\n"
          ]
        }
      ]
    },
    {
      "cell_type": "markdown",
      "source": [
        "## Raw String (r-string)\n",
        "escaping 없는 문자열\n",
        "문자 그대로 출력"
      ],
      "metadata": {
        "id": "OA3CxeOHpGKK"
      }
    },
    {
      "cell_type": "code",
      "source": [
        "path = r\"D:\\KDT907\\01_Python\"\n",
        "print(path)"
      ],
      "metadata": {
        "colab": {
          "base_uri": "https://localhost:8080/"
        },
        "id": "mjCVtiDmo8QX",
        "outputId": "f375cabc-d900-45b8-99bb-b818d086b902"
      },
      "execution_count": 27,
      "outputs": [
        {
          "output_type": "stream",
          "name": "stdout",
          "text": [
            "D:\\KDT907\\01_Python\n"
          ]
        }
      ]
    },
    {
      "cell_type": "code",
      "source": [
        "    print(10)\n",
        "    print(20)\n",
        "    print(30)\n",
        "    print(40)\n",
        ""
      ],
      "metadata": {
        "colab": {
          "base_uri": "https://localhost:8080/"
        },
        "id": "FQm4P3hepSIK",
        "outputId": "6d0e5a6d-1646-4f06-f776-403dc0578f0f"
      },
      "execution_count": 30,
      "outputs": [
        {
          "output_type": "stream",
          "name": "stdout",
          "text": [
            "10\n",
            "20\n",
            "30\n",
            "40\n"
          ]
        }
      ]
    },
    {
      "cell_type": "markdown",
      "source": [
        "# 문자열 포맷팅 (formmating)\n",
        "\n"
      ],
      "metadata": {
        "id": "imsczM9nqWsp"
      }
    },
    {
      "cell_type": "markdown",
      "source": [
        "## 방법1 **% 연산자 사용**"
      ],
      "metadata": {
        "id": "Njs0k4d-qyd8"
      }
    },
    {
      "cell_type": "code",
      "source": [
        "a = \"Hello %s\"\n",
        "print(a)"
      ],
      "metadata": {
        "colab": {
          "base_uri": "https://localhost:8080/"
        },
        "id": "NcqI2kTpprHV",
        "outputId": "b1aadf31-49b8-4cb0-844c-2aa50b3fa609"
      },
      "execution_count": 31,
      "outputs": [
        {
          "output_type": "stream",
          "name": "stdout",
          "text": [
            "Hello %s\n"
          ]
        }
      ]
    },
    {
      "cell_type": "code",
      "source": [
        "a = \"Hello %s\" % (\"파이썬\")\n",
        "print(a)"
      ],
      "metadata": {
        "colab": {
          "base_uri": "https://localhost:8080/"
        },
        "id": "XXbOA02Crfcy",
        "outputId": "0a966f54-2678-4f69-8dff-335ca8bb363b"
      },
      "execution_count": 34,
      "outputs": [
        {
          "output_type": "stream",
          "name": "stdout",
          "text": [
            "Hello 파이썬\n"
          ]
        }
      ]
    },
    {
      "cell_type": "code",
      "source": [
        "a = \"영원히 %s 받는 %s \" % (\"고통\", \"이종현\")\n",
        "print(a)"
      ],
      "metadata": {
        "colab": {
          "base_uri": "https://localhost:8080/"
        },
        "id": "sf_5h-ydrjrh",
        "outputId": "afc8ad4b-89c7-4651-f9cc-f16fb3a5e31a"
      },
      "execution_count": 35,
      "outputs": [
        {
          "output_type": "stream",
          "name": "stdout",
          "text": [
            "영원히 고통 받는 이종현 \n"
          ]
        }
      ]
    },
    {
      "cell_type": "code",
      "source": [
        "import math # math 모듈 import"
      ],
      "metadata": {
        "id": "LUCQ1j0lsEPR"
      },
      "execution_count": 36,
      "outputs": []
    },
    {
      "cell_type": "code",
      "source": [
        "math.pi"
      ],
      "metadata": {
        "colab": {
          "base_uri": "https://localhost:8080/"
        },
        "id": "NPVWc77lsJ6C",
        "outputId": "a1bedc85-fa40-4b8e-ab6d-39df64f4ba28"
      },
      "execution_count": 38,
      "outputs": [
        {
          "output_type": "execute_result",
          "data": {
            "text/plain": [
              "3.141592653589793"
            ]
          },
          "metadata": {},
          "execution_count": 38
        }
      ]
    },
    {
      "cell_type": "code",
      "source": [
        "a = \"원주율은 %f 입니다.\"\n",
        "a % (math.pi)\n",
        "\"원주율은 %.2f 입니다.\" %(math.pi)"
      ],
      "metadata": {
        "colab": {
          "base_uri": "https://localhost:8080/",
          "height": 35
        },
        "id": "YX_nDetksTla",
        "outputId": "d0459de6-2ddb-4918-893f-dd4195bbfc00"
      },
      "execution_count": 42,
      "outputs": [
        {
          "output_type": "execute_result",
          "data": {
            "text/plain": [
              "'원주율은 3.14 입니다.'"
            ],
            "application/vnd.google.colaboratory.intrinsic+json": {
              "type": "string"
            }
          },
          "metadata": {},
          "execution_count": 42
        }
      ]
    },
    {
      "cell_type": "markdown",
      "source": [
        "## 방법2 **format() 함수 사용**"
      ],
      "metadata": {
        "id": "3e16smhTqz3C"
      }
    },
    {
      "cell_type": "code",
      "source": [
        "fmt1 = \"내 이름은 {}, 나는 {} 살입니다.\"\n",
        "fmt1"
      ],
      "metadata": {
        "colab": {
          "base_uri": "https://localhost:8080/",
          "height": 35
        },
        "id": "p1iQYJLks6Sk",
        "outputId": "007c3680-03c6-4590-b624-7f50aa867fc1"
      },
      "execution_count": 44,
      "outputs": [
        {
          "output_type": "execute_result",
          "data": {
            "text/plain": [
              "'내 이름은 {}, 나는 {} 살입니다.'"
            ],
            "application/vnd.google.colaboratory.intrinsic+json": {
              "type": "string"
            }
          },
          "metadata": {},
          "execution_count": 44
        }
      ]
    },
    {
      "cell_type": "code",
      "source": [
        "fmt1.format(\"장고운\", 34)"
      ],
      "metadata": {
        "colab": {
          "base_uri": "https://localhost:8080/",
          "height": 35
        },
        "id": "VTV1Nd8DtA78",
        "outputId": "e172a78a-f824-4a8f-ae8c-97d6c46e4c0a"
      },
      "execution_count": 50,
      "outputs": [
        {
          "output_type": "execute_result",
          "data": {
            "text/plain": [
              "'내 이름은 장고운, 나는 34 살입니다.'"
            ],
            "application/vnd.google.colaboratory.intrinsic+json": {
              "type": "string"
            }
          },
          "metadata": {},
          "execution_count": 50
        }
      ]
    },
    {
      "cell_type": "code",
      "source": [
        "fmt1 = \"내 이름은 {name}, 나는 {age} 살입니다.\"\n",
        "fmt1"
      ],
      "metadata": {
        "colab": {
          "base_uri": "https://localhost:8080/",
          "height": 35
        },
        "id": "4Y3eOT9KtOAK",
        "outputId": "5d189949-b592-4f57-c923-ac5a3852fdfe"
      },
      "execution_count": 51,
      "outputs": [
        {
          "output_type": "execute_result",
          "data": {
            "text/plain": [
              "'내 이름은 {name}, 나는 {age} 살입니다.'"
            ],
            "application/vnd.google.colaboratory.intrinsic+json": {
              "type": "string"
            }
          },
          "metadata": {},
          "execution_count": 51
        }
      ]
    },
    {
      "cell_type": "code",
      "source": [
        "fmt1 = \"내 이름은 {name}, 나는 {age} 살입니다.\"\n",
        "fmt1.format(name = \"김동호\", age = 32)"
      ],
      "metadata": {
        "colab": {
          "base_uri": "https://localhost:8080/",
          "height": 35
        },
        "id": "EfNHxjW2tRXv",
        "outputId": "703cc252-684f-4314-a7b4-b17642f5cd7b"
      },
      "execution_count": 54,
      "outputs": [
        {
          "output_type": "execute_result",
          "data": {
            "text/plain": [
              "'내 이름은 김동호, 나는 32 살입니다.'"
            ],
            "application/vnd.google.colaboratory.intrinsic+json": {
              "type": "string"
            }
          },
          "metadata": {},
          "execution_count": 54
        }
      ]
    },
    {
      "cell_type": "code",
      "source": [
        "print(\"{}\".format(math.pi))\n",
        "print(\"{:.3f}\".format(math.pi))"
      ],
      "metadata": {
        "colab": {
          "base_uri": "https://localhost:8080/"
        },
        "id": "bp36z_NNuAbh",
        "outputId": "c23d5988-8ffc-4e3c-816b-05a64bcbb73f"
      },
      "execution_count": 56,
      "outputs": [
        {
          "output_type": "stream",
          "name": "stdout",
          "text": [
            "3.141592653589793\n",
            "3.142\n"
          ]
        }
      ]
    },
    {
      "cell_type": "markdown",
      "source": [
        "## 방법3 **f-String 사용**"
      ],
      "metadata": {
        "id": "hUKFshkxq8p6"
      }
    },
    {
      "cell_type": "code",
      "source": [
        "name = '신철희'\n",
        "age = 38"
      ],
      "metadata": {
        "id": "Vr1zZeamuiB9"
      },
      "execution_count": 58,
      "outputs": []
    },
    {
      "cell_type": "code",
      "source": [
        "'이름: {}, 나이: {}'.format(name,age)"
      ],
      "metadata": {
        "colab": {
          "base_uri": "https://localhost:8080/",
          "height": 35
        },
        "id": "HERIYXVErBdm",
        "outputId": "ced495b2-a125-4ff0-8af9-87ca87453ea4"
      },
      "execution_count": 62,
      "outputs": [
        {
          "output_type": "execute_result",
          "data": {
            "text/plain": [
              "'이름: 신철희, 나이: 38'"
            ],
            "application/vnd.google.colaboratory.intrinsic+json": {
              "type": "string"
            }
          },
          "metadata": {},
          "execution_count": 62
        }
      ]
    },
    {
      "cell_type": "code",
      "source": [
        "'이름: {}, 나이: {}'.format(age,name)"
      ],
      "metadata": {
        "colab": {
          "base_uri": "https://localhost:8080/",
          "height": 35
        },
        "id": "BtmMNz90urIH",
        "outputId": "55db7cbd-d57b-4b0c-944d-c2faff673c35"
      },
      "execution_count": 61,
      "outputs": [
        {
          "output_type": "execute_result",
          "data": {
            "text/plain": [
              "'이름: 38, 나이: 신철희'"
            ],
            "application/vnd.google.colaboratory.intrinsic+json": {
              "type": "string"
            }
          },
          "metadata": {},
          "execution_count": 61
        }
      ]
    },
    {
      "cell_type": "code",
      "source": [
        "f'이름: {name}, 나이: {age}'"
      ],
      "metadata": {
        "colab": {
          "base_uri": "https://localhost:8080/",
          "height": 35
        },
        "id": "8DNd3-6vudH2",
        "outputId": "9239bda2-b849-40e7-b087-e60ce4e87388"
      },
      "execution_count": 63,
      "outputs": [
        {
          "output_type": "execute_result",
          "data": {
            "text/plain": [
              "'이름: 신철희, 나이: 38'"
            ],
            "application/vnd.google.colaboratory.intrinsic+json": {
              "type": "string"
            }
          },
          "metadata": {},
          "execution_count": 63
        }
      ]
    },
    {
      "cell_type": "code",
      "source": [
        "f'원주율은 {math.pi} 입니다'"
      ],
      "metadata": {
        "colab": {
          "base_uri": "https://localhost:8080/",
          "height": 35
        },
        "id": "LR47lY52vGgz",
        "outputId": "2115d802-b101-4277-8f81-d95c1b1e3593"
      },
      "execution_count": 65,
      "outputs": [
        {
          "output_type": "execute_result",
          "data": {
            "text/plain": [
              "'원주율은 3.141592653589793 입니다'"
            ],
            "application/vnd.google.colaboratory.intrinsic+json": {
              "type": "string"
            }
          },
          "metadata": {},
          "execution_count": 65
        }
      ]
    },
    {
      "cell_type": "code",
      "source": [
        "f'원주율은 {math.pi:.2f} 입니다'"
      ],
      "metadata": {
        "colab": {
          "base_uri": "https://localhost:8080/",
          "height": 35
        },
        "id": "jIMVRlZ5vL_d",
        "outputId": "7fe36b65-8e8e-4f12-ffaa-dc0729256204"
      },
      "execution_count": 71,
      "outputs": [
        {
          "output_type": "execute_result",
          "data": {
            "text/plain": [
              "'원주율은 3.14 입니다'"
            ],
            "application/vnd.google.colaboratory.intrinsic+json": {
              "type": "string"
            }
          },
          "metadata": {},
          "execution_count": 71
        }
      ]
    }
  ]
}