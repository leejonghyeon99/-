{
  "nbformat": 4,
  "nbformat_minor": 0,
  "metadata": {
    "colab": {
      "provenance": [],
      "authorship_tag": "ABX9TyMUUsdWsmVbUdr33eEpffHM",
      "include_colab_link": true
    },
    "kernelspec": {
      "name": "python3",
      "display_name": "Python 3"
    },
    "language_info": {
      "name": "python"
    }
  },
  "cells": [
    {
      "cell_type": "markdown",
      "metadata": {
        "id": "view-in-github",
        "colab_type": "text"
      },
      "source": [
        "<a href=\"https://colab.research.google.com/github/leejonghyeon99/python_stu/blob/main/01_numpy%2C_ndarray.ipynb\" target=\"_parent\"><img src=\"https://colab.research.google.com/assets/colab-badge.svg\" alt=\"Open In Colab\"/></a>"
      ]
    },
    {
      "cell_type": "markdown",
      "source": [
        "# <hr>NumPy\n",
        "<img src=\"https://numpy.org/images/logo.svg\" width=\"100\" height=\"100\"/>\n",
        "\n",
        "[공식] (https://numpy.org/)\n",
        "\n",
        "\n"
      ],
      "metadata": {
        "id": "TW3s_VaHfiy3"
      }
    },
    {
      "cell_type": "code",
      "source": [
        "# numpy : 수치적 연산을 위해 최적화된 모듈\n",
        "#  파이썬을 활용한 데이터 분석에서  가장 기본!\n",
        "#  이 자체로도 많이 쓰이거니와, 앞으로 배울 pandas, 머신러닝 등 수많은 분야에서 기본적으로 사용하는 모듈\n",
        "#  파이썬 개발자라면 꼭 익힐 필요 있다\n",
        "\n",
        "# 수학수치 연산  (numerical python) / 합, 평균, 행렬연산 등..\n",
        "# 추가적으로 scipy, statsmodel  같은 것들도 numpy 기반으로 구현됨.\n",
        "# 상황에 따라, pandas 안써도 numpy 만으로도 가능.\n",
        "\n",
        "# 기본 타입 : ndarray  (n-dimensional array) 다차원 배열 표현\n",
        "\n",
        "# 파이썬에 list 가 있는데 굳이? 왜?  -\n",
        "\n",
        "# numpy 를 사용하는 이유\n",
        "# 1. 성능 : 성능적으로 훨~씬 빠름.\n",
        "# 2. 메모리 : 훨씩 적은 메모리사용\n",
        "# 3. 제공함수풍부 : 선형대수, 통계관련 여러 수치함수 제공\n",
        "# 4. 수많은 모듈에서 numpy 함수명 과 기능을 그대로 사용."
      ],
      "metadata": {
        "id": "whwZ-x0lfg5N"
      },
      "execution_count": 1,
      "outputs": []
    },
    {
      "cell_type": "code",
      "source": [
        "import numpy as np"
      ],
      "metadata": {
        "id": "s_BeZDTafqUd"
      },
      "execution_count": 3,
      "outputs": []
    },
    {
      "cell_type": "markdown",
      "source": [
        "![aaa](https://statkclee.github.io/deep-learning/fig/tensor.jpg)\n",
        "\n",
        "**Scalar** : 0차원 array (단일값)\n",
        "\n",
        "**Vector** : 1차원 array\n",
        "\n",
        "**Matrix** : 2차원 array\n",
        "\n",
        "**Tensor** : 3차원(이상) array"
      ],
      "metadata": {
        "id": "Zb311UIWf_PN"
      }
    },
    {
      "cell_type": "markdown",
      "source": [
        "##1차원 array (벡터) 생성"
      ],
      "metadata": {
        "id": "UFCm3SjagYXV"
      }
    },
    {
      "cell_type": "code",
      "source": [
        "# np.array(iterrable)\n",
        "\n",
        "x = np.array([1, 2, 3])\n",
        "y = np.array([2, 4, 15])"
      ],
      "metadata": {
        "id": "IVkA5JBxf4Ev"
      },
      "execution_count": 8,
      "outputs": []
    },
    {
      "cell_type": "code",
      "source": [
        "x, y"
      ],
      "metadata": {
        "colab": {
          "base_uri": "https://localhost:8080/"
        },
        "id": "6N0BMDKJgi61",
        "outputId": "3ea6069a-5cdc-40eb-f028-6050b4c2e3e5"
      },
      "execution_count": 9,
      "outputs": [
        {
          "output_type": "execute_result",
          "data": {
            "text/plain": [
              "(array([1, 2, 3]), array([ 2,  4, 15]))"
            ]
          },
          "metadata": {},
          "execution_count": 9
        }
      ]
    },
    {
      "cell_type": "code",
      "source": [
        "print(x)\n",
        "print(y)"
      ],
      "metadata": {
        "colab": {
          "base_uri": "https://localhost:8080/"
        },
        "id": "PldYndq6gi9X",
        "outputId": "26743494-d5d0-4328-94f5-a7cda5739364"
      },
      "execution_count": 11,
      "outputs": [
        {
          "output_type": "stream",
          "name": "stdout",
          "text": [
            "[1 2 3]\n",
            "[ 2  4 15]\n"
          ]
        }
      ]
    },
    {
      "cell_type": "code",
      "source": [
        "import matplotlib.pyplot as plt # 시각화 라이브러리"
      ],
      "metadata": {
        "id": "PUoSI2cpgi_s"
      },
      "execution_count": 14,
      "outputs": []
    },
    {
      "cell_type": "code",
      "source": [
        "plt.plot(x, y)"
      ],
      "metadata": {
        "colab": {
          "base_uri": "https://localhost:8080/",
          "height": 448
        },
        "id": "dWvcRFKzgjB2",
        "outputId": "55bc42b9-f7dc-44d0-8c74-70f842dd08d9"
      },
      "execution_count": 13,
      "outputs": [
        {
          "output_type": "execute_result",
          "data": {
            "text/plain": [
              "[<matplotlib.lines.Line2D at 0x7ff23bf11f60>]"
            ]
          },
          "metadata": {},
          "execution_count": 13
        },
        {
          "output_type": "display_data",
          "data": {
            "text/plain": [
              "<Figure size 640x480 with 1 Axes>"
            ],
            "image/png": "[encoded data removed]"
          },
          "metadata": {}
        }
      ]
    },
    {
      "cell_type": "code",
      "source": [
        "# ndarray : n-dimensional array"
      ],
      "metadata": {
        "id": "jmsFYf-RgjEC"
      },
      "execution_count": 15,
      "outputs": []
    },
    {
      "cell_type": "code",
      "source": [
        "# scalar\n",
        "np.array(10)"
      ],
      "metadata": {
        "colab": {
          "base_uri": "https://localhost:8080/"
        },
        "id": "K4_RRChygjGQ",
        "outputId": "3c9cb596-6f14-4826-f6eb-b9031a7ff0c0"
      },
      "execution_count": 16,
      "outputs": [
        {
          "output_type": "execute_result",
          "data": {
            "text/plain": [
              "array(10)"
            ]
          },
          "metadata": {},
          "execution_count": 16
        }
      ]
    },
    {
      "cell_type": "code",
      "source": [
        "#vector\n",
        "arr = np.array([1, 2, 3, 4, 5])\n",
        "arr"
      ],
      "metadata": {
        "colab": {
          "base_uri": "https://localhost:8080/"
        },
        "id": "DQJloNifgjIb",
        "outputId": "274a141a-364f-4788-8f4c-3e1d204b78e0"
      },
      "execution_count": 18,
      "outputs": [
        {
          "output_type": "execute_result",
          "data": {
            "text/plain": [
              "array([1, 2, 3, 4, 5])"
            ]
          },
          "metadata": {},
          "execution_count": 18
        }
      ]
    },
    {
      "cell_type": "code",
      "source": [
        "type(arr)"
      ],
      "metadata": {
        "colab": {
          "base_uri": "https://localhost:8080/"
        },
        "id": "7MHW4HSHgjKj",
        "outputId": "dd3bd6bb-e787-43b5-e7c0-250ae7b2b768"
      },
      "execution_count": 19,
      "outputs": [
        {
          "output_type": "execute_result",
          "data": {
            "text/plain": [
              "numpy.ndarray"
            ]
          },
          "metadata": {},
          "execution_count": 19
        }
      ]
    },
    {
      "cell_type": "code",
      "source": [
        "[1, 2, 3.14, 'choi', 'jinmu', bool, lambda x: x,]\n",
        "#list는 원소타입이 제각각 가능"
      ],
      "metadata": {
        "colab": {
          "base_uri": "https://localhost:8080/"
        },
        "id": "HQvkU3htgjMv",
        "outputId": "43525682-52d9-4728-ee23-a39d41cba425"
      },
      "execution_count": 20,
      "outputs": [
        {
          "output_type": "execute_result",
          "data": {
            "text/plain": [
              "[1, 2, 3.14, 'choi', 'jinmu', bool, <function __main__.<lambda>(x)>]"
            ]
          },
          "metadata": {},
          "execution_count": 20
        }
      ]
    },
    {
      "cell_type": "code",
      "source": [
        "# array의 모든 원소는 '한가지 타입'이어야 한다\n",
        "\n"
      ],
      "metadata": {
        "id": "j9fP5ex-hfbx"
      },
      "execution_count": 26,
      "outputs": []
    },
    {
      "cell_type": "markdown",
      "source": [
        "# shape, size, ndim, dtype 그리고 len()"
      ],
      "metadata": {
        "id": "EZF5flJeiLM-"
      }
    },
    {
      "cell_type": "markdown",
      "source": [
        "#### shape\n",
        "numpy에서는 해당 array의 크기를 알 수 있다.<br>\n",
        "shape 을 확인함으로써 몇개의 데이터가 있는지, 몇 차원으로 존재하는지 등을 확인할 수 있다.<br>\n",
        "위에서 arr1.shape의 결과는 (5,) 으로써, 1차원의 데이터이며 총 5라는 크기를 갖고 있음을 알 수 있다.\n",
        "arr4.shape의 결과는 (4,3) 으로써, 2차원의 데이터이며 4 * 3 크기를 갖고 있는 array 이다."
      ],
      "metadata": {
        "id": "ymGSobiFittO"
      }
    },
    {
      "cell_type": "code",
      "source": [
        "arr #1 차원 vector"
      ],
      "metadata": {
        "colab": {
          "base_uri": "https://localhost:8080/"
        },
        "id": "hgy4ABmIhfea",
        "outputId": "17c9c649-e4f2-47ba-af4f-3f117a289c1e"
      },
      "execution_count": 27,
      "outputs": [
        {
          "output_type": "execute_result",
          "data": {
            "text/plain": [
              "array([1, 2, 3, 4, 5])"
            ]
          },
          "metadata": {},
          "execution_count": 27
        }
      ]
    },
    {
      "cell_type": "code",
      "source": [
        "arr.shape"
      ],
      "metadata": {
        "colab": {
          "base_uri": "https://localhost:8080/"
        },
        "id": "IQkLbpHRiKke",
        "outputId": "0d7718fc-35ac-4723-b7ff-ebceb75517f6"
      },
      "execution_count": 65,
      "outputs": [
        {
          "output_type": "execute_result",
          "data": {
            "text/plain": [
              "(5,)"
            ]
          },
          "metadata": {},
          "execution_count": 65
        }
      ]
    },
    {
      "cell_type": "markdown",
      "source": [
        "# ndim 차원의 개수"
      ],
      "metadata": {
        "id": "JTSAtSKQi6TW"
      }
    },
    {
      "cell_type": "code",
      "source": [
        "arr.ndim # 몇 차원 데이터인지?"
      ],
      "metadata": {
        "colab": {
          "base_uri": "https://localhost:8080/"
        },
        "id": "kN6FFLcjhfgs",
        "outputId": "9b794d32-6839-476d-ea58-db2f5c61df29"
      },
      "execution_count": 30,
      "outputs": [
        {
          "output_type": "execute_result",
          "data": {
            "text/plain": [
              "1"
            ]
          },
          "metadata": {},
          "execution_count": 30
        }
      ]
    },
    {
      "cell_type": "markdown",
      "source": [
        "# size : 데이터 개수"
      ],
      "metadata": {
        "id": "CmE1p7byi50e"
      }
    },
    {
      "cell_type": "code",
      "source": [
        "arr.size"
      ],
      "metadata": {
        "colab": {
          "base_uri": "https://localhost:8080/"
        },
        "id": "akPG2PyLhfjD",
        "outputId": "cd93a164-cd6f-4f41-ec05-1c991b158d8b"
      },
      "execution_count": 31,
      "outputs": [
        {
          "output_type": "execute_result",
          "data": {
            "text/plain": [
              "5"
            ]
          },
          "metadata": {},
          "execution_count": 31
        }
      ]
    },
    {
      "cell_type": "markdown",
      "source": [
        "len(array)\n",
        "- array도 iterable 하다"
      ],
      "metadata": {
        "id": "1UibV6fxjCcu"
      }
    },
    {
      "cell_type": "code",
      "source": [
        "len(arr)"
      ],
      "metadata": {
        "colab": {
          "base_uri": "https://localhost:8080/"
        },
        "id": "kCZwyStThfli",
        "outputId": "19161007-7c15-4045-ff7d-82bea2aaccb6"
      },
      "execution_count": 32,
      "outputs": [
        {
          "output_type": "execute_result",
          "data": {
            "text/plain": [
              "5"
            ]
          },
          "metadata": {},
          "execution_count": 32
        }
      ]
    },
    {
      "cell_type": "code",
      "source": [
        "# .shape, len(), .size 는 의미 다르다."
      ],
      "metadata": {
        "id": "h55QOKBZh2nB"
      },
      "execution_count": 33,
      "outputs": []
    },
    {
      "cell_type": "markdown",
      "source": [
        "## dtype : data type"
      ],
      "metadata": {
        "id": "oJKKnRz-jR6f"
      }
    },
    {
      "cell_type": "code",
      "source": [
        "arr.dtype"
      ],
      "metadata": {
        "colab": {
          "base_uri": "https://localhost:8080/"
        },
        "id": "2v8LOYO1h2qN",
        "outputId": "b0e6d6c1-a03e-4ff0-83a5-5ee902884c35"
      },
      "execution_count": 37,
      "outputs": [
        {
          "output_type": "execute_result",
          "data": {
            "text/plain": [
              "dtype('int64')"
            ]
          },
          "metadata": {},
          "execution_count": 37
        }
      ]
    },
    {
      "cell_type": "code",
      "source": [
        "arr2 = np.array([10, 3.14, 2, 0.12])\n",
        "print(arr2, arr2.dtype)"
      ],
      "metadata": {
        "colab": {
          "base_uri": "https://localhost:8080/"
        },
        "id": "ILfzVBx8h2vo",
        "outputId": "6ec4ceb4-f9e7-4f53-ccb3-592a6b7d2e2f"
      },
      "execution_count": 41,
      "outputs": [
        {
          "output_type": "stream",
          "name": "stdout",
          "text": [
            "[10.    3.14  2.    0.12] float64\n"
          ]
        }
      ]
    },
    {
      "cell_type": "code",
      "source": [
        "arr2 = np.array(['A','B','C'])\n",
        "arr2.dtype # dtype('<U1') 최대 한글자인 유니코드"
      ],
      "metadata": {
        "colab": {
          "base_uri": "https://localhost:8080/"
        },
        "id": "CUST5dS1jA7t",
        "outputId": "f00bd4ec-4613-4358-b402-5dc10a77eeda"
      },
      "execution_count": 43,
      "outputs": [
        {
          "output_type": "execute_result",
          "data": {
            "text/plain": [
              "dtype('<U1')"
            ]
          },
          "metadata": {},
          "execution_count": 43
        }
      ]
    },
    {
      "cell_type": "code",
      "source": [
        "arr2 = np.array(['A','BBB','C'])\n",
        "arr2.dtype # dtype('<U3') 최대 세 글자인 유니코드"
      ],
      "metadata": {
        "colab": {
          "base_uri": "https://localhost:8080/"
        },
        "id": "I4houj36jA-g",
        "outputId": "50672472-fc26-437c-bc4f-fae1455421c4"
      },
      "execution_count": 45,
      "outputs": [
        {
          "output_type": "execute_result",
          "data": {
            "text/plain": [
              "dtype('<U3')"
            ]
          },
          "metadata": {},
          "execution_count": 45
        }
      ]
    },
    {
      "cell_type": "code",
      "source": [
        "# dtype('<U4')   4글자 유니코드 문자열\n",
        "# 음.. ndarray 를 .. 문자열 담는 용도로는 잘 안씀.\n",
        "#  numpy --> numerical python .  수치 연산에 특화"
      ],
      "metadata": {
        "id": "VihaeHIojBBY"
      },
      "execution_count": 46,
      "outputs": []
    },
    {
      "cell_type": "code",
      "source": [
        "# numpy에서 사용되는 자료형은 아래와 같다. (자료형 뒤에 붙는 숫자는 몇 비트 크기인지를 의미한다.)\n",
        "\n",
        "# 부호가 있는 정수 int(8, 16, 32, 64)\n",
        "# 부호가 없는 정수 uint(8 ,16, 32, 64)\n",
        "# 실수 float(16, 32, 64, 128)\n",
        "# 복소수 complex(64, 128, 256)\n",
        "# 불리언 bool\n",
        "# 문자열 string_\n",
        "# 파이썬 오프젝트 object\n",
        "# 유니코드 unicode_"
      ],
      "metadata": {
        "id": "5eu77JbhjBEI"
      },
      "execution_count": 47,
      "outputs": []
    },
    {
      "cell_type": "markdown",
      "source": [
        "# 2차원 array 생성"
      ],
      "metadata": {
        "id": "pZuSCX4IlCAm"
      }
    },
    {
      "cell_type": "code",
      "source": [
        "x = np.array([1, 2, 3, 4])\n",
        "y = np.array([[2, 3, 4], [1, 2, 4]])"
      ],
      "metadata": {
        "id": "CiBLMYN5kgZH"
      },
      "execution_count": 48,
      "outputs": []
    },
    {
      "cell_type": "code",
      "source": [
        "x"
      ],
      "metadata": {
        "colab": {
          "base_uri": "https://localhost:8080/"
        },
        "id": "OttW2R2PkgaD",
        "outputId": "b7b3f575-0ea5-4a8e-f971-3310ebb38ca3"
      },
      "execution_count": 49,
      "outputs": [
        {
          "output_type": "execute_result",
          "data": {
            "text/plain": [
              "array([1, 2, 3, 4])"
            ]
          },
          "metadata": {},
          "execution_count": 49
        }
      ]
    },
    {
      "cell_type": "code",
      "source": [
        "y"
      ],
      "metadata": {
        "colab": {
          "base_uri": "https://localhost:8080/"
        },
        "id": "sH3AEVdJkgcM",
        "outputId": "09db3f10-bc31-42d7-b3aa-97d9fa5e1ce3"
      },
      "execution_count": 50,
      "outputs": [
        {
          "output_type": "execute_result",
          "data": {
            "text/plain": [
              "array([[2, 3, 4],\n",
              "       [1, 2, 4]])"
            ]
          },
          "metadata": {},
          "execution_count": 50
        }
      ]
    },
    {
      "cell_type": "code",
      "source": [
        "# np.array([[2, 3, 4], [1, 2]]) # 행열 안맞음 ragged 형태로 생성 안됨."
      ],
      "metadata": {
        "id": "Ilskoehkkgdp"
      },
      "execution_count": 58,
      "outputs": []
    },
    {
      "cell_type": "code",
      "source": [
        "x.shape"
      ],
      "metadata": {
        "colab": {
          "base_uri": "https://localhost:8080/"
        },
        "id": "-ocrnaGakgfW",
        "outputId": "e51bbedb-9e70-4243-a5e6-368db9fa93ed"
      },
      "execution_count": 59,
      "outputs": [
        {
          "output_type": "execute_result",
          "data": {
            "text/plain": [
              "(4,)"
            ]
          },
          "metadata": {},
          "execution_count": 59
        }
      ]
    },
    {
      "cell_type": "code",
      "source": [
        "y.shape"
      ],
      "metadata": {
        "colab": {
          "base_uri": "https://localhost:8080/"
        },
        "id": "U8Ne00sokggw",
        "outputId": "ef27686a-cec4-44ba-f9bb-356482dc6bf6"
      },
      "execution_count": 62,
      "outputs": [
        {
          "output_type": "execute_result",
          "data": {
            "text/plain": [
              "(2, 3)"
            ]
          },
          "metadata": {},
          "execution_count": 62
        }
      ]
    },
    {
      "cell_type": "code",
      "source": [
        "x.ndim"
      ],
      "metadata": {
        "colab": {
          "base_uri": "https://localhost:8080/"
        },
        "id": "1fjn82--kgid",
        "outputId": "20255a0f-5d58-449c-adde-fcf40430ad9d"
      },
      "execution_count": 63,
      "outputs": [
        {
          "output_type": "execute_result",
          "data": {
            "text/plain": [
              "1"
            ]
          },
          "metadata": {},
          "execution_count": 63
        }
      ]
    },
    {
      "cell_type": "code",
      "source": [
        "y.ndim"
      ],
      "metadata": {
        "colab": {
          "base_uri": "https://localhost:8080/"
        },
        "id": "uR3pGfBrkgjw",
        "outputId": "df667f2e-be53-4ac6-f4bb-21ab4fafdbdf"
      },
      "execution_count": 64,
      "outputs": [
        {
          "output_type": "execute_result",
          "data": {
            "text/plain": [
              "2"
            ]
          },
          "metadata": {},
          "execution_count": 64
        }
      ]
    },
    {
      "cell_type": "code",
      "source": [
        "len(x)"
      ],
      "metadata": {
        "colab": {
          "base_uri": "https://localhost:8080/"
        },
        "id": "aZ3reRymkgla",
        "outputId": "e973fb51-2e2a-44ce-e079-65f905fb19a9"
      },
      "execution_count": 66,
      "outputs": [
        {
          "output_type": "execute_result",
          "data": {
            "text/plain": [
              "4"
            ]
          },
          "metadata": {},
          "execution_count": 66
        }
      ]
    },
    {
      "cell_type": "code",
      "source": [
        "len(y)  #array([] <- 요거) 가장 밖에 있는 []개수"
      ],
      "metadata": {
        "colab": {
          "base_uri": "https://localhost:8080/"
        },
        "id": "f_6tzRZRkgmw",
        "outputId": "8888abb6-814d-41fd-aba7-5661f4946f05"
      },
      "execution_count": 67,
      "outputs": [
        {
          "output_type": "execute_result",
          "data": {
            "text/plain": [
              "2"
            ]
          },
          "metadata": {},
          "execution_count": 67
        }
      ]
    },
    {
      "cell_type": "code",
      "source": [
        "x.size"
      ],
      "metadata": {
        "colab": {
          "base_uri": "https://localhost:8080/"
        },
        "id": "lMvNqUSMkgoa",
        "outputId": "7739b7fb-ee0e-4509-a99a-525ec07e0144"
      },
      "execution_count": 68,
      "outputs": [
        {
          "output_type": "execute_result",
          "data": {
            "text/plain": [
              "4"
            ]
          },
          "metadata": {},
          "execution_count": 68
        }
      ]
    },
    {
      "cell_type": "code",
      "source": [
        "y.size #"
      ],
      "metadata": {
        "colab": {
          "base_uri": "https://localhost:8080/"
        },
        "id": "tZ9qC3rNkgpu",
        "outputId": "ad3cd10d-1930-442f-b949-da177162bae4"
      },
      "execution_count": 69,
      "outputs": [
        {
          "output_type": "execute_result",
          "data": {
            "text/plain": [
              "6"
            ]
          },
          "metadata": {},
          "execution_count": 69
        }
      ]
    },
    {
      "cell_type": "code",
      "source": [
        "# 2 * 3 * 4"
      ],
      "metadata": {
        "id": "jLJr7RlHkgrY"
      },
      "execution_count": 70,
      "outputs": []
    },
    {
      "cell_type": "code",
      "source": [
        "arr = np.array(\n",
        "    [\n",
        "        [\n",
        "            [1, 2, 3, 4],[5, 6, 7, 8],[9 ,10, 11, 12]\n",
        "        ],\n",
        "        [\n",
        "            [101, 201, 301, 401],[501, 601, 701, 801],[901 ,1001, 1101, 1201]\n",
        "        ]\n",
        "    ]\n",
        "    )\n",
        "arr.shape"
      ],
      "metadata": {
        "colab": {
          "base_uri": "https://localhost:8080/"
        },
        "id": "JJ3AYZJ8kgs4",
        "outputId": "56d3af6b-5df6-4f98-e521-dda4a6b4f88a"
      },
      "execution_count": 77,
      "outputs": [
        {
          "output_type": "execute_result",
          "data": {
            "text/plain": [
              "(2, 3, 4)"
            ]
          },
          "metadata": {},
          "execution_count": 77
        }
      ]
    },
    {
      "cell_type": "code",
      "source": [
        "arr.ndim, len(arr.shape)  # 같다"
      ],
      "metadata": {
        "colab": {
          "base_uri": "https://localhost:8080/"
        },
        "id": "CI-4QqRNkgud",
        "outputId": "e42095dd-3313-4c21-809a-6608a2218d10"
      },
      "execution_count": 81,
      "outputs": [
        {
          "output_type": "execute_result",
          "data": {
            "text/plain": [
              "(3, 3)"
            ]
          },
          "metadata": {},
          "execution_count": 81
        }
      ]
    },
    {
      "cell_type": "code",
      "source": [
        "arr.size"
      ],
      "metadata": {
        "colab": {
          "base_uri": "https://localhost:8080/"
        },
        "id": "OniphdJLkgv3",
        "outputId": "a22efa14-85a3-49a3-ffd9-f10ffd199de9"
      },
      "execution_count": 82,
      "outputs": [
        {
          "output_type": "execute_result",
          "data": {
            "text/plain": [
              "24"
            ]
          },
          "metadata": {},
          "execution_count": 82
        }
      ]
    },
    {
      "cell_type": "code",
      "source": [
        "len(arr), arr.shape[0]"
      ],
      "metadata": {
        "colab": {
          "base_uri": "https://localhost:8080/"
        },
        "id": "dkSahXcnkgxE",
        "outputId": "31266b6e-28fe-45f3-9297-39a61d9c96ae"
      },
      "execution_count": 83,
      "outputs": [
        {
          "output_type": "execute_result",
          "data": {
            "text/plain": [
              "(2, 2)"
            ]
          },
          "metadata": {},
          "execution_count": 83
        }
      ]
    },
    {
      "cell_type": "markdown",
      "source": [
        "# 같은 값이라도 '차원'이 다를 수 있다\n",
        "차원 변환 중요하다!"
      ],
      "metadata": {
        "id": "rjPZdG-qsKMa"
      }
    },
    {
      "cell_type": "code",
      "source": [
        "np.array(10) #0차원"
      ],
      "metadata": {
        "colab": {
          "base_uri": "https://localhost:8080/"
        },
        "id": "eWd4oPebru_1",
        "outputId": "6018954d-22a9-4430-ff79-f9239a5112d2"
      },
      "execution_count": 84,
      "outputs": [
        {
          "output_type": "execute_result",
          "data": {
            "text/plain": [
              "array(10)"
            ]
          },
          "metadata": {},
          "execution_count": 84
        }
      ]
    },
    {
      "cell_type": "code",
      "source": [
        "np.array([10])  #1차원"
      ],
      "metadata": {
        "colab": {
          "base_uri": "https://localhost:8080/"
        },
        "id": "kkCvFjAbrvGm",
        "outputId": "93bbbbcf-1999-4e80-c0b3-04cbec981077"
      },
      "execution_count": 85,
      "outputs": [
        {
          "output_type": "execute_result",
          "data": {
            "text/plain": [
              "array([10])"
            ]
          },
          "metadata": {},
          "execution_count": 85
        }
      ]
    },
    {
      "cell_type": "code",
      "source": [
        "np.array([[10]]) #2차원"
      ],
      "metadata": {
        "colab": {
          "base_uri": "https://localhost:8080/"
        },
        "id": "8nhRzaVrrvIv",
        "outputId": "86968536-f9d1-4697-ba05-da508f8cfd2d"
      },
      "execution_count": 86,
      "outputs": [
        {
          "output_type": "execute_result",
          "data": {
            "text/plain": [
              "array([[10]])"
            ]
          },
          "metadata": {},
          "execution_count": 86
        }
      ]
    },
    {
      "cell_type": "code",
      "source": [
        "np.array([[[10]]]) #3차원"
      ],
      "metadata": {
        "colab": {
          "base_uri": "https://localhost:8080/"
        },
        "id": "36KDqCzOrvKY",
        "outputId": "813e554e-7911-4742-c7b6-017b9290bc6a"
      },
      "execution_count": 87,
      "outputs": [
        {
          "output_type": "execute_result",
          "data": {
            "text/plain": [
              "array([[[10]]])"
            ]
          },
          "metadata": {},
          "execution_count": 87
        }
      ]
    },
    {
      "cell_type": "markdown",
      "source": [
        "# np.arange() 사용"
      ],
      "metadata": {
        "id": "L-40aafHsfxZ"
      }
    },
    {
      "cell_type": "code",
      "source": [
        "np.array(range(10))"
      ],
      "metadata": {
        "colab": {
          "base_uri": "https://localhost:8080/"
        },
        "id": "KhRBY_75szXh",
        "outputId": "999bea97-a476-412d-8f3f-12cbfc2e2b26"
      },
      "execution_count": 94,
      "outputs": [
        {
          "output_type": "execute_result",
          "data": {
            "text/plain": [
              "array([0, 1, 2, 3, 4, 5, 6, 7, 8, 9])"
            ]
          },
          "metadata": {},
          "execution_count": 94
        }
      ]
    },
    {
      "cell_type": "code",
      "source": [
        "np.arange(10)"
      ],
      "metadata": {
        "colab": {
          "base_uri": "https://localhost:8080/"
        },
        "id": "rbjfR821rvMU",
        "outputId": "20eea031-5435-4c92-8450-1124ae1429f7"
      },
      "execution_count": 95,
      "outputs": [
        {
          "output_type": "execute_result",
          "data": {
            "text/plain": [
              "array([0, 1, 2, 3, 4, 5, 6, 7, 8, 9])"
            ]
          },
          "metadata": {},
          "execution_count": 95
        }
      ]
    },
    {
      "cell_type": "code",
      "source": [
        "np.arange(1,10,2)"
      ],
      "metadata": {
        "colab": {
          "base_uri": "https://localhost:8080/"
        },
        "id": "6IoUdGuhrvNg",
        "outputId": "af2c26e4-71ae-457e-9086-f39137707a84"
      },
      "execution_count": 96,
      "outputs": [
        {
          "output_type": "execute_result",
          "data": {
            "text/plain": [
              "array([1, 3, 5, 7, 9])"
            ]
          },
          "metadata": {},
          "execution_count": 96
        }
      ]
    },
    {
      "cell_type": "code",
      "source": [
        "np.arange(10,0,-1)"
      ],
      "metadata": {
        "colab": {
          "base_uri": "https://localhost:8080/"
        },
        "id": "ITZ4tlUXtEel",
        "outputId": "a0b147d6-bb6e-4d2e-c8b2-68307129cf86"
      },
      "execution_count": 100,
      "outputs": [
        {
          "output_type": "execute_result",
          "data": {
            "text/plain": [
              "array([10,  9,  8,  7,  6,  5,  4,  3,  2,  1])"
            ]
          },
          "metadata": {},
          "execution_count": 100
        }
      ]
    },
    {
      "cell_type": "code",
      "source": [
        "# dtype = 명시 가능"
      ],
      "metadata": {
        "id": "ni0LwYC6rvPN"
      },
      "execution_count": 101,
      "outputs": []
    },
    {
      "cell_type": "code",
      "source": [
        "np.arange(1, 10)"
      ],
      "metadata": {
        "colab": {
          "base_uri": "https://localhost:8080/"
        },
        "id": "Ov4HjvU_s-As",
        "outputId": "8396f411-43cb-450d-cd7d-c4c0843c3e69"
      },
      "execution_count": 103,
      "outputs": [
        {
          "output_type": "execute_result",
          "data": {
            "text/plain": [
              "array([1, 2, 3, 4, 5, 6, 7, 8, 9])"
            ]
          },
          "metadata": {},
          "execution_count": 103
        }
      ]
    },
    {
      "cell_type": "code",
      "source": [
        "np.arange(1, 10, dtype=np.int16)"
      ],
      "metadata": {
        "colab": {
          "base_uri": "https://localhost:8080/"
        },
        "id": "9TgjcOh7s-D8",
        "outputId": "4fe6fde8-dc1e-45a6-801c-345a755e7d1a"
      },
      "execution_count": 104,
      "outputs": [
        {
          "output_type": "execute_result",
          "data": {
            "text/plain": [
              "array([1, 2, 3, 4, 5, 6, 7, 8, 9], dtype=int16)"
            ]
          },
          "metadata": {},
          "execution_count": 104
        }
      ]
    },
    {
      "cell_type": "code",
      "source": [
        "# 2차원 배열 생성 가능?\n",
        "# np.arange((3,10))  #불가\n",
        "\n",
        "# 대신 reshape 로 형태 변경 가능!"
      ],
      "metadata": {
        "id": "CPhoaPges-HS"
      },
      "execution_count": 108,
      "outputs": []
    },
    {
      "cell_type": "markdown",
      "source": [
        "# astype(타입)\n",
        "타입변환"
      ],
      "metadata": {
        "id": "BCK6R01ht3tJ"
      }
    },
    {
      "cell_type": "code",
      "source": [
        "d = np.arange(3,10)\n",
        "d"
      ],
      "metadata": {
        "colab": {
          "base_uri": "https://localhost:8080/"
        },
        "id": "ydj8WVj9s-Ki",
        "outputId": "8ee8fe77-45af-47ff-c1f8-e32adcd244fa"
      },
      "execution_count": 109,
      "outputs": [
        {
          "output_type": "execute_result",
          "data": {
            "text/plain": [
              "array([3, 4, 5, 6, 7, 8, 9])"
            ]
          },
          "metadata": {},
          "execution_count": 109
        }
      ]
    },
    {
      "cell_type": "code",
      "source": [
        "d.astype(np.float64)"
      ],
      "metadata": {
        "colab": {
          "base_uri": "https://localhost:8080/"
        },
        "id": "GwTwlydutxef",
        "outputId": "faf62f91-fca1-4204-9e0b-069f2c3a6003"
      },
      "execution_count": 112,
      "outputs": [
        {
          "output_type": "execute_result",
          "data": {
            "text/plain": [
              "array([3., 4., 5., 6., 7., 8., 9.])"
            ]
          },
          "metadata": {},
          "execution_count": 112
        }
      ]
    },
    {
      "cell_type": "markdown",
      "source": [
        "# astype(타입)\n",
        "타입변환한 array를 리턴 (원본 변환 없음)"
      ],
      "metadata": {
        "id": "pL9289YFueMN"
      }
    },
    {
      "cell_type": "code",
      "source": [
        "np.arange(12).reshape(2, 2, 3) # size 동일해야함"
      ],
      "metadata": {
        "colab": {
          "base_uri": "https://localhost:8080/"
        },
        "id": "d-HHQfy4txhp",
        "outputId": "670de49f-22e6-4ec1-ca1f-7bb55026a132"
      },
      "execution_count": 122,
      "outputs": [
        {
          "output_type": "execute_result",
          "data": {
            "text/plain": [
              "array([[[ 0,  1,  2],\n",
              "        [ 3,  4,  5]],\n",
              "\n",
              "       [[ 6,  7,  8],\n",
              "        [ 9, 10, 11]]])"
            ]
          },
          "metadata": {},
          "execution_count": 122
        }
      ]
    },
    {
      "cell_type": "code",
      "source": [
        "# np.arange(12).reshape(2, 2) # size 안맞으면 에러"
      ],
      "metadata": {
        "id": "-YDSuCGEtxk9"
      },
      "execution_count": 124,
      "outputs": []
    },
    {
      "cell_type": "markdown",
      "source": [
        "# np.ones, np.zeros 로 array 생성"
      ],
      "metadata": {
        "id": "kn4cuLghvdBC"
      }
    },
    {
      "cell_type": "code",
      "source": [
        "np.ones(5) # type float"
      ],
      "metadata": {
        "colab": {
          "base_uri": "https://localhost:8080/"
        },
        "id": "sVymOqIctxn4",
        "outputId": "7617a0ed-82a4-44ac-d7bf-d1270ce13484"
      },
      "execution_count": 125,
      "outputs": [
        {
          "output_type": "execute_result",
          "data": {
            "text/plain": [
              "array([1., 1., 1., 1., 1.])"
            ]
          },
          "metadata": {},
          "execution_count": 125
        }
      ]
    },
    {
      "cell_type": "code",
      "source": [
        "np.ones(5, dtype = np.int32)"
      ],
      "metadata": {
        "colab": {
          "base_uri": "https://localhost:8080/"
        },
        "id": "sSBv4-0itxqu",
        "outputId": "78e10018-b0d1-4b05-ba32-9bedef5d018f"
      },
      "execution_count": 126,
      "outputs": [
        {
          "output_type": "execute_result",
          "data": {
            "text/plain": [
              "array([1, 1, 1, 1, 1], dtype=int32)"
            ]
          },
          "metadata": {},
          "execution_count": 126
        }
      ]
    },
    {
      "cell_type": "code",
      "source": [
        "np.ones(6, dtype = np.int16).reshape(2, 3)"
      ],
      "metadata": {
        "colab": {
          "base_uri": "https://localhost:8080/"
        },
        "id": "iz0oNWE3txwa",
        "outputId": "c41dcbc9-04f6-48d6-c0f0-51de10c94bbc"
      },
      "execution_count": 127,
      "outputs": [
        {
          "output_type": "execute_result",
          "data": {
            "text/plain": [
              "array([[1, 1, 1],\n",
              "       [1, 1, 1]], dtype=int16)"
            ]
          },
          "metadata": {},
          "execution_count": 127
        }
      ]
    },
    {
      "cell_type": "code",
      "source": [
        "np.ones((2, 2, 2, 2), dtype=np.int16)"
      ],
      "metadata": {
        "colab": {
          "base_uri": "https://localhost:8080/"
        },
        "id": "SVfUVxvWtxzr",
        "outputId": "1498a864-3c9e-459c-9ace-28c2e8afc288"
      },
      "execution_count": 131,
      "outputs": [
        {
          "output_type": "execute_result",
          "data": {
            "text/plain": [
              "array([[[[1, 1],\n",
              "         [1, 1]],\n",
              "\n",
              "        [[1, 1],\n",
              "         [1, 1]]],\n",
              "\n",
              "\n",
              "       [[[1, 1],\n",
              "         [1, 1]],\n",
              "\n",
              "        [[1, 1],\n",
              "         [1, 1]]]], dtype=int16)"
            ]
          },
          "metadata": {},
          "execution_count": 131
        }
      ]
    },
    {
      "cell_type": "code",
      "source": [
        "np.zeros((3, 2, 5), dtype= np.int8)"
      ],
      "metadata": {
        "colab": {
          "base_uri": "https://localhost:8080/"
        },
        "id": "t6MUX3K-tx2d",
        "outputId": "764c4a46-b8d5-4b3a-b8ba-6edbb4c93674"
      },
      "execution_count": 133,
      "outputs": [
        {
          "output_type": "execute_result",
          "data": {
            "text/plain": [
              "array([[[0, 0, 0, 0, 0],\n",
              "        [0, 0, 0, 0, 0]],\n",
              "\n",
              "       [[0, 0, 0, 0, 0],\n",
              "        [0, 0, 0, 0, 0]],\n",
              "\n",
              "       [[0, 0, 0, 0, 0],\n",
              "        [0, 0, 0, 0, 0]]], dtype=int8)"
            ]
          },
          "metadata": {},
          "execution_count": 133
        }
      ]
    },
    {
      "cell_type": "code",
      "source": [
        "np.eye(5, dtype=np.int8) # (5, 5) 단위행렬"
      ],
      "metadata": {
        "colab": {
          "base_uri": "https://localhost:8080/"
        },
        "id": "h2i7nvs8tx5G",
        "outputId": "8291ebe7-9279-49d5-9732-1a52eeff5da6"
      },
      "execution_count": 135,
      "outputs": [
        {
          "output_type": "execute_result",
          "data": {
            "text/plain": [
              "array([[1, 0, 0, 0, 0],\n",
              "       [0, 1, 0, 0, 0],\n",
              "       [0, 0, 1, 0, 0],\n",
              "       [0, 0, 0, 1, 0],\n",
              "       [0, 0, 0, 0, 1]], dtype=int8)"
            ]
          },
          "metadata": {},
          "execution_count": 135
        }
      ]
    },
    {
      "cell_type": "markdown",
      "source": [
        "# np.random 서브 모듈"
      ],
      "metadata": {
        "id": "gJRDi_qgwo5j"
      }
    },
    {
      "cell_type": "code",
      "source": [
        "# rand: 0부터 1사이의 균일 분포 [0, 1)  uniform distribution\n",
        "# randn: 가우시안 표준 정규 분포\n",
        "# randint: 균일 분포의 정수 난수"
      ],
      "metadata": {
        "id": "0NZ4hyA8tx7d"
      },
      "execution_count": 136,
      "outputs": []
    },
    {
      "cell_type": "code",
      "source": [
        "plt.plot(np.random.rand(10))"
      ],
      "metadata": {
        "colab": {
          "base_uri": "https://localhost:8080/",
          "height": 448
        },
        "id": "LzwKIgBBtx9u",
        "outputId": "1c9c5f84-0b32-4a59-a31c-bc20a2f9a3a1"
      },
      "execution_count": 144,
      "outputs": [
        {
          "output_type": "execute_result",
          "data": {
            "text/plain": [
              "[<matplotlib.lines.Line2D at 0x7ff22ffe0bb0>]"
            ]
          },
          "metadata": {},
          "execution_count": 144
        },
        {
          "output_type": "display_data",
          "data": {
            "text/plain": [
              "<Figure size 640x480 with 1 Axes>"
            ],
            "image/png": "[encoded data removed]"
          },
          "metadata": {}
        }
      ]
    },
    {
      "cell_type": "code",
      "source": [
        "plt.plot(np.random.rand(2,3))"
      ],
      "metadata": {
        "colab": {
          "base_uri": "https://localhost:8080/",
          "height": 487
        },
        "id": "W5OxHz0Etx_-",
        "outputId": "a3f79bf2-c171-4276-fdcd-644e60624cf6"
      },
      "execution_count": 146,
      "outputs": [
        {
          "output_type": "execute_result",
          "data": {
            "text/plain": [
              "[<matplotlib.lines.Line2D at 0x7ff22fd4d0f0>,\n",
              " <matplotlib.lines.Line2D at 0x7ff22fd4d150>,\n",
              " <matplotlib.lines.Line2D at 0x7ff22fd4d180>]"
            ]
          },
          "metadata": {},
          "execution_count": 146
        },
        {
          "output_type": "display_data",
          "data": {
            "text/plain": [
              "<Figure size 640x480 with 1 Axes>"
            ],
            "image/png": "[encoded data removed]"
          },
          "metadata": {}
        }
      ]
    },
    {
      "cell_type": "markdown",
      "source": [
        "#### randn함수\n",
        " - n: normal distribution(정규분포)\n",
        " - 정규분포로 샘플링된 랜덤 ndarray 생성\n",
        " - 단순히 [0, 1) 사이의 값이 아닌 정규분포 (음수값도 갖게 된다)\n",
        "\n",
        " - rand() 는 uniform 한 분포에서 값을 가져오고\n",
        " - randn() 은 normal distribution 에서 값을 가져온다\n",
        "\n",
        " ![normal](https://www.itl.nist.gov/div898/handbook/pmc/section5/gifs/normal.gif)\n"
      ],
      "metadata": {
        "id": "3ccKj_B0xtnx"
      }
    },
    {
      "cell_type": "code",
      "source": [
        "np.random.randn(5)"
      ],
      "metadata": {
        "colab": {
          "base_uri": "https://localhost:8080/"
        },
        "id": "nAXioLics-NE",
        "outputId": "defced6b-b714-4a2f-be38-5d3c65944c86"
      },
      "execution_count": 147,
      "outputs": [
        {
          "output_type": "execute_result",
          "data": {
            "text/plain": [
              "array([ 0.6965596 , -0.32603248, -0.60422925, -0.67240607,  0.21437461])"
            ]
          },
          "metadata": {},
          "execution_count": 147
        }
      ]
    },
    {
      "cell_type": "code",
      "source": [
        "np.random.randn(3, 4, 2)"
      ],
      "metadata": {
        "colab": {
          "base_uri": "https://localhost:8080/"
        },
        "id": "R531qgXjs-Py",
        "outputId": "54bb3a06-3b5c-4aaf-d93d-48c4d9d35d6b"
      },
      "execution_count": 148,
      "outputs": [
        {
          "output_type": "execute_result",
          "data": {
            "text/plain": [
              "array([[[ 1.82045171,  1.42649121],\n",
              "        [-1.03230444,  0.32201591],\n",
              "        [ 0.02286727,  1.75057112],\n",
              "        [ 0.20303539, -2.44660852]],\n",
              "\n",
              "       [[ 0.24805733,  0.15249553],\n",
              "        [-0.28273446,  0.95117615],\n",
              "        [ 0.38276363, -0.81557708],\n",
              "        [-0.05138852,  1.26662377]],\n",
              "\n",
              "       [[-1.93896942,  1.10338463],\n",
              "        [ 0.31400647, -0.33215702],\n",
              "        [-0.63353979,  1.22528233],\n",
              "        [-0.88612914,  0.14509873]]])"
            ]
          },
          "metadata": {},
          "execution_count": 148
        }
      ]
    },
    {
      "cell_type": "markdown",
      "source": [
        "#### randint 함수\n",
        "균일분포로 정수 난수, 특정 정수 사이에서 샘플링"
      ],
      "metadata": {
        "id": "_1ut4aRxyQJ8"
      }
    },
    {
      "cell_type": "code",
      "source": [
        "np.random.randint(5) # 0 ~ 4"
      ],
      "metadata": {
        "colab": {
          "base_uri": "https://localhost:8080/"
        },
        "id": "H9_Rjm9bs-SW",
        "outputId": "bf5e653d-a52f-4ed4-bcce-b5c64b029679"
      },
      "execution_count": 151,
      "outputs": [
        {
          "output_type": "execute_result",
          "data": {
            "text/plain": [
              "1"
            ]
          },
          "metadata": {},
          "execution_count": 151
        }
      ]
    },
    {
      "cell_type": "code",
      "source": [
        "np.random.randint(1, 10) # 1 ~ 9"
      ],
      "metadata": {
        "colab": {
          "base_uri": "https://localhost:8080/"
        },
        "id": "LA50akxJs-VS",
        "outputId": "d7fbb8f4-592e-4471-e3b2-8583c4c56cc5"
      },
      "execution_count": 153,
      "outputs": [
        {
          "output_type": "execute_result",
          "data": {
            "text/plain": [
              "7"
            ]
          },
          "metadata": {},
          "execution_count": 153
        }
      ]
    },
    {
      "cell_type": "code",
      "source": [
        "np.random.randint(1, 100, (3, 5, 2))"
      ],
      "metadata": {
        "colab": {
          "base_uri": "https://localhost:8080/"
        },
        "id": "P2Yplhpds-bB",
        "outputId": "95a8c127-9af2-4bfe-e31d-1900e7fe9c1a"
      },
      "execution_count": 154,
      "outputs": [
        {
          "output_type": "execute_result",
          "data": {
            "text/plain": [
              "array([[[57,  9],\n",
              "        [46, 20],\n",
              "        [21, 85],\n",
              "        [ 9, 65],\n",
              "        [14, 69]],\n",
              "\n",
              "       [[69, 74],\n",
              "        [30, 50],\n",
              "        [66, 67],\n",
              "        [20, 78],\n",
              "        [91, 94]],\n",
              "\n",
              "       [[21, 71],\n",
              "        [12, 79],\n",
              "        [ 3, 83],\n",
              "        [24, 70],\n",
              "        [47, 62]]])"
            ]
          },
          "metadata": {},
          "execution_count": 154
        }
      ]
    },
    {
      "cell_type": "code",
      "source": [
        "np.random.randint(1, 100, (5,)) # 1 ~ 99 사이의 정수를 1차원인 원소 5개"
      ],
      "metadata": {
        "colab": {
          "base_uri": "https://localhost:8080/"
        },
        "id": "6dQqFg3Es-eH",
        "outputId": "6436bb12-e3be-4864-e092-2194073dd926"
      },
      "execution_count": 157,
      "outputs": [
        {
          "output_type": "execute_result",
          "data": {
            "text/plain": [
              "array([34, 76,  2, 95, 75])"
            ]
          },
          "metadata": {},
          "execution_count": 157
        }
      ]
    },
    {
      "cell_type": "markdown",
      "source": [
        "#### seed(정수) 함수\n",
        " - 랜덤한 값을 동일하게 다시 생성하고자 할때 사용\n",
        "\n",
        " - 데이터 실험, 인공지능 학습 하다가, 무언가 직전에 생성된 값으로 다시 실행해야 할때가 있다.  (그런데 랜덤값이 계속 바뀌면 곤란)\n"
      ],
      "metadata": {
        "id": "ty41bzROzbjU"
      }
    },
    {
      "cell_type": "code",
      "source": [
        "np.random.randn(3,4)  # 정규분포"
      ],
      "metadata": {
        "colab": {
          "base_uri": "https://localhost:8080/"
        },
        "id": "hWYAgNOxrvR7",
        "outputId": "af8cc7e5-7efc-4aec-f608-913cec7d14d4"
      },
      "execution_count": 163,
      "outputs": [
        {
          "output_type": "execute_result",
          "data": {
            "text/plain": [
              "array([[ 0.10709282,  0.47855255,  0.35646904,  0.87470694],\n",
              "       [ 0.53070724,  0.84084456, -1.37962186,  0.27296666],\n",
              "       [ 0.17438858, -0.89994218,  0.47789818, -0.5451296 ]])"
            ]
          },
          "metadata": {},
          "execution_count": 163
        }
      ]
    },
    {
      "cell_type": "code",
      "source": [
        "np.random.rand(3, 4) # 균일분포"
      ],
      "metadata": {
        "colab": {
          "base_uri": "https://localhost:8080/"
        },
        "id": "ivWS9iQNkgyp",
        "outputId": "9e1f875c-7ec6-445c-9eb4-574a3430866c"
      },
      "execution_count": 161,
      "outputs": [
        {
          "output_type": "execute_result",
          "data": {
            "text/plain": [
              "array([[0.54665876, 0.45682056, 0.91730714, 0.28403768],\n",
              "       [0.08115768, 0.80521597, 0.96099443, 0.98697757],\n",
              "       [0.56390471, 0.55950244, 0.30888457, 0.76642293]])"
            ]
          },
          "metadata": {},
          "execution_count": 161
        }
      ]
    },
    {
      "cell_type": "code",
      "source": [
        "np.random.seed(1)\n",
        "np.random.randn(3,4)"
      ],
      "metadata": {
        "colab": {
          "base_uri": "https://localhost:8080/"
        },
        "id": "Di4tBkOVkg0K",
        "outputId": "14d7f94b-15b1-4004-e189-b787c5b3b212"
      },
      "execution_count": 170,
      "outputs": [
        {
          "output_type": "execute_result",
          "data": {
            "text/plain": [
              "array([[ 1.62434536, -0.61175641, -0.52817175, -1.07296862],\n",
              "       [ 0.86540763, -2.3015387 ,  1.74481176, -0.7612069 ],\n",
              "       [ 0.3190391 , -0.24937038,  1.46210794, -2.06014071]])"
            ]
          },
          "metadata": {},
          "execution_count": 170
        }
      ]
    },
    {
      "cell_type": "markdown",
      "source": [
        "# np.random.shuffle()"
      ],
      "metadata": {
        "id": "PIbnrQMNz_sd"
      }
    },
    {
      "cell_type": "code",
      "source": [
        "bb = np.arange(10)\n",
        "bb"
      ],
      "metadata": {
        "colab": {
          "base_uri": "https://localhost:8080/"
        },
        "id": "Z06DktB9zGZN",
        "outputId": "1466aaae-3c4a-4571-983d-204f5bb68e61"
      },
      "execution_count": 171,
      "outputs": [
        {
          "output_type": "execute_result",
          "data": {
            "text/plain": [
              "array([0, 1, 2, 3, 4, 5, 6, 7, 8, 9])"
            ]
          },
          "metadata": {},
          "execution_count": 171
        }
      ]
    },
    {
      "cell_type": "code",
      "source": [
        "np.random.shuffle(bb)"
      ],
      "metadata": {
        "id": "LE5JQdeTzGcD"
      },
      "execution_count": 174,
      "outputs": []
    },
    {
      "cell_type": "code",
      "source": [
        "bb"
      ],
      "metadata": {
        "colab": {
          "base_uri": "https://localhost:8080/"
        },
        "id": "qYJZ00zhzGe5",
        "outputId": "5940f5ad-5191-4079-e5fe-fc2cf18e02e3"
      },
      "execution_count": 175,
      "outputs": [
        {
          "output_type": "execute_result",
          "data": {
            "text/plain": [
              "array([3, 4, 1, 5, 6, 0, 9, 2, 8, 7])"
            ]
          },
          "metadata": {},
          "execution_count": 175
        }
      ]
    },
    {
      "cell_type": "code",
      "source": [
        "plt.plot(bb)"
      ],
      "metadata": {
        "colab": {
          "base_uri": "https://localhost:8080/",
          "height": 448
        },
        "id": "xLE63K1fzGhi",
        "outputId": "06a814f3-7098-4419-dcfe-9b78d999e953"
      },
      "execution_count": 176,
      "outputs": [
        {
          "output_type": "execute_result",
          "data": {
            "text/plain": [
              "[<matplotlib.lines.Line2D at 0x7ff22fde2ec0>]"
            ]
          },
          "metadata": {},
          "execution_count": 176
        },
        {
          "output_type": "display_data",
          "data": {
            "text/plain": [
              "<Figure size 640x480 with 1 Axes>"
            ],
            "image/png": "[encoded data removed]"
          },
          "metadata": {}
        }
      ]
    },
    {
      "cell_type": "markdown",
      "source": [
        "# np.unique()"
      ],
      "metadata": {
        "id": "MXbZ44-6Fb_h"
      }
    },
    {
      "cell_type": "code",
      "source": [
        "# np.unique(iterable) => array 리턴"
      ],
      "metadata": {
        "id": "L-Na8RZMzGj3"
      },
      "execution_count": 184,
      "outputs": []
    },
    {
      "cell_type": "code",
      "source": [
        "np.unique([11, 11, 2, 2, 34, 34])"
      ],
      "metadata": {
        "colab": {
          "base_uri": "https://localhost:8080/"
        },
        "id": "16nc5qZaz5rq",
        "outputId": "f0987ab1-cdc6-46be-fd56-c0f7adcf71b1"
      },
      "execution_count": 187,
      "outputs": [
        {
          "output_type": "execute_result",
          "data": {
            "text/plain": [
              "array([ 2, 11, 34])"
            ]
          },
          "metadata": {},
          "execution_count": 187
        }
      ]
    },
    {
      "cell_type": "code",
      "source": [],
      "metadata": {
        "id": "J8qVZPiBz5vL"
      },
      "execution_count": 169,
      "outputs": []
    },
    {
      "cell_type": "code",
      "source": [],
      "metadata": {
        "id": "jIqva93Pz5xH"
      },
      "execution_count": 169,
      "outputs": []
    },
    {
      "cell_type": "code",
      "source": [],
      "metadata": {
        "id": "deS-vMQiz5yx"
      },
      "execution_count": 169,
      "outputs": []
    },
    {
      "cell_type": "code",
      "source": [],
      "metadata": {
        "id": "IagKQhmMz50d"
      },
      "execution_count": 169,
      "outputs": []
    },
    {
      "cell_type": "code",
      "source": [],
      "metadata": {
        "id": "_RxEgMEwz518"
      },
      "execution_count": null,
      "outputs": []
    }
  ]
}