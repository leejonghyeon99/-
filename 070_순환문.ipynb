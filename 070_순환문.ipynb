{
  "nbformat": 4,
  "nbformat_minor": 0,
  "metadata": {
    "colab": {
      "provenance": [],
      "authorship_tag": "ABX9TyMvbHGnFmBlMfkD9N6GLnXI",
      "include_colab_link": true
    },
    "kernelspec": {
      "name": "python3",
      "display_name": "Python 3"
    },
    "language_info": {
      "name": "python"
    }
  },
  "cells": [
    {
      "cell_type": "markdown",
      "metadata": {
        "id": "view-in-github",
        "colab_type": "text"
      },
      "source": [
        "<a href=\"https://colab.research.google.com/github/leejonghyeon99/python_stu/blob/main/070_%EC%88%9C%ED%99%98%EB%AC%B8.ipynb\" target=\"_parent\"><img src=\"https://colab.research.google.com/assets/colab-badge.svg\" alt=\"Open In Colab\"/></a>"
      ]
    },
    {
      "cell_type": "markdown",
      "source": [
        "# 순환문(loop)\n"
      ],
      "metadata": {
        "id": "JLcyZP4bzB4r"
      }
    },
    {
      "cell_type": "code",
      "execution_count": 1,
      "metadata": {
        "id": "T5nbcvVBy96R"
      },
      "outputs": [],
      "source": [
        "# while, for"
      ]
    },
    {
      "cell_type": "markdown",
      "source": [
        "# while 순환문"
      ],
      "metadata": {
        "id": "cGhRgPcdzKHU"
      }
    },
    {
      "cell_type": "code",
      "source": [
        "# while 순환문 구조,  조건문이 '참' 인 동안 수행문장을 반복수행\n",
        "\n",
        "# while <조건문>:\n",
        "#     <수행할 문장1>\n",
        "#     <수행할 문장2>\n",
        "#     <수행할 문장3>\n",
        "#     ...\n",
        "# else:\n",
        "#      순환문 빠져나오기 전에 수행"
      ],
      "metadata": {
        "id": "v3TEMkkezFkd"
      },
      "execution_count": 2,
      "outputs": []
    },
    {
      "cell_type": "code",
      "source": [
        "num = 0\n",
        "while num < 5:\n",
        "  print(\"Hello\",num)\n",
        "  num+=1\n",
        "else:\n",
        "  print('while 종료전 last num:', num)"
      ],
      "metadata": {
        "colab": {
          "base_uri": "https://localhost:8080/"
        },
        "id": "gBUZx8JwzHc7",
        "outputId": "573a777d-f310-4ffc-c2b7-b9b1c6133a40"
      },
      "execution_count": 11,
      "outputs": [
        {
          "output_type": "stream",
          "name": "stdout",
          "text": [
            "Hello 0\n",
            "Hello 1\n",
            "Hello 2\n",
            "Hello 3\n",
            "Hello 4\n",
            "while 종료전 last num:  5\n"
          ]
        }
      ]
    },
    {
      "cell_type": "markdown",
      "source": [
        "# 중첩 순환문"
      ],
      "metadata": {
        "id": "m14Vjp0q0Sab"
      }
    },
    {
      "cell_type": "code",
      "source": [
        "# 구구단 출력 : 2단 ~ 9단\n",
        "# 중첩된 for 문\n",
        "\n",
        "'''\n",
        "2 x 1 = 2\n",
        "2 x 2 = 4\n",
        "...\n",
        "2 x 9 = 18\n",
        "3 x 1 = 3\n",
        "...\n",
        "4 x 1 = 4\n",
        "…\n",
        "...\n",
        "9 x 9 = 81\n",
        "'''\n",
        "x = 2\n",
        "y = 1\n",
        "while (x<10):\n",
        "  while(y<10):\n",
        "    print(x,'x',y,'=',x*y)\n",
        "    y+=1\n",
        "  x+=1\n",
        "  y=1"
      ],
      "metadata": {
        "id": "Y2E7lbzSzHgz"
      },
      "execution_count": null,
      "outputs": []
    },
    {
      "cell_type": "markdown",
      "source": [
        "# break, continue"
      ],
      "metadata": {
        "id": "QnrCtbUl2VP0"
      }
    },
    {
      "cell_type": "code",
      "source": [
        "n = 1\n",
        "while True: # 무한루프\n",
        "  print(n, end = ' ')\n",
        "  if n == 100: break\n",
        "  n += 1"
      ],
      "metadata": {
        "colab": {
          "base_uri": "https://localhost:8080/"
        },
        "id": "Evg30COZzHjy",
        "outputId": "3811565f-2292-4a36-8a0d-d290f7fdbc60"
      },
      "execution_count": 15,
      "outputs": [
        {
          "output_type": "stream",
          "name": "stdout",
          "text": [
            "1 2 3 4 5 6 7 8 9 10 11 12 13 14 15 16 17 18 19 20 21 22 23 24 25 26 27 28 29 30 31 32 33 34 35 36 37 38 39 40 41 42 43 44 45 46 47 48 49 50 51 52 53 54 55 56 57 58 59 60 61 62 63 64 65 66 67 68 69 70 71 72 73 74 75 76 77 78 79 80 81 82 83 84 85 86 87 88 89 90 91 92 93 94 95 96 97 98 99 100 "
          ]
        }
      ]
    },
    {
      "cell_type": "code",
      "source": [
        "n = 0\n",
        "while n <= 100: # 무한루프\n",
        "  n += 1\n",
        "  if n % 2 == 0: continue\n",
        "  print(n, end = ' ')"
      ],
      "metadata": {
        "colab": {
          "base_uri": "https://localhost:8080/"
        },
        "id": "49RFVL3QzHmx",
        "outputId": "e4073080-cd95-491a-aaf1-bf9bc7e881b4"
      },
      "execution_count": 17,
      "outputs": [
        {
          "output_type": "stream",
          "name": "stdout",
          "text": [
            "1 3 5 7 9 11 13 15 17 19 21 23 25 27 29 31 33 35 37 39 41 43 45 47 49 51 53 55 57 59 61 63 65 67 69 71 73 75 77 79 81 83 85 87 89 91 93 95 97 99 101 "
          ]
        }
      ]
    },
    {
      "cell_type": "code",
      "source": [
        "# for 순환문\n",
        "# 기존의 다른 프로그래밍 언어의 for 문에 비해 파이썬은 매우 직관적이고 사용하기 편리\n",
        "\n",
        "# 구문]\n",
        "# for 변수 in iterable객체:\n",
        "#     수행할 문장1\n",
        "#     수행할 문장2\n",
        "#     ....\n",
        "# else:\n",
        "#      순환문 빠져나오기 전에 수행\n",
        "\n",
        "# iterable한 객체들 => range(숫자), str, list, set, tuple, dict ..."
      ],
      "metadata": {
        "id": "_we9FOg5zHpa"
      },
      "execution_count": 1,
      "outputs": []
    },
    {
      "cell_type": "code",
      "source": [
        "for n in range(1,10,2):\n",
        "  print(n)"
      ],
      "metadata": {
        "colab": {
          "base_uri": "https://localhost:8080/"
        },
        "id": "LZ8OAPvxzHuj",
        "outputId": "c0d6db48-153e-42ad-ee1f-1aaa8a58d102"
      },
      "execution_count": 22,
      "outputs": [
        {
          "output_type": "stream",
          "name": "stdout",
          "text": [
            "1\n",
            "3\n",
            "5\n",
            "7\n",
            "9\n"
          ]
        }
      ]
    },
    {
      "cell_type": "code",
      "source": [
        "for i in range(3): print('hi', end=' ')"
      ],
      "metadata": {
        "colab": {
          "base_uri": "https://localhost:8080/"
        },
        "id": "AP3yNjHrzHxf",
        "outputId": "69a7d5c9-8018-41e3-9d37-6f316265f5b1"
      },
      "execution_count": 23,
      "outputs": [
        {
          "output_type": "stream",
          "name": "stdout",
          "text": [
            "hi hi hi "
          ]
        }
      ]
    },
    {
      "cell_type": "code",
      "source": [
        "for i in range(4, 15, 3): print(i, end=\" \")"
      ],
      "metadata": {
        "colab": {
          "base_uri": "https://localhost:8080/"
        },
        "id": "RUKBqWBizH0K",
        "outputId": "1cb8b2e1-7379-4a21-aa97-3296758c6852"
      },
      "execution_count": 24,
      "outputs": [
        {
          "output_type": "stream",
          "name": "stdout",
          "text": [
            "4 7 10 13 "
          ]
        }
      ]
    },
    {
      "cell_type": "code",
      "source": [
        "for i in range(10,0): print(i) # 순환 x"
      ],
      "metadata": {
        "id": "6on2Mz8O3xhB"
      },
      "execution_count": 25,
      "outputs": []
    },
    {
      "cell_type": "code",
      "source": [
        "for i in range(10,0,-2): print(i) # 순환 o"
      ],
      "metadata": {
        "colab": {
          "base_uri": "https://localhost:8080/"
        },
        "id": "IVyoRR183xjz",
        "outputId": "2a5f7585-7b9b-4ed9-e6f8-dda919864c20"
      },
      "execution_count": 27,
      "outputs": [
        {
          "output_type": "stream",
          "name": "stdout",
          "text": [
            "10\n",
            "8\n",
            "6\n",
            "4\n",
            "2\n"
          ]
        }
      ]
    },
    {
      "cell_type": "code",
      "source": [
        "# 구구단 을 for 문으로 만들어 보자!\n",
        "# 도전]\n",
        "\n",
        "for x in range(2,10):\n",
        "  for y in range(1,10): print(x,'*',y,'=',x*y)"
      ],
      "metadata": {
        "id": "rrOvrGDy3xmZ"
      },
      "execution_count": null,
      "outputs": []
    },
    {
      "cell_type": "code",
      "source": [
        "animals = [\"a\",\"b\",\"c\",\"d\",\"e\",\"f\"]"
      ],
      "metadata": {
        "id": "kYc0mxqV5aOW"
      },
      "execution_count": 30,
      "outputs": []
    },
    {
      "cell_type": "code",
      "source": [
        "for animal in animals:\n",
        "  print(animal)"
      ],
      "metadata": {
        "colab": {
          "base_uri": "https://localhost:8080/"
        },
        "id": "OeBsQPhX5aSN",
        "outputId": "6c30d76a-a99c-4aed-9257-ea5870a59ab4"
      },
      "execution_count": 34,
      "outputs": [
        {
          "output_type": "stream",
          "name": "stdout",
          "text": [
            "a\n",
            "b\n",
            "c\n",
            "d\n",
            "e\n",
            "f\n"
          ]
        }
      ]
    },
    {
      "cell_type": "code",
      "source": [
        "for ch in \"Hello World in Python\":\n",
        "  print(ch, end=',')"
      ],
      "metadata": {
        "colab": {
          "base_uri": "https://localhost:8080/"
        },
        "id": "yfdE6Txu5aWD",
        "outputId": "70d8e4e3-4b4e-4e6f-cd56-87685cc0d131"
      },
      "execution_count": 37,
      "outputs": [
        {
          "output_type": "stream",
          "name": "stdout",
          "text": [
            "H,e,l,l,o, ,W,o,r,l,d, ,i,n, ,P,y,t,h,o,n,"
          ]
        }
      ]
    },
    {
      "cell_type": "code",
      "source": [
        "md = {'name':'Choi', 'age':24, 'grade':4}\n",
        "for dict in md:\n",
        "  print(dict, md[dict])"
      ],
      "metadata": {
        "colab": {
          "base_uri": "https://localhost:8080/"
        },
        "id": "v2X3uysE5aZ3",
        "outputId": "ed0fd87b-36d0-44d1-c3c8-f163a1b06820"
      },
      "execution_count": 40,
      "outputs": [
        {
          "output_type": "stream",
          "name": "stdout",
          "text": [
            "name Choi\n",
            "age 24\n",
            "grade 4\n"
          ]
        }
      ]
    },
    {
      "cell_type": "code",
      "source": [
        "md.items()"
      ],
      "metadata": {
        "colab": {
          "base_uri": "https://localhost:8080/"
        },
        "id": "2yR2oTSS5ads",
        "outputId": "10478147-168e-4e2f-db43-225ebe8a8f5d"
      },
      "execution_count": 41,
      "outputs": [
        {
          "output_type": "execute_result",
          "data": {
            "text/plain": [
              "dict_items([('name', 'Choi'), ('age', 24), ('grade', 4)])"
            ]
          },
          "metadata": {},
          "execution_count": 41
        }
      ]
    },
    {
      "cell_type": "code",
      "source": [
        "for d in md.items():\n",
        "  print(d[0], d[1])"
      ],
      "metadata": {
        "colab": {
          "base_uri": "https://localhost:8080/"
        },
        "id": "yxDIsJDc5aiF",
        "outputId": "2284b6a6-c2df-4b14-d5ec-dc484c6d9b47"
      },
      "execution_count": 43,
      "outputs": [
        {
          "output_type": "stream",
          "name": "stdout",
          "text": [
            "name Choi\n",
            "age 24\n",
            "grade 4\n"
          ]
        }
      ]
    },
    {
      "cell_type": "code",
      "source": [
        "for k, v in md.items():\n",
        "  print(k, v)"
      ],
      "metadata": {
        "colab": {
          "base_uri": "https://localhost:8080/"
        },
        "id": "U9y9IIDj5amI",
        "outputId": "e91d001a-37f3-41bf-b588-8f79bb475314"
      },
      "execution_count": 44,
      "outputs": [
        {
          "output_type": "stream",
          "name": "stdout",
          "text": [
            "name Choi\n",
            "age 24\n",
            "grade 4\n"
          ]
        }
      ]
    },
    {
      "cell_type": "code",
      "source": [
        "for k in (1,2,3,4):\n",
        "  print(k)"
      ],
      "metadata": {
        "colab": {
          "base_uri": "https://localhost:8080/"
        },
        "id": "akJD1o3T5aqF",
        "outputId": "66d8c5c8-f3e7-45cc-a4f1-4aa684b540af"
      },
      "execution_count": 47,
      "outputs": [
        {
          "output_type": "stream",
          "name": "stdout",
          "text": [
            "1\n",
            "2\n",
            "3\n",
            "4\n"
          ]
        }
      ]
    },
    {
      "cell_type": "code",
      "source": [],
      "metadata": {
        "id": "gigFHPAa5auP"
      },
      "execution_count": 27,
      "outputs": []
    },
    {
      "cell_type": "code",
      "source": [],
      "metadata": {
        "id": "i9TJh30Q5ayZ"
      },
      "execution_count": 27,
      "outputs": []
    },
    {
      "cell_type": "code",
      "source": [],
      "metadata": {
        "id": "L7hL5fhZ5a2d"
      },
      "execution_count": null,
      "outputs": []
    },
    {
      "cell_type": "code",
      "source": [],
      "metadata": {
        "id": "dFSTYtgi3xov"
      },
      "execution_count": 17,
      "outputs": []
    },
    {
      "cell_type": "code",
      "source": [],
      "metadata": {
        "id": "MrPjn8lo3xrF"
      },
      "execution_count": 17,
      "outputs": []
    },
    {
      "cell_type": "code",
      "source": [],
      "metadata": {
        "id": "LIHhFchh3xtQ"
      },
      "execution_count": 17,
      "outputs": []
    },
    {
      "cell_type": "code",
      "source": [],
      "metadata": {
        "id": "on1wQTqO3xv0"
      },
      "execution_count": null,
      "outputs": []
    },
    {
      "cell_type": "code",
      "source": [],
      "metadata": {
        "id": "FUzMWu1VzH5N"
      },
      "execution_count": null,
      "outputs": []
    }
  ]
}