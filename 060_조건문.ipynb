{
  "nbformat": 4,
  "nbformat_minor": 0,
  "metadata": {
    "colab": {
      "provenance": [],
      "authorship_tag": "ABX9TyPO4p3BV+xA2yaI/Tf689bm",
      "include_colab_link": true
    },
    "kernelspec": {
      "name": "python3",
      "display_name": "Python 3"
    },
    "language_info": {
      "name": "python"
    }
  },
  "cells": [
    {
      "cell_type": "markdown",
      "metadata": {
        "id": "view-in-github",
        "colab_type": "text"
      },
      "source": [
        "<a href=\"https://colab.research.google.com/github/leejonghyeon99/python_stu/blob/main/060_%EC%A1%B0%EA%B1%B4%EB%AC%B8.ipynb\" target=\"_parent\"><img src=\"https://colab.research.google.com/assets/colab-badge.svg\" alt=\"Open In Colab\"/></a>"
      ]
    },
    {
      "cell_type": "code",
      "source": [
        "# 제어문 (Control)\n",
        "#     프로그램의 기본 흐름 변경\n",
        "#   1. 조건문 Conditional\n",
        "#       - if\n",
        "\n",
        "#   2. 순환문 Loop\n",
        "#       - for, while"
      ],
      "metadata": {
        "id": "q0mxOgXmQiHL"
      },
      "execution_count": 11,
      "outputs": []
    },
    {
      "cell_type": "markdown",
      "source": [
        "# 조건문 (Conditional)"
      ],
      "metadata": {
        "id": "L_EXjmUJQ2B6"
      }
    },
    {
      "cell_type": "code",
      "source": [
        "# 조건문 (if ~ elif ~ else)\n",
        "\n",
        "\n",
        "# if 조건식:\n",
        "#    참일때 수행 구문 블록  (블록이란 문장들의 집합)\n",
        "\n",
        "\n",
        "# if 조건식:\n",
        "#    참일때 수행 구문 블록\n",
        "# else:\n",
        "#    거짓일때 수행 구문 블록\n",
        "\n",
        "\n",
        "# if 조건식1:\n",
        "#    조건식1 참일때 수행 구문 블록\n",
        "# elif 조건식2:\n",
        "#    조건식2 참일때 수행 구문 블록\n",
        "# elif 조건식3:\n",
        "#    조건식3 참일때 수행 구문 블록\n",
        "# else:\n",
        "#    어떤 조건식도 거짓일때 수행 구문 블록\n",
        "\n",
        "\n",
        "# 각 블록은 반드시 동일한 인덴트로 작성되어야 한다\n",
        "\n",
        "# 조건식에는 비교연산자와 논리연산자 등을 잘 활용해야 한다\n",
        "# 비교연산자 <, >, ==, !=, >=, <=\n",
        "# 논리연산자 and, or, not\n"
      ],
      "metadata": {
        "id": "YSA4eYDyQnFi"
      },
      "execution_count": 12,
      "outputs": []
    },
    {
      "cell_type": "code",
      "source": [
        "a = 10\n",
        "\n",
        "if a > 0:\n",
        "  print('변수 a값은')\n",
        "  #  print('진무')\n",
        "  print(a, '는 양수입니다')\n",
        "\n",
        "print('종료')"
      ],
      "metadata": {
        "colab": {
          "base_uri": "https://localhost:8080/"
        },
        "id": "62fDFB52QnBT",
        "outputId": "6a1d386c-d119-4f8d-b253-9b457c1fcb1a"
      },
      "execution_count": 13,
      "outputs": [
        {
          "output_type": "stream",
          "name": "stdout",
          "text": [
            "변수 a값은\n",
            "10 는 양수입니다\n",
            "종료\n"
          ]
        }
      ]
    },
    {
      "cell_type": "code",
      "source": [
        "a = -3\n",
        "\n",
        "if a % 2 == 0:\n",
        "  print(\"짝수입니다\")\n",
        "  print(\"짝수입니다\")\n",
        "else:\n",
        "    print('홀수입니다')\n",
        "    print('홀수입니다')"
      ],
      "metadata": {
        "colab": {
          "base_uri": "https://localhost:8080/"
        },
        "id": "QgeHy92HQm-H",
        "outputId": "73c1e754-e136-4c16-997c-e01d9b5da501"
      },
      "execution_count": 14,
      "outputs": [
        {
          "output_type": "stream",
          "name": "stdout",
          "text": [
            "홀수입니다\n",
            "홀수입니다\n"
          ]
        }
      ]
    },
    {
      "cell_type": "code",
      "source": [
        "a = -10\n",
        "\n",
        "if a > 0:\n",
        "  print('양수')\n",
        "elif a == 0:\n",
        "  print('0 입니다')\n",
        "else:\n",
        "  print('음수')"
      ],
      "metadata": {
        "colab": {
          "base_uri": "https://localhost:8080/"
        },
        "id": "aDc6qe1uQm6l",
        "outputId": "534d15de-0320-4a75-c6d2-b8683c11593c"
      },
      "execution_count": 15,
      "outputs": [
        {
          "output_type": "stream",
          "name": "stdout",
          "text": [
            "음수\n"
          ]
        }
      ]
    },
    {
      "cell_type": "code",
      "source": [
        "# 중첩 if 문\n",
        "n = 4\n",
        "\n",
        "if n % 2 == 0:\n",
        "  print('짝수입니다')\n",
        "  if n % 6 == 0:\n",
        "    print('6의 배수입니다')\n",
        "  else:\n",
        "    print('짝수이지만 6의 배수는 아닙니다')"
      ],
      "metadata": {
        "colab": {
          "base_uri": "https://localhost:8080/"
        },
        "id": "VBNqgZdVQm3c",
        "outputId": "e4d1de24-b6b9-464b-cd74-721aabb6a884"
      },
      "execution_count": 16,
      "outputs": [
        {
          "output_type": "stream",
          "name": "stdout",
          "text": [
            "짝수입니다\n",
            "짝수이지만 6의 배수는 아닙니다\n"
          ]
        }
      ]
    },
    {
      "cell_type": "markdown",
      "source": [
        "# 비교연산자, 논리연산자"
      ],
      "metadata": {
        "id": "bqqq47rwV-gB"
      }
    },
    {
      "cell_type": "code",
      "source": [
        "# 조건식에 사용가능한 비교연산자, 논리연산자\n",
        "# 비교연산자 : >, >=, <, <=, !=, ==\n",
        "# 논리연산자 : and, or, not, ^ (xor)\n",
        "# 위 연산자들의 결과값은 항상 True / False\n",
        "#      and : 둘다 '참' 일때 '참'\n",
        "#      or : 둘중 하나만 '참' 이면 '참'\n",
        "#      not : 참 -> 거짓, 거짓 -> 참\n",
        "#      ^ : eXclusive OR (XOR, 배타적 논리합)\n",
        "#          같으면 거짓, 다르면 참"
      ],
      "metadata": {
        "id": "QiLJKYbrQm0A"
      },
      "execution_count": 17,
      "outputs": []
    },
    {
      "cell_type": "code",
      "source": [
        "d = 10"
      ],
      "metadata": {
        "id": "FqVj_6WVQmwf"
      },
      "execution_count": 18,
      "outputs": []
    },
    {
      "cell_type": "code",
      "source": [
        "d > 2"
      ],
      "metadata": {
        "colab": {
          "base_uri": "https://localhost:8080/"
        },
        "id": "a1MmhlBOQmtU",
        "outputId": "7c8cbbb1-277c-4da5-f976-f7454af47d2e"
      },
      "execution_count": 19,
      "outputs": [
        {
          "output_type": "execute_result",
          "data": {
            "text/plain": [
              "True"
            ]
          },
          "metadata": {},
          "execution_count": 19
        }
      ]
    },
    {
      "cell_type": "code",
      "source": [
        "d % 2 == 0 and d % 3 == 0"
      ],
      "metadata": {
        "colab": {
          "base_uri": "https://localhost:8080/"
        },
        "id": "nXsUY6qOQmqL",
        "outputId": "89957a6d-a0ad-4a3c-99ee-90b2524cf43d"
      },
      "execution_count": 20,
      "outputs": [
        {
          "output_type": "execute_result",
          "data": {
            "text/plain": [
              "False"
            ]
          },
          "metadata": {},
          "execution_count": 20
        }
      ]
    },
    {
      "cell_type": "markdown",
      "source": [
        "# 비교연산자는"
      ],
      "metadata": {
        "id": "zaK5tB10YENe"
      }
    },
    {
      "cell_type": "code",
      "source": [
        "# score 는 0 ~ 100 사이의 값이어야 한다면?\n",
        "score = 93\n",
        "\n",
        "if 0 <= score and score <= 100:\n",
        "  print(score, '는 유효한 점수입니다')\n",
        "else:\n",
        "  print(score, '는 유효한 점수가 아닙니다')"
      ],
      "metadata": {
        "colab": {
          "base_uri": "https://localhost:8080/"
        },
        "id": "k46pe2RvQmnC",
        "outputId": "3934dedb-05c7-4c12-82de-9940a5ae795e"
      },
      "execution_count": 21,
      "outputs": [
        {
          "output_type": "stream",
          "name": "stdout",
          "text": [
            "93 는 유효한 점수입니다\n"
          ]
        }
      ]
    },
    {
      "cell_type": "code",
      "source": [
        "# 파이썬에선 범위값 표현을 a <= x <= b 와 같이 표현 가능\n",
        "score = 93\n",
        "\n",
        "if 0 <= score <= 100:\n",
        "  print(score, '는 유효한 점수입니다')\n",
        "else:\n",
        "  print(score, '는 유효한 점수가 아닙니다')"
      ],
      "metadata": {
        "colab": {
          "base_uri": "https://localhost:8080/"
        },
        "id": "gME6Ha3NQiA8",
        "outputId": "ffb4a61d-2350-48c3-931c-b2c61d89c460"
      },
      "execution_count": 22,
      "outputs": [
        {
          "output_type": "stream",
          "name": "stdout",
          "text": [
            "93 는 유효한 점수입니다\n"
          ]
        }
      ]
    },
    {
      "cell_type": "code",
      "source": [
        "#java, javascript 등에서는\n",
        "#false == true == false 의 결과는 true\n",
        "#근데 파이썬은 골때리게하네\n",
        "\n",
        "print(False == True == False) # => False == Ture and True == False"
      ],
      "metadata": {
        "colab": {
          "base_uri": "https://localhost:8080/"
        },
        "id": "fJQKfJp1Qh9a",
        "outputId": "d235a0b4-afbc-417a-c30b-31982f507965"
      },
      "execution_count": 24,
      "outputs": [
        {
          "output_type": "stream",
          "name": "stdout",
          "text": [
            "False\n"
          ]
        }
      ]
    },
    {
      "cell_type": "markdown",
      "source": [
        "# 조건식의 '참', '거짓' 판정"
      ],
      "metadata": {
        "id": "9o66CUG8Zqo-"
      }
    },
    {
      "cell_type": "code",
      "source": [
        "# 조건식의 참 / 거짓 판정\n",
        "\n",
        "# 조건문,  순환문 등에 사용되는  '조건식' 은 참, 거짓이 판정되어야 하는데\n",
        "# 파이썬에서는 bool 타입 외에도 조건식에서 참, 거짓 판정이 된다.\n",
        "\n",
        "#           │     참     │   거짓\n",
        "# ───────────────────\n",
        "# bool 타입 :     True         False\n",
        "# 숫자 타입 :  0 아닌 숫자      0\n",
        "# str  타입 :      \"abc\"        \"\"   빈문자열\n",
        "# list 타입 :    [1, 2, 3]      []\n",
        "# tuple 타입 :   (1, 2, 3)      ()\n",
        "# dict 타입 :    {\"name\":\"john\"}    {}\n",
        "\n",
        "# None 타입 :   무조건 거짓"
      ],
      "metadata": {
        "id": "OsNbEGZrZU8N"
      },
      "execution_count": 23,
      "outputs": []
    },
    {
      "cell_type": "code",
      "source": [
        "result = 10\n",
        "\n",
        "if result:\n",
        "    print(\"참\", type(result), result)\n",
        "else:\n",
        "    print(\"거짓\", type(result), result)"
      ],
      "metadata": {
        "id": "wF2ijeQbQh6Q",
        "colab": {
          "base_uri": "https://localhost:8080/"
        },
        "outputId": "62f4cfdb-ff08-4e3f-bced-d99a6fc0bf73"
      },
      "execution_count": 25,
      "outputs": [
        {
          "output_type": "stream",
          "name": "stdout",
          "text": [
            "참 <class 'int'> 10\n"
          ]
        }
      ]
    },
    {
      "cell_type": "code",
      "source": [
        "result = 0\n",
        "\n",
        "if result:\n",
        "    print(\"참\", type(result), result)\n",
        "else:\n",
        "    print(\"거짓\", type(result), result)"
      ],
      "metadata": {
        "id": "VISoFfF6Qh2y",
        "colab": {
          "base_uri": "https://localhost:8080/"
        },
        "outputId": "ca1fcad4-286c-4ecf-f614-f54a1d17c39d"
      },
      "execution_count": 26,
      "outputs": [
        {
          "output_type": "stream",
          "name": "stdout",
          "text": [
            "거짓 <class 'int'> 0\n"
          ]
        }
      ]
    },
    {
      "cell_type": "code",
      "source": [
        "result = 0.0\n",
        "\n",
        "if result:\n",
        "    print(\"참\", type(result), result)\n",
        "else:\n",
        "    print(\"거짓\", type(result), result)"
      ],
      "metadata": {
        "id": "kstOPozlQhzr",
        "colab": {
          "base_uri": "https://localhost:8080/"
        },
        "outputId": "712fa2e3-0754-472e-f503-21c00ea45ca0"
      },
      "execution_count": 28,
      "outputs": [
        {
          "output_type": "stream",
          "name": "stdout",
          "text": [
            "거짓 <class 'float'> 0.0\n"
          ]
        }
      ]
    },
    {
      "cell_type": "code",
      "source": [
        "result = \" \"\n",
        "\n",
        "if result:\n",
        "    print(\"참\", type(result), result)\n",
        "else:\n",
        "    print(\"거짓\", type(result), result)"
      ],
      "metadata": {
        "id": "MZ4z63E9Qhtz",
        "colab": {
          "base_uri": "https://localhost:8080/"
        },
        "outputId": "babba211-11d6-4f1e-eed0-ed13577b9d37"
      },
      "execution_count": 29,
      "outputs": [
        {
          "output_type": "stream",
          "name": "stdout",
          "text": [
            "참 <class 'str'>  \n"
          ]
        }
      ]
    },
    {
      "cell_type": "code",
      "source": [
        "result = \"\"\n",
        "\n",
        "if result:\n",
        "    print(\"참\", type(result), result)\n",
        "else:\n",
        "    print(\"거짓\", type(result), result)"
      ],
      "metadata": {
        "id": "WgOil5QwQhqt",
        "colab": {
          "base_uri": "https://localhost:8080/"
        },
        "outputId": "c444b231-7a85-40f0-9a60-f63c3e5b04c0"
      },
      "execution_count": 30,
      "outputs": [
        {
          "output_type": "stream",
          "name": "stdout",
          "text": [
            "거짓 <class 'str'> \n"
          ]
        }
      ]
    },
    {
      "cell_type": "code",
      "source": [
        "result = not ''\n",
        "\n",
        "if result:\n",
        "    print(\"참\", type(result), result)\n",
        "else:\n",
        "    print(\"거짓\", type(result), result)"
      ],
      "metadata": {
        "id": "doQNjXjQQhnh",
        "colab": {
          "base_uri": "https://localhost:8080/"
        },
        "outputId": "4adf8890-81cc-4863-fe13-46616aae68eb"
      },
      "execution_count": 31,
      "outputs": [
        {
          "output_type": "stream",
          "name": "stdout",
          "text": [
            "참 <class 'bool'> True\n"
          ]
        }
      ]
    },
    {
      "cell_type": "code",
      "source": [
        "result = True or False\n",
        "\n",
        "if result:\n",
        "    print(\"참\", type(result), result)\n",
        "else:\n",
        "    print(\"거짓\", type(result), result)"
      ],
      "metadata": {
        "id": "AlrVmUn7Qhka",
        "colab": {
          "base_uri": "https://localhost:8080/"
        },
        "outputId": "5eb82faf-57bb-462c-bb19-fbf1aa72ac6d"
      },
      "execution_count": 32,
      "outputs": [
        {
          "output_type": "stream",
          "name": "stdout",
          "text": [
            "참 <class 'bool'> True\n"
          ]
        }
      ]
    },
    {
      "cell_type": "code",
      "source": [
        "result = True and False\n",
        "\n",
        "if result:\n",
        "    print(\"참\", type(result), result)\n",
        "else:\n",
        "    print(\"거짓\", type(result), result)"
      ],
      "metadata": {
        "id": "ygiMZDkoQhg-",
        "colab": {
          "base_uri": "https://localhost:8080/"
        },
        "outputId": "b181abcc-6713-4d53-87b6-19fe929311d0"
      },
      "execution_count": 33,
      "outputs": [
        {
          "output_type": "stream",
          "name": "stdout",
          "text": [
            "거짓 <class 'bool'> False\n"
          ]
        }
      ]
    },
    {
      "cell_type": "markdown",
      "source": [
        "# SCE : Short-circuit Evaluation"
      ],
      "metadata": {
        "id": "XdaWn1NdcBzF"
      }
    },
    {
      "cell_type": "code",
      "source": [
        "result = 0 or 100\n",
        "\n",
        "if result:\n",
        "    print(\"참\", type(result), result)\n",
        "else:\n",
        "    print(\"거짓\", type(result), result)"
      ],
      "metadata": {
        "id": "hasYPi2CQhdz",
        "colab": {
          "base_uri": "https://localhost:8080/"
        },
        "outputId": "0b2c819b-7d64-424e-b7bc-a15132081f90"
      },
      "execution_count": 34,
      "outputs": [
        {
          "output_type": "stream",
          "name": "stdout",
          "text": [
            "참 <class 'int'> 100\n"
          ]
        }
      ]
    },
    {
      "cell_type": "code",
      "source": [
        "result = 10 or False\n",
        "\n",
        "if result:\n",
        "    print(\"참\", type(result), result)\n",
        "else:\n",
        "    print(\"거짓\", type(result), result)"
      ],
      "metadata": {
        "id": "CTkrATuBQhXH",
        "colab": {
          "base_uri": "https://localhost:8080/"
        },
        "outputId": "e44e5d3e-8d8c-4316-ef56-f6e3674dc0cd"
      },
      "execution_count": 35,
      "outputs": [
        {
          "output_type": "stream",
          "name": "stdout",
          "text": [
            "참 <class 'int'> 10\n"
          ]
        }
      ]
    },
    {
      "cell_type": "code",
      "source": [
        "result = 10 and False\n",
        "\n",
        "if result:\n",
        "    print(\"참\", type(result), result)\n",
        "else:\n",
        "    print(\"거짓\", type(result), result)"
      ],
      "metadata": {
        "id": "H_t62RZ5QhUA",
        "colab": {
          "base_uri": "https://localhost:8080/"
        },
        "outputId": "8c2b9e0d-6edb-4727-c911-fe2a805ce9fb"
      },
      "execution_count": 36,
      "outputs": [
        {
          "output_type": "stream",
          "name": "stdout",
          "text": [
            "거짓 <class 'bool'> False\n"
          ]
        }
      ]
    },
    {
      "cell_type": "code",
      "execution_count": 36,
      "metadata": {
        "id": "fLz5DPy7Qd3D"
      },
      "outputs": [],
      "source": [
        "#논리 연산자 and, or 표현식과의 관계\n",
        "#참, 거짓 판정에 이어 논리연산자의 결과는\n",
        "# expression 값이 된다.\n",
        "# 이를 short-circuit evalutaiton (SCE) 혹은\n",
        "# lazy evalutation 이라 한다\n",
        "\n",
        "# or\n",
        "# 왼쪽이 참인 경우 '왼쪽' 수행결과값 리턴\n",
        "# 왼쪽이 거짓인 경우 '오른쪽' 수행결과값 리턴\n",
        "\n",
        "# and\n",
        "# 왼쪽이 참인 경우 '오른쪽' 수행결과값 리턴\n",
        "# 왼쪽이 거짓인 경우 '왼쪽' 수행결과값 리턴\n"
      ]
    },
    {
      "cell_type": "code",
      "source": [
        "n = 10\n",
        "( n % 5 == 0) and print(n, '5의 배수')"
      ],
      "metadata": {
        "colab": {
          "base_uri": "https://localhost:8080/"
        },
        "id": "vspZxC1YcPlv",
        "outputId": "942a6a1f-e662-4635-c5c7-6edb2f0e7139"
      },
      "execution_count": 37,
      "outputs": [
        {
          "output_type": "stream",
          "name": "stdout",
          "text": [
            "10 5의 배수\n"
          ]
        }
      ]
    },
    {
      "cell_type": "code",
      "source": [
        "# list에 원소를 더하고, 더한 list를 리턴하면?\n",
        "data = [10, 20, 30]\n",
        "data.append(40) or data"
      ],
      "metadata": {
        "colab": {
          "base_uri": "https://localhost:8080/"
        },
        "id": "tu0vvMsBcPqq",
        "outputId": "bcc9d5ef-d037-4a47-f2b2-499e1b63c286"
      },
      "execution_count": 38,
      "outputs": [
        {
          "output_type": "execute_result",
          "data": {
            "text/plain": [
              "[10, 20, 30, 40]"
            ]
          },
          "metadata": {},
          "execution_count": 38
        }
      ]
    },
    {
      "cell_type": "code",
      "source": [
        "# dict 에 k-v 추가하고, 더한 dict를 리턴하려면?\n",
        "data = {'name':'Hello'}\n",
        "data.update({'age':333}) or data"
      ],
      "metadata": {
        "colab": {
          "base_uri": "https://localhost:8080/"
        },
        "id": "dl2I0H6UcPvB",
        "outputId": "c7e0f179-ff70-4f9f-d142-fc21601f60b0"
      },
      "execution_count": 39,
      "outputs": [
        {
          "output_type": "execute_result",
          "data": {
            "text/plain": [
              "{'name': 'Hello', 'age': 333}"
            ]
          },
          "metadata": {},
          "execution_count": 39
        }
      ]
    },
    {
      "cell_type": "code",
      "source": [],
      "metadata": {
        "id": "bhyO7q3xeEAc"
      },
      "execution_count": 38,
      "outputs": []
    },
    {
      "cell_type": "code",
      "source": [],
      "metadata": {
        "id": "OaeqWR1teEJ8"
      },
      "execution_count": 38,
      "outputs": []
    },
    {
      "cell_type": "code",
      "source": [],
      "metadata": {
        "id": "S7LrcwyheELy"
      },
      "execution_count": 38,
      "outputs": []
    },
    {
      "cell_type": "code",
      "source": [],
      "metadata": {
        "id": "BRJ3vrHKeENr"
      },
      "execution_count": 38,
      "outputs": []
    },
    {
      "cell_type": "code",
      "source": [],
      "metadata": {
        "id": "9Dh3hk5-eEPV"
      },
      "execution_count": 38,
      "outputs": []
    },
    {
      "cell_type": "code",
      "source": [],
      "metadata": {
        "id": "VGzb4pEGeEbI"
      },
      "execution_count": 38,
      "outputs": []
    },
    {
      "cell_type": "code",
      "source": [],
      "metadata": {
        "id": "EpV1ijlAeEcf"
      },
      "execution_count": null,
      "outputs": []
    }
  ]
}